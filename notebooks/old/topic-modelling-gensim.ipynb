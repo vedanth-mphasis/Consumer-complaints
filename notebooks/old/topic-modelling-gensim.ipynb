{
 "cells": [
  {
   "cell_type": "code",
   "execution_count": 1,
   "id": "cfc7e7cc",
   "metadata": {},
   "outputs": [],
   "source": [
    "import numpy as np\n",
    "import pandas as pd\n",
    "import pickle\n",
    "import re, nltk, spacy\n",
    "import gensim\n",
    "import gensim.corpora as corpora\n",
    "from gensim.utils import simple_preprocess\n",
    "from gensim.models import CoherenceModel\n",
    "import pyLDAvis\n",
    "import pyLDAvis.sklearn\n",
    "import matplotlib.pyplot as plt\n",
    "from sklearn.decomposition import LatentDirichletAllocation\n",
    "from sklearn.feature_extraction.text import CountVectorizer\n",
    "from sklearn.model_selection import GridSearchCV\n",
    "from gensim.utils import simple_preprocess\n",
    "from pprint import pprint\n",
    "from sklearn.metrics.pairwise import euclidean_distances\n",
    "from nltk.corpus import stopwords"
   ]
  },
  {
   "cell_type": "code",
   "execution_count": 2,
   "id": "9f27c4d0",
   "metadata": {},
   "outputs": [
    {
     "name": "stderr",
     "output_type": "stream",
     "text": [
      "C:\\Users\\ASUS\\anaconda3\\envs\\marketplace\\lib\\site-packages\\ipykernel\\ipkernel.py:287: DeprecationWarning: `should_run_async` will not call `transform_cell` automatically in the future. Please pass the result to `transformed_cell` argument and any exception that happen during thetransform in `preprocessing_exc_tuple` in IPython 7.17 and above.\n",
      "  and should_run_async(code)\n"
     ]
    },
    {
     "data": {
      "text/html": [
       "<div>\n",
       "<style scoped>\n",
       "    .dataframe tbody tr th:only-of-type {\n",
       "        vertical-align: middle;\n",
       "    }\n",
       "\n",
       "    .dataframe tbody tr th {\n",
       "        vertical-align: top;\n",
       "    }\n",
       "\n",
       "    .dataframe thead th {\n",
       "        text-align: right;\n",
       "    }\n",
       "</style>\n",
       "<table border=\"1\" class=\"dataframe\">\n",
       "  <thead>\n",
       "    <tr style=\"text-align: right;\">\n",
       "      <th></th>\n",
       "      <th>Date received</th>\n",
       "      <th>Product</th>\n",
       "      <th>Sub-product</th>\n",
       "      <th>Issue</th>\n",
       "      <th>Sub-issue</th>\n",
       "      <th>Consumer complaint narrative</th>\n",
       "      <th>Company public response</th>\n",
       "      <th>Company</th>\n",
       "      <th>State</th>\n",
       "      <th>ZIP code</th>\n",
       "      <th>Tags</th>\n",
       "      <th>Consumer consent provided?</th>\n",
       "      <th>Submitted via</th>\n",
       "      <th>Date sent to company</th>\n",
       "      <th>Company response to consumer</th>\n",
       "      <th>Timely response?</th>\n",
       "      <th>Consumer disputed?</th>\n",
       "      <th>Complaint ID</th>\n",
       "    </tr>\n",
       "  </thead>\n",
       "  <tbody>\n",
       "    <tr>\n",
       "      <th>0</th>\n",
       "      <td>03/28/19</td>\n",
       "      <td>Mortgage</td>\n",
       "      <td>Conventional home mortgage</td>\n",
       "      <td>Struggling to pay mortgage</td>\n",
       "      <td>None</td>\n",
       "      <td>In dispute of the loan # XXXX, for XXXX XXXX t...</td>\n",
       "      <td>Company believes it acted appropriately as aut...</td>\n",
       "      <td>SELECT PORTFOLIO SERVICING, INC.</td>\n",
       "      <td>GA</td>\n",
       "      <td>300XX</td>\n",
       "      <td>None</td>\n",
       "      <td>Consent provided</td>\n",
       "      <td>Web</td>\n",
       "      <td>03/28/19</td>\n",
       "      <td>Closed with explanation</td>\n",
       "      <td>Yes</td>\n",
       "      <td>NaN</td>\n",
       "      <td>3193709</td>\n",
       "    </tr>\n",
       "    <tr>\n",
       "      <th>1</th>\n",
       "      <td>02/21/19</td>\n",
       "      <td>Mortgage</td>\n",
       "      <td>FHA mortgage</td>\n",
       "      <td>Struggling to pay mortgage</td>\n",
       "      <td>None</td>\n",
       "      <td>My complaint is with Carrington Mortgage Servi...</td>\n",
       "      <td>None</td>\n",
       "      <td>CARRINGTON MORTGAGE SERVICES, LLC</td>\n",
       "      <td>GA</td>\n",
       "      <td>312XX</td>\n",
       "      <td>None</td>\n",
       "      <td>Consent provided</td>\n",
       "      <td>Web</td>\n",
       "      <td>02/21/19</td>\n",
       "      <td>Closed with explanation</td>\n",
       "      <td>Yes</td>\n",
       "      <td>NaN</td>\n",
       "      <td>3158652</td>\n",
       "    </tr>\n",
       "    <tr>\n",
       "      <th>2</th>\n",
       "      <td>06/11/19</td>\n",
       "      <td>Mortgage</td>\n",
       "      <td>Home equity loan or line of credit (HELOC)</td>\n",
       "      <td>Trouble during payment process</td>\n",
       "      <td>None</td>\n",
       "      <td>As of XX/XX/2019 PHH Mortgage Services purchas...</td>\n",
       "      <td>None</td>\n",
       "      <td>PHH Mortgage Services Corporation</td>\n",
       "      <td>FL</td>\n",
       "      <td>347XX</td>\n",
       "      <td>None</td>\n",
       "      <td>Consent provided</td>\n",
       "      <td>Web</td>\n",
       "      <td>06/11/19</td>\n",
       "      <td>Closed with explanation</td>\n",
       "      <td>Yes</td>\n",
       "      <td>NaN</td>\n",
       "      <td>3270600</td>\n",
       "    </tr>\n",
       "    <tr>\n",
       "      <th>3</th>\n",
       "      <td>11/29/19</td>\n",
       "      <td>Mortgage</td>\n",
       "      <td>Conventional home mortgage</td>\n",
       "      <td>Trouble during payment process</td>\n",
       "      <td>None</td>\n",
       "      <td>We started our mortgage with Loan Depot in XX/...</td>\n",
       "      <td>Company believes complaint is the result of an...</td>\n",
       "      <td>LD Holdings Group, LLC</td>\n",
       "      <td>NJ</td>\n",
       "      <td>None</td>\n",
       "      <td>None</td>\n",
       "      <td>Consent provided</td>\n",
       "      <td>Web</td>\n",
       "      <td>11/29/19</td>\n",
       "      <td>Closed with monetary relief</td>\n",
       "      <td>Yes</td>\n",
       "      <td>NaN</td>\n",
       "      <td>3453669</td>\n",
       "    </tr>\n",
       "    <tr>\n",
       "      <th>4</th>\n",
       "      <td>10/23/19</td>\n",
       "      <td>Mortgage</td>\n",
       "      <td>Conventional home mortgage</td>\n",
       "      <td>Struggling to pay mortgage</td>\n",
       "      <td>None</td>\n",
       "      <td>XXXX XXXX XXXX XXXX XXXX XXXX XXXX XXXX, XXXX ...</td>\n",
       "      <td>None</td>\n",
       "      <td>Community Loan Servicing, LLC (formerly known ...</td>\n",
       "      <td>CA</td>\n",
       "      <td>92021</td>\n",
       "      <td>None</td>\n",
       "      <td>Consent provided</td>\n",
       "      <td>Web</td>\n",
       "      <td>11/05/19</td>\n",
       "      <td>Closed with explanation</td>\n",
       "      <td>Yes</td>\n",
       "      <td>NaN</td>\n",
       "      <td>3415392</td>\n",
       "    </tr>\n",
       "  </tbody>\n",
       "</table>\n",
       "</div>"
      ],
      "text/plain": [
       "  Date received   Product                                 Sub-product  \\\n",
       "0      03/28/19  Mortgage                  Conventional home mortgage   \n",
       "1      02/21/19  Mortgage                                FHA mortgage   \n",
       "2      06/11/19  Mortgage  Home equity loan or line of credit (HELOC)   \n",
       "3      11/29/19  Mortgage                  Conventional home mortgage   \n",
       "4      10/23/19  Mortgage                  Conventional home mortgage   \n",
       "\n",
       "                            Issue Sub-issue  \\\n",
       "0      Struggling to pay mortgage      None   \n",
       "1      Struggling to pay mortgage      None   \n",
       "2  Trouble during payment process      None   \n",
       "3  Trouble during payment process      None   \n",
       "4      Struggling to pay mortgage      None   \n",
       "\n",
       "                        Consumer complaint narrative  \\\n",
       "0  In dispute of the loan # XXXX, for XXXX XXXX t...   \n",
       "1  My complaint is with Carrington Mortgage Servi...   \n",
       "2  As of XX/XX/2019 PHH Mortgage Services purchas...   \n",
       "3  We started our mortgage with Loan Depot in XX/...   \n",
       "4  XXXX XXXX XXXX XXXX XXXX XXXX XXXX XXXX, XXXX ...   \n",
       "\n",
       "                             Company public response  \\\n",
       "0  Company believes it acted appropriately as aut...   \n",
       "1                                               None   \n",
       "2                                               None   \n",
       "3  Company believes complaint is the result of an...   \n",
       "4                                               None   \n",
       "\n",
       "                                             Company State ZIP code  Tags  \\\n",
       "0                   SELECT PORTFOLIO SERVICING, INC.    GA    300XX  None   \n",
       "1                  CARRINGTON MORTGAGE SERVICES, LLC    GA    312XX  None   \n",
       "2                  PHH Mortgage Services Corporation    FL    347XX  None   \n",
       "3                             LD Holdings Group, LLC    NJ     None  None   \n",
       "4  Community Loan Servicing, LLC (formerly known ...    CA    92021  None   \n",
       "\n",
       "  Consumer consent provided? Submitted via Date sent to company  \\\n",
       "0           Consent provided           Web             03/28/19   \n",
       "1           Consent provided           Web             02/21/19   \n",
       "2           Consent provided           Web             06/11/19   \n",
       "3           Consent provided           Web             11/29/19   \n",
       "4           Consent provided           Web             11/05/19   \n",
       "\n",
       "  Company response to consumer Timely response?  Consumer disputed?  \\\n",
       "0      Closed with explanation              Yes                 NaN   \n",
       "1      Closed with explanation              Yes                 NaN   \n",
       "2      Closed with explanation              Yes                 NaN   \n",
       "3  Closed with monetary relief              Yes                 NaN   \n",
       "4      Closed with explanation              Yes                 NaN   \n",
       "\n",
       "   Complaint ID  \n",
       "0       3193709  \n",
       "1       3158652  \n",
       "2       3270600  \n",
       "3       3453669  \n",
       "4       3415392  "
      ]
     },
     "execution_count": 2,
     "metadata": {},
     "output_type": "execute_result"
    }
   ],
   "source": [
    "dataset = pd.read_csv('../data/mortgage.csv')\n",
    "dataset.head()"
   ]
  },
  {
   "cell_type": "code",
   "execution_count": 3,
   "id": "e52ee4e1",
   "metadata": {},
   "outputs": [
    {
     "name": "stdout",
     "output_type": "stream",
     "text": [
      "<class 'pandas.core.frame.DataFrame'>\n",
      "RangeIndex: 32805 entries, 0 to 32804\n",
      "Data columns (total 18 columns):\n",
      " #   Column                        Non-Null Count  Dtype  \n",
      "---  ------                        --------------  -----  \n",
      " 0   Date received                 32805 non-null  object \n",
      " 1   Product                       32805 non-null  object \n",
      " 2   Sub-product                   32805 non-null  object \n",
      " 3   Issue                         32805 non-null  object \n",
      " 4   Sub-issue                     32805 non-null  object \n",
      " 5   Consumer complaint narrative  32805 non-null  object \n",
      " 6   Company public response       32805 non-null  object \n",
      " 7   Company                       32805 non-null  object \n",
      " 8   State                         32805 non-null  object \n",
      " 9   ZIP code                      32805 non-null  object \n",
      " 10  Tags                          32805 non-null  object \n",
      " 11  Consumer consent provided?    32805 non-null  object \n",
      " 12  Submitted via                 32805 non-null  object \n",
      " 13  Date sent to company          32805 non-null  object \n",
      " 14  Company response to consumer  32805 non-null  object \n",
      " 15  Timely response?              32805 non-null  object \n",
      " 16  Consumer disputed?            0 non-null      float64\n",
      " 17  Complaint ID                  32805 non-null  int64  \n",
      "dtypes: float64(1), int64(1), object(16)\n",
      "memory usage: 4.5+ MB\n"
     ]
    },
    {
     "name": "stderr",
     "output_type": "stream",
     "text": [
      "C:\\Users\\ASUS\\anaconda3\\envs\\marketplace\\lib\\site-packages\\ipykernel\\ipkernel.py:287: DeprecationWarning: `should_run_async` will not call `transform_cell` automatically in the future. Please pass the result to `transformed_cell` argument and any exception that happen during thetransform in `preprocessing_exc_tuple` in IPython 7.17 and above.\n",
      "  and should_run_async(code)\n"
     ]
    }
   ],
   "source": [
    "dataset.info()"
   ]
  },
  {
   "cell_type": "code",
   "execution_count": 4,
   "id": "73838962",
   "metadata": {},
   "outputs": [
    {
     "name": "stderr",
     "output_type": "stream",
     "text": [
      "C:\\Users\\ASUS\\anaconda3\\envs\\marketplace\\lib\\site-packages\\ipykernel\\ipkernel.py:287: DeprecationWarning: `should_run_async` will not call `transform_cell` automatically in the future. Please pass the result to `transformed_cell` argument and any exception that happen during thetransform in `preprocessing_exc_tuple` in IPython 7.17 and above.\n",
      "  and should_run_async(code)\n"
     ]
    },
    {
     "data": {
      "text/plain": [
       "Trouble during payment process                                                      15884\n",
       "Struggling to pay mortgage                                                           7092\n",
       "Applying for a mortgage or refinancing an existing mortgage                          5085\n",
       "Closing on a mortgage                                                                3615\n",
       "Incorrect information on your report                                                  677\n",
       "Problem with a credit reporting company's investigation into an existing problem      335\n",
       "Improper use of your report                                                            75\n",
       "Unable to get your credit report or credit score                                       19\n",
       "Credit monitoring or identity theft protection services                                16\n",
       "Problem with fraud alerts or security freezes                                           7\n",
       "Name: Issue, dtype: int64"
      ]
     },
     "execution_count": 4,
     "metadata": {},
     "output_type": "execute_result"
    }
   ],
   "source": [
    "dataset['Issue'].value_counts()"
   ]
  },
  {
   "cell_type": "code",
   "execution_count": 5,
   "id": "a773f1e3",
   "metadata": {},
   "outputs": [
    {
     "name": "stderr",
     "output_type": "stream",
     "text": [
      "C:\\Users\\ASUS\\anaconda3\\envs\\marketplace\\lib\\site-packages\\ipykernel\\ipkernel.py:287: DeprecationWarning: `should_run_async` will not call `transform_cell` automatically in the future. Please pass the result to `transformed_cell` argument and any exception that happen during thetransform in `preprocessing_exc_tuple` in IPython 7.17 and above.\n",
      "  and should_run_async(code)\n"
     ]
    }
   ],
   "source": [
    "dataset = dataset.drop(['Date received', 'Sub-issue', 'Company public response', 'State', 'ZIP code', 'Tags', 'Consumer consent provided?', 'Submitted via', 'Company response to consumer', 'Timely response?', 'Consumer disputed?', 'Complaint ID'], axis=1)"
   ]
  },
  {
   "cell_type": "markdown",
   "id": "ffd0233a",
   "metadata": {},
   "source": [
    "## Pre-processing"
   ]
  },
  {
   "cell_type": "code",
   "execution_count": 6,
   "id": "8d7b78f6",
   "metadata": {},
   "outputs": [
    {
     "name": "stderr",
     "output_type": "stream",
     "text": [
      "C:\\Users\\ASUS\\anaconda3\\envs\\marketplace\\lib\\site-packages\\ipykernel\\ipkernel.py:287: DeprecationWarning: `should_run_async` will not call `transform_cell` automatically in the future. Please pass the result to `transformed_cell` argument and any exception that happen during thetransform in `preprocessing_exc_tuple` in IPython 7.17 and above.\n",
      "  and should_run_async(code)\n"
     ]
    }
   ],
   "source": [
    "data = dataset['Consumer complaint narrative'].tolist()"
   ]
  },
  {
   "cell_type": "code",
   "execution_count": 7,
   "id": "9237907a",
   "metadata": {},
   "outputs": [
    {
     "name": "stderr",
     "output_type": "stream",
     "text": [
      "C:\\Users\\ASUS\\anaconda3\\envs\\marketplace\\lib\\site-packages\\ipykernel\\ipkernel.py:287: DeprecationWarning: `should_run_async` will not call `transform_cell` automatically in the future. Please pass the result to `transformed_cell` argument and any exception that happen during thetransform in `preprocessing_exc_tuple` in IPython 7.17 and above.\n",
      "  and should_run_async(code)\n"
     ]
    }
   ],
   "source": [
    "# Remove emails\n",
    "data = [re.sub(r'\\S*@\\S*\\s?', '', sent) for sent in data]\n",
    "# lowecase\n",
    "data = [sent.lower() for sent in data] #lowecase\n",
    "# Remove newline \n",
    "data = [re.sub(r'\\s+', ' ', sent) for sent in data]\n",
    "# Remove distracting single quotes\n",
    "data = [re.sub(\"\\'\", \"\", sent) for sent in data]"
   ]
  },
  {
   "cell_type": "markdown",
   "id": "3d371a90",
   "metadata": {},
   "source": [
    "#### Tokenization"
   ]
  },
  {
   "cell_type": "code",
   "execution_count": 8,
   "id": "44f862a1",
   "metadata": {},
   "outputs": [
    {
     "name": "stderr",
     "output_type": "stream",
     "text": [
      "C:\\Users\\ASUS\\anaconda3\\envs\\marketplace\\lib\\site-packages\\ipykernel\\ipkernel.py:287: DeprecationWarning: `should_run_async` will not call `transform_cell` automatically in the future. Please pass the result to `transformed_cell` argument and any exception that happen during thetransform in `preprocessing_exc_tuple` in IPython 7.17 and above.\n",
      "  and should_run_async(code)\n",
      "[nltk_data] Downloading package punkt to\n",
      "[nltk_data]     C:\\Users\\ASUS\\AppData\\Roaming\\nltk_data...\n",
      "[nltk_data]   Package punkt is already up-to-date!\n"
     ]
    }
   ],
   "source": [
    "nltk.download(\"punkt\")\n",
    "\n",
    "tokenized_data = []\n",
    "token_data = [nltk.word_tokenize(words) for words in data]\n",
    "for words in token_data:\n",
    "    new_words = [word for word in words if word.isalnum()]\n",
    "    tokenized_data.append(new_words)\n",
    "#ef sent_to_words(sentences):\n",
    "#    for sentence in sentences:\n",
    "#        yield(gensim.utils.simple_preprocess(str(sentence), deacc=True))  # deacc=True removes punctuations\n",
    "#tokenized_data = list(sent_to_words(data))"
   ]
  },
  {
   "cell_type": "markdown",
   "id": "9da07c25",
   "metadata": {},
   "source": [
    "##### Stop words"
   ]
  },
  {
   "cell_type": "code",
   "execution_count": 9,
   "id": "8290e4d4",
   "metadata": {},
   "outputs": [
    {
     "name": "stderr",
     "output_type": "stream",
     "text": [
      "C:\\Users\\ASUS\\anaconda3\\envs\\marketplace\\lib\\site-packages\\ipykernel\\ipkernel.py:287: DeprecationWarning: `should_run_async` will not call `transform_cell` automatically in the future. Please pass the result to `transformed_cell` argument and any exception that happen during thetransform in `preprocessing_exc_tuple` in IPython 7.17 and above.\n",
      "  and should_run_async(code)\n",
      "[nltk_data] Downloading package stopwords to\n",
      "[nltk_data]     C:\\Users\\ASUS\\AppData\\Roaming\\nltk_data...\n",
      "[nltk_data]   Package stopwords is already up-to-date!\n"
     ]
    }
   ],
   "source": [
    "#STOP WORDS\n",
    "nltk.download('stopwords')\n",
    "stop_words = stopwords.words('english')\n",
    "stop_words.extend(['from', 'subject', 're', 'edu', 'use', 'xxxx', 'xx', 'well', 'fargo', 'citibank', 'xxxxxx', 'xxxxxxxx'])\n",
    "for key, value in dataset['Company'].value_counts().items():\n",
    "    if value > 1000:\n",
    "        word = key.lower().split(' ')\n",
    "        for x in word:\n",
    "            if len(x) > 1:\n",
    "                stop_words.extend(x)"
   ]
  },
  {
   "cell_type": "code",
   "execution_count": 10,
   "id": "20f41e7b",
   "metadata": {},
   "outputs": [
    {
     "name": "stderr",
     "output_type": "stream",
     "text": [
      "C:\\Users\\ASUS\\anaconda3\\envs\\marketplace\\lib\\site-packages\\ipykernel\\ipkernel.py:287: DeprecationWarning: `should_run_async` will not call `transform_cell` automatically in the future. Please pass the result to `transformed_cell` argument and any exception that happen during thetransform in `preprocessing_exc_tuple` in IPython 7.17 and above.\n",
      "  and should_run_async(code)\n"
     ]
    }
   ],
   "source": [
    "def remove_stopwords(texts):\n",
    "    return [[word for word in simple_preprocess(str(doc)) \n",
    "             if word not in stop_words] for doc in texts]\n",
    "tokenized_data = remove_stopwords(tokenized_data)"
   ]
  },
  {
   "cell_type": "markdown",
   "id": "764f24f8",
   "metadata": {},
   "source": [
    "##### Pos tags"
   ]
  },
  {
   "cell_type": "code",
   "execution_count": 11,
   "id": "a8dc27dd",
   "metadata": {},
   "outputs": [
    {
     "name": "stderr",
     "output_type": "stream",
     "text": [
      "C:\\Users\\ASUS\\anaconda3\\envs\\marketplace\\lib\\site-packages\\ipykernel\\ipkernel.py:287: DeprecationWarning: `should_run_async` will not call `transform_cell` automatically in the future. Please pass the result to `transformed_cell` argument and any exception that happen during thetransform in `preprocessing_exc_tuple` in IPython 7.17 and above.\n",
      "  and should_run_async(code)\n",
      "[nltk_data] Downloading package averaged_perceptron_tagger to\n",
      "[nltk_data]     C:\\Users\\ASUS\\AppData\\Roaming\\nltk_data...\n",
      "[nltk_data]   Package averaged_perceptron_tagger is already up-to-\n",
      "[nltk_data]       date!\n"
     ]
    }
   ],
   "source": [
    "nltk.download('averaged_perceptron_tagger')\n",
    "tagged_data = []\n",
    "for token in tokenized_data:\n",
    "    tagged_data.append(nltk.pos_tag(token))\n",
    "#tagged = nltk.pos_tag(tokenized_data)\n",
    "#singular_token = [word for word, tag in tagged if tag in ('NN', 'NNS', 'NNP', 'NNPS', 'PRP')]"
   ]
  },
  {
   "cell_type": "code",
   "execution_count": 12,
   "id": "e7f0e2f8",
   "metadata": {},
   "outputs": [
    {
     "name": "stderr",
     "output_type": "stream",
     "text": [
      "C:\\Users\\ASUS\\anaconda3\\envs\\marketplace\\lib\\site-packages\\ipykernel\\ipkernel.py:287: DeprecationWarning: `should_run_async` will not call `transform_cell` automatically in the future. Please pass the result to `transformed_cell` argument and any exception that happen during thetransform in `preprocessing_exc_tuple` in IPython 7.17 and above.\n",
      "  and should_run_async(code)\n"
     ]
    }
   ],
   "source": [
    "post_tag_words = []\n",
    "for tagged in tagged_data:\n",
    "    data_words = [word for word, tag in tagged if tag in ('NN', 'NNS', 'NNP', 'NNPS', 'PRP')]\n",
    "    post_tag_words.append(data_words)"
   ]
  },
  {
   "cell_type": "code",
   "execution_count": 13,
   "id": "8734f648",
   "metadata": {},
   "outputs": [
    {
     "name": "stderr",
     "output_type": "stream",
     "text": [
      "C:\\Users\\ASUS\\anaconda3\\envs\\marketplace\\lib\\site-packages\\ipykernel\\ipkernel.py:287: DeprecationWarning: `should_run_async` will not call `transform_cell` automatically in the future. Please pass the result to `transformed_cell` argument and any exception that happen during thetransform in `preprocessing_exc_tuple` in IPython 7.17 and above.\n",
      "  and should_run_async(code)\n"
     ]
    }
   ],
   "source": [
    "def remove_values_from_list(the_list, val):\n",
    "    return [value for value in the_list if value != val]\n",
    "post_tag_new = []\n",
    "for word in post_tag_words:\n",
    "    word = remove_values_from_list(word, 'xxxx')\n",
    "    post_tag_new.append(word)"
   ]
  },
  {
   "cell_type": "markdown",
   "id": "52292702",
   "metadata": {},
   "source": [
    "#### Lemmatization"
   ]
  },
  {
   "cell_type": "code",
   "execution_count": 14,
   "id": "d791cd9e",
   "metadata": {},
   "outputs": [
    {
     "name": "stderr",
     "output_type": "stream",
     "text": [
      "C:\\Users\\ASUS\\anaconda3\\envs\\marketplace\\lib\\site-packages\\ipykernel\\ipkernel.py:287: DeprecationWarning: `should_run_async` will not call `transform_cell` automatically in the future. Please pass the result to `transformed_cell` argument and any exception that happen during thetransform in `preprocessing_exc_tuple` in IPython 7.17 and above.\n",
      "  and should_run_async(code)\n"
     ]
    }
   ],
   "source": [
    "def lemmatization(texts, allowed_postags=['NOUN', 'ADJ', 'VERB', 'ADV']): #'NOUN', 'ADJ', 'VERB', 'ADV'\n",
    "    texts_out = []\n",
    "    for sent in texts:\n",
    "        doc = nlp(\" \".join(sent)) \n",
    "        texts_out.append(\" \".join([token.lemma_ if token.lemma_ not in ['-PRON-'] else '' for token in doc if token.pos_ in allowed_postags]))\n",
    "    return texts_out\n",
    "nlp = spacy.load('en_core_web_sm', disable=['parser', 'ner'])\n",
    "data_lemmatized = lemmatization(post_tag_new, allowed_postags=['NOUN','VERB']) #select noun and verb"
   ]
  },
  {
   "cell_type": "code",
   "execution_count": 22,
   "id": "bc4a7d74",
   "metadata": {},
   "outputs": [
    {
     "name": "stderr",
     "output_type": "stream",
     "text": [
      "C:\\Users\\ASUS\\anaconda3\\envs\\marketplace\\lib\\site-packages\\ipykernel\\ipkernel.py:287: DeprecationWarning: `should_run_async` will not call `transform_cell` automatically in the future. Please pass the result to `transformed_cell` argument and any exception that happen during thetransform in `preprocessing_exc_tuple` in IPython 7.17 and above.\n",
      "  and should_run_async(code)\n"
     ]
    }
   ],
   "source": [
    "data_lemm_token = [nltk.word_tokenize(word) for word in data_lemmatized]"
   ]
  },
  {
   "cell_type": "markdown",
   "id": "40b7c932",
   "metadata": {},
   "source": [
    "### Corpus"
   ]
  },
  {
   "cell_type": "code",
   "execution_count": 30,
   "id": "9ebfb644",
   "metadata": {},
   "outputs": [
    {
     "name": "stderr",
     "output_type": "stream",
     "text": [
      "C:\\Users\\ASUS\\anaconda3\\envs\\marketplace\\lib\\site-packages\\ipykernel\\ipkernel.py:287: DeprecationWarning: `should_run_async` will not call `transform_cell` automatically in the future. Please pass the result to `transformed_cell` argument and any exception that happen during thetransform in `preprocessing_exc_tuple` in IPython 7.17 and above.\n",
      "  and should_run_async(code)\n"
     ]
    },
    {
     "name": "stdout",
     "output_type": "stream",
     "text": [
      "[(0, 8), (1, 3), (2, 2), (3, 1), (4, 6), (5, 1), (6, 5), (7, 1), (8, 1), (9, 1), (10, 2), (11, 1), (12, 1), (13, 1), (14, 1), (15, 2), (16, 3), (17, 1), (18, 1), (19, 1), (20, 6), (21, 1), (22, 15), (23, 1), (24, 1), (25, 3), (26, 1), (27, 1), (28, 1), (29, 1)]\n"
     ]
    }
   ],
   "source": [
    "id2word = corpora.Dictionary(data_lemm_token)\n",
    "\n",
    "# Create Corpus\n",
    "texts = data_lemm_token\n",
    "\n",
    "# Term Document Frequency\n",
    "corpus = [id2word.doc2bow(text) for text in texts]\n",
    "\n",
    "# View\n",
    "print(corpus[:1][0][:30])"
   ]
  },
  {
   "cell_type": "markdown",
   "id": "3c9d1957",
   "metadata": {},
   "source": [
    "## MODEL"
   ]
  },
  {
   "cell_type": "code",
   "execution_count": 32,
   "id": "2bf6d5bd",
   "metadata": {},
   "outputs": [
    {
     "name": "stderr",
     "output_type": "stream",
     "text": [
      "C:\\Users\\ASUS\\anaconda3\\envs\\marketplace\\lib\\site-packages\\ipykernel\\ipkernel.py:287: DeprecationWarning: `should_run_async` will not call `transform_cell` automatically in the future. Please pass the result to `transformed_cell` argument and any exception that happen during thetransform in `preprocessing_exc_tuple` in IPython 7.17 and above.\n",
      "  and should_run_async(code)\n"
     ]
    },
    {
     "name": "stdout",
     "output_type": "stream",
     "text": [
      "[(0,\n",
      "  '0.073*\"loan\" + 0.062*\"payment\" + 0.028*\"mortgage\" + 0.021*\"home\" + '\n",
      "  '0.014*\"time\" + 0.013*\"month\" + 0.012*\"company\" + 0.010*\"letter\" + '\n",
      "  '0.010*\"bank\" + 0.009*\"modification\"'),\n",
      " (1,\n",
      "  '0.048*\"mortgage\" + 0.030*\"loan\" + 0.024*\"payment\" + 0.021*\"time\" + '\n",
      "  '0.016*\"document\" + 0.016*\"home\" + 0.015*\"company\" + 0.014*\"letter\" + '\n",
      "  '0.014*\"modification\" + 0.014*\"day\"'),\n",
      " (2,\n",
      "  '0.028*\"payment\" + 0.023*\"home\" + 0.021*\"loan\" + 0.020*\"time\" + '\n",
      "  '0.017*\"mortgage\" + 0.016*\"document\" + 0.015*\"property\" + '\n",
      "  '0.015*\"information\" + 0.015*\"call\" + 0.014*\"company\"'),\n",
      " (3,\n",
      "  '0.050*\"loan\" + 0.049*\"mortgage\" + 0.027*\"payment\" + 0.022*\"bank\" + '\n",
      "  '0.018*\"time\" + 0.016*\"insurance\" + 0.013*\"day\" + 0.012*\"fee\" + '\n",
      "  '0.012*\"amount\" + 0.011*\"call\"'),\n",
      " (4,\n",
      "  '0.040*\"payment\" + 0.032*\"loan\" + 0.020*\"month\" + 0.019*\"account\" + '\n",
      "  '0.019*\"bank\" + 0.018*\"check\" + 0.017*\"mortgage\" + 0.016*\"property\" + '\n",
      "  '0.016*\"money\" + 0.016*\"insurance\"'),\n",
      " (5,\n",
      "  '0.072*\"payment\" + 0.039*\"mortgage\" + 0.036*\"account\" + 0.032*\"loan\" + '\n",
      "  '0.028*\"company\" + 0.016*\"time\" + 0.014*\"day\" + 0.013*\"escrow\" + '\n",
      "  '0.012*\"month\" + 0.010*\"fund\"'),\n",
      " (6,\n",
      "  '0.051*\"payment\" + 0.033*\"loan\" + 0.031*\"mortgage\" + 0.024*\"time\" + '\n",
      "  '0.016*\"month\" + 0.015*\"account\" + 0.013*\"day\" + 0.012*\"amount\" + '\n",
      "  '0.012*\"credit\" + 0.010*\"date\"'),\n",
      " (7,\n",
      "  '0.050*\"payment\" + 0.044*\"mortgage\" + 0.037*\"loan\" + 0.017*\"amount\" + '\n",
      "  '0.015*\"credit\" + 0.014*\"time\" + 0.014*\"information\" + 0.014*\"year\" + '\n",
      "  '0.013*\"statement\" + 0.013*\"month\"'),\n",
      " (8,\n",
      "  '0.024*\"loan\" + 0.023*\"bank\" + 0.022*\"home\" + 0.019*\"day\" + 0.017*\"payment\" '\n",
      "  '+ 0.017*\"mortgage\" + 0.012*\"property\" + 0.012*\"information\" + '\n",
      "  '0.011*\"request\" + 0.011*\"fee\"'),\n",
      " (9,\n",
      "  '0.042*\"payment\" + 0.026*\"mortgage\" + 0.019*\"bank\" + 0.017*\"loan\" + '\n",
      "  '0.016*\"home\" + 0.014*\"time\" + 0.014*\"letter\" + 0.013*\"credit\" + '\n",
      "  '0.012*\"lender\" + 0.011*\"property\"')]\n"
     ]
    }
   ],
   "source": [
    "num_topics = 10\n",
    "\n",
    "# Build LDA model\n",
    "lda_model = gensim.models.LdaMulticore(corpus=corpus,\n",
    "                                       id2word=id2word,\n",
    "                                       num_topics=num_topics)\n",
    "\n",
    "# Print the Keyword in the 10 topics\n",
    "pprint(lda_model.print_topics())\n",
    "doc_lda = lda_model[corpus]"
   ]
  },
  {
   "cell_type": "code",
   "execution_count": 33,
   "id": "b4d91fce",
   "metadata": {},
   "outputs": [
    {
     "name": "stderr",
     "output_type": "stream",
     "text": [
      "C:\\Users\\ASUS\\anaconda3\\envs\\marketplace\\lib\\site-packages\\ipykernel\\ipkernel.py:287: DeprecationWarning: `should_run_async` will not call `transform_cell` automatically in the future. Please pass the result to `transformed_cell` argument and any exception that happen during thetransform in `preprocessing_exc_tuple` in IPython 7.17 and above.\n",
      "  and should_run_async(code)\n"
     ]
    },
    {
     "name": "stdout",
     "output_type": "stream",
     "text": [
      "\n",
      "Perplexity:  -6.202565031520746\n",
      "\n",
      "Coherence Score:  nan\n"
     ]
    }
   ],
   "source": [
    "# Compute Perplexity\n",
    "print('\\nPerplexity: ', lda_model.log_perplexity(corpus))  # a measure of how good the model is. lower the better.\n",
    "\n",
    "# Compute Coherence Score\n",
    "coherence_model_lda = CoherenceModel(model=lda_model, texts=data, dictionary=id2word, coherence='c_v')\n",
    "coherence_lda = coherence_model_lda.get_coherence()\n",
    "print('\\nCoherence Score: ', coherence_lda)"
   ]
  },
  {
   "cell_type": "code",
   "execution_count": null,
   "id": "717fb092",
   "metadata": {},
   "outputs": [],
   "source": []
  }
 ],
 "metadata": {
  "kernelspec": {
   "display_name": "Python 3",
   "language": "python",
   "name": "python3"
  },
  "language_info": {
   "codemirror_mode": {
    "name": "ipython",
    "version": 3
   },
   "file_extension": ".py",
   "mimetype": "text/x-python",
   "name": "python",
   "nbconvert_exporter": "python",
   "pygments_lexer": "ipython3",
   "version": "3.8.10"
  }
 },
 "nbformat": 4,
 "nbformat_minor": 5
}
