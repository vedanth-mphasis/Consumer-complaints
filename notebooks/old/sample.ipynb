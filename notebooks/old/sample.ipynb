{
 "cells": [
  {
   "cell_type": "code",
   "execution_count": 13,
   "metadata": {},
   "outputs": [],
   "source": [
    "import numpy as np\n",
    "import pandas as pd\n",
    "import re\n",
    "import matplotlib.pyplot as plt\n",
    "from pprint import pprint"
   ]
  },
  {
   "cell_type": "code",
   "execution_count": 2,
   "metadata": {},
   "outputs": [
    {
     "data": {
      "text/html": [
       "<div>\n",
       "<style scoped>\n",
       "    .dataframe tbody tr th:only-of-type {\n",
       "        vertical-align: middle;\n",
       "    }\n",
       "\n",
       "    .dataframe tbody tr th {\n",
       "        vertical-align: top;\n",
       "    }\n",
       "\n",
       "    .dataframe thead th {\n",
       "        text-align: right;\n",
       "    }\n",
       "</style>\n",
       "<table border=\"1\" class=\"dataframe\">\n",
       "  <thead>\n",
       "    <tr style=\"text-align: right;\">\n",
       "      <th></th>\n",
       "      <th>Date received</th>\n",
       "      <th>Product</th>\n",
       "      <th>Sub-product</th>\n",
       "      <th>Issue</th>\n",
       "      <th>Sub-issue</th>\n",
       "      <th>Consumer complaint narrative</th>\n",
       "      <th>Company public response</th>\n",
       "      <th>Company</th>\n",
       "      <th>State</th>\n",
       "      <th>ZIP code</th>\n",
       "      <th>Tags</th>\n",
       "      <th>Consumer consent provided?</th>\n",
       "      <th>Submitted via</th>\n",
       "      <th>Date sent to company</th>\n",
       "      <th>Company response to consumer</th>\n",
       "      <th>Timely response?</th>\n",
       "      <th>Consumer disputed?</th>\n",
       "      <th>Complaint ID</th>\n",
       "    </tr>\n",
       "  </thead>\n",
       "  <tbody>\n",
       "    <tr>\n",
       "      <th>0</th>\n",
       "      <td>03/28/19</td>\n",
       "      <td>Mortgage</td>\n",
       "      <td>Conventional home mortgage</td>\n",
       "      <td>Struggling to pay mortgage</td>\n",
       "      <td>None</td>\n",
       "      <td>In dispute of the loan # XXXX, for XXXX XXXX t...</td>\n",
       "      <td>Company believes it acted appropriately as aut...</td>\n",
       "      <td>SELECT PORTFOLIO SERVICING, INC.</td>\n",
       "      <td>GA</td>\n",
       "      <td>300XX</td>\n",
       "      <td>None</td>\n",
       "      <td>Consent provided</td>\n",
       "      <td>Web</td>\n",
       "      <td>03/28/19</td>\n",
       "      <td>Closed with explanation</td>\n",
       "      <td>Yes</td>\n",
       "      <td>NaN</td>\n",
       "      <td>3193709</td>\n",
       "    </tr>\n",
       "    <tr>\n",
       "      <th>1</th>\n",
       "      <td>02/21/19</td>\n",
       "      <td>Mortgage</td>\n",
       "      <td>FHA mortgage</td>\n",
       "      <td>Struggling to pay mortgage</td>\n",
       "      <td>None</td>\n",
       "      <td>My complaint is with Carrington Mortgage Servi...</td>\n",
       "      <td>None</td>\n",
       "      <td>CARRINGTON MORTGAGE SERVICES, LLC</td>\n",
       "      <td>GA</td>\n",
       "      <td>312XX</td>\n",
       "      <td>None</td>\n",
       "      <td>Consent provided</td>\n",
       "      <td>Web</td>\n",
       "      <td>02/21/19</td>\n",
       "      <td>Closed with explanation</td>\n",
       "      <td>Yes</td>\n",
       "      <td>NaN</td>\n",
       "      <td>3158652</td>\n",
       "    </tr>\n",
       "    <tr>\n",
       "      <th>2</th>\n",
       "      <td>06/11/19</td>\n",
       "      <td>Mortgage</td>\n",
       "      <td>Home equity loan or line of credit (HELOC)</td>\n",
       "      <td>Trouble during payment process</td>\n",
       "      <td>None</td>\n",
       "      <td>As of XX/XX/2019 PHH Mortgage Services purchas...</td>\n",
       "      <td>None</td>\n",
       "      <td>PHH Mortgage Services Corporation</td>\n",
       "      <td>FL</td>\n",
       "      <td>347XX</td>\n",
       "      <td>None</td>\n",
       "      <td>Consent provided</td>\n",
       "      <td>Web</td>\n",
       "      <td>06/11/19</td>\n",
       "      <td>Closed with explanation</td>\n",
       "      <td>Yes</td>\n",
       "      <td>NaN</td>\n",
       "      <td>3270600</td>\n",
       "    </tr>\n",
       "    <tr>\n",
       "      <th>3</th>\n",
       "      <td>11/29/19</td>\n",
       "      <td>Mortgage</td>\n",
       "      <td>Conventional home mortgage</td>\n",
       "      <td>Trouble during payment process</td>\n",
       "      <td>None</td>\n",
       "      <td>We started our mortgage with Loan Depot in XX/...</td>\n",
       "      <td>Company believes complaint is the result of an...</td>\n",
       "      <td>LD Holdings Group, LLC</td>\n",
       "      <td>NJ</td>\n",
       "      <td>None</td>\n",
       "      <td>None</td>\n",
       "      <td>Consent provided</td>\n",
       "      <td>Web</td>\n",
       "      <td>11/29/19</td>\n",
       "      <td>Closed with monetary relief</td>\n",
       "      <td>Yes</td>\n",
       "      <td>NaN</td>\n",
       "      <td>3453669</td>\n",
       "    </tr>\n",
       "    <tr>\n",
       "      <th>4</th>\n",
       "      <td>10/23/19</td>\n",
       "      <td>Mortgage</td>\n",
       "      <td>Conventional home mortgage</td>\n",
       "      <td>Struggling to pay mortgage</td>\n",
       "      <td>None</td>\n",
       "      <td>XXXX XXXX XXXX XXXX XXXX XXXX XXXX XXXX, XXXX ...</td>\n",
       "      <td>None</td>\n",
       "      <td>Community Loan Servicing, LLC (formerly known ...</td>\n",
       "      <td>CA</td>\n",
       "      <td>92021</td>\n",
       "      <td>None</td>\n",
       "      <td>Consent provided</td>\n",
       "      <td>Web</td>\n",
       "      <td>11/05/19</td>\n",
       "      <td>Closed with explanation</td>\n",
       "      <td>Yes</td>\n",
       "      <td>NaN</td>\n",
       "      <td>3415392</td>\n",
       "    </tr>\n",
       "  </tbody>\n",
       "</table>\n",
       "</div>"
      ],
      "text/plain": [
       "  Date received   Product                                 Sub-product  \\\n",
       "0      03/28/19  Mortgage                  Conventional home mortgage   \n",
       "1      02/21/19  Mortgage                                FHA mortgage   \n",
       "2      06/11/19  Mortgage  Home equity loan or line of credit (HELOC)   \n",
       "3      11/29/19  Mortgage                  Conventional home mortgage   \n",
       "4      10/23/19  Mortgage                  Conventional home mortgage   \n",
       "\n",
       "                            Issue Sub-issue  \\\n",
       "0      Struggling to pay mortgage      None   \n",
       "1      Struggling to pay mortgage      None   \n",
       "2  Trouble during payment process      None   \n",
       "3  Trouble during payment process      None   \n",
       "4      Struggling to pay mortgage      None   \n",
       "\n",
       "                        Consumer complaint narrative  \\\n",
       "0  In dispute of the loan # XXXX, for XXXX XXXX t...   \n",
       "1  My complaint is with Carrington Mortgage Servi...   \n",
       "2  As of XX/XX/2019 PHH Mortgage Services purchas...   \n",
       "3  We started our mortgage with Loan Depot in XX/...   \n",
       "4  XXXX XXXX XXXX XXXX XXXX XXXX XXXX XXXX, XXXX ...   \n",
       "\n",
       "                             Company public response  \\\n",
       "0  Company believes it acted appropriately as aut...   \n",
       "1                                               None   \n",
       "2                                               None   \n",
       "3  Company believes complaint is the result of an...   \n",
       "4                                               None   \n",
       "\n",
       "                                             Company State ZIP code  Tags  \\\n",
       "0                   SELECT PORTFOLIO SERVICING, INC.    GA    300XX  None   \n",
       "1                  CARRINGTON MORTGAGE SERVICES, LLC    GA    312XX  None   \n",
       "2                  PHH Mortgage Services Corporation    FL    347XX  None   \n",
       "3                             LD Holdings Group, LLC    NJ     None  None   \n",
       "4  Community Loan Servicing, LLC (formerly known ...    CA    92021  None   \n",
       "\n",
       "  Consumer consent provided? Submitted via Date sent to company  \\\n",
       "0           Consent provided           Web             03/28/19   \n",
       "1           Consent provided           Web             02/21/19   \n",
       "2           Consent provided           Web             06/11/19   \n",
       "3           Consent provided           Web             11/29/19   \n",
       "4           Consent provided           Web             11/05/19   \n",
       "\n",
       "  Company response to consumer Timely response?  Consumer disputed?  \\\n",
       "0      Closed with explanation              Yes                 NaN   \n",
       "1      Closed with explanation              Yes                 NaN   \n",
       "2      Closed with explanation              Yes                 NaN   \n",
       "3  Closed with monetary relief              Yes                 NaN   \n",
       "4      Closed with explanation              Yes                 NaN   \n",
       "\n",
       "   Complaint ID  \n",
       "0       3193709  \n",
       "1       3158652  \n",
       "2       3270600  \n",
       "3       3453669  \n",
       "4       3415392  "
      ]
     },
     "execution_count": 2,
     "metadata": {},
     "output_type": "execute_result"
    }
   ],
   "source": [
    "dataset = pd.read_csv(\"../Data/mortgage.csv\")\n",
    "dataset.head() "
   ]
  },
  {
   "cell_type": "code",
   "execution_count": 3,
   "metadata": {},
   "outputs": [
    {
     "name": "stdout",
     "output_type": "stream",
     "text": [
      "<class 'pandas.core.frame.DataFrame'>\n",
      "RangeIndex: 32805 entries, 0 to 32804\n",
      "Data columns (total 18 columns):\n",
      " #   Column                        Non-Null Count  Dtype  \n",
      "---  ------                        --------------  -----  \n",
      " 0   Date received                 32805 non-null  object \n",
      " 1   Product                       32805 non-null  object \n",
      " 2   Sub-product                   32805 non-null  object \n",
      " 3   Issue                         32805 non-null  object \n",
      " 4   Sub-issue                     32805 non-null  object \n",
      " 5   Consumer complaint narrative  32805 non-null  object \n",
      " 6   Company public response       32805 non-null  object \n",
      " 7   Company                       32805 non-null  object \n",
      " 8   State                         32805 non-null  object \n",
      " 9   ZIP code                      32805 non-null  object \n",
      " 10  Tags                          32805 non-null  object \n",
      " 11  Consumer consent provided?    32805 non-null  object \n",
      " 12  Submitted via                 32805 non-null  object \n",
      " 13  Date sent to company          32805 non-null  object \n",
      " 14  Company response to consumer  32805 non-null  object \n",
      " 15  Timely response?              32805 non-null  object \n",
      " 16  Consumer disputed?            0 non-null      float64\n",
      " 17  Complaint ID                  32805 non-null  int64  \n",
      "dtypes: float64(1), int64(1), object(16)\n",
      "memory usage: 4.5+ MB\n"
     ]
    }
   ],
   "source": [
    "dataset.info()"
   ]
  },
  {
   "cell_type": "code",
   "execution_count": 4,
   "metadata": {},
   "outputs": [
    {
     "data": {
      "text/plain": [
       "Mortgage    32805\n",
       "Name: Product, dtype: int64"
      ]
     },
     "execution_count": 4,
     "metadata": {},
     "output_type": "execute_result"
    }
   ],
   "source": [
    "dataset['Product'].value_counts()"
   ]
  },
  {
   "cell_type": "code",
   "execution_count": 5,
   "metadata": {},
   "outputs": [
    {
     "data": {
      "text/plain": [
       "1"
      ]
     },
     "execution_count": 5,
     "metadata": {},
     "output_type": "execute_result"
    }
   ],
   "source": [
    "len(dataset['Product'].value_counts())"
   ]
  },
  {
   "cell_type": "code",
   "execution_count": 6,
   "metadata": {},
   "outputs": [
    {
     "data": {
      "text/plain": [
       "Incorrect information on your report                                                50667\n",
       "Problem with a credit reporting company's investigation into an existing problem    32168\n",
       "Attempts to collect debt not owed                                                   13099\n",
       "Trouble during payment process                                                       5982\n",
       "Improper use of your report                                                          5857\n",
       "                                                                                    ...  \n",
       "Incorrect exchange rate                                                                 6\n",
       "Vehicle was damaged or destroyed the vehicle                                            5\n",
       "Was approved for a loan, but didn't receive money                                       3\n",
       "Property was sold                                                                       2\n",
       "Problem with an overdraft                                                               1\n",
       "Name: Issue, Length: 79, dtype: int64"
      ]
     },
     "execution_count": 6,
     "metadata": {},
     "output_type": "execute_result"
    }
   ],
   "source": [
    "dataset['Issue'].value_counts()"
   ]
  },
  {
   "cell_type": "code",
   "execution_count": 6,
   "metadata": {},
   "outputs": [],
   "source": [
    "dataset = dataset.drop([ 'Issue', 'Sub-issue', 'Company public response', 'State', 'ZIP code', 'Tags', 'Consumer consent provided?', 'Submitted via', 'Date sent to company', 'Company response to consumer', 'Timely response?', 'Consumer disputed?', 'Complaint ID'], axis=1)"
   ]
  },
  {
   "cell_type": "code",
   "execution_count": 7,
   "metadata": {},
   "outputs": [
    {
     "data": {
      "text/html": [
       "<div>\n",
       "<style scoped>\n",
       "    .dataframe tbody tr th:only-of-type {\n",
       "        vertical-align: middle;\n",
       "    }\n",
       "\n",
       "    .dataframe tbody tr th {\n",
       "        vertical-align: top;\n",
       "    }\n",
       "\n",
       "    .dataframe thead th {\n",
       "        text-align: right;\n",
       "    }\n",
       "</style>\n",
       "<table border=\"1\" class=\"dataframe\">\n",
       "  <thead>\n",
       "    <tr style=\"text-align: right;\">\n",
       "      <th></th>\n",
       "      <th>Date received</th>\n",
       "      <th>Product</th>\n",
       "      <th>Sub-product</th>\n",
       "      <th>Consumer complaint narrative</th>\n",
       "      <th>Company</th>\n",
       "    </tr>\n",
       "  </thead>\n",
       "  <tbody>\n",
       "    <tr>\n",
       "      <th>0</th>\n",
       "      <td>03/28/19</td>\n",
       "      <td>Mortgage</td>\n",
       "      <td>Conventional home mortgage</td>\n",
       "      <td>In dispute of the loan # XXXX, for XXXX XXXX t...</td>\n",
       "      <td>SELECT PORTFOLIO SERVICING, INC.</td>\n",
       "    </tr>\n",
       "    <tr>\n",
       "      <th>1</th>\n",
       "      <td>02/21/19</td>\n",
       "      <td>Mortgage</td>\n",
       "      <td>FHA mortgage</td>\n",
       "      <td>My complaint is with Carrington Mortgage Servi...</td>\n",
       "      <td>CARRINGTON MORTGAGE SERVICES, LLC</td>\n",
       "    </tr>\n",
       "    <tr>\n",
       "      <th>2</th>\n",
       "      <td>06/11/19</td>\n",
       "      <td>Mortgage</td>\n",
       "      <td>Home equity loan or line of credit (HELOC)</td>\n",
       "      <td>As of XX/XX/2019 PHH Mortgage Services purchas...</td>\n",
       "      <td>PHH Mortgage Services Corporation</td>\n",
       "    </tr>\n",
       "    <tr>\n",
       "      <th>3</th>\n",
       "      <td>11/29/19</td>\n",
       "      <td>Mortgage</td>\n",
       "      <td>Conventional home mortgage</td>\n",
       "      <td>We started our mortgage with Loan Depot in XX/...</td>\n",
       "      <td>LD Holdings Group, LLC</td>\n",
       "    </tr>\n",
       "    <tr>\n",
       "      <th>4</th>\n",
       "      <td>10/23/19</td>\n",
       "      <td>Mortgage</td>\n",
       "      <td>Conventional home mortgage</td>\n",
       "      <td>XXXX XXXX XXXX XXXX XXXX XXXX XXXX XXXX, XXXX ...</td>\n",
       "      <td>Community Loan Servicing, LLC (formerly known ...</td>\n",
       "    </tr>\n",
       "  </tbody>\n",
       "</table>\n",
       "</div>"
      ],
      "text/plain": [
       "  Date received   Product                                 Sub-product  \\\n",
       "0      03/28/19  Mortgage                  Conventional home mortgage   \n",
       "1      02/21/19  Mortgage                                FHA mortgage   \n",
       "2      06/11/19  Mortgage  Home equity loan or line of credit (HELOC)   \n",
       "3      11/29/19  Mortgage                  Conventional home mortgage   \n",
       "4      10/23/19  Mortgage                  Conventional home mortgage   \n",
       "\n",
       "                        Consumer complaint narrative  \\\n",
       "0  In dispute of the loan # XXXX, for XXXX XXXX t...   \n",
       "1  My complaint is with Carrington Mortgage Servi...   \n",
       "2  As of XX/XX/2019 PHH Mortgage Services purchas...   \n",
       "3  We started our mortgage with Loan Depot in XX/...   \n",
       "4  XXXX XXXX XXXX XXXX XXXX XXXX XXXX XXXX, XXXX ...   \n",
       "\n",
       "                                             Company  \n",
       "0                   SELECT PORTFOLIO SERVICING, INC.  \n",
       "1                  CARRINGTON MORTGAGE SERVICES, LLC  \n",
       "2                  PHH Mortgage Services Corporation  \n",
       "3                             LD Holdings Group, LLC  \n",
       "4  Community Loan Servicing, LLC (formerly known ...  "
      ]
     },
     "execution_count": 7,
     "metadata": {},
     "output_type": "execute_result"
    }
   ],
   "source": [
    "dataset.head()"
   ]
  },
  {
   "cell_type": "code",
   "execution_count": 8,
   "metadata": {},
   "outputs": [
    {
     "data": {
      "text/plain": [
       "0    in dispute of the loan # xxxx for xxxx xxxx th...\n",
       "1    my complaint is with carrington mortgage servi...\n",
       "2    as of xx/xx/2019 phh mortgage services purchas...\n",
       "3    we started our mortgage with loan depot in xx/...\n",
       "4    xxxx xxxx xxxx xxxx xxxx xxxx xxxx xxxx xxxx x...\n",
       "Name: complaint_processed, dtype: object"
      ]
     },
     "execution_count": 8,
     "metadata": {},
     "output_type": "execute_result"
    }
   ],
   "source": [
    "dataset['complaint_processed'] = \\\n",
    "dataset['Consumer complaint narrative'].map(lambda x: re.sub('[,\\.!?]', '', x))\n",
    "\n",
    "# Convert the titles to lowercase\n",
    "dataset['complaint_processed'] = \\\n",
    "dataset['complaint_processed'].map(lambda x: x.lower())\n",
    "\n",
    "# Print out the first rows of dataset\n",
    "dataset['complaint_processed'].head()"
   ]
  },
  {
   "cell_type": "code",
   "execution_count": 10,
   "metadata": {},
   "outputs": [
    {
     "data": {
      "image/png": "[encoded data removed]",
      "text/plain": [
       "<PIL.Image.Image image mode=RGB size=400x200 at 0x1B153146FD0>"
      ]
     },
     "execution_count": 10,
     "metadata": {},
     "output_type": "execute_result"
    }
   ],
   "source": [
    "# Import the wordcloud library\n",
    "from wordcloud import WordCloud\n",
    "\n",
    "# Join the different processed titles together.\n",
    "long_string = ','.join(list(dataset['complaint_processed'].values))\n",
    "\n",
    "# Create a WordCloud object\n",
    "wordcloud = WordCloud(background_color=\"white\", max_words=1000, contour_width=3, contour_color='steelblue')\n",
    "\n",
    "# Generate a word cloud\n",
    "wordcloud.generate(long_string)\n",
    "\n",
    "# Visualize the word cloud\n",
    "wordcloud.to_image()"
   ]
  },
  {
   "cell_type": "code",
   "execution_count": 9,
   "metadata": {},
   "outputs": [
    {
     "name": "stderr",
     "output_type": "stream",
     "text": [
      "[nltk_data] Downloading package stopwords to\n",
      "[nltk_data]     C:\\Users\\ASUS\\AppData\\Roaming\\nltk_data...\n",
      "[nltk_data]   Package stopwords is already up-to-date!\n"
     ]
    }
   ],
   "source": [
    "import gensim\n",
    "from gensim.utils import simple_preprocess\n",
    "import nltk\n",
    "nltk.download('stopwords')\n",
    "from nltk.corpus import stopwords\n",
    "\n",
    "stop_words = stopwords.words('english')\n",
    "stop_words.extend(['from', 'subject', 're', 'edu', 'use', 'xxxx', 'xx'])\n",
    "\n",
    "def sent_to_words(sentences):\n",
    "    for sentence in sentences:\n",
    "        # deacc=True removes punctuations\n",
    "        yield(gensim.utils.simple_preprocess(str(sentence), deacc=True))\n",
    "\n",
    "def remove_stopwords(texts):\n",
    "    return [[word for word in simple_preprocess(str(doc)) \n",
    "             if word not in stop_words] for doc in texts]\n",
    "\n",
    "\n",
    "data = dataset['complaint_processed'].values.tolist()\n",
    "data_words = list(sent_to_words(data))\n",
    "\n",
    "# remove stop words\n",
    "data_words = remove_stopwords(data_words)\n"
   ]
  },
  {
   "cell_type": "code",
   "execution_count": 10,
   "metadata": {},
   "outputs": [
    {
     "name": "stdout",
     "output_type": "stream",
     "text": [
      "[(0, 7), (1, 2), (2, 4), (3, 2), (4, 1), (5, 5), (6, 1), (7, 1), (8, 1), (9, 1), (10, 5), (11, 2), (12, 1), (13, 1), (14, 1), (15, 1), (16, 1), (17, 1), (18, 1), (19, 2), (20, 1), (21, 1), (22, 2), (23, 1), (24, 1), (25, 1), (26, 1), (27, 1), (28, 1), (29, 1)]\n"
     ]
    }
   ],
   "source": [
    "import gensim.corpora as corpora\n",
    "\n",
    "# Create Dictionary\n",
    "id2word = corpora.Dictionary(data_words)\n",
    "\n",
    "# Create Corpus\n",
    "texts = data_words\n",
    "\n",
    "# Term Document Frequency\n",
    "corpus = [id2word.doc2bow(text) for text in texts]\n",
    "\n",
    "# View\n",
    "print(corpus[:1][0][:30])"
   ]
  },
  {
   "cell_type": "code",
   "execution_count": 12,
   "metadata": {},
   "outputs": [
    {
     "name": "stdout",
     "output_type": "stream",
     "text": [
      "[(0,\n",
      "  '0.028*\"loan\" + 0.012*\"mortgage\" + 0.010*\"would\" + 0.009*\"told\" + '\n",
      "  '0.008*\"payment\" + 0.008*\"get\" + 0.007*\"call\" + 0.006*\"time\" + '\n",
      "  '0.006*\"called\" + 0.006*\"back\"'),\n",
      " (1,\n",
      "  '0.019*\"loan\" + 0.017*\"mortgage\" + 0.013*\"payment\" + 0.011*\"payments\" + '\n",
      "  '0.009*\"account\" + 0.007*\"modification\" + 0.007*\"property\" + 0.006*\"would\" + '\n",
      "  '0.006*\"company\" + 0.006*\"home\"'),\n",
      " (2,\n",
      "  '0.020*\"payment\" + 0.015*\"mortgage\" + 0.010*\"account\" + 0.010*\"would\" + '\n",
      "  '0.008*\"payments\" + 0.008*\"loan\" + 0.007*\"bank\" + 0.007*\"made\" + '\n",
      "  '0.007*\"home\" + 0.007*\"received\"'),\n",
      " (3,\n",
      "  '0.014*\"would\" + 0.012*\"loan\" + 0.012*\"payment\" + 0.010*\"told\" + '\n",
      "  '0.009*\"payments\" + 0.009*\"mortgage\" + 0.009*\"time\" + 0.008*\"home\" + '\n",
      "  '0.007*\"bank\" + 0.007*\"back\"'),\n",
      " (4,\n",
      "  '0.017*\"loan\" + 0.016*\"mortgage\" + 0.014*\"would\" + 0.012*\"payment\" + '\n",
      "  '0.009*\"closing\" + 0.009*\"escrow\" + 0.008*\"payments\" + 0.008*\"received\" + '\n",
      "  '0.007*\"bank\" + 0.007*\"account\"'),\n",
      " (5,\n",
      "  '0.031*\"mortgage\" + 0.014*\"insurance\" + 0.013*\"loan\" + 0.012*\"bank\" + '\n",
      "  '0.010*\"home\" + 0.009*\"received\" + 0.007*\"would\" + 0.007*\"credit\" + '\n",
      "  '0.006*\"us\" + 0.006*\"paid\"'),\n",
      " (6,\n",
      "  '0.018*\"payment\" + 0.015*\"told\" + 0.013*\"would\" + 0.012*\"mortgage\" + '\n",
      "  '0.010*\"loan\" + 0.010*\"received\" + 0.008*\"payments\" + 0.008*\"escrow\" + '\n",
      "  '0.007*\"account\" + 0.007*\"time\"'),\n",
      " (7,\n",
      "  '0.020*\"mortgage\" + 0.016*\"loan\" + 0.012*\"would\" + 0.012*\"payment\" + '\n",
      "  '0.011*\"home\" + 0.010*\"told\" + 0.007*\"received\" + 0.006*\"company\" + '\n",
      "  '0.006*\"called\" + 0.005*\"sent\"'),\n",
      " (8,\n",
      "  '0.016*\"payment\" + 0.012*\"mortgage\" + 0.011*\"loan\" + 0.011*\"company\" + '\n",
      "  '0.009*\"told\" + 0.008*\"would\" + 0.008*\"pay\" + 0.008*\"account\" + '\n",
      "  '0.007*\"payments\" + 0.007*\"due\"'),\n",
      " (9,\n",
      "  '0.030*\"loan\" + 0.017*\"mortgage\" + 0.016*\"payment\" + 0.009*\"would\" + '\n",
      "  '0.008*\"account\" + 0.007*\"received\" + 0.007*\"company\" + 0.007*\"letter\" + '\n",
      "  '0.007*\"escrow\" + 0.006*\"amount\"'),\n",
      " (10,\n",
      "  '0.022*\"mortgage\" + 0.020*\"loan\" + 0.012*\"payment\" + 0.010*\"account\" + '\n",
      "  '0.009*\"told\" + 0.008*\"time\" + 0.008*\"payments\" + 0.007*\"bank\" + '\n",
      "  '0.006*\"would\" + 0.006*\"made\"'),\n",
      " (11,\n",
      "  '0.022*\"loan\" + 0.016*\"mortgage\" + 0.008*\"home\" + 0.007*\"received\" + '\n",
      "  '0.007*\"bank\" + 0.006*\"wells\" + 0.006*\"time\" + 0.006*\"company\" + '\n",
      "  '0.006*\"fargo\" + 0.006*\"called\"'),\n",
      " (12,\n",
      "  '0.015*\"loan\" + 0.012*\"mortgage\" + 0.009*\"payment\" + 0.008*\"would\" + '\n",
      "  '0.008*\"account\" + 0.007*\"credit\" + 0.007*\"payments\" + 0.006*\"time\" + '\n",
      "  '0.006*\"get\" + 0.006*\"us\"'),\n",
      " (13,\n",
      "  '0.014*\"would\" + 0.010*\"mortgage\" + 0.009*\"loan\" + 0.009*\"received\" + '\n",
      "  '0.009*\"company\" + 0.009*\"told\" + 0.007*\"credit\" + 0.007*\"called\" + '\n",
      "  '0.006*\"pay\" + 0.006*\"us\"'),\n",
      " (14,\n",
      "  '0.016*\"payment\" + 0.015*\"mortgage\" + 0.012*\"loan\" + 0.009*\"would\" + '\n",
      "  '0.009*\"account\" + 0.009*\"payments\" + 0.008*\"received\" + 0.008*\"time\" + '\n",
      "  '0.007*\"pay\" + 0.006*\"company\"'),\n",
      " (15,\n",
      "  '0.016*\"mortgage\" + 0.014*\"loan\" + 0.009*\"credit\" + 0.008*\"bank\" + '\n",
      "  '0.007*\"would\" + 0.007*\"us\" + 0.007*\"home\" + 0.006*\"payment\" + 0.006*\"back\" '\n",
      "  '+ 0.005*\"received\"'),\n",
      " (16,\n",
      "  '0.014*\"home\" + 0.014*\"loan\" + 0.010*\"would\" + 0.010*\"mortgage\" + 0.009*\"us\" '\n",
      "  '+ 0.008*\"payment\" + 0.007*\"letter\" + 0.007*\"payments\" + 0.006*\"told\" + '\n",
      "  '0.006*\"bank\"'),\n",
      " (17,\n",
      "  '0.021*\"loan\" + 0.015*\"mortgage\" + 0.011*\"would\" + 0.010*\"payment\" + '\n",
      "  '0.007*\"time\" + 0.007*\"home\" + 0.006*\"received\" + 0.006*\"said\" + '\n",
      "  '0.006*\"told\" + 0.005*\"account\"'),\n",
      " (18,\n",
      "  '0.024*\"payment\" + 0.016*\"loan\" + 0.012*\"payments\" + 0.010*\"mortgage\" + '\n",
      "  '0.009*\"would\" + 0.008*\"time\" + 0.007*\"escrow\" + 0.007*\"property\" + '\n",
      "  '0.007*\"received\" + 0.006*\"home\"'),\n",
      " (19,\n",
      "  '0.032*\"mortgage\" + 0.017*\"loan\" + 0.012*\"payment\" + 0.009*\"account\" + '\n",
      "  '0.009*\"company\" + 0.008*\"payments\" + 0.008*\"would\" + 0.006*\"back\" + '\n",
      "  '0.006*\"received\" + 0.006*\"told\"')]\n"
     ]
    }
   ],
   "source": [
    "search_params = {'num_topics': [10, 15]}\n",
    "# Build LDA model\n",
    "lda_model = gensim.models.LdaMulticore(corpus=corpus,\n",
    "                                       id2word=id2word)\n",
    "model = GridSear  chCV(lda, param_grid=search_params)\n",
    "# Do the Grid Search\n",
    "model.fit(data_vectorized)"
   ]
  },
  {
   "cell_type": "code",
   "execution_count": null,
   "metadata": {},
   "outputs": [],
   "source": []
  }
 ],
 "metadata": {
  "interpreter": {
   "hash": "fd14c9080f6d37356390cd38ba2fb1615573ea7e14994b81537e5c9d246182f9"
  },
  "kernelspec": {
   "display_name": "Python 3",
   "language": "python",
   "name": "python3"
  },
  "language_info": {
   "codemirror_mode": {
    "name": "ipython",
    "version": 3
   },
   "file_extension": ".py",
   "mimetype": "text/x-python",
   "name": "python",
   "nbconvert_exporter": "python",
   "pygments_lexer": "ipython3",
   "version": "3.8.10"
  }
 },
 "nbformat": 4,
 "nbformat_minor": 2
}
