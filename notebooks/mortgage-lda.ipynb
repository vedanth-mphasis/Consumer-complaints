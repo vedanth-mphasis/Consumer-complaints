{
 "cells": [
  {
   "cell_type": "code",
   "execution_count": 58,
   "id": "e4f828c9",
   "metadata": {
    "collapsed": true
   },
   "outputs": [
    {
     "name": "stderr",
     "output_type": "stream",
     "text": [
      "C:\\Users\\ASUS\\anaconda3\\envs\\marketplace\\lib\\site-packages\\ipykernel\\ipkernel.py:287: DeprecationWarning: `should_run_async` will not call `transform_cell` automatically in the future. Please pass the result to `transformed_cell` argument and any exception that happen during thetransform in `preprocessing_exc_tuple` in IPython 7.17 and above.\n",
      "  and should_run_async(code)\n"
     ]
    }
   ],
   "source": [
    "import numpy as np\n",
    "import pandas as pd\n",
    "import pickle\n",
    "import re, nltk, spacy, gensim\n",
    "import pyLDAvis\n",
    "import pyLDAvis.sklearn\n",
    "import matplotlib.pyplot as plt\n",
    "from sklearn.decomposition import LatentDirichletAllocation\n",
    "from sklearn.feature_extraction.text import CountVectorizer\n",
    "from sklearn.model_selection import GridSearchCV\n",
    "from gensim.utils import simple_preprocess\n",
    "from pprint import pprint\n",
    "from sklearn.metrics.pairwise import euclidean_distances\n",
    "from nltk.corpus import stopwords"
   ]
  },
  {
   "cell_type": "code",
   "execution_count": 2,
   "id": "de8f294a",
   "metadata": {},
   "outputs": [
    {
     "name": "stderr",
     "output_type": "stream",
     "text": [
      "C:\\Users\\ASUS\\anaconda3\\envs\\marketplace\\lib\\site-packages\\ipykernel\\ipkernel.py:287: DeprecationWarning: `should_run_async` will not call `transform_cell` automatically in the future. Please pass the result to `transformed_cell` argument and any exception that happen during thetransform in `preprocessing_exc_tuple` in IPython 7.17 and above.\n",
      "  and should_run_async(code)\n"
     ]
    },
    {
     "data": {
      "text/html": [
       "<div>\n",
       "<style scoped>\n",
       "    .dataframe tbody tr th:only-of-type {\n",
       "        vertical-align: middle;\n",
       "    }\n",
       "\n",
       "    .dataframe tbody tr th {\n",
       "        vertical-align: top;\n",
       "    }\n",
       "\n",
       "    .dataframe thead th {\n",
       "        text-align: right;\n",
       "    }\n",
       "</style>\n",
       "<table border=\"1\" class=\"dataframe\">\n",
       "  <thead>\n",
       "    <tr style=\"text-align: right;\">\n",
       "      <th></th>\n",
       "      <th>Date received</th>\n",
       "      <th>Product</th>\n",
       "      <th>Sub-product</th>\n",
       "      <th>Issue</th>\n",
       "      <th>Sub-issue</th>\n",
       "      <th>Consumer complaint narrative</th>\n",
       "      <th>Company public response</th>\n",
       "      <th>Company</th>\n",
       "      <th>State</th>\n",
       "      <th>ZIP code</th>\n",
       "      <th>Tags</th>\n",
       "      <th>Consumer consent provided?</th>\n",
       "      <th>Submitted via</th>\n",
       "      <th>Date sent to company</th>\n",
       "      <th>Company response to consumer</th>\n",
       "      <th>Timely response?</th>\n",
       "      <th>Consumer disputed?</th>\n",
       "      <th>Complaint ID</th>\n",
       "    </tr>\n",
       "  </thead>\n",
       "  <tbody>\n",
       "    <tr>\n",
       "      <th>0</th>\n",
       "      <td>03/28/19</td>\n",
       "      <td>Mortgage</td>\n",
       "      <td>Conventional home mortgage</td>\n",
       "      <td>Struggling to pay mortgage</td>\n",
       "      <td>None</td>\n",
       "      <td>In dispute of the loan # XXXX, for XXXX XXXX t...</td>\n",
       "      <td>Company believes it acted appropriately as aut...</td>\n",
       "      <td>SELECT PORTFOLIO SERVICING, INC.</td>\n",
       "      <td>GA</td>\n",
       "      <td>300XX</td>\n",
       "      <td>None</td>\n",
       "      <td>Consent provided</td>\n",
       "      <td>Web</td>\n",
       "      <td>03/28/19</td>\n",
       "      <td>Closed with explanation</td>\n",
       "      <td>Yes</td>\n",
       "      <td>NaN</td>\n",
       "      <td>3193709</td>\n",
       "    </tr>\n",
       "    <tr>\n",
       "      <th>1</th>\n",
       "      <td>02/21/19</td>\n",
       "      <td>Mortgage</td>\n",
       "      <td>FHA mortgage</td>\n",
       "      <td>Struggling to pay mortgage</td>\n",
       "      <td>None</td>\n",
       "      <td>My complaint is with Carrington Mortgage Servi...</td>\n",
       "      <td>None</td>\n",
       "      <td>CARRINGTON MORTGAGE SERVICES, LLC</td>\n",
       "      <td>GA</td>\n",
       "      <td>312XX</td>\n",
       "      <td>None</td>\n",
       "      <td>Consent provided</td>\n",
       "      <td>Web</td>\n",
       "      <td>02/21/19</td>\n",
       "      <td>Closed with explanation</td>\n",
       "      <td>Yes</td>\n",
       "      <td>NaN</td>\n",
       "      <td>3158652</td>\n",
       "    </tr>\n",
       "    <tr>\n",
       "      <th>2</th>\n",
       "      <td>06/11/19</td>\n",
       "      <td>Mortgage</td>\n",
       "      <td>Home equity loan or line of credit (HELOC)</td>\n",
       "      <td>Trouble during payment process</td>\n",
       "      <td>None</td>\n",
       "      <td>As of XX/XX/2019 PHH Mortgage Services purchas...</td>\n",
       "      <td>None</td>\n",
       "      <td>PHH Mortgage Services Corporation</td>\n",
       "      <td>FL</td>\n",
       "      <td>347XX</td>\n",
       "      <td>None</td>\n",
       "      <td>Consent provided</td>\n",
       "      <td>Web</td>\n",
       "      <td>06/11/19</td>\n",
       "      <td>Closed with explanation</td>\n",
       "      <td>Yes</td>\n",
       "      <td>NaN</td>\n",
       "      <td>3270600</td>\n",
       "    </tr>\n",
       "    <tr>\n",
       "      <th>3</th>\n",
       "      <td>11/29/19</td>\n",
       "      <td>Mortgage</td>\n",
       "      <td>Conventional home mortgage</td>\n",
       "      <td>Trouble during payment process</td>\n",
       "      <td>None</td>\n",
       "      <td>We started our mortgage with Loan Depot in XX/...</td>\n",
       "      <td>Company believes complaint is the result of an...</td>\n",
       "      <td>LD Holdings Group, LLC</td>\n",
       "      <td>NJ</td>\n",
       "      <td>None</td>\n",
       "      <td>None</td>\n",
       "      <td>Consent provided</td>\n",
       "      <td>Web</td>\n",
       "      <td>11/29/19</td>\n",
       "      <td>Closed with monetary relief</td>\n",
       "      <td>Yes</td>\n",
       "      <td>NaN</td>\n",
       "      <td>3453669</td>\n",
       "    </tr>\n",
       "    <tr>\n",
       "      <th>4</th>\n",
       "      <td>10/23/19</td>\n",
       "      <td>Mortgage</td>\n",
       "      <td>Conventional home mortgage</td>\n",
       "      <td>Struggling to pay mortgage</td>\n",
       "      <td>None</td>\n",
       "      <td>XXXX XXXX XXXX XXXX XXXX XXXX XXXX XXXX, XXXX ...</td>\n",
       "      <td>None</td>\n",
       "      <td>Community Loan Servicing, LLC (formerly known ...</td>\n",
       "      <td>CA</td>\n",
       "      <td>92021</td>\n",
       "      <td>None</td>\n",
       "      <td>Consent provided</td>\n",
       "      <td>Web</td>\n",
       "      <td>11/05/19</td>\n",
       "      <td>Closed with explanation</td>\n",
       "      <td>Yes</td>\n",
       "      <td>NaN</td>\n",
       "      <td>3415392</td>\n",
       "    </tr>\n",
       "  </tbody>\n",
       "</table>\n",
       "</div>"
      ],
      "text/plain": [
       "  Date received   Product                                 Sub-product  \\\n",
       "0      03/28/19  Mortgage                  Conventional home mortgage   \n",
       "1      02/21/19  Mortgage                                FHA mortgage   \n",
       "2      06/11/19  Mortgage  Home equity loan or line of credit (HELOC)   \n",
       "3      11/29/19  Mortgage                  Conventional home mortgage   \n",
       "4      10/23/19  Mortgage                  Conventional home mortgage   \n",
       "\n",
       "                            Issue Sub-issue  \\\n",
       "0      Struggling to pay mortgage      None   \n",
       "1      Struggling to pay mortgage      None   \n",
       "2  Trouble during payment process      None   \n",
       "3  Trouble during payment process      None   \n",
       "4      Struggling to pay mortgage      None   \n",
       "\n",
       "                        Consumer complaint narrative  \\\n",
       "0  In dispute of the loan # XXXX, for XXXX XXXX t...   \n",
       "1  My complaint is with Carrington Mortgage Servi...   \n",
       "2  As of XX/XX/2019 PHH Mortgage Services purchas...   \n",
       "3  We started our mortgage with Loan Depot in XX/...   \n",
       "4  XXXX XXXX XXXX XXXX XXXX XXXX XXXX XXXX, XXXX ...   \n",
       "\n",
       "                             Company public response  \\\n",
       "0  Company believes it acted appropriately as aut...   \n",
       "1                                               None   \n",
       "2                                               None   \n",
       "3  Company believes complaint is the result of an...   \n",
       "4                                               None   \n",
       "\n",
       "                                             Company State ZIP code  Tags  \\\n",
       "0                   SELECT PORTFOLIO SERVICING, INC.    GA    300XX  None   \n",
       "1                  CARRINGTON MORTGAGE SERVICES, LLC    GA    312XX  None   \n",
       "2                  PHH Mortgage Services Corporation    FL    347XX  None   \n",
       "3                             LD Holdings Group, LLC    NJ     None  None   \n",
       "4  Community Loan Servicing, LLC (formerly known ...    CA    92021  None   \n",
       "\n",
       "  Consumer consent provided? Submitted via Date sent to company  \\\n",
       "0           Consent provided           Web             03/28/19   \n",
       "1           Consent provided           Web             02/21/19   \n",
       "2           Consent provided           Web             06/11/19   \n",
       "3           Consent provided           Web             11/29/19   \n",
       "4           Consent provided           Web             11/05/19   \n",
       "\n",
       "  Company response to consumer Timely response?  Consumer disputed?  \\\n",
       "0      Closed with explanation              Yes                 NaN   \n",
       "1      Closed with explanation              Yes                 NaN   \n",
       "2      Closed with explanation              Yes                 NaN   \n",
       "3  Closed with monetary relief              Yes                 NaN   \n",
       "4      Closed with explanation              Yes                 NaN   \n",
       "\n",
       "   Complaint ID  \n",
       "0       3193709  \n",
       "1       3158652  \n",
       "2       3270600  \n",
       "3       3453669  \n",
       "4       3415392  "
      ]
     },
     "execution_count": 2,
     "metadata": {},
     "output_type": "execute_result"
    }
   ],
   "source": [
    "dataset = pd.read_csv('../data/mortgage.csv')\n",
    "dataset.head()"
   ]
  },
  {
   "cell_type": "code",
   "execution_count": 3,
   "id": "bdc9100e",
   "metadata": {},
   "outputs": [
    {
     "name": "stdout",
     "output_type": "stream",
     "text": [
      "<class 'pandas.core.frame.DataFrame'>\n",
      "RangeIndex: 32805 entries, 0 to 32804\n",
      "Data columns (total 18 columns):\n",
      " #   Column                        Non-Null Count  Dtype  \n",
      "---  ------                        --------------  -----  \n",
      " 0   Date received                 32805 non-null  object \n",
      " 1   Product                       32805 non-null  object \n",
      " 2   Sub-product                   32805 non-null  object \n",
      " 3   Issue                         32805 non-null  object \n",
      " 4   Sub-issue                     32805 non-null  object \n",
      " 5   Consumer complaint narrative  32805 non-null  object \n",
      " 6   Company public response       32805 non-null  object \n",
      " 7   Company                       32805 non-null  object \n",
      " 8   State                         32805 non-null  object \n",
      " 9   ZIP code                      32805 non-null  object \n",
      " 10  Tags                          32805 non-null  object \n",
      " 11  Consumer consent provided?    32805 non-null  object \n",
      " 12  Submitted via                 32805 non-null  object \n",
      " 13  Date sent to company          32805 non-null  object \n",
      " 14  Company response to consumer  32805 non-null  object \n",
      " 15  Timely response?              32805 non-null  object \n",
      " 16  Consumer disputed?            0 non-null      float64\n",
      " 17  Complaint ID                  32805 non-null  int64  \n",
      "dtypes: float64(1), int64(1), object(16)\n",
      "memory usage: 4.5+ MB\n"
     ]
    },
    {
     "name": "stderr",
     "output_type": "stream",
     "text": [
      "C:\\Users\\ASUS\\anaconda3\\envs\\marketplace\\lib\\site-packages\\ipykernel\\ipkernel.py:287: DeprecationWarning: `should_run_async` will not call `transform_cell` automatically in the future. Please pass the result to `transformed_cell` argument and any exception that happen during thetransform in `preprocessing_exc_tuple` in IPython 7.17 and above.\n",
      "  and should_run_async(code)\n"
     ]
    }
   ],
   "source": [
    "dataset.info()"
   ]
  },
  {
   "cell_type": "code",
   "execution_count": 4,
   "id": "9960a50e",
   "metadata": {},
   "outputs": [
    {
     "name": "stderr",
     "output_type": "stream",
     "text": [
      "C:\\Users\\ASUS\\anaconda3\\envs\\marketplace\\lib\\site-packages\\ipykernel\\ipkernel.py:287: DeprecationWarning: `should_run_async` will not call `transform_cell` automatically in the future. Please pass the result to `transformed_cell` argument and any exception that happen during thetransform in `preprocessing_exc_tuple` in IPython 7.17 and above.\n",
      "  and should_run_async(code)\n"
     ]
    },
    {
     "data": {
      "text/plain": [
       "Trouble during payment process                                                      15884\n",
       "Struggling to pay mortgage                                                           7092\n",
       "Applying for a mortgage or refinancing an existing mortgage                          5085\n",
       "Closing on a mortgage                                                                3615\n",
       "Incorrect information on your report                                                  677\n",
       "Problem with a credit reporting company's investigation into an existing problem      335\n",
       "Improper use of your report                                                            75\n",
       "Unable to get your credit report or credit score                                       19\n",
       "Credit monitoring or identity theft protection services                                16\n",
       "Problem with fraud alerts or security freezes                                           7\n",
       "Name: Issue, dtype: int64"
      ]
     },
     "execution_count": 4,
     "metadata": {},
     "output_type": "execute_result"
    }
   ],
   "source": [
    "dataset['Issue'].value_counts()"
   ]
  },
  {
   "cell_type": "code",
   "execution_count": 22,
   "id": "849c9f53",
   "metadata": {
    "collapsed": true
   },
   "outputs": [
    {
     "name": "stderr",
     "output_type": "stream",
     "text": [
      "C:\\Users\\ASUS\\anaconda3\\envs\\marketplace\\lib\\site-packages\\ipykernel\\ipkernel.py:287: DeprecationWarning: `should_run_async` will not call `transform_cell` automatically in the future. Please pass the result to `transformed_cell` argument and any exception that happen during thetransform in `preprocessing_exc_tuple` in IPython 7.17 and above.\n",
      "  and should_run_async(code)\n"
     ]
    }
   ],
   "source": [
    "dataset = dataset.drop(['Date received', 'Sub-issue', 'Company public response', 'State', 'ZIP code', 'Tags', 'Consumer consent provided?', 'Submitted via', 'Company response to consumer', 'Timely response?', 'Consumer disputed?', 'Complaint ID'], axis=1)"
   ]
  },
  {
   "cell_type": "markdown",
   "id": "0f49f16e",
   "metadata": {},
   "source": [
    "## Data Pre-processing"
   ]
  },
  {
   "cell_type": "code",
   "execution_count": 5,
   "id": "13f4d378",
   "metadata": {
    "collapsed": true
   },
   "outputs": [
    {
     "name": "stderr",
     "output_type": "stream",
     "text": [
      "C:\\Users\\ASUS\\anaconda3\\envs\\marketplace\\lib\\site-packages\\ipykernel\\ipkernel.py:287: DeprecationWarning: `should_run_async` will not call `transform_cell` automatically in the future. Please pass the result to `transformed_cell` argument and any exception that happen during thetransform in `preprocessing_exc_tuple` in IPython 7.17 and above.\n",
      "  and should_run_async(code)\n"
     ]
    }
   ],
   "source": [
    "data = dataset['Consumer complaint narrative'].tolist()"
   ]
  },
  {
   "cell_type": "code",
   "execution_count": 6,
   "id": "2ae37a4d",
   "metadata": {
    "collapsed": true
   },
   "outputs": [
    {
     "name": "stderr",
     "output_type": "stream",
     "text": [
      "C:\\Users\\ASUS\\anaconda3\\envs\\marketplace\\lib\\site-packages\\ipykernel\\ipkernel.py:287: DeprecationWarning: `should_run_async` will not call `transform_cell` automatically in the future. Please pass the result to `transformed_cell` argument and any exception that happen during thetransform in `preprocessing_exc_tuple` in IPython 7.17 and above.\n",
      "  and should_run_async(code)\n"
     ]
    }
   ],
   "source": [
    "# Remove emails\n",
    "data = [re.sub(r'\\S*@\\S*\\s?', '', sent) for sent in data]\n",
    "# lowecase\n",
    "data = [sent.lower() for sent in data] #lowecase\n",
    "# Remove newline \n",
    "data = [re.sub(r'\\s+', ' ', sent) for sent in data]\n",
    "# Remove distracting single quotes\n",
    "data = [re.sub(\"\\'\", \"\", sent) for sent in data]"
   ]
  },
  {
   "cell_type": "markdown",
   "id": "3dd7d30c",
   "metadata": {},
   "source": [
    "#### Tokenization"
   ]
  },
  {
   "cell_type": "code",
   "execution_count": 8,
   "id": "4f7bca87",
   "metadata": {
    "collapsed": true
   },
   "outputs": [
    {
     "name": "stderr",
     "output_type": "stream",
     "text": [
      "C:\\Users\\ASUS\\anaconda3\\envs\\marketplace\\lib\\site-packages\\ipykernel\\ipkernel.py:287: DeprecationWarning: `should_run_async` will not call `transform_cell` automatically in the future. Please pass the result to `transformed_cell` argument and any exception that happen during thetransform in `preprocessing_exc_tuple` in IPython 7.17 and above.\n",
      "  and should_run_async(code)\n",
      "[nltk_data] Downloading package punkt to\n",
      "[nltk_data]     C:\\Users\\ASUS\\AppData\\Roaming\\nltk_data...\n",
      "[nltk_data]   Package punkt is already up-to-date!\n"
     ]
    }
   ],
   "source": [
    "nltk.download(\"punkt\")\n",
    "\n",
    "tokenized_data = []\n",
    "token_data = [nltk.word_tokenize(words) for words in data]\n",
    "for words in token_data:\n",
    "    new_words = [word for word in words if word.isalnum()]\n",
    "    tokenized_data.append(new_words)"
   ]
  },
  {
   "cell_type": "code",
   "execution_count": 32,
   "id": "bd59d7f9",
   "metadata": {
    "collapsed": true
   },
   "outputs": [
    {
     "name": "stderr",
     "output_type": "stream",
     "text": [
      "C:\\Users\\ASUS\\anaconda3\\envs\\marketplace\\lib\\site-packages\\ipykernel\\ipkernel.py:287: DeprecationWarning: `should_run_async` will not call `transform_cell` automatically in the future. Please pass the result to `transformed_cell` argument and any exception that happen during thetransform in `preprocessing_exc_tuple` in IPython 7.17 and above.\n",
      "  and should_run_async(code)\n"
     ]
    }
   ],
   "source": [
    "def sent_to_words(sentences):\n",
    "    for sentence in sentences:\n",
    "        yield(gensim.utils.simple_preprocess(str(sentence), deacc=True))  # deacc=True removes punctuations\n",
    "#tokenized_data = list(sent_to_words(data))"
   ]
  },
  {
   "cell_type": "markdown",
   "id": "8e917bde",
   "metadata": {},
   "source": [
    "##### Stop words"
   ]
  },
  {
   "cell_type": "code",
   "execution_count": 9,
   "id": "e22e5658",
   "metadata": {
    "collapsed": true
   },
   "outputs": [
    {
     "name": "stdout",
     "output_type": "stream",
     "text": [
      "193\n",
      "406\n"
     ]
    },
    {
     "name": "stderr",
     "output_type": "stream",
     "text": [
      "C:\\Users\\ASUS\\anaconda3\\envs\\marketplace\\lib\\site-packages\\ipykernel\\ipkernel.py:287: DeprecationWarning: `should_run_async` will not call `transform_cell` automatically in the future. Please pass the result to `transformed_cell` argument and any exception that happen during thetransform in `preprocessing_exc_tuple` in IPython 7.17 and above.\n",
      "  and should_run_async(code)\n",
      "[nltk_data] Downloading package stopwords to\n",
      "[nltk_data]     C:\\Users\\ASUS\\AppData\\Roaming\\nltk_data...\n",
      "[nltk_data]   Package stopwords is already up-to-date!\n"
     ]
    }
   ],
   "source": [
    "#STOP WORDS\n",
    "nltk.download('stopwords')\n",
    "stop_words = stopwords.words('english')\n",
    "stop_words.extend(['from', 'subject', 're', 'edu', 'use', 'xxxx', 'xx', 'well', 'fargo', 'citibank', 'xxxxxx', 'xxxxxxxx', 'cooper', 'wells'])\n",
    "print(len(stop_words))\n",
    "for key, value in dataset['Company'].value_counts().items():\n",
    "    if value > 1000:\n",
    "        word = key.lower().split(' ')\n",
    "        for x in word:\n",
    "            if len(x) > 1:\n",
    "                stop_words.extend(x)\n",
    "print(len(stop_words))"
   ]
  },
  {
   "cell_type": "code",
   "execution_count": 10,
   "id": "cddfda15",
   "metadata": {
    "collapsed": true
   },
   "outputs": [
    {
     "name": "stderr",
     "output_type": "stream",
     "text": [
      "C:\\Users\\ASUS\\anaconda3\\envs\\marketplace\\lib\\site-packages\\ipykernel\\ipkernel.py:287: DeprecationWarning: `should_run_async` will not call `transform_cell` automatically in the future. Please pass the result to `transformed_cell` argument and any exception that happen during thetransform in `preprocessing_exc_tuple` in IPython 7.17 and above.\n",
      "  and should_run_async(code)\n"
     ]
    }
   ],
   "source": [
    "def remove_stopwords(texts):\n",
    "    return [[word for word in simple_preprocess(str(doc)) \n",
    "             if word not in stop_words] for doc in texts]\n",
    "tokenized_data = remove_stopwords(tokenized_data)"
   ]
  },
  {
   "cell_type": "markdown",
   "id": "c9a35165",
   "metadata": {},
   "source": [
    "##### Pos tags"
   ]
  },
  {
   "cell_type": "code",
   "execution_count": 11,
   "id": "568d139b",
   "metadata": {
    "collapsed": true
   },
   "outputs": [
    {
     "name": "stderr",
     "output_type": "stream",
     "text": [
      "C:\\Users\\ASUS\\anaconda3\\envs\\marketplace\\lib\\site-packages\\ipykernel\\ipkernel.py:287: DeprecationWarning: `should_run_async` will not call `transform_cell` automatically in the future. Please pass the result to `transformed_cell` argument and any exception that happen during thetransform in `preprocessing_exc_tuple` in IPython 7.17 and above.\n",
      "  and should_run_async(code)\n",
      "[nltk_data] Downloading package averaged_perceptron_tagger to\n",
      "[nltk_data]     C:\\Users\\ASUS\\AppData\\Roaming\\nltk_data...\n",
      "[nltk_data]   Package averaged_perceptron_tagger is already up-to-\n",
      "[nltk_data]       date!\n"
     ]
    }
   ],
   "source": [
    "nltk.download('averaged_perceptron_tagger')\n",
    "tagged_data = []\n",
    "for token in tokenized_data:\n",
    "    tagged_data.append(nltk.pos_tag(token))\n",
    "#tagged = nltk.pos_tag(tokenized_data)\n",
    "#singular_token = [word for word, tag in tagged if tag in ('NN', 'NNS', 'NNP', 'NNPS', 'PRP')]"
   ]
  },
  {
   "cell_type": "code",
   "execution_count": 12,
   "id": "ae9c59ef",
   "metadata": {
    "collapsed": true
   },
   "outputs": [
    {
     "name": "stderr",
     "output_type": "stream",
     "text": [
      "C:\\Users\\ASUS\\anaconda3\\envs\\marketplace\\lib\\site-packages\\ipykernel\\ipkernel.py:287: DeprecationWarning: `should_run_async` will not call `transform_cell` automatically in the future. Please pass the result to `transformed_cell` argument and any exception that happen during thetransform in `preprocessing_exc_tuple` in IPython 7.17 and above.\n",
      "  and should_run_async(code)\n"
     ]
    }
   ],
   "source": [
    "post_tag_words = []\n",
    "for tagged in tagged_data:\n",
    "    #Retaining only Nouns\n",
    "    data_words = [word for word, tag in tagged if tag in ('NN', 'NNS', 'NNP', 'NNPS', 'PRP')]\n",
    "    post_tag_words.append(data_words)"
   ]
  },
  {
   "cell_type": "code",
   "execution_count": 13,
   "id": "ddc2f7b0",
   "metadata": {
    "collapsed": true
   },
   "outputs": [
    {
     "name": "stderr",
     "output_type": "stream",
     "text": [
      "C:\\Users\\ASUS\\anaconda3\\envs\\marketplace\\lib\\site-packages\\ipykernel\\ipkernel.py:287: DeprecationWarning: `should_run_async` will not call `transform_cell` automatically in the future. Please pass the result to `transformed_cell` argument and any exception that happen during thetransform in `preprocessing_exc_tuple` in IPython 7.17 and above.\n",
      "  and should_run_async(code)\n"
     ]
    }
   ],
   "source": [
    "def remove_values_from_list(the_list, val):\n",
    "    return [value for value in the_list if value != val]\n",
    "post_tag_new = []\n",
    "for word in post_tag_words:\n",
    "    word = remove_values_from_list(word, 'xxxx')\n",
    "    post_tag_new.append(word)"
   ]
  },
  {
   "cell_type": "markdown",
   "id": "c7137f49",
   "metadata": {},
   "source": [
    "#### Lemmatization"
   ]
  },
  {
   "cell_type": "code",
   "execution_count": 17,
   "id": "770a5f1f",
   "metadata": {
    "collapsed": true
   },
   "outputs": [
    {
     "name": "stderr",
     "output_type": "stream",
     "text": [
      "C:\\Users\\ASUS\\anaconda3\\envs\\marketplace\\lib\\site-packages\\ipykernel\\ipkernel.py:287: DeprecationWarning: `should_run_async` will not call `transform_cell` automatically in the future. Please pass the result to `transformed_cell` argument and any exception that happen during thetransform in `preprocessing_exc_tuple` in IPython 7.17 and above.\n",
      "  and should_run_async(code)\n"
     ]
    },
    {
     "ename": "NameError",
     "evalue": "name 'post_tag_new' is not defined",
     "output_type": "error",
     "traceback": [
      "\u001b[1;31m---------------------------------------------------------------------------\u001b[0m",
      "\u001b[1;31mNameError\u001b[0m                                 Traceback (most recent call last)",
      "\u001b[1;32m<ipython-input-17-bd3fd794cbc9>\u001b[0m in \u001b[0;36m<module>\u001b[1;34m\u001b[0m\n\u001b[0;32m      6\u001b[0m     \u001b[1;32mreturn\u001b[0m \u001b[0mtexts_out\u001b[0m\u001b[1;33m\u001b[0m\u001b[1;33m\u001b[0m\u001b[0m\n\u001b[0;32m      7\u001b[0m \u001b[0mnlp\u001b[0m \u001b[1;33m=\u001b[0m \u001b[0mspacy\u001b[0m\u001b[1;33m.\u001b[0m\u001b[0mload\u001b[0m\u001b[1;33m(\u001b[0m\u001b[1;34m'en_core_web_sm'\u001b[0m\u001b[1;33m,\u001b[0m \u001b[0mdisable\u001b[0m\u001b[1;33m=\u001b[0m\u001b[1;33m[\u001b[0m\u001b[1;34m'parser'\u001b[0m\u001b[1;33m,\u001b[0m \u001b[1;34m'ner'\u001b[0m\u001b[1;33m]\u001b[0m\u001b[1;33m)\u001b[0m\u001b[1;33m\u001b[0m\u001b[1;33m\u001b[0m\u001b[0m\n\u001b[1;32m----> 8\u001b[1;33m \u001b[0mdata_lemmatized\u001b[0m \u001b[1;33m=\u001b[0m \u001b[0mlemmatization\u001b[0m\u001b[1;33m(\u001b[0m\u001b[0mpost_tag_new\u001b[0m\u001b[1;33m,\u001b[0m \u001b[0mallowed_postags\u001b[0m\u001b[1;33m=\u001b[0m\u001b[1;33m[\u001b[0m\u001b[1;34m'NOUN'\u001b[0m\u001b[1;33m,\u001b[0m\u001b[1;34m'VERB'\u001b[0m\u001b[1;33m]\u001b[0m\u001b[1;33m)\u001b[0m \u001b[1;31m#select noun and verb\u001b[0m\u001b[1;33m\u001b[0m\u001b[1;33m\u001b[0m\u001b[0m\n\u001b[0m",
      "\u001b[1;31mNameError\u001b[0m: name 'post_tag_new' is not defined"
     ]
    }
   ],
   "source": [
    "def lemmatization(texts, allowed_postags=['NOUN', 'ADJ', 'VERB', 'ADV']): #'NOUN', 'ADJ', 'VERB', 'ADV'\n",
    "    texts_out = []\n",
    "    for sent in texts:\n",
    "        doc = nlp(\" \".join(sent)) \n",
    "        texts_out.append(\" \".join([token.lemma_ if token.lemma_ not in ['-PRON-'] else '' for token in doc if token.pos_ in allowed_postags]))\n",
    "    return texts_out\n",
    "nlp = spacy.load('en_core_web_sm', disable=['parser', 'ner'])\n",
    "data_lemmatized = lemmatization(post_tag_new, allowed_postags=['NOUN']) #select noun"
   ]
  },
  {
   "cell_type": "markdown",
   "id": "35d4af2a",
   "metadata": {},
   "source": [
    "#### Vectorization"
   ]
  },
  {
   "cell_type": "code",
   "execution_count": 15,
   "id": "46018767",
   "metadata": {
    "collapsed": true
   },
   "outputs": [
    {
     "name": "stderr",
     "output_type": "stream",
     "text": [
      "C:\\Users\\ASUS\\anaconda3\\envs\\marketplace\\lib\\site-packages\\ipykernel\\ipkernel.py:287: DeprecationWarning: `should_run_async` will not call `transform_cell` automatically in the future. Please pass the result to `transformed_cell` argument and any exception that happen during thetransform in `preprocessing_exc_tuple` in IPython 7.17 and above.\n",
      "  and should_run_async(code)\n"
     ]
    }
   ],
   "source": [
    "vectorizer = CountVectorizer(analyzer='word',       \n",
    "                             min_df=10, \n",
    "                             token_pattern='[a-zA-Z0-9]{3,}',  \n",
    "                             max_features=50000\n",
    "                            )\n",
    "data_vectorized = vectorizer.fit_transform(data_lemmatized)"
   ]
  },
  {
   "cell_type": "markdown",
   "id": "f03eca2a",
   "metadata": {},
   "source": [
    "## MODEL"
   ]
  },
  {
   "cell_type": "code",
   "execution_count": 16,
   "id": "f7e4bf86",
   "metadata": {},
   "outputs": [
    {
     "name": "stderr",
     "output_type": "stream",
     "text": [
      "C:\\Users\\ASUS\\anaconda3\\envs\\marketplace\\lib\\site-packages\\ipykernel\\ipkernel.py:287: DeprecationWarning: `should_run_async` will not call `transform_cell` automatically in the future. Please pass the result to `transformed_cell` argument and any exception that happen during thetransform in `preprocessing_exc_tuple` in IPython 7.17 and above.\n",
      "  and should_run_async(code)\n"
     ]
    },
    {
     "data": {
      "text/plain": [
       "GridSearchCV(estimator=LatentDirichletAllocation(learning_method='online',\n",
       "                                                 learning_offset=50.0,\n",
       "                                                 max_iter=5, random_state=0),\n",
       "             param_grid={'learning_decay': [0.7], 'n_components': [10]})"
      ]
     },
     "execution_count": 16,
     "metadata": {},
     "output_type": "execute_result"
    }
   ],
   "source": [
    "search_params = {'n_components': [10], 'learning_decay': [0.7]}\n",
    "# Init the Model\n",
    "lda = LatentDirichletAllocation(max_iter=5, learning_method='online', learning_offset=50.,random_state=0)\n",
    "# Init Grid Search Class\n",
    "model = GridSearchCV(lda, param_grid=search_params)\n",
    "# Do the Grid Search\n",
    "model.fit(data_vectorized)"
   ]
  },
  {
   "cell_type": "code",
   "execution_count": 17,
   "id": "fd601e01",
   "metadata": {},
   "outputs": [
    {
     "name": "stderr",
     "output_type": "stream",
     "text": [
      "C:\\Users\\ASUS\\anaconda3\\envs\\marketplace\\lib\\site-packages\\ipykernel\\ipkernel.py:287: DeprecationWarning: `should_run_async` will not call `transform_cell` automatically in the future. Please pass the result to `transformed_cell` argument and any exception that happen during thetransform in `preprocessing_exc_tuple` in IPython 7.17 and above.\n",
      "  and should_run_async(code)\n"
     ]
    },
    {
     "name": "stdout",
     "output_type": "stream",
     "text": [
      "Best Model's Params:  {'learning_decay': 0.7, 'n_components': 10}\n",
      "Best Log Likelihood Score:  -2344243.0761714242\n",
      "Model Perplexity:  330.7983257088824\n"
     ]
    }
   ],
   "source": [
    "# Best LDA model\n",
    "best_lda_model = model.best_estimator_\n",
    "# Model Parameters\n",
    "print(\"Best Model's Params: \", model.best_params_)\n",
    "# Log Likelihood Score\n",
    "print(\"Best Log Likelihood Score: \", model.best_score_)\n",
    "# Perplexity\n",
    "print(\"Model Perplexity: \", best_lda_model.perplexity(data_vectorized))"
   ]
  },
  {
   "cell_type": "markdown",
   "id": "e2b4e0d3",
   "metadata": {},
   "source": [
    "## Saving files"
   ]
  },
  {
   "cell_type": "code",
   "execution_count": null,
   "id": "3b496841",
   "metadata": {},
   "outputs": [],
   "source": [
    "with open('../runs/run3-best/data', 'wb') as f:\n",
    "    pickle.dump(data, f)"
   ]
  },
  {
   "cell_type": "code",
   "execution_count": 18,
   "id": "3914bb29",
   "metadata": {
    "collapsed": true
   },
   "outputs": [
    {
     "name": "stderr",
     "output_type": "stream",
     "text": [
      "C:\\Users\\ASUS\\anaconda3\\envs\\marketplace\\lib\\site-packages\\ipykernel\\ipkernel.py:287: DeprecationWarning: `should_run_async` will not call `transform_cell` automatically in the future. Please pass the result to `transformed_cell` argument and any exception that happen during thetransform in `preprocessing_exc_tuple` in IPython 7.17 and above.\n",
      "  and should_run_async(code)\n"
     ]
    }
   ],
   "source": [
    "with open('../runs/run3-best/tokenized_data', 'wb') as f:\n",
    "    pickle.dump(tokenized_data, f)"
   ]
  },
  {
   "cell_type": "code",
   "execution_count": 19,
   "id": "01af5e0a",
   "metadata": {
    "collapsed": true
   },
   "outputs": [
    {
     "name": "stderr",
     "output_type": "stream",
     "text": [
      "C:\\Users\\ASUS\\anaconda3\\envs\\marketplace\\lib\\site-packages\\ipykernel\\ipkernel.py:287: DeprecationWarning: `should_run_async` will not call `transform_cell` automatically in the future. Please pass the result to `transformed_cell` argument and any exception that happen during thetransform in `preprocessing_exc_tuple` in IPython 7.17 and above.\n",
      "  and should_run_async(code)\n"
     ]
    }
   ],
   "source": [
    "with open('../runs/run3-best/pos_tags', 'wb') as f:\n",
    "    pickle.dump(post_tag_new, f)"
   ]
  },
  {
   "cell_type": "code",
   "execution_count": 20,
   "id": "10269ae9",
   "metadata": {
    "collapsed": true
   },
   "outputs": [
    {
     "name": "stderr",
     "output_type": "stream",
     "text": [
      "C:\\Users\\ASUS\\anaconda3\\envs\\marketplace\\lib\\site-packages\\ipykernel\\ipkernel.py:287: DeprecationWarning: `should_run_async` will not call `transform_cell` automatically in the future. Please pass the result to `transformed_cell` argument and any exception that happen during thetransform in `preprocessing_exc_tuple` in IPython 7.17 and above.\n",
      "  and should_run_async(code)\n"
     ]
    }
   ],
   "source": [
    "with open('../runs/run3-best/data_lemmatized', 'wb') as f:\n",
    "    pickle.dump(data_lemmatized, f)"
   ]
  },
  {
   "cell_type": "code",
   "execution_count": 21,
   "id": "36978e90",
   "metadata": {
    "collapsed": true
   },
   "outputs": [
    {
     "name": "stderr",
     "output_type": "stream",
     "text": [
      "C:\\Users\\ASUS\\anaconda3\\envs\\marketplace\\lib\\site-packages\\ipykernel\\ipkernel.py:287: DeprecationWarning: `should_run_async` will not call `transform_cell` automatically in the future. Please pass the result to `transformed_cell` argument and any exception that happen during thetransform in `preprocessing_exc_tuple` in IPython 7.17 and above.\n",
      "  and should_run_async(code)\n"
     ]
    }
   ],
   "source": [
    "with open('../runs/run3-best/data_vectorized', 'wb') as f:\n",
    "    pickle.dump(data_vectorized, f)"
   ]
  },
  {
   "cell_type": "code",
   "execution_count": 22,
   "id": "2980a95a",
   "metadata": {
    "collapsed": true
   },
   "outputs": [
    {
     "name": "stderr",
     "output_type": "stream",
     "text": [
      "C:\\Users\\ASUS\\anaconda3\\envs\\marketplace\\lib\\site-packages\\ipykernel\\ipkernel.py:287: DeprecationWarning: `should_run_async` will not call `transform_cell` automatically in the future. Please pass the result to `transformed_cell` argument and any exception that happen during thetransform in `preprocessing_exc_tuple` in IPython 7.17 and above.\n",
      "  and should_run_async(code)\n"
     ]
    }
   ],
   "source": [
    "with open('../runs/run3-best/vectorizer', 'wb') as f:\n",
    "    pickle.dump(vectorizer, f)"
   ]
  },
  {
   "cell_type": "code",
   "execution_count": 23,
   "id": "132d5e6a",
   "metadata": {
    "collapsed": true
   },
   "outputs": [
    {
     "name": "stderr",
     "output_type": "stream",
     "text": [
      "C:\\Users\\ASUS\\anaconda3\\envs\\marketplace\\lib\\site-packages\\ipykernel\\ipkernel.py:287: DeprecationWarning: `should_run_async` will not call `transform_cell` automatically in the future. Please pass the result to `transformed_cell` argument and any exception that happen during thetransform in `preprocessing_exc_tuple` in IPython 7.17 and above.\n",
      "  and should_run_async(code)\n"
     ]
    }
   ],
   "source": [
    "with open('../runs/run3-best/model', 'wb') as f:\n",
    "    pickle.dump(best_lda_model, f)"
   ]
  },
  {
   "cell_type": "code",
   "execution_count": 24,
   "id": "2cfb58a3",
   "metadata": {
    "collapsed": true
   },
   "outputs": [
    {
     "name": "stderr",
     "output_type": "stream",
     "text": [
      "C:\\Users\\ASUS\\anaconda3\\envs\\marketplace\\lib\\site-packages\\ipykernel\\ipkernel.py:287: DeprecationWarning: `should_run_async` will not call `transform_cell` automatically in the future. Please pass the result to `transformed_cell` argument and any exception that happen during thetransform in `preprocessing_exc_tuple` in IPython 7.17 and above.\n",
      "  and should_run_async(code)\n"
     ]
    }
   ],
   "source": [
    "with open('../runs/run3-best/grid-model', 'wb') as f:\n",
    "    pickle.dump(model, f)"
   ]
  },
  {
   "cell_type": "markdown",
   "id": "6b7215a3",
   "metadata": {},
   "source": [
    "### Load files"
   ]
  },
  {
   "cell_type": "code",
   "execution_count": 9,
   "id": "a118aa95",
   "metadata": {
    "collapsed": true
   },
   "outputs": [
    {
     "name": "stderr",
     "output_type": "stream",
     "text": [
      "C:\\Users\\ASUS\\anaconda3\\envs\\marketplace\\lib\\site-packages\\ipykernel\\ipkernel.py:287: DeprecationWarning: `should_run_async` will not call `transform_cell` automatically in the future. Please pass the result to `transformed_cell` argument and any exception that happen during thetransform in `preprocessing_exc_tuple` in IPython 7.17 and above.\n",
      "  and should_run_async(code)\n"
     ]
    }
   ],
   "source": [
    "with open('../runs/run3-best/pos_tags', 'rb') as f:\n",
    "    pos_tags = pickle.load(f)"
   ]
  },
  {
   "cell_type": "code",
   "execution_count": 10,
   "id": "fbe6edfd",
   "metadata": {
    "collapsed": true
   },
   "outputs": [
    {
     "name": "stderr",
     "output_type": "stream",
     "text": [
      "C:\\Users\\ASUS\\anaconda3\\envs\\marketplace\\lib\\site-packages\\ipykernel\\ipkernel.py:287: DeprecationWarning: `should_run_async` will not call `transform_cell` automatically in the future. Please pass the result to `transformed_cell` argument and any exception that happen during thetransform in `preprocessing_exc_tuple` in IPython 7.17 and above.\n",
      "  and should_run_async(code)\n"
     ]
    }
   ],
   "source": [
    "with open('../runs/run3-best/data_lemmatized', 'rb') as f:\n",
    "    data_lemmatized = pickle.load(f)"
   ]
  },
  {
   "cell_type": "code",
   "execution_count": 11,
   "id": "8dde6e31",
   "metadata": {
    "collapsed": true
   },
   "outputs": [
    {
     "name": "stderr",
     "output_type": "stream",
     "text": [
      "C:\\Users\\ASUS\\anaconda3\\envs\\marketplace\\lib\\site-packages\\ipykernel\\ipkernel.py:287: DeprecationWarning: `should_run_async` will not call `transform_cell` automatically in the future. Please pass the result to `transformed_cell` argument and any exception that happen during thetransform in `preprocessing_exc_tuple` in IPython 7.17 and above.\n",
      "  and should_run_async(code)\n"
     ]
    }
   ],
   "source": [
    "with open('../runs/run3-best/data_vectorized', 'rb') as f:\n",
    "    data_vectorized = pickle.load(f)"
   ]
  },
  {
   "cell_type": "code",
   "execution_count": 12,
   "id": "506bdf1c",
   "metadata": {
    "collapsed": true
   },
   "outputs": [
    {
     "name": "stderr",
     "output_type": "stream",
     "text": [
      "C:\\Users\\ASUS\\anaconda3\\envs\\marketplace\\lib\\site-packages\\ipykernel\\ipkernel.py:287: DeprecationWarning: `should_run_async` will not call `transform_cell` automatically in the future. Please pass the result to `transformed_cell` argument and any exception that happen during thetransform in `preprocessing_exc_tuple` in IPython 7.17 and above.\n",
      "  and should_run_async(code)\n"
     ]
    }
   ],
   "source": [
    "with open('../runs/run3-best/vectorizer', 'rb') as f:\n",
    "    vectorizer = pickle.load(f)"
   ]
  },
  {
   "cell_type": "code",
   "execution_count": 13,
   "id": "436f3fe6",
   "metadata": {
    "collapsed": true
   },
   "outputs": [
    {
     "name": "stderr",
     "output_type": "stream",
     "text": [
      "C:\\Users\\ASUS\\anaconda3\\envs\\marketplace\\lib\\site-packages\\ipykernel\\ipkernel.py:287: DeprecationWarning: `should_run_async` will not call `transform_cell` automatically in the future. Please pass the result to `transformed_cell` argument and any exception that happen during thetransform in `preprocessing_exc_tuple` in IPython 7.17 and above.\n",
      "  and should_run_async(code)\n"
     ]
    }
   ],
   "source": [
    "with open('../runs/run3-best/model', 'rb') as f:\n",
    "    best_lda_model = pickle.load(f)"
   ]
  },
  {
   "cell_type": "code",
   "execution_count": 14,
   "id": "57848dea",
   "metadata": {
    "collapsed": true
   },
   "outputs": [
    {
     "name": "stderr",
     "output_type": "stream",
     "text": [
      "C:\\Users\\ASUS\\anaconda3\\envs\\marketplace\\lib\\site-packages\\ipykernel\\ipkernel.py:287: DeprecationWarning: `should_run_async` will not call `transform_cell` automatically in the future. Please pass the result to `transformed_cell` argument and any exception that happen during thetransform in `preprocessing_exc_tuple` in IPython 7.17 and above.\n",
      "  and should_run_async(code)\n"
     ]
    }
   ],
   "source": [
    "with open('../runs/run3-best/grid-model', 'rb') as f:\n",
    "    grid_model = pickle.load(f)"
   ]
  },
  {
   "cell_type": "markdown",
   "id": "98f93b69",
   "metadata": {},
   "source": [
    "## Saving over"
   ]
  },
  {
   "cell_type": "code",
   "execution_count": 15,
   "id": "c3291ad8",
   "metadata": {},
   "outputs": [
    {
     "name": "stderr",
     "output_type": "stream",
     "text": [
      "C:\\Users\\ASUS\\anaconda3\\envs\\marketplace\\lib\\site-packages\\ipykernel\\ipkernel.py:287: DeprecationWarning: `should_run_async` will not call `transform_cell` automatically in the future. Please pass the result to `transformed_cell` argument and any exception that happen during thetransform in `preprocessing_exc_tuple` in IPython 7.17 and above.\n",
      "  and should_run_async(code)\n"
     ]
    },
    {
     "data": {
      "text/html": [
       "<style  type=\"text/css\" >\n",
       "#T_93359_row0_col0,#T_93359_row0_col1,#T_93359_row0_col2,#T_93359_row0_col3,#T_93359_row0_col5,#T_93359_row0_col6,#T_93359_row0_col7,#T_93359_row0_col8,#T_93359_row1_col0,#T_93359_row1_col2,#T_93359_row1_col5,#T_93359_row1_col6,#T_93359_row1_col7,#T_93359_row1_col8,#T_93359_row2_col1,#T_93359_row2_col2,#T_93359_row2_col5,#T_93359_row2_col7,#T_93359_row2_col8,#T_93359_row2_col9,#T_93359_row2_col10,#T_93359_row3_col0,#T_93359_row3_col1,#T_93359_row3_col2,#T_93359_row3_col4,#T_93359_row3_col6,#T_93359_row3_col8,#T_93359_row3_col9,#T_93359_row4_col1,#T_93359_row4_col2,#T_93359_row4_col3,#T_93359_row4_col4,#T_93359_row4_col5,#T_93359_row4_col6,#T_93359_row4_col7,#T_93359_row4_col8,#T_93359_row4_col10,#T_93359_row5_col0,#T_93359_row5_col1,#T_93359_row5_col2,#T_93359_row5_col3,#T_93359_row5_col4,#T_93359_row5_col6,#T_93359_row5_col8,#T_93359_row5_col9,#T_93359_row6_col0,#T_93359_row6_col3,#T_93359_row6_col4,#T_93359_row6_col5,#T_93359_row6_col6,#T_93359_row6_col7,#T_93359_row6_col8,#T_93359_row7_col0,#T_93359_row7_col2,#T_93359_row7_col5,#T_93359_row7_col6,#T_93359_row7_col8,#T_93359_row7_col9,#T_93359_row8_col0,#T_93359_row8_col1,#T_93359_row8_col2,#T_93359_row8_col3,#T_93359_row8_col5,#T_93359_row8_col8,#T_93359_row8_col9,#T_93359_row9_col2,#T_93359_row9_col3,#T_93359_row9_col4,#T_93359_row9_col5,#T_93359_row9_col6,#T_93359_row9_col7,#T_93359_row9_col8,#T_93359_row9_col9,#T_93359_row10_col0,#T_93359_row10_col1,#T_93359_row10_col2,#T_93359_row10_col5,#T_93359_row10_col6,#T_93359_row10_col8,#T_93359_row10_col9,#T_93359_row11_col0,#T_93359_row11_col3,#T_93359_row11_col4,#T_93359_row11_col5,#T_93359_row11_col6,#T_93359_row11_col7,#T_93359_row11_col9,#T_93359_row12_col0,#T_93359_row12_col2,#T_93359_row12_col4,#T_93359_row12_col5,#T_93359_row12_col6,#T_93359_row12_col7,#T_93359_row12_col8,#T_93359_row13_col1,#T_93359_row13_col2,#T_93359_row13_col3,#T_93359_row13_col4,#T_93359_row13_col6,#T_93359_row13_col7,#T_93359_row13_col8,#T_93359_row13_col9,#T_93359_row14_col0,#T_93359_row14_col1,#T_93359_row14_col5,#T_93359_row14_col6,#T_93359_row14_col7,#T_93359_row14_col8,#T_93359_row14_col9{\n",
       "            color:  black;\n",
       "            font-weight:  400;\n",
       "        }#T_93359_row0_col4,#T_93359_row0_col9,#T_93359_row0_col10,#T_93359_row1_col1,#T_93359_row1_col3,#T_93359_row1_col4,#T_93359_row1_col9,#T_93359_row1_col10,#T_93359_row2_col0,#T_93359_row2_col3,#T_93359_row2_col4,#T_93359_row2_col6,#T_93359_row3_col3,#T_93359_row3_col5,#T_93359_row3_col7,#T_93359_row3_col10,#T_93359_row4_col0,#T_93359_row4_col9,#T_93359_row5_col5,#T_93359_row5_col7,#T_93359_row5_col10,#T_93359_row6_col1,#T_93359_row6_col2,#T_93359_row6_col9,#T_93359_row6_col10,#T_93359_row7_col1,#T_93359_row7_col3,#T_93359_row7_col4,#T_93359_row7_col7,#T_93359_row7_col10,#T_93359_row8_col4,#T_93359_row8_col6,#T_93359_row8_col7,#T_93359_row8_col10,#T_93359_row9_col0,#T_93359_row9_col1,#T_93359_row9_col10,#T_93359_row10_col3,#T_93359_row10_col4,#T_93359_row10_col7,#T_93359_row10_col10,#T_93359_row11_col1,#T_93359_row11_col2,#T_93359_row11_col8,#T_93359_row11_col10,#T_93359_row12_col1,#T_93359_row12_col3,#T_93359_row12_col9,#T_93359_row12_col10,#T_93359_row13_col0,#T_93359_row13_col5,#T_93359_row13_col10,#T_93359_row14_col2,#T_93359_row14_col3,#T_93359_row14_col4,#T_93359_row14_col10{\n",
       "            color:  green;\n",
       "            font-weight:  700;\n",
       "        }</style><table id=\"T_93359_\" ><thead>    <tr>        <th class=\"blank level0\" ></th>        <th class=\"col_heading level0 col0\" >Topic0</th>        <th class=\"col_heading level0 col1\" >Topic1</th>        <th class=\"col_heading level0 col2\" >Topic2</th>        <th class=\"col_heading level0 col3\" >Topic3</th>        <th class=\"col_heading level0 col4\" >Topic4</th>        <th class=\"col_heading level0 col5\" >Topic5</th>        <th class=\"col_heading level0 col6\" >Topic6</th>        <th class=\"col_heading level0 col7\" >Topic7</th>        <th class=\"col_heading level0 col8\" >Topic8</th>        <th class=\"col_heading level0 col9\" >Topic9</th>        <th class=\"col_heading level0 col10\" >dominant_topic</th>    </tr>    <tr>        <th class=\"index_name level0\" >Complaint ID</th>        <th class=\"blank\" ></th>        <th class=\"blank\" ></th>        <th class=\"blank\" ></th>        <th class=\"blank\" ></th>        <th class=\"blank\" ></th>        <th class=\"blank\" ></th>        <th class=\"blank\" ></th>        <th class=\"blank\" ></th>        <th class=\"blank\" ></th>        <th class=\"blank\" ></th>        <th class=\"blank\" ></th>    </tr></thead><tbody>\n",
       "                <tr>\n",
       "                        <th id=\"T_93359_level0_row0\" class=\"row_heading level0 row0\" >3193709</th>\n",
       "                        <td id=\"T_93359_row0_col0\" class=\"data row0 col0\" >0.000000</td>\n",
       "                        <td id=\"T_93359_row0_col1\" class=\"data row0 col1\" >0.000000</td>\n",
       "                        <td id=\"T_93359_row0_col2\" class=\"data row0 col2\" >0.040000</td>\n",
       "                        <td id=\"T_93359_row0_col3\" class=\"data row0 col3\" >0.030000</td>\n",
       "                        <td id=\"T_93359_row0_col4\" class=\"data row0 col4\" >0.600000</td>\n",
       "                        <td id=\"T_93359_row0_col5\" class=\"data row0 col5\" >0.030000</td>\n",
       "                        <td id=\"T_93359_row0_col6\" class=\"data row0 col6\" >0.000000</td>\n",
       "                        <td id=\"T_93359_row0_col7\" class=\"data row0 col7\" >0.010000</td>\n",
       "                        <td id=\"T_93359_row0_col8\" class=\"data row0 col8\" >0.030000</td>\n",
       "                        <td id=\"T_93359_row0_col9\" class=\"data row0 col9\" >0.270000</td>\n",
       "                        <td id=\"T_93359_row0_col10\" class=\"data row0 col10\" >4</td>\n",
       "            </tr>\n",
       "            <tr>\n",
       "                        <th id=\"T_93359_level0_row1\" class=\"row_heading level0 row1\" >3158652</th>\n",
       "                        <td id=\"T_93359_row1_col0\" class=\"data row1 col0\" >0.010000</td>\n",
       "                        <td id=\"T_93359_row1_col1\" class=\"data row1 col1\" >0.240000</td>\n",
       "                        <td id=\"T_93359_row1_col2\" class=\"data row1 col2\" >0.010000</td>\n",
       "                        <td id=\"T_93359_row1_col3\" class=\"data row1 col3\" >0.190000</td>\n",
       "                        <td id=\"T_93359_row1_col4\" class=\"data row1 col4\" >0.350000</td>\n",
       "                        <td id=\"T_93359_row1_col5\" class=\"data row1 col5\" >0.010000</td>\n",
       "                        <td id=\"T_93359_row1_col6\" class=\"data row1 col6\" >0.010000</td>\n",
       "                        <td id=\"T_93359_row1_col7\" class=\"data row1 col7\" >0.010000</td>\n",
       "                        <td id=\"T_93359_row1_col8\" class=\"data row1 col8\" >0.010000</td>\n",
       "                        <td id=\"T_93359_row1_col9\" class=\"data row1 col9\" >0.190000</td>\n",
       "                        <td id=\"T_93359_row1_col10\" class=\"data row1 col10\" >4</td>\n",
       "            </tr>\n",
       "            <tr>\n",
       "                        <th id=\"T_93359_level0_row2\" class=\"row_heading level0 row2\" >3270600</th>\n",
       "                        <td id=\"T_93359_row2_col0\" class=\"data row2 col0\" >0.250000</td>\n",
       "                        <td id=\"T_93359_row2_col1\" class=\"data row2 col1\" >0.000000</td>\n",
       "                        <td id=\"T_93359_row2_col2\" class=\"data row2 col2\" >0.090000</td>\n",
       "                        <td id=\"T_93359_row2_col3\" class=\"data row2 col3\" >0.210000</td>\n",
       "                        <td id=\"T_93359_row2_col4\" class=\"data row2 col4\" >0.180000</td>\n",
       "                        <td id=\"T_93359_row2_col5\" class=\"data row2 col5\" >0.000000</td>\n",
       "                        <td id=\"T_93359_row2_col6\" class=\"data row2 col6\" >0.170000</td>\n",
       "                        <td id=\"T_93359_row2_col7\" class=\"data row2 col7\" >0.050000</td>\n",
       "                        <td id=\"T_93359_row2_col8\" class=\"data row2 col8\" >0.050000</td>\n",
       "                        <td id=\"T_93359_row2_col9\" class=\"data row2 col9\" >0.000000</td>\n",
       "                        <td id=\"T_93359_row2_col10\" class=\"data row2 col10\" >0</td>\n",
       "            </tr>\n",
       "            <tr>\n",
       "                        <th id=\"T_93359_level0_row3\" class=\"row_heading level0 row3\" >3453669</th>\n",
       "                        <td id=\"T_93359_row3_col0\" class=\"data row3 col0\" >0.000000</td>\n",
       "                        <td id=\"T_93359_row3_col1\" class=\"data row3 col1\" >0.080000</td>\n",
       "                        <td id=\"T_93359_row3_col2\" class=\"data row3 col2\" >0.000000</td>\n",
       "                        <td id=\"T_93359_row3_col3\" class=\"data row3 col3\" >0.430000</td>\n",
       "                        <td id=\"T_93359_row3_col4\" class=\"data row3 col4\" >0.000000</td>\n",
       "                        <td id=\"T_93359_row3_col5\" class=\"data row3 col5\" >0.190000</td>\n",
       "                        <td id=\"T_93359_row3_col6\" class=\"data row3 col6\" >0.000000</td>\n",
       "                        <td id=\"T_93359_row3_col7\" class=\"data row3 col7\" >0.280000</td>\n",
       "                        <td id=\"T_93359_row3_col8\" class=\"data row3 col8\" >0.000000</td>\n",
       "                        <td id=\"T_93359_row3_col9\" class=\"data row3 col9\" >0.000000</td>\n",
       "                        <td id=\"T_93359_row3_col10\" class=\"data row3 col10\" >3</td>\n",
       "            </tr>\n",
       "            <tr>\n",
       "                        <th id=\"T_93359_level0_row4\" class=\"row_heading level0 row4\" >3415392</th>\n",
       "                        <td id=\"T_93359_row4_col0\" class=\"data row4 col0\" >0.590000</td>\n",
       "                        <td id=\"T_93359_row4_col1\" class=\"data row4 col1\" >0.000000</td>\n",
       "                        <td id=\"T_93359_row4_col2\" class=\"data row4 col2\" >0.000000</td>\n",
       "                        <td id=\"T_93359_row4_col3\" class=\"data row4 col3\" >0.000000</td>\n",
       "                        <td id=\"T_93359_row4_col4\" class=\"data row4 col4\" >0.000000</td>\n",
       "                        <td id=\"T_93359_row4_col5\" class=\"data row4 col5\" >0.000000</td>\n",
       "                        <td id=\"T_93359_row4_col6\" class=\"data row4 col6\" >0.000000</td>\n",
       "                        <td id=\"T_93359_row4_col7\" class=\"data row4 col7\" >0.000000</td>\n",
       "                        <td id=\"T_93359_row4_col8\" class=\"data row4 col8\" >0.000000</td>\n",
       "                        <td id=\"T_93359_row4_col9\" class=\"data row4 col9\" >0.390000</td>\n",
       "                        <td id=\"T_93359_row4_col10\" class=\"data row4 col10\" >0</td>\n",
       "            </tr>\n",
       "            <tr>\n",
       "                        <th id=\"T_93359_level0_row5\" class=\"row_heading level0 row5\" >3237767</th>\n",
       "                        <td id=\"T_93359_row5_col0\" class=\"data row5 col0\" >0.040000</td>\n",
       "                        <td id=\"T_93359_row5_col1\" class=\"data row5 col1\" >0.000000</td>\n",
       "                        <td id=\"T_93359_row5_col2\" class=\"data row5 col2\" >0.000000</td>\n",
       "                        <td id=\"T_93359_row5_col3\" class=\"data row5 col3\" >0.000000</td>\n",
       "                        <td id=\"T_93359_row5_col4\" class=\"data row5 col4\" >0.000000</td>\n",
       "                        <td id=\"T_93359_row5_col5\" class=\"data row5 col5\" >0.280000</td>\n",
       "                        <td id=\"T_93359_row5_col6\" class=\"data row5 col6\" >0.000000</td>\n",
       "                        <td id=\"T_93359_row5_col7\" class=\"data row5 col7\" >0.650000</td>\n",
       "                        <td id=\"T_93359_row5_col8\" class=\"data row5 col8\" >0.000000</td>\n",
       "                        <td id=\"T_93359_row5_col9\" class=\"data row5 col9\" >0.000000</td>\n",
       "                        <td id=\"T_93359_row5_col10\" class=\"data row5 col10\" >7</td>\n",
       "            </tr>\n",
       "            <tr>\n",
       "                        <th id=\"T_93359_level0_row6\" class=\"row_heading level0 row6\" >3605629</th>\n",
       "                        <td id=\"T_93359_row6_col0\" class=\"data row6 col0\" >0.050000</td>\n",
       "                        <td id=\"T_93359_row6_col1\" class=\"data row6 col1\" >0.240000</td>\n",
       "                        <td id=\"T_93359_row6_col2\" class=\"data row6 col2\" >0.170000</td>\n",
       "                        <td id=\"T_93359_row6_col3\" class=\"data row6 col3\" >0.000000</td>\n",
       "                        <td id=\"T_93359_row6_col4\" class=\"data row6 col4\" >0.000000</td>\n",
       "                        <td id=\"T_93359_row6_col5\" class=\"data row6 col5\" >0.080000</td>\n",
       "                        <td id=\"T_93359_row6_col6\" class=\"data row6 col6\" >0.000000</td>\n",
       "                        <td id=\"T_93359_row6_col7\" class=\"data row6 col7\" >0.000000</td>\n",
       "                        <td id=\"T_93359_row6_col8\" class=\"data row6 col8\" >0.000000</td>\n",
       "                        <td id=\"T_93359_row6_col9\" class=\"data row6 col9\" >0.460000</td>\n",
       "                        <td id=\"T_93359_row6_col10\" class=\"data row6 col10\" >9</td>\n",
       "            </tr>\n",
       "            <tr>\n",
       "                        <th id=\"T_93359_level0_row7\" class=\"row_heading level0 row7\" >3940465</th>\n",
       "                        <td id=\"T_93359_row7_col0\" class=\"data row7 col0\" >0.000000</td>\n",
       "                        <td id=\"T_93359_row7_col1\" class=\"data row7 col1\" >0.190000</td>\n",
       "                        <td id=\"T_93359_row7_col2\" class=\"data row7 col2\" >0.000000</td>\n",
       "                        <td id=\"T_93359_row7_col3\" class=\"data row7 col3\" >0.420000</td>\n",
       "                        <td id=\"T_93359_row7_col4\" class=\"data row7 col4\" >0.120000</td>\n",
       "                        <td id=\"T_93359_row7_col5\" class=\"data row7 col5\" >0.000000</td>\n",
       "                        <td id=\"T_93359_row7_col6\" class=\"data row7 col6\" >0.000000</td>\n",
       "                        <td id=\"T_93359_row7_col7\" class=\"data row7 col7\" >0.260000</td>\n",
       "                        <td id=\"T_93359_row7_col8\" class=\"data row7 col8\" >0.000000</td>\n",
       "                        <td id=\"T_93359_row7_col9\" class=\"data row7 col9\" >0.000000</td>\n",
       "                        <td id=\"T_93359_row7_col10\" class=\"data row7 col10\" >3</td>\n",
       "            </tr>\n",
       "            <tr>\n",
       "                        <th id=\"T_93359_level0_row8\" class=\"row_heading level0 row8\" >3478699</th>\n",
       "                        <td id=\"T_93359_row8_col0\" class=\"data row8 col0\" >0.010000</td>\n",
       "                        <td id=\"T_93359_row8_col1\" class=\"data row8 col1\" >0.010000</td>\n",
       "                        <td id=\"T_93359_row8_col2\" class=\"data row8 col2\" >0.010000</td>\n",
       "                        <td id=\"T_93359_row8_col3\" class=\"data row8 col3\" >0.010000</td>\n",
       "                        <td id=\"T_93359_row8_col4\" class=\"data row8 col4\" >0.120000</td>\n",
       "                        <td id=\"T_93359_row8_col5\" class=\"data row8 col5\" >0.010000</td>\n",
       "                        <td id=\"T_93359_row8_col6\" class=\"data row8 col6\" >0.160000</td>\n",
       "                        <td id=\"T_93359_row8_col7\" class=\"data row8 col7\" >0.660000</td>\n",
       "                        <td id=\"T_93359_row8_col8\" class=\"data row8 col8\" >0.010000</td>\n",
       "                        <td id=\"T_93359_row8_col9\" class=\"data row8 col9\" >0.010000</td>\n",
       "                        <td id=\"T_93359_row8_col10\" class=\"data row8 col10\" >7</td>\n",
       "            </tr>\n",
       "            <tr>\n",
       "                        <th id=\"T_93359_level0_row9\" class=\"row_heading level0 row9\" >3316113</th>\n",
       "                        <td id=\"T_93359_row9_col0\" class=\"data row9 col0\" >0.230000</td>\n",
       "                        <td id=\"T_93359_row9_col1\" class=\"data row9 col1\" >0.650000</td>\n",
       "                        <td id=\"T_93359_row9_col2\" class=\"data row9 col2\" >0.100000</td>\n",
       "                        <td id=\"T_93359_row9_col3\" class=\"data row9 col3\" >0.000000</td>\n",
       "                        <td id=\"T_93359_row9_col4\" class=\"data row9 col4\" >0.000000</td>\n",
       "                        <td id=\"T_93359_row9_col5\" class=\"data row9 col5\" >0.000000</td>\n",
       "                        <td id=\"T_93359_row9_col6\" class=\"data row9 col6\" >0.030000</td>\n",
       "                        <td id=\"T_93359_row9_col7\" class=\"data row9 col7\" >0.000000</td>\n",
       "                        <td id=\"T_93359_row9_col8\" class=\"data row9 col8\" >0.000000</td>\n",
       "                        <td id=\"T_93359_row9_col9\" class=\"data row9 col9\" >0.000000</td>\n",
       "                        <td id=\"T_93359_row9_col10\" class=\"data row9 col10\" >1</td>\n",
       "            </tr>\n",
       "            <tr>\n",
       "                        <th id=\"T_93359_level0_row10\" class=\"row_heading level0 row10\" >3283545</th>\n",
       "                        <td id=\"T_93359_row10_col0\" class=\"data row10 col0\" >0.060000</td>\n",
       "                        <td id=\"T_93359_row10_col1\" class=\"data row10 col1\" >0.000000</td>\n",
       "                        <td id=\"T_93359_row10_col2\" class=\"data row10 col2\" >0.000000</td>\n",
       "                        <td id=\"T_93359_row10_col3\" class=\"data row10 col3\" >0.160000</td>\n",
       "                        <td id=\"T_93359_row10_col4\" class=\"data row10 col4\" >0.140000</td>\n",
       "                        <td id=\"T_93359_row10_col5\" class=\"data row10 col5\" >0.000000</td>\n",
       "                        <td id=\"T_93359_row10_col6\" class=\"data row10 col6\" >0.000000</td>\n",
       "                        <td id=\"T_93359_row10_col7\" class=\"data row10 col7\" >0.640000</td>\n",
       "                        <td id=\"T_93359_row10_col8\" class=\"data row10 col8\" >0.000000</td>\n",
       "                        <td id=\"T_93359_row10_col9\" class=\"data row10 col9\" >0.000000</td>\n",
       "                        <td id=\"T_93359_row10_col10\" class=\"data row10 col10\" >7</td>\n",
       "            </tr>\n",
       "            <tr>\n",
       "                        <th id=\"T_93359_level0_row11\" class=\"row_heading level0 row11\" >3387690</th>\n",
       "                        <td id=\"T_93359_row11_col0\" class=\"data row11 col0\" >0.010000</td>\n",
       "                        <td id=\"T_93359_row11_col1\" class=\"data row11 col1\" >0.630000</td>\n",
       "                        <td id=\"T_93359_row11_col2\" class=\"data row11 col2\" >0.170000</td>\n",
       "                        <td id=\"T_93359_row11_col3\" class=\"data row11 col3\" >0.010000</td>\n",
       "                        <td id=\"T_93359_row11_col4\" class=\"data row11 col4\" >0.010000</td>\n",
       "                        <td id=\"T_93359_row11_col5\" class=\"data row11 col5\" >0.010000</td>\n",
       "                        <td id=\"T_93359_row11_col6\" class=\"data row11 col6\" >0.010000</td>\n",
       "                        <td id=\"T_93359_row11_col7\" class=\"data row11 col7\" >0.010000</td>\n",
       "                        <td id=\"T_93359_row11_col8\" class=\"data row11 col8\" >0.160000</td>\n",
       "                        <td id=\"T_93359_row11_col9\" class=\"data row11 col9\" >0.010000</td>\n",
       "                        <td id=\"T_93359_row11_col10\" class=\"data row11 col10\" >1</td>\n",
       "            </tr>\n",
       "            <tr>\n",
       "                        <th id=\"T_93359_level0_row12\" class=\"row_heading level0 row12\" >3377502</th>\n",
       "                        <td id=\"T_93359_row12_col0\" class=\"data row12 col0\" >0.000000</td>\n",
       "                        <td id=\"T_93359_row12_col1\" class=\"data row12 col1\" >0.550000</td>\n",
       "                        <td id=\"T_93359_row12_col2\" class=\"data row12 col2\" >0.000000</td>\n",
       "                        <td id=\"T_93359_row12_col3\" class=\"data row12 col3\" >0.130000</td>\n",
       "                        <td id=\"T_93359_row12_col4\" class=\"data row12 col4\" >0.000000</td>\n",
       "                        <td id=\"T_93359_row12_col5\" class=\"data row12 col5\" >0.000000</td>\n",
       "                        <td id=\"T_93359_row12_col6\" class=\"data row12 col6\" >0.000000</td>\n",
       "                        <td id=\"T_93359_row12_col7\" class=\"data row12 col7\" >0.000000</td>\n",
       "                        <td id=\"T_93359_row12_col8\" class=\"data row12 col8\" >0.000000</td>\n",
       "                        <td id=\"T_93359_row12_col9\" class=\"data row12 col9\" >0.310000</td>\n",
       "                        <td id=\"T_93359_row12_col10\" class=\"data row12 col10\" >1</td>\n",
       "            </tr>\n",
       "            <tr>\n",
       "                        <th id=\"T_93359_level0_row13\" class=\"row_heading level0 row13\" >3437199</th>\n",
       "                        <td id=\"T_93359_row13_col0\" class=\"data row13 col0\" >0.430000</td>\n",
       "                        <td id=\"T_93359_row13_col1\" class=\"data row13 col1\" >0.000000</td>\n",
       "                        <td id=\"T_93359_row13_col2\" class=\"data row13 col2\" >0.000000</td>\n",
       "                        <td id=\"T_93359_row13_col3\" class=\"data row13 col3\" >0.000000</td>\n",
       "                        <td id=\"T_93359_row13_col4\" class=\"data row13 col4\" >0.000000</td>\n",
       "                        <td id=\"T_93359_row13_col5\" class=\"data row13 col5\" >0.570000</td>\n",
       "                        <td id=\"T_93359_row13_col6\" class=\"data row13 col6\" >0.000000</td>\n",
       "                        <td id=\"T_93359_row13_col7\" class=\"data row13 col7\" >0.000000</td>\n",
       "                        <td id=\"T_93359_row13_col8\" class=\"data row13 col8\" >0.000000</td>\n",
       "                        <td id=\"T_93359_row13_col9\" class=\"data row13 col9\" >0.000000</td>\n",
       "                        <td id=\"T_93359_row13_col10\" class=\"data row13 col10\" >5</td>\n",
       "            </tr>\n",
       "            <tr>\n",
       "                        <th id=\"T_93359_level0_row14\" class=\"row_heading level0 row14\" >3398605</th>\n",
       "                        <td id=\"T_93359_row14_col0\" class=\"data row14 col0\" >0.010000</td>\n",
       "                        <td id=\"T_93359_row14_col1\" class=\"data row14 col1\" >0.010000</td>\n",
       "                        <td id=\"T_93359_row14_col2\" class=\"data row14 col2\" >0.230000</td>\n",
       "                        <td id=\"T_93359_row14_col3\" class=\"data row14 col3\" >0.350000</td>\n",
       "                        <td id=\"T_93359_row14_col4\" class=\"data row14 col4\" >0.350000</td>\n",
       "                        <td id=\"T_93359_row14_col5\" class=\"data row14 col5\" >0.010000</td>\n",
       "                        <td id=\"T_93359_row14_col6\" class=\"data row14 col6\" >0.010000</td>\n",
       "                        <td id=\"T_93359_row14_col7\" class=\"data row14 col7\" >0.010000</td>\n",
       "                        <td id=\"T_93359_row14_col8\" class=\"data row14 col8\" >0.010000</td>\n",
       "                        <td id=\"T_93359_row14_col9\" class=\"data row14 col9\" >0.010000</td>\n",
       "                        <td id=\"T_93359_row14_col10\" class=\"data row14 col10\" >3</td>\n",
       "            </tr>\n",
       "    </tbody></table>"
      ],
      "text/plain": [
       "<pandas.io.formats.style.Styler at 0x28cefd7b580>"
      ]
     },
     "execution_count": 15,
     "metadata": {},
     "output_type": "execute_result"
    }
   ],
   "source": [
    "lda_output = best_lda_model.transform(data_vectorized)\n",
    "# column names\n",
    "topicnames = [\"Topic\" + str(i) for i in range(best_lda_model.n_components)]\n",
    "# index names\n",
    "docnames = [\"Doc\" + str(i) for i in range(len(data))]\n",
    "#doc id\n",
    "docid = dataset['Complaint ID']\n",
    "# Make the pandas dataframe\n",
    "df_document_topic = pd.DataFrame(np.round(lda_output, 2), columns=topicnames, index=docid)\n",
    "# Get dominant topic for each document\n",
    "dominant_topic = np.argmax(df_document_topic.values, axis=1)\n",
    "df_document_topic['dominant_topic'] = dominant_topic\n",
    "def color_green(val):\n",
    "    color = 'green' if val > .1 else 'black'\n",
    "    return \"color: {col}\".format(col=color)\n",
    "def make_bold(val):\n",
    "    weight = 700 if val > .1 else 400\n",
    "    return \"font-weight: {weight}\".format(weight=weight)\n",
    "\n",
    "df_document_topics = df_document_topic.head(15).style.applymap(color_green).applymap(make_bold)\n",
    "df_document_topics"
   ]
  },
  {
   "cell_type": "code",
   "execution_count": 160,
   "id": "d41f7291",
   "metadata": {
    "collapsed": true
   },
   "outputs": [
    {
     "name": "stderr",
     "output_type": "stream",
     "text": [
      "C:\\Users\\ASUS\\anaconda3\\envs\\marketplace\\lib\\site-packages\\ipykernel\\ipkernel.py:287: DeprecationWarning: `should_run_async` will not call `transform_cell` automatically in the future. Please pass the result to `transformed_cell` argument and any exception that happen during thetransform in `preprocessing_exc_tuple` in IPython 7.17 and above.\n",
      "  and should_run_async(code)\n"
     ]
    }
   ],
   "source": [
    "with open('../runs/run3-best/lda_output', 'wb') as f:\n",
    "    pickle.dump(lda_output, f)"
   ]
  },
  {
   "cell_type": "code",
   "execution_count": 26,
   "id": "9b909bae",
   "metadata": {
    "scrolled": false
   },
   "outputs": [
    {
     "name": "stderr",
     "output_type": "stream",
     "text": [
      "C:\\Users\\ASUS\\anaconda3\\envs\\marketplace\\lib\\site-packages\\ipykernel\\ipkernel.py:287: DeprecationWarning: `should_run_async` will not call `transform_cell` automatically in the future. Please pass the result to `transformed_cell` argument and any exception that happen during thetransform in `preprocessing_exc_tuple` in IPython 7.17 and above.\n",
      "  and should_run_async(code)\n"
     ]
    },
    {
     "data": {
      "text/html": [
       "<div>\n",
       "<style scoped>\n",
       "    .dataframe tbody tr th:only-of-type {\n",
       "        vertical-align: middle;\n",
       "    }\n",
       "\n",
       "    .dataframe tbody tr th {\n",
       "        vertical-align: top;\n",
       "    }\n",
       "\n",
       "    .dataframe thead th {\n",
       "        text-align: right;\n",
       "    }\n",
       "</style>\n",
       "<table border=\"1\" class=\"dataframe\">\n",
       "  <thead>\n",
       "    <tr style=\"text-align: right;\">\n",
       "      <th></th>\n",
       "      <th>Topic Num</th>\n",
       "      <th>Num Documents</th>\n",
       "    </tr>\n",
       "  </thead>\n",
       "  <tbody>\n",
       "    <tr>\n",
       "      <th>0</th>\n",
       "      <td>3</td>\n",
       "      <td>7119</td>\n",
       "    </tr>\n",
       "    <tr>\n",
       "      <th>1</th>\n",
       "      <td>0</td>\n",
       "      <td>5986</td>\n",
       "    </tr>\n",
       "    <tr>\n",
       "      <th>2</th>\n",
       "      <td>5</td>\n",
       "      <td>4430</td>\n",
       "    </tr>\n",
       "    <tr>\n",
       "      <th>3</th>\n",
       "      <td>1</td>\n",
       "      <td>4078</td>\n",
       "    </tr>\n",
       "    <tr>\n",
       "      <th>4</th>\n",
       "      <td>7</td>\n",
       "      <td>3902</td>\n",
       "    </tr>\n",
       "    <tr>\n",
       "      <th>5</th>\n",
       "      <td>6</td>\n",
       "      <td>2196</td>\n",
       "    </tr>\n",
       "    <tr>\n",
       "      <th>6</th>\n",
       "      <td>9</td>\n",
       "      <td>1975</td>\n",
       "    </tr>\n",
       "    <tr>\n",
       "      <th>7</th>\n",
       "      <td>4</td>\n",
       "      <td>1326</td>\n",
       "    </tr>\n",
       "    <tr>\n",
       "      <th>8</th>\n",
       "      <td>8</td>\n",
       "      <td>1001</td>\n",
       "    </tr>\n",
       "    <tr>\n",
       "      <th>9</th>\n",
       "      <td>2</td>\n",
       "      <td>792</td>\n",
       "    </tr>\n",
       "  </tbody>\n",
       "</table>\n",
       "</div>"
      ],
      "text/plain": [
       "   Topic Num  Num Documents\n",
       "0          3           7119\n",
       "1          0           5986\n",
       "2          5           4430\n",
       "3          1           4078\n",
       "4          7           3902\n",
       "5          6           2196\n",
       "6          9           1975\n",
       "7          4           1326\n",
       "8          8           1001\n",
       "9          2            792"
      ]
     },
     "execution_count": 26,
     "metadata": {},
     "output_type": "execute_result"
    }
   ],
   "source": [
    "df_topic_distribution = df_document_topic['dominant_topic'].value_counts().reset_index(name=\"Num Documents\")\n",
    "df_topic_distribution.columns = ['Topic Num', 'Num Documents']\n",
    "df_topic_distribution"
   ]
  },
  {
   "cell_type": "code",
   "execution_count": 27,
   "id": "7b0fa165",
   "metadata": {
    "scrolled": false
   },
   "outputs": [
    {
     "name": "stderr",
     "output_type": "stream",
     "text": [
      "C:\\Users\\ASUS\\anaconda3\\envs\\marketplace\\lib\\site-packages\\ipykernel\\ipkernel.py:287: DeprecationWarning: `should_run_async` will not call `transform_cell` automatically in the future. Please pass the result to `transformed_cell` argument and any exception that happen during thetransform in `preprocessing_exc_tuple` in IPython 7.17 and above.\n",
      "  and should_run_async(code)\n"
     ]
    },
    {
     "data": {
      "text/html": [
       "<div>\n",
       "<style scoped>\n",
       "    .dataframe tbody tr th:only-of-type {\n",
       "        vertical-align: middle;\n",
       "    }\n",
       "\n",
       "    .dataframe tbody tr th {\n",
       "        vertical-align: top;\n",
       "    }\n",
       "\n",
       "    .dataframe thead th {\n",
       "        text-align: right;\n",
       "    }\n",
       "</style>\n",
       "<table border=\"1\" class=\"dataframe\">\n",
       "  <thead>\n",
       "    <tr style=\"text-align: right;\">\n",
       "      <th></th>\n",
       "      <th>Word 0</th>\n",
       "      <th>Word 1</th>\n",
       "      <th>Word 2</th>\n",
       "      <th>Word 3</th>\n",
       "      <th>Word 4</th>\n",
       "      <th>Word 5</th>\n",
       "      <th>Word 6</th>\n",
       "      <th>Word 7</th>\n",
       "      <th>Word 8</th>\n",
       "      <th>Word 9</th>\n",
       "      <th>Word 10</th>\n",
       "      <th>Word 11</th>\n",
       "      <th>Word 12</th>\n",
       "      <th>Word 13</th>\n",
       "      <th>Word 14</th>\n",
       "    </tr>\n",
       "  </thead>\n",
       "  <tbody>\n",
       "    <tr>\n",
       "      <th>Topic 0</th>\n",
       "      <td>time</td>\n",
       "      <td>call</td>\n",
       "      <td>day</td>\n",
       "      <td>company</td>\n",
       "      <td>phone</td>\n",
       "      <td>mortgage</td>\n",
       "      <td>email</td>\n",
       "      <td>information</td>\n",
       "      <td>number</td>\n",
       "      <td>letter</td>\n",
       "      <td>check</td>\n",
       "      <td>week</td>\n",
       "      <td>customer</td>\n",
       "      <td>hour</td>\n",
       "      <td>manager</td>\n",
       "    </tr>\n",
       "    <tr>\n",
       "      <th>Topic 1</th>\n",
       "      <td>loan</td>\n",
       "      <td>modification</td>\n",
       "      <td>home</td>\n",
       "      <td>payment</td>\n",
       "      <td>foreclosure</td>\n",
       "      <td>mortgage</td>\n",
       "      <td>sale</td>\n",
       "      <td>time</td>\n",
       "      <td>letter</td>\n",
       "      <td>document</td>\n",
       "      <td>year</td>\n",
       "      <td>application</td>\n",
       "      <td>date</td>\n",
       "      <td>servicer</td>\n",
       "      <td>process</td>\n",
       "    </tr>\n",
       "    <tr>\n",
       "      <th>Topic 2</th>\n",
       "      <td>bank</td>\n",
       "      <td>law</td>\n",
       "      <td>court</td>\n",
       "      <td>chase</td>\n",
       "      <td>state</td>\n",
       "      <td>bankruptcy</td>\n",
       "      <td>property</td>\n",
       "      <td>case</td>\n",
       "      <td>attorney</td>\n",
       "      <td>consumer</td>\n",
       "      <td>violation</td>\n",
       "      <td>action</td>\n",
       "      <td>note</td>\n",
       "      <td>debt</td>\n",
       "      <td>act</td>\n",
       "    </tr>\n",
       "    <tr>\n",
       "      <th>Topic 3</th>\n",
       "      <td>payment</td>\n",
       "      <td>mortgage</td>\n",
       "      <td>month</td>\n",
       "      <td>account</td>\n",
       "      <td>bank</td>\n",
       "      <td>amount</td>\n",
       "      <td>time</td>\n",
       "      <td>company</td>\n",
       "      <td>loan</td>\n",
       "      <td>money</td>\n",
       "      <td>pay</td>\n",
       "      <td>check</td>\n",
       "      <td>day</td>\n",
       "      <td>fund</td>\n",
       "      <td>balance</td>\n",
       "    </tr>\n",
       "    <tr>\n",
       "      <th>Topic 4</th>\n",
       "      <td>fee</td>\n",
       "      <td>account</td>\n",
       "      <td>statement</td>\n",
       "      <td>service</td>\n",
       "      <td>customer</td>\n",
       "      <td>charge</td>\n",
       "      <td>loan</td>\n",
       "      <td>amount</td>\n",
       "      <td>letter</td>\n",
       "      <td>date</td>\n",
       "      <td>balance</td>\n",
       "      <td>number</td>\n",
       "      <td>information</td>\n",
       "      <td>complaint</td>\n",
       "      <td>error</td>\n",
       "    </tr>\n",
       "    <tr>\n",
       "      <th>Topic 5</th>\n",
       "      <td>loan</td>\n",
       "      <td>home</td>\n",
       "      <td>closing</td>\n",
       "      <td>process</td>\n",
       "      <td>document</td>\n",
       "      <td>application</td>\n",
       "      <td>appraisal</td>\n",
       "      <td>lender</td>\n",
       "      <td>mortgage</td>\n",
       "      <td>time</td>\n",
       "      <td>day</td>\n",
       "      <td>officer</td>\n",
       "      <td>value</td>\n",
       "      <td>cost</td>\n",
       "      <td>date</td>\n",
       "    </tr>\n",
       "    <tr>\n",
       "      <th>Topic 6</th>\n",
       "      <td>credit</td>\n",
       "      <td>loan</td>\n",
       "      <td>rate</td>\n",
       "      <td>mortgage</td>\n",
       "      <td>interest</td>\n",
       "      <td>report</td>\n",
       "      <td>refinance</td>\n",
       "      <td>payoff</td>\n",
       "      <td>year</td>\n",
       "      <td>score</td>\n",
       "      <td>time</td>\n",
       "      <td>bank</td>\n",
       "      <td>company</td>\n",
       "      <td>freedom</td>\n",
       "      <td>day</td>\n",
       "    </tr>\n",
       "    <tr>\n",
       "      <th>Topic 7</th>\n",
       "      <td>insurance</td>\n",
       "      <td>escrow</td>\n",
       "      <td>taxis</td>\n",
       "      <td>mortgage</td>\n",
       "      <td>tax</td>\n",
       "      <td>property</td>\n",
       "      <td>company</td>\n",
       "      <td>account</td>\n",
       "      <td>policy</td>\n",
       "      <td>amount</td>\n",
       "      <td>year</td>\n",
       "      <td>pay</td>\n",
       "      <td>payment</td>\n",
       "      <td>letter</td>\n",
       "      <td>bill</td>\n",
       "    </tr>\n",
       "    <tr>\n",
       "      <th>Topic 8</th>\n",
       "      <td>forbearance</td>\n",
       "      <td>mortgage</td>\n",
       "      <td>plan</td>\n",
       "      <td>month</td>\n",
       "      <td>program</td>\n",
       "      <td>income</td>\n",
       "      <td>option</td>\n",
       "      <td>assistance</td>\n",
       "      <td>sps</td>\n",
       "      <td>care</td>\n",
       "      <td>portfolio</td>\n",
       "      <td>period</td>\n",
       "      <td>borrower</td>\n",
       "      <td>end</td>\n",
       "      <td>hardship</td>\n",
       "    </tr>\n",
       "    <tr>\n",
       "      <th>Topic 9</th>\n",
       "      <td>mortgage</td>\n",
       "      <td>loan</td>\n",
       "      <td>document</td>\n",
       "      <td>property</td>\n",
       "      <td>home</td>\n",
       "      <td>name</td>\n",
       "      <td>company</td>\n",
       "      <td>complaint</td>\n",
       "      <td>attorney</td>\n",
       "      <td>information</td>\n",
       "      <td>title</td>\n",
       "      <td>note</td>\n",
       "      <td>fraud</td>\n",
       "      <td>copy</td>\n",
       "      <td>trust</td>\n",
       "    </tr>\n",
       "  </tbody>\n",
       "</table>\n",
       "</div>"
      ],
      "text/plain": [
       "              Word 0        Word 1     Word 2    Word 3       Word 4  \\\n",
       "Topic 0         time          call        day   company        phone   \n",
       "Topic 1         loan  modification       home   payment  foreclosure   \n",
       "Topic 2         bank           law      court     chase        state   \n",
       "Topic 3      payment      mortgage      month   account         bank   \n",
       "Topic 4          fee       account  statement   service     customer   \n",
       "Topic 5         loan          home    closing   process     document   \n",
       "Topic 6       credit          loan       rate  mortgage     interest   \n",
       "Topic 7    insurance        escrow      taxis  mortgage          tax   \n",
       "Topic 8  forbearance      mortgage       plan     month      program   \n",
       "Topic 9     mortgage          loan   document  property         home   \n",
       "\n",
       "              Word 5     Word 6       Word 7    Word 8       Word 9  \\\n",
       "Topic 0     mortgage      email  information    number       letter   \n",
       "Topic 1     mortgage       sale         time    letter     document   \n",
       "Topic 2   bankruptcy   property         case  attorney     consumer   \n",
       "Topic 3       amount       time      company      loan        money   \n",
       "Topic 4       charge       loan       amount    letter         date   \n",
       "Topic 5  application  appraisal       lender  mortgage         time   \n",
       "Topic 6       report  refinance       payoff      year        score   \n",
       "Topic 7     property    company      account    policy       amount   \n",
       "Topic 8       income     option   assistance       sps         care   \n",
       "Topic 9         name    company    complaint  attorney  information   \n",
       "\n",
       "           Word 10      Word 11      Word 12    Word 13   Word 14  \n",
       "Topic 0      check         week     customer       hour   manager  \n",
       "Topic 1       year  application         date   servicer   process  \n",
       "Topic 2  violation       action         note       debt       act  \n",
       "Topic 3        pay        check          day       fund   balance  \n",
       "Topic 4    balance       number  information  complaint     error  \n",
       "Topic 5        day      officer        value       cost      date  \n",
       "Topic 6       time         bank      company    freedom       day  \n",
       "Topic 7       year          pay      payment     letter      bill  \n",
       "Topic 8  portfolio       period     borrower        end  hardship  \n",
       "Topic 9      title         note        fraud       copy     trust  "
      ]
     },
     "execution_count": 27,
     "metadata": {},
     "output_type": "execute_result"
    }
   ],
   "source": [
    "def show_topics(vectorizer=vectorizer, lda_model=best_lda_model, n_words=20):\n",
    "    keywords = np.array(vectorizer.get_feature_names())\n",
    "    topic_keywords = []\n",
    "    for topic_weights in lda_model.components_:\n",
    "        top_keyword_locs = (-topic_weights).argsort()[:n_words]\n",
    "        topic_keywords.append(keywords.take(top_keyword_locs))\n",
    "    return topic_keywords\n",
    "topic_keywords = show_topics(vectorizer=vectorizer, lda_model=best_lda_model, n_words=15)\n",
    "# Topic - Keywords Dataframe\n",
    "df_topic_keywords = pd.DataFrame(topic_keywords)\n",
    "df_topic_keywords.columns = ['Word '+str(i) for i in range(df_topic_keywords.shape[1])]\n",
    "df_topic_keywords.index = ['Topic '+str(i) for i in range(df_topic_keywords.shape[0])]\n",
    "df_topic_keywords"
   ]
  },
  {
   "cell_type": "code",
   "execution_count": 112,
   "id": "c1a84e13",
   "metadata": {
    "collapsed": true
   },
   "outputs": [
    {
     "name": "stderr",
     "output_type": "stream",
     "text": [
      "C:\\Users\\ASUS\\anaconda3\\envs\\marketplace\\lib\\site-packages\\ipykernel\\ipkernel.py:287: DeprecationWarning: `should_run_async` will not call `transform_cell` automatically in the future. Please pass the result to `transformed_cell` argument and any exception that happen during thetransform in `preprocessing_exc_tuple` in IPython 7.17 and above.\n",
      "  and should_run_async(code)\n",
      "C:\\Users\\ASUS\\anaconda3\\envs\\marketplace\\lib\\site-packages\\sklearn\\manifold\\_t_sne.py:691: FutureWarning: 'square_distances' has been introduced in 0.24 to help phase out legacy squaring behavior. The 'legacy' setting will be removed in 1.1 (renaming of 0.26), and the default setting will be changed to True. In 1.3, 'square_distances' will be removed altogether, and distances will be squared by default. Set 'square_distances'=True to silence this warning.\n",
      "  warnings.warn(\n"
     ]
    },
    {
     "data": {
      "text/html": [
       "\n",
       "<link rel=\"stylesheet\" type=\"text/css\" href=\"https://cdn.jsdelivr.net/gh/bmabey/pyLDAvis@3.3.1/pyLDAvis/js/ldavis.v1.0.0.css\">\n",
       "\n",
       "\n",
       "<div id=\"ldavis_el792825392525450089049519961\"></div>\n",
       "<script type=\"text/javascript\">\n",
       "\n",
       "var ldavis_el792825392525450089049519961_data = {\"mdsDat\": {\"x\": [32.42095184326172, 0.648955225944519, 71.01968383789062, 3.7859814167022705, -42.666500091552734, -3.6216893196105957, -3.632401704788208, -36.58440017700195, 44.391380310058594, 40.235809326171875], \"y\": [8.115229606628418, 71.70709991455078, 9.971006393432617, 33.18513488769531, -9.22206974029541, -43.52651596069336, -4.171707630157471, 35.804412841796875, 50.61538314819336, -31.591665267944336], \"topics\": [1, 2, 3, 4, 5, 6, 7, 8, 9, 10], \"cluster\": [1, 1, 1, 1, 1, 1, 1, 1, 1, 1], \"Freq\": [18.16270725743551, 15.664278260906261, 12.499697037783921, 10.55304750689768, 9.944140058967395, 7.60281031481956, 7.42905748544342, 7.297934954093961, 6.208008966424549, 4.638318157227745]}, \"tinfo\": {\"Term\": [\"payment\", \"credit\", \"insurance\", \"loan\", \"modification\", \"fee\", \"account\", \"mortgage\", \"rate\", \"escrow\", \"statement\", \"bank\", \"taxis\", \"forbearance\", \"tax\", \"property\", \"month\", \"call\", \"document\", \"refinance\", \"interest\", \"closing\", \"customer\", \"service\", \"report\", \"foreclosure\", \"income\", \"plan\", \"amount\", \"home\", \"contractor\", \"inspector\", \"lady\", \"tuesday\", \"financial\", \"adjuster\", \"machine\", \"callback\", \"resent\", \"pick\", \"connect\", \"resend\", \"renter\", \"cmg\", \"dog\", \"harvey\", \"cooperate\", \"mailbox\", \"rude\", \"tone\", \"feed\", \"apologize\", \"tape\", \"hrs\", \"girl\", \"rebuild\", \"decide\", \"pph\", \"chat\", \"gateway\", \"voice\", \"second\", \"spending\", \"message\", \"minute\", \"voicemail\", \"gentleman\", \"guy\", \"call\", \"hang\", \"supervisor\", \"hour\", \"speak\", \"manager\", \"talk\", \"phone\", \"repair\", \"email\", \"escalation\", \"person\", \"hold\", \"fill\", \"cell\", \"monday\", \"contact\", \"frustration\", \"week\", \"tell\", \"work\", \"number\", \"people\", \"day\", \"thing\", \"department\", \"send\", \"time\", \"get\", \"company\", \"check\", \"mail\", \"information\", \"paperwork\", \"today\", \"customer\", \"response\", \"house\", \"letter\", \"help\", \"service\", \"mortgage\", \"issue\", \"money\", \"home\", \"request\", \"process\", \"month\", \"auto\", \"tms\", \"huntington\", \"suspension\", \"pmt\", \"penfe\", \"curtailment\", \"pymt\", \"pmts\", \"limbo\", \"santander\", \"subservicer\", \"scammer\", \"homeownership\", \"redone\", \"stmt\", \"accelerator\", \"mortg\", \"boat\", \"suspend\", \"maine\", \"eft\", \"ditech\", \"pile\", \"flexibility\", \"habit\", \"allocation\", \"bee\", \"deduct\", \"cashier\", \"hero\", \"payment\", \"coupon\", \"ach\", \"principle\", \"wire\", \"grace\", \"principal\", \"trace\", \"suspense\", \"rectify\", \"ticket\", \"ledger\", \"month\", \"america\", \"draft\", \"bank\", \"fund\", \"account\", \"check\", \"money\", \"amount\", \"mortgage\", \"pay\", \"balance\", \"transfer\", \"make\", \"problem\", \"time\", \"company\", \"issue\", \"day\", \"bill\", \"interest\", \"history\", \"year\", \"statement\", \"loan\", \"phone\", \"record\", \"date\", \"call\", \"letter\", \"today\", \"week\", \"escrow\", \"help\", \"appraisal\", \"buyer\", \"seller\", \"realtor\", \"quicken\", \"appraiser\", \"loandepot\", \"bpo\", \"contingency\", \"bedroom\", \"renovation\", \"amerisave\", \"depot\", \"comp\", \"race\", \"pricing\", \"builder\", \"hsbc\", \"boss\", \"mip\", \"bathroom\", \"concession\", \"acre\", \"key\", \"questionnaire\", \"professional\", \"underwrite\", \"advisor\", \"negotiator\", \"footage\", \"processor\", \"price\", \"closing\", \"estimate\", \"rocket\", \"close\", \"officer\", \"underwriter\", \"consultant\", \"disclosure\", \"improvement\", \"value\", \"floor\", \"cost\", \"purchase\", \"originator\", \"construction\", \"approval\", \"market\", \"application\", \"lender\", \"loan\", \"process\", \"broker\", \"contract\", \"home\", \"offer\", \"document\", \"cash\", \"refinance\", \"house\", \"date\", \"day\", \"property\", \"time\", \"mortgage\", \"email\", \"point\", \"income\", \"week\", \"information\", \"fee\", \"modification\", \"trial\", \"carrington\", \"rushmore\", \"fay\", \"selene\", \"mod\", \"bofa\", \"mortgagor\", \"tracking\", \"inaccuracy\", \"generate\", \"modify\", \"stearn\", \"input\", \"accelerate\", \"cms\", \"mediator\", \"cfbp\", \"writer\", \"shoot\", \"mortgager\", \"tenancy\", \"legality\", \"countrywide\", \"ring\", \"postponement\", \"faye\", \"poc\", \"foreberance\", \"qualifie\", \"ocwen\", \"bayview\", \"rma\", \"caliber\", \"recast\", \"reinstatement\", \"planet\", \"maturity\", \"appeal\", \"foreclosure\", \"mitigation\", \"package\", \"phh\", \"sale\", \"auction\", \"loss\", \"packet\", \"loan\", \"review\", \"servicer\", \"assistance\", \"application\", \"home\", \"default\", \"document\", \"letter\", \"year\", \"date\", \"time\", \"attorney\", \"agreement\", \"help\", \"payment\", \"mortgage\", \"process\", \"paperwork\", \"request\", \"month\", \"day\", \"amount\", \"information\", \"insurance\", \"taxis\", \"analysis\", \"flood\", \"coverage\", \"premium\", \"hazard\", \"roundpoint\", \"assessor\", \"renewal\", \"parcel\", \"impound\", \"treasurer\", \"lapse\", \"homebridge\", \"township\", \"exemption\", \"projection\", \"cornerstone\", \"cmc\", \"renew\", \"wentworth\", \"plaza\", \"tiaa\", \"binder\", \"variance\", \"recalculate\", \"estimation\", \"allotment\", \"hpa\", \"tax\", \"policy\", \"escrow\", \"cushion\", \"shortage\", \"surplus\", \"city\", \"rez\", \"disbursement\", \"pmi\", \"county\", \"homeowner\", \"increase\", \"refund\", \"bill\", \"property\", \"cancellation\", \"removal\", \"pay\", \"year\", \"company\", \"amount\", \"account\", \"mortgage\", \"letter\", \"department\", \"issue\", \"home\", \"payment\", \"time\", \"month\", \"money\", \"loan\", \"score\", \"card\", \"bureaus\", \"flagstar\", \"gift\", \"payoff\", \"union\", \"bbva\", \"fico\", \"nfcu\", \"wellsfargo\", \"adviser\", \"late\", \"margin\", \"stick\", \"shopping\", \"worthiness\", \"libor\", \"consolidation\", \"checking\", \"chaos\", \"clearpath\", \"consolidate\", \"inheritance\", \"component\", \"off\", \"trap\", \"retraction\", \"townhome\", \"irrl\", \"credit\", \"rate\", \"quote\", \"report\", \"reporting\", \"pull\", \"diem\", \"refinance\", \"prepayment\", \"freedom\", \"rating\", \"student\", \"interest\", \"profile\", \"equity\", \"crosscountry\", \"inquiry\", \"heloc\", \"arm\", \"refi\", \"loan\", \"year\", \"agency\", \"mortgage\", \"line\", \"term\", \"point\", \"bureau\", \"lock\", \"bank\", \"company\", \"time\", \"information\", \"day\", \"home\", \"lender\", \"month\", \"amount\", \"process\", \"pay\", \"deed\", \"successor\", \"assignment\", \"identity\", \"tila\", \"citimortgage\", \"mer\", \"recorder\", \"lieu\", \"death\", \"inception\", \"probate\", \"executor\", \"reconveyance\", \"decree\", \"validity\", \"commit\", \"truck\", \"identification\", \"caller\", \"heir\", \"gregory\", \"forgery\", \"tcf\", \"conspiracy\", \"warranty\", \"colleague\", \"comptroller\", \"registry\", \"grandmother\", \"boa\", \"validation\", \"assumption\", \"lien\", \"trust\", \"quit\", \"clerk\", \"signature\", \"satisfaction\", \"mother\", \"ownership\", \"title\", \"fraud\", \"certificate\", \"release\", \"divorce\", \"father\", \"name\", \"scheme\", \"owner\", \"document\", \"property\", \"debt\", \"mortgage\", \"note\", \"estate\", \"record\", \"copy\", \"attorney\", \"holder\", \"settlement\", \"complaint\", \"loan\", \"home\", \"cfpb\", \"page\", \"information\", \"company\", \"claim\", \"county\", \"sale\", \"party\", \"letter\", \"year\", \"house\", \"request\", \"seterus\", \"region\", \"statebridge\", \"acct\", \"overdraft\", \"autopay\", \"truist\", \"software\", \"bmo\", \"pst\", \"login\", \"prompt\", \"sierra\", \"billpay\", \"digit\", \"autodraft\", \"column\", \"rebate\", \"assess\", \"defend\", \"brick\", \"misc\", \"merit\", \"accrue\", \"dmi\", \"pleasure\", \"overdrawn\", \"suspect\", \"display\", \"mobile\", \"incur\", \"harris\", \"fee\", \"reconciliation\", \"derogatory\", \"charge\", \"statement\", \"billing\", \"accounting\", \"sls\", \"csr\", \"service\", \"access\", \"debit\", \"customer\", \"adjustment\", \"account\", \"error\", \"balance\", \"correction\", \"transaction\", \"date\", \"explanation\", \"number\", \"response\", \"servicing\", \"complaint\", \"amount\", \"system\", \"letter\", \"servicer\", \"information\", \"history\", \"address\", \"request\", \"loan\", \"copy\", \"consumer\", \"mortgage\", \"payment\", \"practice\", \"issue\", \"chase\", \"firm\", \"exhibit\", \"motion\", \"cfr\", \"debtor\", \"arbitration\", \"petition\", \"defendant\", \"article\", \"currency\", \"jurisdiction\", \"decoration\", \"criminal\", \"capacity\", \"general\", \"sec\", \"suffer\", \"bond\", \"bls\", \"reaffirmation\", \"restitution\", \"examination\", \"corruption\", \"official\", \"defense\", \"commerce\", \"illinois\", \"violate\", \"rico\", \"plaintiff\", \"judgment\", \"court\", \"justice\", \"violation\", \"law\", \"judge\", \"bankruptcy\", \"act\", \"regulation\", \"section\", \"class\", \"chapter\", \"obligation\", \"provision\", \"protection\", \"consumer\", \"suit\", \"reserve\", \"case\", \"action\", \"state\", \"bank\", \"attorney\", \"lawsuit\", \"rule\", \"lawyer\", \"contract\", \"debt\", \"note\", \"evidence\", \"property\", \"client\", \"office\", \"foreclosure\", \"fact\", \"order\", \"fraud\", \"claim\", \"agreement\", \"borrower\", \"forbearance\", \"sps\", \"deferment\", \"forebearance\", \"unemployment\", \"lump\", \"coronavirus\", \"midland\", \"homepoint\", \"bay\", \"wfhm\", \"governor\", \"duress\", \"economy\", \"moratorium\", \"competition\", \"defer\", \"summit\", \"freeze\", \"harp\", \"select\", \"uncertainty\", \"corona\", \"profession\", \"repayment\", \"mandate\", \"bailout\", \"west\", \"restore\", \"hurt\", \"portfolio\", \"program\", \"plan\", \"preservation\", \"disaster\", \"covid\", \"relief\", \"irma\", \"hardship\", \"crisis\", \"income\", \"option\", \"sum\", \"pennymac\", \"hurricane\", \"assistance\", \"government\", \"investor\", \"job\", \"care\", \"borrower\", \"extension\", \"end\", \"period\", \"month\", \"mortgage\", \"loss\", \"term\", \"family\", \"offer\", \"state\", \"servicer\", \"help\", \"payment\", \"agreement\", \"work\", \"home\"], \"Freq\": [89072.0, 19784.0, 17786.0, 79990.0, 15660.0, 15581.0, 27873.0, 76105.0, 11536.0, 12502.0, 13125.0, 25954.0, 8918.0, 6432.0, 8282.0, 17572.0, 25738.0, 15087.0, 16671.0, 7670.0, 11810.0, 7403.0, 10276.0, 11896.0, 6238.0, 7727.0, 5729.0, 3967.0, 20028.0, 26421.0, 1131.2820452238745, 435.49400645268287, 381.7693311247358, 229.05522017909865, 164.68631035207883, 142.92313115855535, 120.63235939840905, 109.9051690067547, 104.77368090375272, 104.10814355254165, 85.24010482501853, 79.6400757509392, 76.45553855462657, 72.49812575503093, 72.0473969990636, 68.60900325154245, 66.27378229957074, 64.97991452221804, 66.25532696238069, 63.3867075169401, 63.3419160823635, 61.99154217860493, 59.696250306835466, 58.90669701772319, 57.99325178969688, 56.10919153910596, 53.6828672082787, 52.17626132775411, 51.939278108328864, 51.40056838608574, 460.4798691506559, 58.39751458085834, 60.56340361051478, 3290.619094416583, 1653.2102722439847, 568.9474038758021, 160.2108512351695, 272.4574135343639, 12328.754379199017, 554.5397236915258, 3482.640103893727, 3609.2953485649514, 2524.3471978035614, 3542.1992568840305, 1095.534402332294, 9314.483903165958, 1096.639232966674, 6330.353924199838, 706.484493320198, 2962.999266678595, 882.6388105356097, 186.05146536272895, 277.45320967482394, 517.2360073401928, 3156.5175050441676, 335.4949462774466, 4879.07178109621, 1822.5297824150682, 3226.022841170389, 5500.478925758633, 2353.790534107211, 9759.209652161371, 2149.458870925136, 3386.3011883583704, 2316.746659747537, 12394.067865076999, 2879.4699519405904, 9711.356376349355, 4908.025612515986, 2330.2419774108325, 5999.041178306707, 2143.5534107026037, 2710.5937962297526, 4022.2733469638756, 3258.429088685564, 3534.7660592716957, 5400.982734541455, 2889.7989468616593, 3422.331717166088, 6633.246543701308, 3116.5813458783596, 3235.0755042464557, 3527.160244986484, 2981.553304662254, 2983.5611332432422, 3018.0336159070266, 1000.6868217825805, 318.2488899772692, 198.31417566610295, 176.06488546484763, 120.34670006203017, 93.80022954658979, 87.3962718205512, 48.37438766200965, 45.830411682641596, 44.095871514883, 176.60258411744854, 41.7547861097571, 39.66377108092875, 38.74182947768103, 29.009651981417484, 26.685077065860817, 24.572060867791837, 24.38738480079368, 24.309286421323513, 24.212981155711287, 24.07135155908476, 23.231745000256062, 1584.4140567530749, 22.41645328061945, 22.248036395234276, 21.46620444991301, 29.067607550089345, 19.0017280426328, 72.06382398175114, 284.36410571022634, 46.32970640996886, 76332.08789237194, 252.3192638366654, 309.26671582989854, 459.6328052262545, 885.0156126212047, 278.32201204404, 186.7056172543297, 71.54397702043248, 277.5280934443852, 77.69731987775612, 459.15070240251936, 82.20687367646848, 12461.148145823852, 917.9450535582196, 522.7012011045732, 11804.798545068124, 4062.380732305102, 12061.879275683908, 5406.133213951107, 5843.650941444329, 8104.856617907408, 23956.236559744597, 5629.515953245155, 3181.603358204004, 1499.9838845542338, 965.3668622747236, 2132.8845823206047, 8081.380679849573, 6324.940104663788, 3070.2210219777576, 4784.0891284765, 1726.84138491005, 2664.871205551277, 1089.0530758712978, 2910.748706086843, 2448.5594811196834, 6003.253063614361, 2090.7918991413226, 1150.9357486478925, 1869.1358095867508, 1957.597922895151, 2126.5964107809045, 1282.2074012218486, 1388.49054285388, 1441.5215368822737, 1293.061558773767, 4493.377410910577, 1927.1205275672778, 1274.1539589522033, 1137.2353819410325, 376.59423777240397, 370.8348231795967, 304.39603541613496, 275.99899055488464, 195.97962571421067, 175.1674245191973, 174.3803727391813, 171.88474965221445, 793.2405494681709, 167.27302665428397, 142.18825428304234, 137.08324868881115, 427.6530856816636, 129.35427239348402, 122.09535485673729, 116.80089283907256, 92.79520242255371, 86.4676256149274, 86.23267971879098, 79.40612380558125, 70.78962653644473, 70.7998396656905, 69.72916127561543, 177.79673778445613, 64.81448054886064, 62.47865722410424, 1356.2609265325993, 1165.0581681802903, 7077.866245426795, 1682.3039048980286, 437.87132730461275, 1147.7463763399987, 3571.2420046107068, 977.5034666412628, 361.4838453691518, 2640.242725872016, 325.01885021839684, 3182.6736292956125, 388.57185691191484, 3157.4389320944265, 1860.2095852415614, 559.2882774575829, 484.50644090560604, 1596.177760256676, 923.3249251282065, 4573.570215904842, 4402.822395300785, 25046.117983655262, 4999.458922086494, 839.9335540116306, 1781.151340269233, 7415.666406553214, 1648.2436535979439, 4815.230975792698, 1100.7313189272954, 2402.250162156092, 2606.2613708284634, 2992.0432425647095, 3731.428530065956, 2985.8314834543085, 3761.142396434018, 4085.837169758436, 1788.5371252817922, 1627.8836874138804, 1598.36934582646, 1726.7474857162777, 1828.9314227951982, 1674.7159233087386, 15658.438205307071, 2053.8452523492597, 1237.542375772102, 1159.3472672773382, 827.2803248346846, 625.1027582606972, 372.0615271103769, 217.35657140976758, 117.23483863868654, 108.5742715410711, 91.9279418474974, 85.71207252342782, 314.1100464976022, 75.25001061507292, 63.82481013324957, 62.667554885506675, 61.30712781466076, 60.816918211428785, 57.467881280270895, 53.73096638877812, 44.69506256331868, 40.025880019720404, 36.26888394076665, 35.48649992485783, 47.984023895642856, 30.955478505506687, 28.4704102500341, 28.307549515676065, 27.904001011186576, 27.767026819597447, 64.14412290069734, 1144.7449887920795, 894.4184621187749, 142.23703679879907, 831.4815276547951, 189.66787695764228, 279.4981047565708, 287.5970011199853, 314.0915471010497, 618.9784604706759, 5882.305651263812, 1801.8500061802106, 1187.2787211747907, 1136.1727670451394, 4876.842384357006, 506.6122582738339, 2068.070028435183, 552.3610773997901, 20929.722005529184, 1789.1938526549993, 2396.886863911604, 1691.660472507249, 2983.6338216821578, 7029.835129835772, 956.9666948355028, 3720.175587012764, 4305.869433438034, 3466.503091829235, 2854.9741226586702, 4600.846691571033, 1771.2264030234287, 1475.8943229990275, 1844.7152920478286, 6572.283004175511, 5489.345168967886, 2133.731489070226, 1283.00665882198, 1653.5045017750651, 1773.8899262259483, 1704.5803003676183, 1625.810720057912, 1495.6673902239168, 17785.601913644852, 8917.440544538818, 2102.548345211237, 1586.0600112742013, 1395.255709191935, 1025.329932164615, 621.8714403019095, 439.8639979916901, 321.9109139578407, 262.70489341427685, 234.23337480029755, 211.7233381659534, 202.63121458740045, 196.82894993378352, 147.2064368094095, 119.11546795519382, 391.97252432304464, 91.51880126330404, 84.17896797491541, 80.9829901487291, 72.64170126376665, 70.47096400254559, 65.11984658520603, 63.584530278844895, 57.68822586020964, 51.855295849483475, 44.9098771397068, 44.68764222736637, 43.87113469066149, 42.39094698460626, 8041.482508018972, 4664.368464902916, 11060.154858666956, 235.47732080882443, 1837.051915909473, 204.65288654503638, 784.9938949645149, 428.39451076518617, 457.29568044559664, 1970.0682098515758, 1897.366601904392, 2190.367960633618, 1332.1119293691577, 1829.0663671431944, 2585.797287227901, 6633.2488469506025, 483.0681046261555, 361.28455202858356, 3512.6551881542778, 3878.937363244218, 5182.054526594898, 4027.7682136620697, 4820.222344993728, 8118.067779545516, 2839.0378390668084, 1320.795407815135, 1601.3809971822257, 2280.5573469002725, 3473.3120757711044, 2267.2036852691126, 2058.733989252917, 1522.9742809888494, 2126.697563676405, 2647.146354766531, 1381.1716074489048, 1071.2677081192603, 1012.6343457339598, 151.31920753532066, 4107.738736535661, 936.2851226405512, 103.13791476244333, 99.1324512122808, 97.86623876587072, 81.78500436072729, 56.988724642222444, 48.834306099323086, 43.74695488446311, 41.52111901207227, 39.70738645260681, 37.11798152118243, 33.163864907180866, 32.16804390213146, 81.10203307861568, 30.68694887279533, 27.4304499168571, 26.140770026064285, 26.164616965629417, 25.914699102555932, 25.748528996228803, 25.710509043013992, 23.835372767579894, 23.154485400060675, 22.26485659649038, 18600.8407910549, 9998.389667989222, 188.67135045560397, 5292.200664017565, 875.9535367916533, 402.9480842274273, 68.79144191497426, 5096.843255860681, 136.82664647234063, 2041.323343138146, 459.0345932708584, 219.61178380619475, 6429.976380003334, 110.02024205063084, 1345.8292696592748, 80.58863769888474, 741.1278042352828, 196.0785576405038, 152.22831509770614, 343.6038233856203, 12841.405889115746, 3411.576584189357, 721.329671555014, 8487.584170502716, 990.3299304020487, 1047.8259332581806, 1322.140861914947, 509.8016724567762, 444.0363625671948, 2282.8084878298255, 2234.6471675209345, 2387.846345385083, 1581.6083363432576, 1649.8370073254027, 1501.542561308138, 980.356608498078, 1331.6013782795983, 1169.1154719412086, 958.4692135013911, 883.7497848130454, 1599.3951129531831, 363.06669959657677, 558.6188340350244, 329.0734884110896, 283.5799370465542, 276.6552704442945, 209.33069684187936, 182.72599899228288, 174.31036953136223, 580.953865236052, 515.3634481978755, 133.5015252512887, 115.42313842437594, 109.71152825660106, 110.96482537168957, 104.50932040678336, 102.60025564706966, 80.21146455425568, 77.7091389346623, 75.9998525281169, 75.42916811656875, 72.81660997054233, 72.7034692975752, 70.09775414881616, 66.42273932914244, 94.08663757045339, 63.19744217697071, 56.30743119449827, 56.3587891931445, 55.33438600511271, 859.2828909383879, 316.4722874349247, 463.1092365414259, 1360.9247587979398, 1649.0168242708512, 219.82922786385387, 216.5812419761339, 941.7563509317595, 314.52149588389466, 639.3893473885263, 481.06305607325294, 1757.225649770015, 1703.1737032247393, 524.7242967756332, 921.557854559746, 431.0435200800501, 276.0547645423363, 2362.036240603262, 201.87374083818347, 1215.3299125421008, 4715.569423926406, 4654.076327531226, 1632.9483757386226, 11797.66853244235, 1755.8448035712754, 958.1320692847584, 1497.5590468104351, 1655.6342074498236, 1949.514417983397, 645.5519895696274, 822.4761412774528, 2121.7585705275164, 6356.108698963714, 2925.2827637239902, 879.0899821631014, 796.1198943479485, 1902.0200678256206, 2351.8241286577063, 1044.368810626899, 903.6343894364683, 1179.9044171530845, 832.8016390271226, 1478.6308753094133, 1266.5634428916023, 888.2169787965246, 886.7615454904561, 466.21587738064534, 371.8496583835517, 250.1875533503365, 213.43984603534932, 198.7727604858605, 190.5344510285927, 110.61004767419519, 102.86570124540123, 88.3037397052036, 87.41563915936645, 86.71585955461484, 69.66449591537456, 62.24843683892017, 56.93363564769311, 54.40428901589158, 45.80572055284331, 43.66991400345825, 42.72468962464873, 42.234937583654826, 39.40682392446628, 38.6084512404355, 38.124513211834646, 38.0637848984078, 34.873769416014966, 34.81220003688558, 33.36488916484884, 32.41128832479114, 34.89370887012629, 31.44765563113999, 30.60234107187593, 65.45613331201334, 52.8698669917152, 13152.070754687147, 66.65205742830547, 68.9367459019003, 4207.57326956161, 9259.399908078874, 430.32353381751227, 560.0196063690743, 1038.118802664353, 127.36277050856971, 5432.352415502843, 977.1008150475037, 340.7683697850897, 4690.483546131055, 389.72545985128227, 9941.262128594639, 2053.6502838901633, 2910.128713796432, 404.14474533278695, 878.9097367716108, 3091.291551617471, 826.2441668187035, 2525.622233962036, 1942.9207922830365, 620.2350934407614, 2257.6815610906383, 3502.771780371642, 1130.337605111463, 3322.1634007990647, 1362.7873214562587, 2464.8928652326817, 841.005988697912, 973.7370911548146, 1496.169052640241, 4026.5536485272173, 942.7670822452494, 877.3607696194084, 1857.31918321068, 1364.2080942175828, 728.4843431886209, 873.908733046366, 3024.052243352227, 916.3806001223048, 670.3105454417708, 421.69076266908195, 209.37542589562338, 189.6478250048588, 203.08560831124635, 161.50039317092777, 165.14797233350282, 147.41661105529957, 120.99478883780272, 120.91852410659222, 120.57083505342005, 114.72812223851338, 112.97512125653552, 111.10535170219768, 103.53829765751212, 103.32212106018069, 102.89119274920236, 94.01837655630398, 93.24613664474656, 90.32678078917468, 90.59874299959297, 86.39353033087436, 84.29689639744659, 84.11334759945568, 81.26758782830778, 79.02679759892172, 77.47921266775897, 71.58334335730817, 272.26741971358683, 299.814942157435, 3170.2606888510063, 334.30753986767314, 1597.5642003268702, 3583.839306547094, 543.2565492094673, 2543.653481193199, 1368.2749748009894, 760.9621222620082, 886.1823506174067, 368.7350179952458, 758.6943884974863, 745.6336750566439, 215.20829440915335, 920.8942278649387, 2080.2577740968923, 280.1645255685099, 392.9078646068768, 2367.1558104638366, 1576.2906119350844, 2545.7857530670785, 6793.948571788064, 2228.3436997568106, 423.4029490431829, 663.4459617998235, 781.7270517885249, 1247.348805910186, 1374.4966855913572, 1480.0378368986505, 678.445582201261, 2456.459597660784, 706.8124138401541, 1084.4884118047319, 1250.483486989097, 957.5490735335212, 951.5978166359569, 810.7692517040498, 903.4786822848165, 846.7982339137171, 771.4479171560034, 6432.051891095659, 1465.6087069845555, 529.5493064934541, 419.59520131943583, 416.89059463321746, 337.09721569231766, 146.19062101862892, 141.12479017075154, 135.3171461474904, 126.33362615359746, 119.55405073888804, 109.6640343570141, 90.44495954571501, 90.01236021023911, 82.90050351218731, 78.0297720886827, 97.28277077886773, 71.53701247268887, 70.41736405244009, 69.8621551685939, 69.64177690892248, 69.39774448487672, 67.0742691990665, 64.78925526778205, 1039.8647773019509, 60.44581929927249, 53.3193667170066, 51.460154728628666, 51.23026519096946, 48.969695412032486, 1260.9462958867705, 3385.0595375315443, 3519.6356589947018, 248.32846438386835, 513.3433292099928, 268.85644355644376, 858.1418146193099, 147.28900625387115, 1145.0182919579916, 296.12687470639753, 3065.6908539370193, 2655.115440615285, 308.30255328978586, 537.1258212349845, 401.1517156433126, 1591.958591560811, 664.0820417537865, 871.9697167339148, 997.694171220757, 1353.737143062856, 1166.7920014058543, 557.7394960361779, 1147.5525264585644, 1167.1075718553902, 3468.0576308726077, 5328.570300362527, 1024.5849118786236, 930.6566527740722, 773.1930366825376, 710.2998947357429, 838.4953153631487, 802.1892588760529, 816.6026611096876, 1139.0319737503419, 707.402728565493, 712.6009165294248, 786.3083932394184], \"Total\": [89072.0, 19784.0, 17786.0, 79990.0, 15660.0, 15581.0, 27873.0, 76105.0, 11536.0, 12502.0, 13125.0, 25954.0, 8918.0, 6432.0, 8282.0, 17572.0, 25738.0, 15087.0, 16671.0, 7670.0, 11810.0, 7403.0, 10276.0, 11896.0, 6238.0, 7727.0, 5729.0, 3967.0, 20028.0, 26421.0, 1132.1653794351955, 436.3773996036968, 382.686371522414, 229.93878844396778, 165.57004458161703, 143.8063953217043, 121.51590105469859, 110.79055300669657, 105.65705598412535, 104.99173598095376, 86.12503598716607, 80.52386829869594, 77.33964279388518, 73.38150474265012, 72.9308944085375, 69.49258955164433, 67.15786578547657, 65.8632695584424, 67.1644564626521, 64.27015178985981, 64.2254596061421, 62.87503224277678, 60.57978467074271, 59.79009750411034, 58.87660189680169, 56.99248967053179, 54.566510613863116, 53.060055438259205, 52.83177271295426, 52.283941069251924, 470.6192366730332, 59.415483544278096, 61.73557441340655, 3668.976488795037, 1814.4780137859289, 615.0231955048093, 167.34535455027526, 290.1298301949328, 15087.442818012549, 607.159417534015, 4255.907425479807, 4492.363172974496, 3157.499508147835, 4556.939508313211, 1321.8397634132075, 13222.914158783997, 1354.3476504837456, 9061.860315108603, 867.0676463163409, 4163.684399211977, 1124.6337111293703, 204.6096846904893, 319.42489080097, 644.2360975190855, 5053.155012615647, 395.93898075730925, 8698.505691102406, 2881.030973696571, 5640.514788208714, 10764.53096039111, 4082.907359026627, 22757.952240466988, 3674.0824505918226, 6481.169687491865, 4131.014534681896, 34534.31548723938, 5485.570590952341, 28552.281630116075, 11394.145468918237, 4286.009511896343, 16364.916451663994, 3921.044974874717, 5463.618354622024, 10276.83203626613, 7808.761065288833, 9402.584169065234, 21253.461532605044, 7442.605464298001, 11896.135120079394, 76105.36867234527, 11068.854770715496, 12948.140114046277, 26421.004341926415, 9883.435540402434, 11758.733495002049, 25738.23232679558, 1001.7156632432839, 319.1306638677716, 199.1960936879049, 176.94755392009466, 121.22868050988345, 94.6823223418148, 88.27856142965594, 49.25681360083898, 46.7123267583197, 44.978192596497955, 180.20186689175904, 42.637076629511384, 40.54641202398665, 39.62695918555864, 29.89206313811013, 27.567051966261303, 25.453870282601716, 25.269310969100367, 25.191342817593373, 25.096642745543726, 24.954498239697248, 24.113499963474922, 1646.094824998513, 23.2991964977258, 23.13039524193565, 22.348130723091824, 30.29162877367478, 19.884289739292498, 75.56435628878128, 298.1909204373762, 48.649168734259696, 89072.18938299641, 276.17006577941424, 357.5338423368996, 543.9575785249089, 1090.7858961604034, 332.4454797008668, 218.9886574854207, 79.00364383764766, 334.3992940714284, 86.69693249637179, 619.6798624412446, 94.60825597613845, 25738.23232679558, 1392.1488728140225, 746.008218750742, 25954.48510415138, 7912.309230206466, 27873.595489629024, 11394.145468918237, 12948.140114046277, 20028.296373801117, 76105.36867234527, 14238.194435274252, 7993.711429826444, 3235.4890193262254, 1840.646598837588, 5599.165280868782, 34534.31548723938, 28552.281630116075, 11068.854770715496, 22757.952240466988, 5296.374697651701, 11810.204246807421, 2826.109206223774, 17364.547232476074, 13125.713369879619, 79990.17479224766, 13222.914158783997, 3958.911668856362, 13058.92795828787, 15087.442818012549, 21253.461532605044, 5463.618354622024, 8698.505691102406, 12502.46382955793, 7442.605464298001, 4494.277144789554, 1928.002159213905, 1275.0353706649316, 1138.1180153868759, 377.475944535454, 371.7162458132445, 305.2774898649548, 277.059868333033, 196.86102878789146, 176.0489739469994, 175.26205566871255, 172.76639695690235, 797.360184769372, 168.15443924559946, 143.06989147935775, 137.9648025885481, 430.54558225531133, 130.2357551058721, 122.97718605048347, 117.68271785225578, 93.67668095174157, 87.34916763268612, 87.11434495723805, 80.28774068325284, 71.67110645622482, 71.68164893665404, 70.61060554811226, 180.04577945353617, 65.69672973456267, 63.361728932355454, 1386.4813932809866, 1196.1802206972848, 7403.495721384893, 1737.52225741417, 450.41580121638685, 1200.579249281325, 3918.8543846965713, 1038.5157766005852, 376.12643802035444, 3043.4893021985295, 344.5417243721868, 3892.8840566122108, 425.53009133877816, 4357.96288541297, 2482.6219818582467, 655.9932670190288, 558.395612890413, 2174.7074904342353, 1200.5779266396578, 8290.36232351127, 8663.819022380894, 79990.17479224766, 11758.733495002049, 1185.325936831927, 3327.5722381902597, 26421.004341926415, 3269.9635326399703, 16671.404024972217, 1846.493320102365, 7670.660200176962, 9402.584169065234, 13058.92795828787, 22757.952240466988, 17572.42204105124, 34534.31548723938, 76105.36867234527, 9061.860315108603, 6208.028691658962, 5729.799887566491, 8698.505691102406, 16364.916451663994, 15581.081683998867, 15660.680998838638, 2054.731099133572, 1238.4237871550315, 1160.228934506444, 828.3802326753391, 625.991040962419, 372.9429281398487, 218.2380286142371, 118.11650220284179, 109.46447333152777, 92.80983302620835, 86.5939360728429, 317.53191393997184, 76.13172450695626, 64.70662560401914, 63.54898979457417, 62.18848646825902, 61.69843875539734, 58.34955416340842, 54.61252384061243, 45.57764969982423, 40.90744557469233, 37.15055511861035, 36.368834441357166, 49.24295740583879, 31.837723199648302, 29.351761350538855, 29.190384106456108, 28.785542155204244, 28.648471195185838, 66.72152699813262, 1240.6980914893497, 972.8953936526623, 149.2320464641394, 906.1737181733872, 200.76885096852203, 309.3268959687861, 320.64709041041493, 352.24988023474737, 721.9867243349839, 7727.870766158807, 2230.3187995852472, 1467.8844667758835, 1495.3170445928795, 7760.068874047654, 651.8947305752803, 3846.2978148578018, 818.1266546096857, 79990.17479224766, 3923.3509418154645, 5696.029784348469, 3920.3007071943985, 8290.36232351127, 26421.004341926415, 1992.8980822380827, 16671.404024972217, 21253.461532605044, 17364.547232476074, 13058.92795828787, 34534.31548723938, 6366.869847049363, 4851.066480350538, 7442.605464298001, 89072.18938299641, 76105.36867234527, 11758.733495002049, 3921.044974874717, 9883.435540402434, 25738.23232679558, 22757.952240466988, 20028.296373801117, 16364.916451663994, 17786.602080441837, 8918.381482243452, 2103.503483300262, 1586.942852300677, 1396.1385524668508, 1026.2128064479853, 622.754332198185, 440.74810067136315, 322.7938215781938, 263.5878603489436, 235.11630031794738, 212.60824168122662, 203.51408878657494, 197.7118016354594, 148.08933541008608, 119.99834446997734, 395.34931149117506, 92.40193698163922, 85.06224739336828, 81.86597047370869, 73.52478595491753, 71.35397476819396, 66.00274726202112, 64.46755893844185, 58.57187458288837, 52.73857562953067, 45.792931645600966, 45.570805661598364, 44.75428390851182, 43.273794929691576, 8282.884795226835, 4967.586009247915, 12502.46382955793, 248.01923404208233, 2066.0721189422256, 216.39982452120563, 968.7539483678871, 506.0545530534279, 551.2086295630629, 2834.1193345281413, 2819.053776049659, 3750.3605424787606, 2183.5595686100132, 3399.514410482316, 5296.374697651701, 17572.42204105124, 712.9900427702928, 471.3187405618948, 14238.194435274252, 17364.547232476074, 28552.281630116075, 20028.296373801117, 27873.595489629024, 76105.36867234527, 21253.461532605044, 6481.169687491865, 11068.854770715496, 26421.004341926415, 89072.18938299641, 34534.31548723938, 25738.23232679558, 12948.140114046277, 79990.17479224766, 2648.028257233902, 1382.1508513107499, 1072.1690308632476, 1013.5217401280107, 152.20065762587944, 4133.991878282257, 943.7599522880919, 104.0187809657575, 100.0133591017563, 98.74723279772552, 82.66591777101239, 57.87066259825877, 49.71519549338828, 44.62779425740532, 42.40211558816021, 40.58832021946303, 37.99896687537441, 34.044908678756045, 33.04910275172188, 83.38521221593167, 31.568557255264214, 28.311257543178066, 27.02169675239084, 27.046670858009655, 26.796536218533817, 26.62971481388128, 26.591953548698825, 24.716699301612802, 24.0355610404599, 23.145830874251367, 19784.964101431036, 11536.408450085519, 200.81221152764172, 6238.745793949063, 1003.9646916080713, 452.33167499284974, 74.74161585556702, 7670.660200176962, 157.4599339597931, 2912.8621321150003, 605.6557963122484, 269.62975481544674, 11810.204246807421, 127.41970607294795, 2251.084285532088, 92.16112491797914, 1349.5786039348998, 277.5663034669796, 204.02147177149197, 592.20687908737, 79990.17479224766, 17364.547232476074, 2023.7747045894703, 76105.36867234527, 3255.7711399156547, 4061.0163251611866, 6208.028691658962, 1351.4899740506692, 1177.126719881273, 25954.48510415138, 28552.281630116075, 34534.31548723938, 16364.916451663994, 22757.952240466988, 26421.004341926415, 8663.819022380894, 25738.23232679558, 20028.296373801117, 11758.733495002049, 14238.194435274252, 1600.5522474394775, 363.9524311834116, 560.1093374457265, 329.95608826091757, 284.46502803080415, 277.5377105220546, 210.23069988751016, 183.60847256502234, 175.19294054652727, 584.0961484307525, 518.1686640309694, 134.3841309602904, 116.30555814151447, 110.59512416254638, 111.88395309780563, 105.39423080812952, 103.48294567460502, 81.09425242045417, 78.59225627779144, 76.88279240783012, 76.31208726629941, 73.69919457925097, 73.58590061686334, 70.98125461587851, 67.30517701767252, 95.37107714781786, 64.08048861864651, 57.19001582237408, 57.24261560676395, 56.21687271048739, 878.8811759327499, 324.7522959163956, 477.40660225072264, 1459.383671120409, 1789.2178694218458, 232.68111578295836, 230.33253432566, 1110.8674116283337, 360.7619287393371, 800.7463299256341, 599.5117582459508, 2624.269124666204, 2586.341288410189, 702.5887994587918, 1367.0645637654316, 565.8960932925089, 333.20546152191383, 4579.7008122891875, 229.8774615257921, 2376.485588379939, 16671.404024972217, 17572.42204105124, 4205.7259620121, 76105.36867234527, 4860.370045431153, 1997.3655260307635, 3958.911668856362, 4859.498769736312, 6366.869847049363, 1131.1164397165685, 1741.1744970990696, 10296.394372895555, 79990.17479224766, 26421.004341926415, 2161.7828637325833, 1883.1480063567988, 16364.916451663994, 28552.281630116075, 4287.608685642384, 2819.053776049659, 7760.068874047654, 2204.2807997217355, 21253.461532605044, 17364.547232476074, 9402.584169065234, 9883.435540402434, 467.0954338356327, 372.729118686876, 251.06692493889332, 214.3238420252818, 199.6522094507677, 191.41387829148408, 111.48957210443056, 103.74519504475472, 89.18314731698412, 88.29515079526968, 87.59710709377873, 70.54420834959582, 63.127902155998676, 57.813021939296476, 55.28418630812539, 46.68507270201003, 44.54936724656224, 43.604546729411894, 43.11464677783549, 40.28806396670556, 39.48849710706936, 39.0042956770078, 38.94365559993806, 35.753287494324255, 35.69156068016017, 34.244951458388364, 33.29073250089844, 35.85812866202429, 32.32743135314054, 31.481998238671025, 67.38343167009616, 54.87380709401055, 15581.081683998867, 69.58615013890254, 72.26549624564319, 5115.122089655707, 13125.713369879619, 511.1708286839745, 723.337483081403, 1432.820183815104, 148.4860768083548, 11896.135120079394, 1618.4265379035521, 477.8413649986708, 10276.83203626613, 582.637197778374, 27873.595489629024, 5072.6447727195355, 7993.711429826444, 687.776815633007, 2208.109906409543, 13058.92795828787, 2183.6645757002384, 10764.53096039111, 7808.761065288833, 1528.0500313158022, 10296.394372895555, 20028.296373801117, 3838.8772095077197, 21253.461532605044, 5696.029784348469, 16364.916451663994, 2826.109206223774, 3869.5722976457705, 9883.435540402434, 79990.17479224766, 4859.498769736312, 4189.806683818083, 76105.36867234527, 89072.18938299641, 3442.6726424564727, 11068.854770715496, 3024.9329883431733, 917.5262124121429, 671.1912970974851, 423.47857749845633, 210.28054564010796, 190.52836772647808, 204.14451510024466, 162.3824882898123, 166.07939878671263, 148.2976692740663, 121.87525488345513, 121.79903894108499, 121.45149826803802, 115.60866623845038, 113.85585673078874, 111.98610194013916, 104.41969086975166, 104.20294397112332, 103.77181761244682, 94.90114546336416, 94.12710209535479, 91.20748515418711, 91.48529401705375, 87.27410330966806, 85.17747729304375, 84.99390100686472, 82.14817203016136, 79.90752098194224, 78.36685788811369, 72.46385006955924, 276.4214494103088, 313.28275827030393, 3701.17067549515, 355.93194942527026, 1968.2015034431001, 4704.773317750606, 627.8301311909848, 3656.985887415527, 1856.1813936499077, 968.2420280582209, 1197.7544079766342, 453.5665187234848, 1050.4002808282742, 1079.399395992074, 248.82482576468232, 1470.2159394173464, 4189.806683818083, 349.73502401550616, 539.2826675110597, 5326.878857569888, 3306.6522125041856, 6498.9505907636485, 25954.48510415138, 6366.869847049363, 620.0263064797659, 1183.0392272921893, 1565.610629318427, 3327.5722381902597, 4205.7259620121, 4860.370045431153, 1344.158492636373, 17572.42204105124, 1622.5422596652893, 4456.630570788692, 7727.870766158807, 4373.100159435627, 4544.747752068733, 2586.341288410189, 4287.608685642384, 4851.066480350538, 3103.123811328788, 6432.931850573073, 1466.489466740291, 530.5966220328277, 420.47515662843375, 417.7706808344729, 338.9469136913307, 147.07064815847082, 142.0047804521811, 136.20533087540494, 127.21369349350779, 120.4340443593313, 110.54459530339349, 91.32529441300446, 90.89245981271698, 83.78234281868029, 78.90987557942738, 98.45334086814046, 72.41703873706682, 71.29764996949784, 70.74300108551006, 70.52185183610474, 70.27852698580897, 67.9547620576503, 65.66946067472729, 1054.096416788885, 61.32596764779727, 54.199413796644215, 52.34033044786921, 52.11052487158142, 49.849972196830315, 1298.9497890762364, 3549.800885333786, 3967.0772576029135, 270.42250418315854, 581.6123586863839, 297.04697069352403, 1059.6864539687313, 166.81215661468292, 1805.1683581921432, 377.61717419539207, 5729.799887566491, 4986.9235120964295, 442.86289068461883, 907.4236480931199, 631.1444716630926, 3920.3007071943985, 1306.342242812485, 1904.4029904603065, 2359.2415452165646, 3674.304838990648, 3103.123811328788, 1198.2586961184738, 3649.4479908746084, 3805.7162042962937, 25738.23232679558, 76105.36867234527, 3846.2978148578018, 4061.0163251611866, 2835.5123774947347, 3269.9635326399703, 6498.9505907636485, 5696.029784348469, 7442.605464298001, 89072.18938299641, 4851.066480350538, 5640.514788208714, 26421.004341926415], \"Category\": [\"Default\", \"Default\", \"Default\", \"Default\", \"Default\", \"Default\", \"Default\", \"Default\", \"Default\", \"Default\", \"Default\", \"Default\", \"Default\", \"Default\", \"Default\", \"Default\", \"Default\", \"Default\", \"Default\", \"Default\", \"Default\", \"Default\", \"Default\", \"Default\", \"Default\", \"Default\", \"Default\", \"Default\", \"Default\", \"Default\", \"Topic1\", \"Topic1\", \"Topic1\", \"Topic1\", \"Topic1\", \"Topic1\", \"Topic1\", \"Topic1\", \"Topic1\", \"Topic1\", \"Topic1\", \"Topic1\", \"Topic1\", \"Topic1\", \"Topic1\", \"Topic1\", \"Topic1\", \"Topic1\", \"Topic1\", \"Topic1\", \"Topic1\", \"Topic1\", \"Topic1\", \"Topic1\", \"Topic1\", \"Topic1\", \"Topic1\", \"Topic1\", \"Topic1\", \"Topic1\", \"Topic1\", \"Topic1\", \"Topic1\", \"Topic1\", \"Topic1\", \"Topic1\", \"Topic1\", \"Topic1\", \"Topic1\", \"Topic1\", \"Topic1\", \"Topic1\", \"Topic1\", \"Topic1\", \"Topic1\", \"Topic1\", \"Topic1\", \"Topic1\", \"Topic1\", \"Topic1\", \"Topic1\", \"Topic1\", \"Topic1\", \"Topic1\", \"Topic1\", \"Topic1\", \"Topic1\", \"Topic1\", \"Topic1\", \"Topic1\", \"Topic1\", \"Topic1\", \"Topic1\", \"Topic1\", \"Topic1\", \"Topic1\", \"Topic1\", \"Topic1\", \"Topic1\", \"Topic1\", \"Topic1\", \"Topic1\", \"Topic1\", \"Topic1\", \"Topic1\", \"Topic1\", \"Topic1\", \"Topic1\", \"Topic1\", \"Topic1\", \"Topic1\", \"Topic1\", \"Topic1\", \"Topic1\", \"Topic1\", \"Topic1\", \"Topic2\", \"Topic2\", \"Topic2\", \"Topic2\", \"Topic2\", \"Topic2\", \"Topic2\", \"Topic2\", \"Topic2\", \"Topic2\", \"Topic2\", \"Topic2\", \"Topic2\", \"Topic2\", \"Topic2\", \"Topic2\", \"Topic2\", \"Topic2\", \"Topic2\", \"Topic2\", \"Topic2\", \"Topic2\", \"Topic2\", \"Topic2\", \"Topic2\", \"Topic2\", \"Topic2\", \"Topic2\", \"Topic2\", \"Topic2\", \"Topic2\", \"Topic2\", \"Topic2\", \"Topic2\", \"Topic2\", \"Topic2\", \"Topic2\", \"Topic2\", \"Topic2\", \"Topic2\", \"Topic2\", \"Topic2\", \"Topic2\", \"Topic2\", \"Topic2\", \"Topic2\", \"Topic2\", \"Topic2\", \"Topic2\", \"Topic2\", \"Topic2\", \"Topic2\", \"Topic2\", \"Topic2\", \"Topic2\", \"Topic2\", \"Topic2\", \"Topic2\", \"Topic2\", \"Topic2\", \"Topic2\", \"Topic2\", \"Topic2\", \"Topic2\", \"Topic2\", \"Topic2\", \"Topic2\", \"Topic2\", \"Topic2\", \"Topic2\", \"Topic2\", \"Topic2\", \"Topic2\", \"Topic2\", \"Topic2\", \"Topic2\", \"Topic2\", \"Topic3\", \"Topic3\", \"Topic3\", \"Topic3\", \"Topic3\", \"Topic3\", \"Topic3\", \"Topic3\", \"Topic3\", \"Topic3\", \"Topic3\", \"Topic3\", \"Topic3\", \"Topic3\", \"Topic3\", \"Topic3\", \"Topic3\", \"Topic3\", \"Topic3\", \"Topic3\", \"Topic3\", \"Topic3\", \"Topic3\", \"Topic3\", \"Topic3\", \"Topic3\", \"Topic3\", \"Topic3\", \"Topic3\", \"Topic3\", \"Topic3\", \"Topic3\", \"Topic3\", \"Topic3\", \"Topic3\", \"Topic3\", \"Topic3\", \"Topic3\", \"Topic3\", \"Topic3\", \"Topic3\", \"Topic3\", \"Topic3\", \"Topic3\", \"Topic3\", \"Topic3\", \"Topic3\", \"Topic3\", \"Topic3\", \"Topic3\", \"Topic3\", \"Topic3\", \"Topic3\", \"Topic3\", \"Topic3\", \"Topic3\", \"Topic3\", \"Topic3\", \"Topic3\", \"Topic3\", \"Topic3\", \"Topic3\", \"Topic3\", \"Topic3\", \"Topic3\", \"Topic3\", \"Topic3\", \"Topic3\", \"Topic3\", \"Topic3\", \"Topic3\", \"Topic3\", \"Topic4\", \"Topic4\", \"Topic4\", \"Topic4\", \"Topic4\", \"Topic4\", \"Topic4\", \"Topic4\", \"Topic4\", \"Topic4\", \"Topic4\", \"Topic4\", \"Topic4\", \"Topic4\", \"Topic4\", \"Topic4\", \"Topic4\", \"Topic4\", \"Topic4\", \"Topic4\", \"Topic4\", \"Topic4\", \"Topic4\", \"Topic4\", \"Topic4\", \"Topic4\", \"Topic4\", \"Topic4\", \"Topic4\", \"Topic4\", \"Topic4\", \"Topic4\", \"Topic4\", \"Topic4\", \"Topic4\", \"Topic4\", \"Topic4\", \"Topic4\", \"Topic4\", \"Topic4\", \"Topic4\", \"Topic4\", \"Topic4\", \"Topic4\", \"Topic4\", \"Topic4\", \"Topic4\", \"Topic4\", \"Topic4\", \"Topic4\", \"Topic4\", \"Topic4\", \"Topic4\", \"Topic4\", \"Topic4\", \"Topic4\", \"Topic4\", \"Topic4\", \"Topic4\", \"Topic4\", \"Topic4\", \"Topic4\", \"Topic4\", \"Topic4\", \"Topic4\", \"Topic4\", \"Topic4\", \"Topic4\", \"Topic4\", \"Topic4\", \"Topic4\", \"Topic4\", \"Topic5\", \"Topic5\", \"Topic5\", \"Topic5\", \"Topic5\", \"Topic5\", \"Topic5\", \"Topic5\", \"Topic5\", \"Topic5\", \"Topic5\", \"Topic5\", \"Topic5\", \"Topic5\", \"Topic5\", \"Topic5\", \"Topic5\", \"Topic5\", \"Topic5\", \"Topic5\", \"Topic5\", \"Topic5\", \"Topic5\", \"Topic5\", \"Topic5\", \"Topic5\", \"Topic5\", \"Topic5\", \"Topic5\", \"Topic5\", \"Topic5\", \"Topic5\", \"Topic5\", \"Topic5\", \"Topic5\", \"Topic5\", \"Topic5\", \"Topic5\", \"Topic5\", \"Topic5\", \"Topic5\", \"Topic5\", \"Topic5\", \"Topic5\", \"Topic5\", \"Topic5\", \"Topic5\", \"Topic5\", \"Topic5\", \"Topic5\", \"Topic5\", \"Topic5\", \"Topic5\", \"Topic5\", \"Topic5\", \"Topic5\", \"Topic5\", \"Topic5\", \"Topic5\", \"Topic5\", \"Topic5\", \"Topic5\", \"Topic5\", \"Topic6\", \"Topic6\", \"Topic6\", \"Topic6\", \"Topic6\", \"Topic6\", \"Topic6\", \"Topic6\", \"Topic6\", \"Topic6\", \"Topic6\", \"Topic6\", \"Topic6\", \"Topic6\", \"Topic6\", \"Topic6\", \"Topic6\", \"Topic6\", \"Topic6\", \"Topic6\", \"Topic6\", \"Topic6\", \"Topic6\", \"Topic6\", \"Topic6\", \"Topic6\", \"Topic6\", \"Topic6\", \"Topic6\", \"Topic6\", \"Topic6\", \"Topic6\", \"Topic6\", \"Topic6\", \"Topic6\", \"Topic6\", \"Topic6\", \"Topic6\", \"Topic6\", \"Topic6\", \"Topic6\", \"Topic6\", \"Topic6\", \"Topic6\", \"Topic6\", \"Topic6\", \"Topic6\", \"Topic6\", \"Topic6\", \"Topic6\", \"Topic6\", \"Topic6\", \"Topic6\", \"Topic6\", \"Topic6\", \"Topic6\", \"Topic6\", \"Topic6\", \"Topic6\", \"Topic6\", \"Topic6\", \"Topic6\", \"Topic6\", \"Topic6\", \"Topic6\", \"Topic6\", \"Topic6\", \"Topic6\", \"Topic6\", \"Topic6\", \"Topic7\", \"Topic7\", \"Topic7\", \"Topic7\", \"Topic7\", \"Topic7\", \"Topic7\", \"Topic7\", \"Topic7\", \"Topic7\", \"Topic7\", \"Topic7\", \"Topic7\", \"Topic7\", \"Topic7\", \"Topic7\", \"Topic7\", \"Topic7\", \"Topic7\", \"Topic7\", \"Topic7\", \"Topic7\", \"Topic7\", \"Topic7\", \"Topic7\", \"Topic7\", \"Topic7\", \"Topic7\", \"Topic7\", \"Topic7\", \"Topic7\", \"Topic7\", \"Topic7\", \"Topic7\", \"Topic7\", \"Topic7\", \"Topic7\", \"Topic7\", \"Topic7\", \"Topic7\", \"Topic7\", \"Topic7\", \"Topic7\", \"Topic7\", \"Topic7\", \"Topic7\", \"Topic7\", \"Topic7\", \"Topic7\", \"Topic7\", \"Topic7\", \"Topic7\", \"Topic7\", \"Topic7\", \"Topic7\", \"Topic7\", \"Topic7\", \"Topic7\", \"Topic7\", \"Topic7\", \"Topic7\", \"Topic7\", \"Topic7\", \"Topic7\", \"Topic7\", \"Topic7\", \"Topic7\", \"Topic7\", \"Topic7\", \"Topic7\", \"Topic7\", \"Topic7\", \"Topic7\", \"Topic7\", \"Topic7\", \"Topic7\", \"Topic8\", \"Topic8\", \"Topic8\", \"Topic8\", \"Topic8\", \"Topic8\", \"Topic8\", \"Topic8\", \"Topic8\", \"Topic8\", \"Topic8\", \"Topic8\", \"Topic8\", \"Topic8\", \"Topic8\", \"Topic8\", \"Topic8\", \"Topic8\", \"Topic8\", \"Topic8\", \"Topic8\", \"Topic8\", \"Topic8\", \"Topic8\", \"Topic8\", \"Topic8\", \"Topic8\", \"Topic8\", \"Topic8\", \"Topic8\", \"Topic8\", \"Topic8\", \"Topic8\", \"Topic8\", \"Topic8\", \"Topic8\", \"Topic8\", \"Topic8\", \"Topic8\", \"Topic8\", \"Topic8\", \"Topic8\", \"Topic8\", \"Topic8\", \"Topic8\", \"Topic8\", \"Topic8\", \"Topic8\", \"Topic8\", \"Topic8\", \"Topic8\", \"Topic8\", \"Topic8\", \"Topic8\", \"Topic8\", \"Topic8\", \"Topic8\", \"Topic8\", \"Topic8\", \"Topic8\", \"Topic8\", \"Topic8\", \"Topic8\", \"Topic8\", \"Topic8\", \"Topic8\", \"Topic8\", \"Topic8\", \"Topic8\", \"Topic8\", \"Topic8\", \"Topic8\", \"Topic9\", \"Topic9\", \"Topic9\", \"Topic9\", \"Topic9\", \"Topic9\", \"Topic9\", \"Topic9\", \"Topic9\", \"Topic9\", \"Topic9\", \"Topic9\", \"Topic9\", \"Topic9\", \"Topic9\", \"Topic9\", \"Topic9\", \"Topic9\", \"Topic9\", \"Topic9\", \"Topic9\", \"Topic9\", \"Topic9\", \"Topic9\", \"Topic9\", \"Topic9\", \"Topic9\", \"Topic9\", \"Topic9\", \"Topic9\", \"Topic9\", \"Topic9\", \"Topic9\", \"Topic9\", \"Topic9\", \"Topic9\", \"Topic9\", \"Topic9\", \"Topic9\", \"Topic9\", \"Topic9\", \"Topic9\", \"Topic9\", \"Topic9\", \"Topic9\", \"Topic9\", \"Topic9\", \"Topic9\", \"Topic9\", \"Topic9\", \"Topic9\", \"Topic9\", \"Topic9\", \"Topic9\", \"Topic9\", \"Topic9\", \"Topic9\", \"Topic9\", \"Topic9\", \"Topic9\", \"Topic9\", \"Topic9\", \"Topic9\", \"Topic9\", \"Topic9\", \"Topic9\", \"Topic9\", \"Topic9\", \"Topic9\", \"Topic9\", \"Topic9\", \"Topic10\", \"Topic10\", \"Topic10\", \"Topic10\", \"Topic10\", \"Topic10\", \"Topic10\", \"Topic10\", \"Topic10\", \"Topic10\", \"Topic10\", \"Topic10\", \"Topic10\", \"Topic10\", \"Topic10\", \"Topic10\", \"Topic10\", \"Topic10\", \"Topic10\", \"Topic10\", \"Topic10\", \"Topic10\", \"Topic10\", \"Topic10\", \"Topic10\", \"Topic10\", \"Topic10\", \"Topic10\", \"Topic10\", \"Topic10\", \"Topic10\", \"Topic10\", \"Topic10\", \"Topic10\", \"Topic10\", \"Topic10\", \"Topic10\", \"Topic10\", \"Topic10\", \"Topic10\", \"Topic10\", \"Topic10\", \"Topic10\", \"Topic10\", \"Topic10\", \"Topic10\", \"Topic10\", \"Topic10\", \"Topic10\", \"Topic10\", \"Topic10\", \"Topic10\", \"Topic10\", \"Topic10\", \"Topic10\", \"Topic10\", \"Topic10\", \"Topic10\", \"Topic10\", \"Topic10\", \"Topic10\", \"Topic10\", \"Topic10\", \"Topic10\", \"Topic10\", \"Topic10\", \"Topic10\"], \"logprob\": [30.0, 29.0, 28.0, 27.0, 26.0, 25.0, 24.0, 23.0, 22.0, 21.0, 20.0, 19.0, 18.0, 17.0, 16.0, 15.0, 14.0, 13.0, 12.0, 11.0, 10.0, 9.0, 8.0, 7.0, 6.0, 5.0, 4.0, 3.0, 2.0, 1.0, -5.7641, -6.7187, -6.8504, -7.3612, -7.6911, -7.8329, -8.0024, -8.0956, -8.1434, -8.1498, -8.3497, -8.4177, -8.4585, -8.5116, -8.5179, -8.5668, -8.6014, -8.6211, -8.6017, -8.6459, -8.6466, -8.6682, -8.7059, -8.7192, -8.7349, -8.7679, -8.8121, -8.8406, -8.8451, -8.8555, -6.6629, -8.7279, -8.6915, -4.6964, -5.3847, -6.4514, -7.7187, -7.1877, -3.3755, -6.477, -4.6396, -4.6039, -4.9614, -4.6227, -5.7962, -3.6559, -5.7952, -4.0421, -6.2349, -4.8012, -6.0123, -7.5692, -7.1695, -6.5467, -4.738, -6.9796, -4.3025, -5.2872, -4.7162, -4.1826, -5.0314, -3.6092, -5.1222, -4.6677, -5.0473, -3.3702, -4.8298, -3.6141, -4.2966, -5.0415, -4.0958, -5.125, -4.8903, -4.4956, -4.7062, -4.6248, -4.2008, -4.8262, -4.6571, -3.9953, -4.7507, -4.7134, -4.6269, -4.795, -4.7943, -4.7828, -5.7388, -6.8844, -7.3573, -7.4763, -7.8568, -8.106, -8.1767, -8.7682, -8.8223, -8.8608, -7.4733, -8.9154, -8.9668, -8.9903, -9.2796, -9.3631, -9.4456, -9.4531, -9.4563, -9.4603, -9.4662, -9.5017, -5.2792, -9.5374, -9.5449, -9.5807, -9.2776, -9.7027, -8.3696, -6.9969, -8.8114, -1.4043, -7.1165, -6.913, -6.5168, -5.8616, -7.0184, -7.4177, -8.3769, -7.0213, -8.2944, -6.5178, -8.238, -3.2168, -5.8251, -6.3882, -3.2709, -4.3377, -3.2494, -4.0519, -3.9741, -3.647, -2.5632, -4.0114, -4.5821, -5.334, -5.7747, -4.982, -3.6499, -3.8949, -4.6177, -4.1741, -5.1931, -4.7593, -5.6541, -4.671, -4.8439, -3.9471, -5.0019, -5.5989, -5.114, -5.0677, -4.9849, -5.4909, -5.4112, -5.3737, -5.4824, -4.0112, -4.8577, -5.2715, -5.3852, -6.4904, -6.5058, -6.7032, -6.8011, -7.1435, -7.2558, -7.2603, -7.2747, -5.7454, -7.3019, -7.4644, -7.5009, -6.3632, -7.559, -7.6167, -7.661, -7.8911, -7.9618, -7.9645, -8.0469, -8.1618, -8.1617, -8.1769, -7.2409, -8.25, -8.2867, -5.209, -5.361, -3.5568, -4.9936, -6.3396, -5.376, -4.2409, -5.5365, -6.5313, -4.5429, -6.6376, -4.356, -6.459, -4.364, -4.8931, -6.0949, -6.2384, -5.0462, -5.5935, -3.9935, -4.0315, -2.293, -3.9044, -5.6882, -4.9365, -3.5102, -5.0141, -3.942, -5.4178, -4.6374, -4.5558, -4.4178, -4.197, -4.4199, -4.189, -4.1062, -4.9324, -5.0265, -5.0448, -4.9675, -4.91, -4.9981, -2.5935, -4.6248, -5.1313, -5.1966, -5.5341, -5.8143, -6.3332, -6.8707, -7.4881, -7.5648, -7.7312, -7.8012, -6.5025, -7.9314, -8.0961, -8.1144, -8.1363, -8.1444, -8.201, -8.2682, -8.4524, -8.5627, -8.6613, -8.6831, -8.3814, -8.8197, -8.9034, -8.9091, -8.9235, -8.9284, -8.0911, -5.2093, -5.4561, -7.2947, -5.529, -7.007, -6.6192, -6.5907, -6.5025, -5.8242, -3.5725, -4.7557, -5.1728, -5.2168, -3.76, -6.0245, -4.6179, -5.938, -2.3033, -4.7627, -4.4703, -4.8188, -4.2513, -3.3943, -5.3885, -4.0307, -3.8845, -4.1013, -4.2954, -3.8182, -4.7728, -4.9552, -4.7322, -3.4616, -3.6417, -4.5866, -5.0953, -4.8416, -4.7713, -4.8112, -4.8585, -4.9419, -2.4067, -3.097, -4.5419, -4.8238, -4.952, -5.26, -5.7601, -6.1063, -6.4185, -6.6218, -6.7365, -6.8375, -6.8814, -6.9105, -7.201, -7.4127, -6.2216, -7.6763, -7.7599, -7.7986, -7.9073, -7.9376, -8.0166, -8.0404, -8.1377, -8.2443, -8.3881, -8.3931, -8.4115, -8.4459, -3.2004, -3.7451, -2.8817, -6.7312, -4.6769, -6.8715, -5.5271, -6.1328, -6.0675, -4.607, -4.6446, -4.501, -4.9983, -4.6812, -4.335, -3.3929, -6.0126, -6.3031, -4.0287, -3.9295, -3.6398, -3.8918, -3.7122, -3.191, -4.2416, -5.0068, -4.8142, -4.4606, -4.0399, -4.4665, -4.563, -4.8644, -4.5305, -4.0431, -4.6936, -4.9477, -5.004, -6.9049, -3.6037, -5.0824, -7.2883, -7.3279, -7.3407, -7.5202, -7.8815, -8.0359, -8.1459, -8.1981, -8.2428, -8.3102, -8.4229, -8.4534, -7.5286, -8.5005, -8.6127, -8.6608, -8.6599, -8.6695, -8.676, -8.6774, -8.7532, -8.7821, -8.8213, -2.0934, -2.7142, -6.6843, -3.3503, -5.149, -5.9255, -7.6933, -3.388, -7.0056, -4.303, -5.7952, -6.5325, -3.1556, -7.2237, -4.7196, -7.535, -5.3162, -6.6458, -6.899, -6.0848, -2.4639, -3.7894, -5.3432, -2.878, -5.0263, -4.9699, -4.7373, -5.6903, -5.8284, -4.1912, -4.2125, -4.1462, -4.5581, -4.5159, -4.6101, -5.0364, -4.7302, -4.8603, -5.059, -5.1402, -4.5238, -6.0066, -5.5757, -6.1049, -6.2537, -6.2784, -6.5573, -6.6932, -6.7404, -5.5365, -5.6563, -7.0071, -7.1526, -7.2034, -7.192, -7.2519, -7.2704, -7.5165, -7.5482, -7.5705, -7.578, -7.6133, -7.6148, -7.6513, -7.7052, -7.357, -7.755, -7.8704, -7.8695, -7.8878, -5.1451, -6.144, -5.7633, -4.6853, -4.4933, -6.5084, -6.5232, -5.0535, -6.1502, -5.4407, -5.7252, -4.4297, -4.461, -5.6383, -5.0751, -5.835, -6.2806, -4.1339, -6.5936, -4.7984, -3.4426, -3.4557, -4.5031, -2.5256, -4.4305, -5.0362, -4.5896, -4.4893, -4.3259, -5.4311, -5.1889, -4.2412, -3.144, -3.9201, -5.1223, -5.2215, -4.3505, -4.1383, -4.95, -5.0948, -4.828, -5.1764, -4.6023, -4.7572, -5.112, -5.1136, -5.7388, -5.9649, -6.3612, -6.5201, -6.5912, -6.6336, -7.1774, -7.25, -7.4026, -7.4127, -7.4208, -7.6397, -7.7523, -7.8415, -7.887, -8.059, -8.1067, -8.1286, -8.1402, -8.2095, -8.2299, -8.2425, -8.2441, -8.3317, -8.3334, -8.3759, -8.4049, -8.3311, -8.4351, -8.4623, -7.702, -7.9156, -2.3991, -7.6839, -7.6502, -3.5388, -2.75, -5.8189, -5.5554, -4.9382, -7.0364, -3.2833, -4.9988, -6.0522, -3.4301, -5.918, -2.679, -4.256, -3.9075, -5.8816, -5.1047, -3.8471, -5.1665, -4.0492, -4.3115, -5.4533, -4.1613, -3.7221, -4.8531, -3.775, -4.6661, -4.0735, -5.1488, -5.0023, -4.5727, -3.5827, -5.0346, -5.1065, -4.3565, -4.6651, -5.2924, -5.1104, -3.7073, -4.9012, -5.2139, -5.6774, -6.3775, -6.4765, -6.408, -6.6371, -6.6148, -6.7284, -6.9259, -6.9265, -6.9294, -6.9791, -6.9945, -7.0112, -7.0817, -7.0838, -7.088, -7.1782, -7.1864, -7.2182, -7.2152, -7.2627, -7.2873, -7.2895, -7.3239, -7.3519, -7.3716, -7.4508, -6.1149, -6.0185, -3.6601, -5.9096, -4.3454, -3.5375, -5.4241, -3.8803, -4.5003, -5.0871, -4.9347, -5.8116, -5.0901, -5.1074, -6.35, -4.8963, -4.0814, -6.0863, -5.7481, -3.9522, -4.3588, -3.8795, -2.8979, -4.0126, -5.6733, -5.2242, -5.0602, -4.5929, -4.4958, -4.4218, -5.2019, -3.9152, -5.1609, -4.7328, -4.5904, -4.8573, -4.8635, -5.0237, -4.9154, -4.9802, -5.0734, -2.6611, -4.1401, -5.1581, -5.3909, -5.3973, -5.6098, -6.4453, -6.4805, -6.5225, -6.5912, -6.6464, -6.7327, -6.9254, -6.9302, -7.0125, -7.0731, -6.8525, -7.16, -7.1757, -7.1836, -7.1868, -7.1903, -7.2244, -7.259, -4.4833, -7.3284, -7.4539, -7.4894, -7.4938, -7.539, -4.2905, -3.303, -3.2641, -5.9154, -5.1892, -5.836, -4.6754, -6.4378, -4.387, -5.7394, -3.4021, -3.5459, -5.6991, -5.1439, -5.4358, -4.0574, -4.9318, -4.6594, -4.5247, -4.2195, -4.3682, -5.1063, -4.3848, -4.3679, -3.2788, -2.8493, -4.4981, -4.5943, -4.7796, -4.8645, -4.6986, -4.7428, -4.725, -4.3922, -4.8686, -4.8612, -4.7628], \"loglift\": [30.0, 29.0, 28.0, 27.0, 26.0, 25.0, 24.0, 23.0, 22.0, 21.0, 20.0, 19.0, 18.0, 17.0, 16.0, 15.0, 14.0, 13.0, 12.0, 11.0, 10.0, 9.0, 8.0, 7.0, 6.0, 5.0, 4.0, 3.0, 2.0, 1.0, 1.705, 1.7038, 1.7034, 1.7019, 1.7004, 1.6996, 1.6985, 1.6978, 1.6974, 1.6973, 1.6955, 1.6948, 1.6943, 1.6937, 1.6936, 1.693, 1.6925, 1.6923, 1.6922, 1.692, 1.6919, 1.6916, 1.6911, 1.6909, 1.6907, 1.6902, 1.6895, 1.689, 1.6888, 1.6888, 1.684, 1.6885, 1.6866, 1.597, 1.6127, 1.6279, 1.6622, 1.643, 1.5039, 1.6151, 1.5053, 1.4869, 1.482, 1.4539, 1.518, 1.3554, 1.4947, 1.3471, 1.501, 1.3656, 1.4635, 1.6107, 1.5649, 1.4862, 1.2353, 1.5401, 1.1276, 1.2479, 1.1471, 1.0344, 1.155, 0.8591, 1.1697, 1.0566, 1.1274, 0.6811, 1.0613, 0.6274, 0.8636, 1.0964, 0.7023, 1.1019, 1.0049, 0.7678, 0.8318, 0.7275, 0.3359, 0.7598, 0.4599, -0.7342, 0.4384, 0.3189, -0.3079, 0.5074, 0.3343, -0.4376, 1.8528, 1.851, 1.8494, 1.8488, 1.8465, 1.8444, 1.8437, 1.8357, 1.8347, 1.834, 1.8336, 1.8329, 1.8318, 1.8312, 1.8238, 1.8213, 1.8185, 1.8183, 1.8181, 1.8179, 1.8178, 1.8165, 1.8156, 1.8152, 1.8149, 1.8135, 1.8125, 1.8084, 1.8064, 1.8063, 1.8049, 1.6994, 1.7635, 1.7088, 1.6853, 1.6447, 1.6761, 1.6943, 1.7546, 1.6674, 1.7442, 1.554, 1.7133, 1.1284, 1.4373, 1.4981, 1.0659, 1.1871, 1.0162, 1.1082, 1.0582, 0.9491, 0.6979, 0.9259, 0.9325, 1.0851, 1.2084, 0.8886, 0.4014, 0.3466, 0.5714, 0.2942, 0.7331, 0.365, 0.9002, 0.0678, 0.1747, -0.7358, 0.0094, 0.6184, -0.0902, -0.1884, -0.4482, 0.4043, 0.0189, -0.3064, 0.1036, 2.0793, 2.079, 2.0788, 2.0787, 2.0771, 2.0771, 2.0766, 2.0756, 2.075, 2.0744, 2.0744, 2.0743, 2.0743, 2.0742, 2.0733, 2.0731, 2.0727, 2.0727, 2.0723, 2.0719, 2.07, 2.0693, 2.0693, 2.0684, 2.0671, 2.0671, 2.0669, 2.0669, 2.0659, 2.0654, 2.0574, 2.0531, 2.0345, 2.0472, 2.0512, 2.0345, 1.9866, 2.0189, 2.0398, 1.9373, 2.0211, 1.878, 1.9886, 1.7572, 1.7908, 1.92, 1.9375, 1.7702, 1.8169, 1.4847, 1.4026, 0.9183, 1.2242, 1.735, 1.4545, 0.8089, 1.3944, 0.8376, 1.5622, 0.9185, 0.7964, 0.606, 0.2713, 0.307, -0.1378, -0.8451, 0.4568, 0.7409, 0.8028, 0.4626, -0.1119, -0.1509, 2.2486, 2.2483, 2.248, 2.248, 2.2474, 2.2473, 2.2464, 2.2447, 2.2413, 2.2406, 2.2392, 2.2385, 2.2379, 2.2371, 2.235, 2.2348, 2.2345, 2.2344, 2.2335, 2.2325, 2.2292, 2.227, 2.2247, 2.2242, 2.2229, 2.2207, 2.2183, 2.218, 2.2177, 2.2175, 2.2094, 2.1683, 2.1647, 2.2007, 2.1627, 2.1919, 2.1474, 2.14, 2.1341, 2.0948, 1.9759, 2.0354, 2.0366, 1.9741, 1.7843, 1.9966, 1.6283, 1.8559, 0.908, 1.4636, 1.3832, 1.4083, 1.2268, 0.9248, 1.5152, 0.7488, 0.6522, 0.6375, 0.7283, 0.233, 0.9693, 1.0588, 0.8539, -0.3578, -0.3806, 0.542, 1.1316, 0.4608, -0.426, -0.3428, -0.2624, -0.1438, 2.3081, 2.3081, 2.3077, 2.3076, 2.3076, 2.3073, 2.3068, 2.3062, 2.3054, 2.3048, 2.3044, 2.304, 2.3038, 2.3037, 2.3022, 2.3008, 2.2996, 2.2986, 2.2977, 2.2973, 2.2961, 2.2957, 2.2947, 2.2944, 2.293, 2.2913, 2.2887, 2.2886, 2.2883, 2.2876, 2.2786, 2.2452, 2.1856, 2.2563, 2.1907, 2.2524, 2.0979, 2.1416, 2.1214, 1.9445, 1.9123, 1.7704, 1.814, 1.6884, 1.5912, 1.334, 1.9189, 2.0423, 0.9086, 0.8093, 0.6017, 0.7043, 0.5533, 0.0702, 0.2951, 0.7175, 0.3749, -0.1416, -0.9362, -0.4152, -0.2177, 0.1679, -1.3191, 2.5763, 2.5759, 2.5758, 2.5758, 2.5708, 2.5703, 2.5687, 2.5681, 2.5678, 2.5677, 2.5659, 2.5613, 2.5588, 2.5567, 2.5557, 2.5547, 2.5532, 2.5504, 2.5496, 2.5489, 2.5483, 2.545, 2.5435, 2.5435, 2.5432, 2.543, 2.5429, 2.5403, 2.5393, 2.5378, 2.5149, 2.4336, 2.5143, 2.4121, 2.4403, 2.461, 2.4937, 2.1679, 2.4362, 2.2211, 2.2995, 2.3715, 1.9687, 2.4298, 2.0623, 2.4425, 1.9773, 2.2291, 2.2838, 2.0323, 0.7474, 0.9494, 1.545, 0.3831, 1.3865, 1.2219, 1.0301, 1.6017, 1.6017, 0.1457, 0.029, -0.0949, 0.24, -0.0476, -0.291, 0.3977, -0.3849, -0.2642, 0.0696, -0.2029, 2.599, 2.5973, 2.5971, 2.5971, 2.5967, 2.5966, 2.5955, 2.595, 2.5947, 2.5944, 2.5943, 2.5932, 2.5922, 2.5917, 2.5915, 2.5913, 2.5912, 2.5888, 2.5885, 2.5882, 2.5881, 2.5877, 2.5877, 2.5872, 2.5866, 2.5862, 2.5859, 2.5842, 2.5842, 2.5839, 2.5772, 2.5739, 2.5694, 2.5299, 2.5182, 2.543, 2.5382, 2.4346, 2.4626, 2.3747, 2.3797, 2.1987, 2.182, 2.3079, 2.2054, 2.3276, 2.4116, 1.9377, 2.4699, 1.9292, 1.3369, 1.2712, 1.6537, 0.7356, 1.5816, 1.8652, 1.6276, 1.523, 1.4162, 2.0389, 1.8498, 1.0202, 0.0673, 0.399, 1.7, 1.7388, 0.4475, 0.1032, 1.1875, 1.462, 0.7162, 1.6264, -0.0656, -0.0184, 0.2402, 0.1887, 2.6157, 2.6152, 2.6141, 2.6134, 2.6132, 2.613, 2.6097, 2.6091, 2.6077, 2.6076, 2.6075, 2.605, 2.6035, 2.6023, 2.6015, 2.5986, 2.5976, 2.5972, 2.597, 2.5955, 2.595, 2.5948, 2.5947, 2.5927, 2.5926, 2.5915, 2.5908, 2.5903, 2.59, 2.5892, 2.5886, 2.5804, 2.4481, 2.5745, 2.5704, 2.4223, 2.2686, 2.4454, 2.3617, 2.2953, 2.4641, 1.8337, 2.113, 2.2795, 1.8332, 2.2155, 1.5866, 1.7133, 1.6071, 2.0859, 1.6964, 1.1767, 1.6457, 1.1678, 1.2265, 1.7159, 1.1001, 0.874, 1.3949, 0.7617, 1.1873, 0.7246, 1.4055, 1.2378, 0.7296, -0.3714, 0.9777, 1.0541, -1.0954, -1.5613, 1.0645, 0.0787, 2.779, 2.7781, 2.778, 2.7751, 2.775, 2.7747, 2.7741, 2.7739, 2.7737, 2.7734, 2.7721, 2.7721, 2.7721, 2.7717, 2.7716, 2.7714, 2.7709, 2.7708, 2.7708, 2.77, 2.7699, 2.7696, 2.7696, 2.7692, 2.7689, 2.7689, 2.7686, 2.7682, 2.7679, 2.7671, 2.7642, 2.7354, 2.6245, 2.7167, 2.5707, 2.5072, 2.6346, 2.4163, 2.4744, 2.5384, 2.478, 2.5723, 2.454, 2.4094, 2.6342, 2.3115, 2.0792, 2.5575, 2.4627, 1.9683, 2.0385, 1.8421, 1.439, 1.7295, 2.3979, 2.2009, 2.0848, 1.7981, 1.661, 1.5903, 2.0956, 0.8117, 1.9483, 1.366, 0.958, 1.2605, 1.2157, 1.6193, 1.2221, 1.0338, 1.3874, 3.0707, 3.0702, 3.0688, 3.0687, 3.0687, 3.0653, 3.0648, 3.0646, 3.0643, 3.0639, 3.0635, 3.0628, 3.0611, 3.0611, 3.0602, 3.0596, 3.0589, 3.0586, 3.0584, 3.0583, 3.0583, 3.0582, 3.0578, 3.0573, 3.0572, 3.0564, 3.0544, 3.0539, 3.0538, 3.053, 3.0411, 3.0233, 2.9511, 2.9856, 2.946, 2.9711, 2.8599, 2.9463, 2.6156, 2.8277, 2.4454, 2.4405, 2.7086, 2.5464, 2.6176, 2.1696, 2.3942, 2.2896, 2.2102, 2.0723, 2.0927, 2.3061, 1.9139, 1.8888, 1.0664, 0.4118, 1.748, 1.5975, 1.7714, 1.544, 1.023, 1.1106, 0.861, -1.2885, 1.1455, 1.002, -0.4437]}, \"token.table\": {\"Topic\": [4, 2, 1, 2, 3, 4, 6, 7, 8, 9, 1, 2, 4, 5, 6, 7, 8, 9, 10, 2, 5, 7, 8, 9, 8, 8, 2, 8, 3, 3, 4, 5, 6, 7, 9, 10, 1, 2, 3, 4, 5, 6, 7, 8, 9, 10, 1, 3, 4, 5, 6, 7, 8, 9, 1, 2, 3, 4, 5, 8, 9, 10, 6, 3, 9, 1, 2, 4, 5, 6, 7, 8, 9, 10, 1, 2, 3, 4, 5, 6, 7, 8, 9, 10, 2, 5, 2, 4, 7, 3, 1, 2, 3, 4, 5, 6, 7, 8, 9, 10, 5, 1, 3, 4, 9, 1, 3, 4, 6, 7, 3, 3, 1, 3, 4, 6, 10, 9, 3, 4, 6, 7, 9, 8, 5, 7, 9, 1, 4, 7, 8, 10, 3, 7, 1, 2, 3, 4, 7, 8, 9, 1, 4, 7, 2, 8, 8, 10, 2, 4, 5, 6, 7, 8, 1, 2, 3, 4, 5, 6, 7, 8, 9, 10, 1, 2, 4, 7, 8, 9, 3, 10, 4, 7, 6, 3, 2, 1, 2, 4, 5, 6, 8, 9, 10, 2, 5, 8, 8, 5, 9, 8, 2, 7, 2, 4, 9, 3, 4, 5, 7, 8, 9, 10, 3, 3, 8, 1, 3, 5, 6, 7, 9, 1, 3, 1, 2, 4, 5, 6, 7, 8, 9, 10, 6, 3, 3, 4, 1, 2, 3, 4, 5, 6, 8, 1, 7, 1, 3, 4, 5, 7, 9, 6, 1, 2, 4, 5, 6, 8, 10, 4, 1, 2, 3, 4, 5, 6, 7, 8, 9, 10, 1, 2, 3, 6, 7, 2, 4, 6, 1, 5, 6, 7, 5, 7, 9, 4, 1, 2, 3, 4, 5, 7, 8, 9, 6, 4, 9, 2, 5, 6, 8, 9, 9, 1, 1, 2, 5, 6, 7, 5, 6, 7, 1, 3, 5, 7, 9, 1, 2, 4, 5, 6, 7, 8, 9, 10, 1, 4, 7, 8, 9, 10, 6, 5, 7, 1, 2, 3, 4, 9, 3, 5, 3, 5, 6, 5, 1, 4, 7, 8, 9, 7, 3, 1, 2, 3, 4, 5, 6, 7, 8, 10, 10, 1, 2, 3, 4, 5, 6, 7, 8, 9, 10, 6, 7, 3, 1, 6, 6, 7, 1, 3, 5, 9, 3, 6, 7, 1, 2, 4, 5, 6, 7, 8, 9, 10, 1, 2, 3, 4, 5, 6, 7, 8, 3, 1, 2, 3, 4, 5, 6, 7, 8, 9, 10, 1, 1, 1, 2, 3, 4, 5, 6, 7, 8, 5, 10, 10, 1, 2, 3, 4, 5, 6, 7, 8, 9, 1, 3, 4, 5, 6, 7, 8, 9, 10, 4, 5, 7, 9, 2, 8, 9, 7, 9, 5, 2, 10, 1, 2, 3, 4, 5, 6, 7, 8, 9, 10, 9, 2, 4, 6, 7, 9, 10, 1, 5, 6, 4, 5, 8, 9, 2, 5, 8, 1, 2, 3, 4, 5, 6, 8, 10, 1, 2, 3, 4, 5, 6, 7, 8, 9, 1, 2, 3, 4, 5, 6, 7, 8, 9, 10, 4, 7, 2, 8, 1, 2, 3, 4, 6, 7, 8, 9, 10, 9, 1, 9, 7, 2, 8, 7, 1, 2, 4, 5, 7, 8, 9, 10, 8, 9, 9, 10, 10, 1, 2, 4, 5, 6, 7, 8, 9, 10, 3, 9, 4, 8, 2, 6, 8, 1, 4, 10, 1, 5, 3, 5, 6, 7, 8, 9, 8, 1, 2, 5, 1, 4, 7, 10, 8, 1, 2, 3, 4, 5, 6, 7, 8, 9, 10, 1, 1, 2, 7, 9, 10, 10, 2, 1, 2, 3, 4, 5, 6, 7, 8, 1, 2, 3, 4, 5, 6, 10, 1, 2, 3, 4, 5, 6, 7, 8, 9, 10, 1, 2, 3, 4, 5, 6, 7, 8, 9, 1, 2, 4, 5, 6, 8, 2, 5, 1, 3, 4, 5, 7, 9, 3, 5, 6, 5, 2, 3, 4, 5, 7, 8, 9, 9, 7, 5, 9, 9, 1, 2, 3, 4, 5, 6, 7, 8, 9, 1, 3, 4, 6, 10, 1, 2, 3, 4, 5, 6, 7, 8, 9, 10, 1, 2, 3, 4, 7, 9, 10, 1, 7, 4, 4, 1, 2, 3, 4, 5, 6, 7, 8, 10, 1, 6, 1, 2, 3, 6, 1, 9, 6, 2, 5, 1, 3, 5, 3, 10, 10, 4, 1, 2, 4, 7, 9, 10, 7, 2, 5, 6, 7, 8, 9, 1, 3, 5, 6, 10, 1, 3, 5, 1, 2, 3, 4, 5, 6, 7, 8, 9, 1, 9, 4, 1, 2, 6, 1, 2, 3, 4, 5, 6, 7, 8, 6, 1, 1, 2, 4, 6, 7, 9, 10, 10, 2, 8, 7, 7, 1, 3, 6, 2, 1, 2, 5, 1, 2, 3, 4, 10, 10, 6, 8, 1, 5, 7, 6, 7, 8, 1, 2, 3, 4, 5, 6, 7, 8, 9, 10, 1, 2, 1, 2, 3, 4, 5, 6, 7, 8, 9, 1, 2, 4, 5, 7, 8, 1, 2, 4, 5, 6, 7, 9, 10, 1, 2, 3, 4, 5, 6, 7, 9, 10, 5, 1, 4, 5, 7, 9, 10, 2, 10, 1, 2, 3, 4, 5, 8, 1, 2, 3, 4, 5, 6, 7, 9, 10, 5, 1, 3, 2, 1, 4, 5, 10, 10, 7, 7, 9, 5, 3, 5, 4, 5, 7, 1, 3, 4, 6, 7, 9, 10, 2, 3, 4, 5, 6, 6, 8, 1, 2, 3, 4, 5, 6, 7, 8, 9, 10, 6, 4, 1, 4, 5, 6, 7, 8, 10, 1, 5, 1, 2, 3, 4, 5, 6, 7, 8, 9, 10, 3, 4, 7, 9, 10, 1, 4, 10, 6, 1, 2, 3, 4, 5, 6, 7, 8, 9, 10, 1, 2, 3, 4, 6, 10, 7, 9, 7, 9, 9, 7, 9, 3, 1, 5, 6, 1, 2, 3, 4, 5, 7, 9, 10, 1, 4, 7, 8, 9, 1, 2, 4, 5, 6, 7, 9, 2, 4, 7, 4, 1, 2, 3, 4, 5, 6, 7, 8, 9, 10, 1, 2, 3, 4, 5, 6, 7, 8, 9, 10, 6, 5, 7, 10, 7, 2, 1, 2, 3, 4, 5, 6, 7, 8, 9, 1, 2, 3, 4, 5, 6, 7, 8, 9, 10, 3, 3, 6, 8, 1, 4, 7, 9, 10, 4, 10, 1, 1, 2, 4, 5, 6, 7, 8, 9, 1, 2, 1, 2, 3, 4, 5, 6, 7, 8, 10, 1, 2, 3, 4, 5, 6, 7, 10, 6, 3, 6, 9, 10, 4, 10, 4, 7, 8, 1, 2, 3, 4, 5, 6, 8, 10, 1, 2, 3, 5, 8, 3, 8, 1, 4, 10, 8, 4, 4, 10, 1, 4, 1, 2, 3, 5, 1, 2, 3, 4, 5, 6, 7, 9, 1, 2, 3, 4, 5, 6, 7, 8, 10, 10, 2, 1, 2, 3, 4, 5, 6, 7, 8, 9, 10, 4, 4, 1, 2, 3, 7, 7, 9, 1, 2, 3, 4, 5, 6, 7, 8, 9, 10, 3, 6, 1, 2, 3, 4, 5, 6, 7, 8, 9, 10, 1, 2, 3, 4, 5, 6, 7, 8, 9, 2, 3, 4, 5, 6, 7, 9, 10, 4, 7, 6, 1, 3, 4, 6, 7, 9, 10, 1, 2, 3, 4, 5, 6, 7, 8, 9, 3, 6, 9, 9, 1, 2, 3, 4, 5, 6, 8, 10, 1, 2, 3, 4, 5, 6, 7, 8, 9, 10, 3, 7, 8, 9, 8, 8, 1, 3, 4, 5, 7, 9, 10, 3, 4, 7, 9, 10, 1, 3, 4, 6, 7, 1, 4, 1, 2, 3, 4, 5, 7, 8, 9, 10, 1, 2, 3, 4, 5, 6, 7, 5, 1, 2, 3, 4, 5, 7, 8, 9, 1, 2, 3, 4, 5, 6, 7, 8, 9, 10, 1, 2, 4, 5, 6, 7, 8, 9, 10, 6, 7, 8, 2, 2, 3, 5, 6, 10, 1, 2, 3, 4, 5, 6, 7, 9, 10, 1, 2, 3, 4, 5, 6, 7, 8, 9, 10, 1, 2, 3, 4, 5, 6, 7, 8, 9, 9, 1, 4, 5, 7, 1, 2, 3, 4, 5, 6, 7, 8, 1, 2, 7, 9, 1, 2, 4, 10, 4, 9, 5, 8, 3, 5, 2, 2, 4, 1, 2, 3, 4, 5, 6, 7, 9, 10, 2, 5, 6, 9, 7, 10, 4, 1, 1, 2, 3, 4, 5, 6, 7, 8, 9, 10, 5, 4, 6, 9, 8, 10, 3, 5, 3, 2, 9, 2, 4, 6, 9, 7, 1, 2, 3, 4, 5, 6, 8, 10, 1, 2, 3, 4, 5, 6, 7, 8, 9, 10, 1, 3, 6, 10, 3, 6, 10, 1, 4, 6, 10, 5, 8, 1, 2, 3, 4, 5, 6, 7, 8, 9, 10, 1, 2, 4, 5, 6, 7, 8, 9, 10, 7, 9, 10, 8, 1, 5, 6, 1, 2, 3, 5, 6, 7, 9, 2, 4, 10, 3, 3, 3, 7, 5, 6, 8, 3, 3, 4, 5, 6, 10, 2, 5, 6, 7, 8, 9, 3, 8, 1, 5, 2, 4, 7, 8, 7, 1, 2, 4, 5, 6, 7, 8, 9, 7, 2, 3, 2, 3, 6, 3, 5, 6, 7, 1, 2, 3, 5, 6, 8, 8, 7, 3, 4, 5, 7, 9, 10, 4, 8, 1, 5, 7, 4, 9, 10, 1, 2, 5, 5, 5, 3, 1, 1, 3, 4, 10, 1, 2, 3, 4, 5, 6, 7, 8, 9, 10, 4, 6, 8, 9, 1, 2, 3, 4, 5, 6, 7, 8, 10, 1, 1, 2, 3, 6, 9, 1, 2, 3, 4, 5, 6, 7, 8, 9, 10, 6, 1, 2, 3, 4, 5, 7, 8, 9, 10, 2, 5, 6, 9, 4, 4, 10, 3, 6, 5, 1, 1, 3, 4, 6, 7, 8, 9, 4, 1, 3, 4, 7, 9, 10, 2, 6, 5, 6, 7, 8, 2, 6, 7, 9, 6, 9, 1, 3, 4, 5, 7, 8, 9, 10, 10, 4, 3, 1, 2, 3, 4, 5, 6, 7, 8, 1, 2, 3, 4, 5, 6, 7, 8, 9, 10, 4, 5, 7, 8, 10, 4, 5, 7, 8, 10, 8, 1, 3, 4, 5, 7, 8, 9, 4, 6, 2, 5, 8, 1, 3, 4, 7, 9, 2, 4, 5, 8, 8, 1, 2, 4, 5, 6, 8, 1, 10, 1, 2, 3, 4, 5, 6, 7, 8, 9, 10, 8, 1, 2, 3, 4, 5, 6, 7, 8, 9, 10, 4, 6, 2, 6, 10, 2, 7, 9, 7, 9, 10, 4, 5, 8, 10, 10, 1, 2, 5, 6, 8, 2, 5, 8, 2, 2, 8, 2, 1, 2, 3, 4, 5, 6, 7, 8, 9, 1, 2, 4, 5, 7, 1, 1, 3, 4, 5, 6, 9, 5, 7, 1, 2, 3, 4, 5, 6, 8, 4, 2, 3, 4, 5, 6, 7, 8, 9, 10, 1, 2, 3, 4, 5, 6, 7, 9, 10, 5, 1, 2, 5, 7, 1, 2, 3, 4, 5, 6, 7, 8, 9, 10, 3, 5, 6, 7, 9, 2, 1, 2, 3, 4, 5, 6, 7, 8, 9, 10, 1, 6, 5, 1, 2, 3, 4, 2, 3, 5, 7, 8, 9, 1, 2, 4, 5, 6, 7, 8, 6, 5, 4, 7, 8, 1, 2, 5, 6, 7, 1, 10, 3, 1, 3, 10, 2, 6, 7, 9, 7, 3, 5, 9, 5, 9, 3, 4, 5, 7, 8, 9, 10, 1, 3, 1, 3, 5, 7, 1, 2, 3, 4, 5, 6, 7, 6, 5, 10, 10, 2, 6, 7, 1, 2, 3, 4, 5, 6, 7, 10, 6, 4, 1, 2, 3, 4, 5, 6, 7, 8, 9, 10], \"Freq\": [0.9913611562300391, 0.9821689087921553, 0.25951131556706425, 0.0006178840846834863, 0.016064986201770645, 0.008032493100885323, 0.0271868997260734, 0.04139823367379358, 0.6036727507357661, 0.04325188592784404, 0.006672981964928254, 0.4327392928008849, 0.015426786263006179, 0.17292351113416227, 0.010368235418625082, 0.004879169608764744, 0.35664577265242886, 0.0003228862241094316, 3.5876247123270184e-05, 0.01520728602801036, 0.0013824805480009419, 0.14930789918410173, 0.7741891068805274, 0.0594466635640405, 0.978930958602231, 0.9938231695887308, 0.8642538507133353, 0.13145608732532932, 0.987208249596722, 0.0037711831526527316, 0.005387404503789617, 0.0026937022518948085, 0.0037711831526527316, 0.08027232710646529, 0.7369969361184195, 0.16754828006785707, 0.05050425302318927, 0.05927445264997064, 0.0647180248321108, 0.07016159701425095, 0.05927445264997064, 0.03689532256783887, 0.0910286237124549, 0.06532286618568192, 0.4766149866140496, 0.026008178203558545, 0.44449356871984014, 0.0002584264934417675, 0.011887618698321306, 0.07933693348662263, 0.00413482389506828, 0.20338165033867103, 0.2517074046122816, 0.004910103375393583, 0.9943924933247904, 0.06007168806498594, 0.07036969173326924, 0.006865335778855536, 0.16305172474781898, 0.6693702384384147, 0.003432667889427768, 0.027461343115422143, 0.9849550262746609, 0.9886374484325854, 0.005554142968722389, 0.007411892225939647, 0.06571877773666487, 0.03458883038771835, 0.05830688551072522, 0.35626495299349903, 0.09536634664042345, 0.08498969752410795, 0.19666220706159862, 0.10080173427277919, 0.0002061402382446303, 0.019583322633239877, 0.1238902831850228, 0.30426299164907433, 0.0018552621442016726, 0.01442981667712412, 0.17913586703458373, 0.036074541692810304, 0.17460078179320185, 0.1457411484389536, 0.9573602072267147, 0.9831461070843239, 0.6594122352334338, 0.03304244315984527, 0.30743838418290814, 0.9955639697857822, 0.005442300132056274, 0.40467745477354217, 0.06136318222290973, 0.08118513774975689, 0.20111545809103368, 0.05836742068232829, 0.007639191928482659, 0.17490254461094612, 0.001547810129300408, 0.003794631284736484, 0.9997606453689005, 0.9860829933351277, 0.004155201056866074, 0.8573564847333666, 0.13712163487658044, 0.016042724649417934, 0.5517249815521627, 0.3599360176982189, 0.06899577819148164, 0.0033774157156669336, 0.999715828653105, 0.9980731382571739, 0.029429245211833422, 0.733891802470096, 0.17703530322743544, 0.010576134998002636, 0.04828235542566421, 0.994393603474075, 0.09312745288535303, 0.07842311821924465, 0.7450196230828242, 0.07842311821924465, 0.9912495639316617, 0.9741469115222229, 0.9975407782766329, 0.998019426973338, 0.0017853657012045403, 0.14004027777575695, 0.4315995446203657, 0.021937092693470123, 0.00025508247317988515, 0.4060912973023772, 0.029325107641991786, 0.9698232027315855, 0.053558500203680415, 0.0006282522018027028, 0.009266719976589868, 0.2781586623481467, 0.30627294837881763, 0.0020418196558587842, 0.34993647640410547, 0.012271920027548323, 0.777732931745875, 0.21015663047176503, 0.9992855624908902, 0.9853256584522672, 0.997837783262226, 0.9778703548133489, 0.3980629058145881, 0.0649260364920714, 0.11258850258740706, 0.05541856294024592, 0.005003933448329203, 0.3640361583659495, 0.07859913197329063, 0.4548346828160274, 0.06133814612817582, 0.006049050843042465, 0.001425572491672428, 0.08796167563481495, 0.01822421050165023, 0.029744377393813904, 0.2617659326600669, 7.705797252283394e-05, 0.006015883210188674, 0.0024610431314408213, 0.29559862500972534, 0.00027344923682675796, 0.00027344923682675796, 0.6956548584872722, 0.9927764205043711, 0.9904594115603622, 0.9189066017093004, 0.08017305920953628, 0.9902057978732429, 0.9940415787523124, 0.9555282209781378, 0.05437681743470548, 0.3260720962143624, 0.05173349992051841, 0.4882585065491263, 0.005475443422244649, 0.0256779415663887, 0.03530716965378446, 0.01321658757093536, 0.07825172673288354, 0.07825172673288354, 0.841206062378498, 0.9859370447690808, 0.9902363619576648, 0.9905043773817036, 0.9867335101689241, 0.021618394522826642, 0.9773789944793729, 0.9527082448037922, 0.9943271636840825, 0.992562358160389, 0.09989933333251533, 0.07508562795637443, 0.014179260214937659, 0.17144014623515533, 0.014501516128913514, 0.24845930967538488, 0.37607265160982384, 0.9920539241312424, 0.99617458732147, 0.9876293821528623, 0.0025309494264659665, 0.7086658394104706, 0.08183403145573291, 0.11895462304390042, 0.07424118317633502, 0.012654747132329832, 0.004645268892374816, 0.9940875429682104, 0.014058557861922892, 0.1257870966593101, 0.051794686859715916, 0.005919392783967533, 0.3773612899779303, 0.00443954458797565, 0.16648292204908688, 0.2449148764366567, 0.0088790891759513, 0.998909658058015, 0.9994802084587324, 0.08166204615729193, 0.9170427075231027, 0.8171696256757767, 0.12977679674532977, 0.003048893079818779, 0.004507059335384282, 0.03711695923257644, 0.007887353836922495, 0.000530242274751092, 0.9928644366758528, 0.9885176854250131, 0.014025441310716516, 0.21879688444717765, 0.03506360327679129, 0.6774288153076077, 0.05469922111179441, 0.9924829801877262, 0.9991673475368781, 0.3750369281767444, 0.09688907578441291, 0.06804008130927873, 0.05062182049410338, 0.0310262770770311, 0.009797771708536138, 0.3685050803710536, 0.9996578011829012, 0.2650707924385109, 0.04392816248626881, 0.003942270992357457, 0.07546633042512846, 0.023278171573920224, 0.020274536532124066, 0.09667950290781382, 0.006945906034153615, 0.44435025899571906, 0.019523627771675024, 0.11318752021719394, 0.1619285576312966, 0.5962653576991891, 0.12185259353525663, 0.005957237906168102, 0.9524099512602147, 0.023474893164864445, 0.02012133699845524, 0.8671835163046061, 0.018783758475912047, 0.05009002260243212, 0.059481901840388145, 0.11244130287994081, 0.7472365064806193, 0.13948414787638228, 0.9768712172225176, 0.0559723189733675, 0.027292287763873407, 0.020816151684310228, 0.14987629212703363, 0.057822643567528406, 0.4066088295668598, 0.28217450060953864, 0.9939102990425962, 0.9819897611833558, 0.27703724504960836, 0.7225816803871228, 0.05356665885924976, 0.07898149700414928, 0.020918366780801913, 0.8226587608749013, 0.023850848105213394, 0.9996915672688391, 0.9842562028445752, 0.4307475284906966, 0.47445418480454477, 0.0935568185352654, 0.0007898793309731601, 0.00035105748043251554, 0.011992534088783417, 0.9713952611914568, 0.9980625677100126, 0.019612823289144102, 0.03716113886364146, 0.8103192779988484, 0.04025790043561158, 0.09290284715910364, 0.26821477525477655, 0.06973584156624191, 0.03475130566344496, 0.12034680350562148, 0.0002332302393519796, 0.2434923698834667, 0.031019621833813286, 0.2106069061348376, 0.021223951781030145, 0.09700892412392643, 0.03527597240870052, 0.044094965510875654, 0.0066142448266313485, 0.8135521136756558, 0.0022047482755437825, 0.9536842352842066, 0.05644013789914587, 0.9421161480088196, 0.2083150672881243, 0.004930534136997025, 0.34452107282266714, 0.005546850904121653, 0.4357359543571121, 0.9562050990696371, 0.04331242609026231, 0.9560348606071719, 0.02174648383127362, 0.02215169781570729, 0.9894220948130482, 0.9811736656600996, 0.9808889629615665, 0.9831385708514697, 0.9876683490582094, 0.9860231578891396, 0.9953330892210625, 0.9931346490120707, 0.3401129242770264, 0.22152345237897147, 0.05064393867825972, 0.032641874722087176, 0.18149162533246327, 0.07827745708569189, 0.08237520316131872, 0.007530046207348437, 0.005393614492705392, 0.9884694333536043, 0.23959843714749143, 0.07866831539905475, 0.04700674648536111, 0.07148133349840036, 0.05506782077933832, 0.011945929375412017, 0.20609156207011625, 0.21930006934699459, 0.07051011972804166, 0.00038848550814348025, 0.970274657439386, 0.979191895556208, 0.9845543160942354, 0.9869371783213685, 0.9621897632205334, 0.9682562410361587, 0.9806080739178531, 0.06984295560297298, 0.8685598324985101, 0.02865352024737353, 0.03223521027829522, 0.9597836352584822, 0.02924548473086788, 0.007976041290236695, 0.050121644230284965, 0.03245973150151788, 0.028640939560162837, 0.014559144276416108, 0.117905201189337, 0.02291275164813027, 0.2093175332855234, 0.4964429523761558, 0.027447567078489384, 0.6247581940625749, 0.04888035284556732, 0.046505598861167285, 0.13080936530736842, 0.06392046141343419, 0.02572650149766701, 0.05066141833386734, 0.00870743127613345, 0.9956262100569475, 0.014424931020011569, 0.005409349132504338, 0.5352250447216792, 0.016829086190013498, 0.014725450416261809, 0.005709868528754579, 0.029450900832523618, 0.002704674566252169, 0.37474768712405054, 0.000300519396250241, 0.9989706632472927, 0.9827590443511834, 0.19425871776714612, 0.041362290541521574, 0.04321433340158971, 0.030455815921120365, 0.14425356054530658, 0.011523822240423922, 0.34077588625253596, 0.19405293522713854, 0.9875121169976153, 0.9859500345709353, 0.9927201778745329, 0.018901480399619506, 0.1948306441191549, 0.034895040737759085, 0.005815840122959848, 0.08287572175217783, 0.027625240584059275, 0.046526720983678785, 0.5873998524189447, 0.9854011297584203, 0.0043598352027267254, 0.7244210386846459, 0.00045893002133965533, 0.0754939885103733, 0.06080822782750433, 0.004130370192056898, 0.0713636183183164, 0.023175966077652592, 0.035796541664493114, 0.9747586767465065, 0.6729208275899818, 0.320674975298547, 0.0060303922345965695, 0.912481225250822, 0.05431435864588226, 0.028967657944470537, 0.14319793559076968, 0.8564857657032827, 0.9991844989418571, 0.09089471586585222, 0.9055806877005277, 0.00045489089360283626, 0.05034125889204721, 5.0543432622537356e-05, 0.000707608056715523, 0.00010108686524507471, 0.9401583902118175, 5.0543432622537356e-05, 0.004649995801273437, 0.002931519092107167, 0.0006065211914704483, 0.9947351158156693, 0.05031550813461876, 0.015889107831984873, 0.05296369277328291, 0.005296369277328291, 0.09003827771458095, 0.783862653044587, 0.010850562000951839, 0.10850562000951838, 0.8788955220770989, 0.040407828996276644, 0.0942849343246455, 0.8552990470878556, 0.9928184364882592, 0.9855167391838986, 0.9475071597073261, 0.048383344325480485, 0.39136574245902617, 0.04680430684306106, 0.003405718793154131, 0.0029191875369892553, 0.0697685821340432, 0.02831611910879578, 0.4563663182826536, 0.0009730625123297518, 0.07052646304059637, 0.14312047711495615, 0.22911528492667135, 0.2186243778294274, 0.0415807485679086, 0.009189115705615161, 0.05061671234509685, 0.23669630538380387, 0.00045945578528075806, 0.4288171403509259, 0.2102122348026262, 0.16394269399009165, 0.07491886712760822, 0.025925003874069704, 0.07250212947833053, 0.00342737339352108, 0.01573076506257111, 0.00017576273812928614, 0.004350127768699832, 0.003424093799237079, 0.9946992486783715, 0.2846132837419345, 0.7136259540882329, 0.0021399397110729076, 0.030434698113036906, 0.05421180601384699, 0.030434698113036906, 0.15050909301212784, 0.3882801720202287, 0.00023777107900810083, 0.32669746255713056, 0.01711951768858326, 0.9972268290922609, 0.9896179798288368, 0.9962824808711574, 0.992099375528563, 0.952830190531108, 0.03970125793879617, 0.9990301800881785, 0.0010035636131246319, 0.21676974043492048, 0.48020518888013636, 0.001505345419686948, 0.05419243510873012, 0.06171916220716486, 0.1415024694505731, 0.04365501717092149, 0.9680286457107985, 0.9935007063212046, 0.988306207915031, 0.9852382777940778, 0.998875563831255, 0.5224365605694149, 0.06079149582526565, 0.057859926229631015, 0.20382123346491351, 0.012652037202212647, 0.01866946953009427, 0.03240155868859337, 0.08840996727887619, 0.0029315695956346377, 0.9945317249937264, 0.0037624151008589903, 0.04151358747752136, 0.9548125119829912, 0.06689713545479338, 0.9231804692761487, 0.976771181889736, 0.1100389272066861, 0.006877432950417881, 0.8820307758910932, 0.1687201451721104, 0.8290871649855318, 0.8674254245260332, 0.035157015312229374, 0.0006571404731257828, 0.01642851182814457, 0.07359973299008767, 0.006242834494694936, 0.9589379267829894, 0.004252488917220382, 0.9622774921252977, 0.03280491450427151, 0.010602653156855475, 0.2138201719965854, 0.7616239184341183, 0.012369762016331387, 0.9806239719703658, 0.17113135736657037, 0.0003598977021378977, 0.2888179059656629, 0.22313657532549658, 0.021593862128273862, 0.009297357305229025, 0.28287959388038764, 0.000839761304988428, 0.0016195396596205397, 0.0003598977021378977, 0.9872359386774705, 0.24530560843746466, 0.7010646623649947, 0.042894969781414584, 0.009383274639684441, 0.9854881999393178, 0.990181145778694, 0.9538225489803821, 0.6985320651484945, 0.009048914588021572, 0.19742083168256822, 0.001324231403125108, 0.047230920044795524, 0.041823641815368004, 0.003420931124739863, 0.0012138787861980158, 0.23921425985050992, 0.20797665890783165, 0.10850956116930348, 0.04329421885037866, 0.040006050330096736, 0.04603435928394693, 0.31456812177363735, 0.023544209490793194, 0.008884607355016299, 0.026209591697298085, 0.1217191207637233, 0.003109612574255705, 0.597934074992597, 0.1035056756859399, 0.00088846073550163, 0.11327874377645782, 0.00088846073550163, 0.0067026179682146345, 0.20935824359541005, 0.05007249893901521, 0.06446341398841722, 0.18727903146482067, 0.05184672134236615, 0.025233385292102156, 0.40491697960920175, 0.0001971358225945481, 0.8142386617692146, 0.021912938489539766, 0.006919875312486242, 0.0772719409894297, 0.024219563593701848, 0.05305237739572786, 0.11533726629073457, 0.8846256346570903, 0.0005006594871932309, 0.20326775180045176, 0.0020026379487729238, 0.1877473076974616, 0.4796317887311152, 0.12666685025988741, 0.9680451532765975, 0.029352141984010982, 0.002302128783059685, 0.9874743127028064, 0.01487919773565756, 0.03571007456557814, 0.011903358188526048, 0.10861814347030019, 0.13093694007378653, 0.1926856106767654, 0.5044048032387912, 0.9946953876875196, 0.9887747570935008, 0.9915282222737605, 0.007588226190870616, 0.9982251005002051, 0.0622806274889488, 0.04900019956851119, 0.24225332310039646, 0.1190659054935786, 0.10944904389602032, 0.03755155480951325, 0.001373837371079753, 0.378263222837292, 0.0009158915807198353, 0.24535603284362206, 0.267054185408024, 0.0066763546352006, 0.01502179792920135, 0.46567573580524185, 0.09787107187026693, 0.13948914448799726, 0.12279618129517136, 0.08552285252214914, 0.09444101094023422, 0.0795774135767591, 0.10999062048971588, 0.02583979233957982, 0.21906655806475636, 0.025382450882242124, 0.1728082740491969, 0.0045847093115093055, 0.14530001818014107, 0.12202380167555538, 0.10862234368806663, 0.17386628389031444, 0.2726138690612841, 0.16806447212545783, 0.8283177554754707, 0.9983338174658254, 0.9592199916892211, 0.00012836079295148797, 0.03350216696033836, 0.10750216409687116, 0.0003209019823787199, 0.0003850823788544639, 0.013028620484576028, 0.0008985255506604158, 0.8441005744489848, 0.00012836079295148797, 0.980919410874486, 0.9898677625583471, 0.9090478795339528, 0.05376089610147033, 0.024436770955213787, 0.009774708382085514, 0.996557079011137, 0.9983366007515682, 0.999485220585456, 0.9511294454715487, 0.9994058687751042, 0.07755033233061688, 0.9141539174730292, 0.007050030211874262, 0.9785086525367824, 0.9998551437206676, 0.9988699531448094, 0.9773645444893825, 0.002199829747987617, 0.002458633247750866, 0.7611410928037154, 0.06094822419424515, 0.16175218735203065, 0.011387353989582958, 0.992037868505355, 0.022038854754175777, 0.00038664657463466275, 0.00038664657463466275, 0.6584591166028307, 0.004639758895615953, 0.3135703720287115, 0.06351141647259266, 0.001373219815623625, 0.23413397856382806, 0.7006854109219547, 0.981799540797586, 0.8460899691140494, 0.14901286023202662, 0.0025256416988479087, 0.20398596074055156, 0.5133773063990833, 0.04941667326490438, 0.001895780304280219, 0.12992414352000434, 0.006445653034552745, 0.0061928823273153825, 0.061802437919535144, 0.026793694967160428, 0.9754429172133122, 0.9911944257094842, 0.9931411355138855, 0.9561066121613283, 0.03585399795604981, 0.005975666326008302, 0.5248314559561946, 0.1474778214201325, 0.11065394017555058, 0.09260659243686935, 0.046303296218434674, 0.07255398383833464, 0.004375114603316662, 0.0010937786508291654, 0.9921113506038144, 0.9851112009090098, 0.032916335850414896, 0.0022964885477033646, 0.020668396929330285, 0.0022964885477033646, 0.042867786223796146, 0.390403053109572, 0.5082894652250114, 0.9950735239303302, 0.836227342450688, 0.15942463722980743, 0.9783539593752539, 0.9905128599675658, 0.9375113197331287, 0.013786931172546011, 0.04136079351763803, 0.9396759066878542, 0.9140927143222762, 0.0708215976862304, 0.014823125097117992, 0.033237897023682246, 0.006093614454341745, 0.0011079299007894082, 0.3251774258816913, 0.6342898682019362, 0.9894971788854142, 0.018223630780470297, 0.9658524313649257, 0.9929116247527623, 0.9987887162574648, 0.9828062982772212, 0.7061375878549931, 0.10087679826499903, 0.1873426253492839, 0.3883048770841422, 0.1737294830691335, 0.008196054499007845, 0.2478970582076963, 0.025394332792007913, 0.01907933998129695, 0.027275394480304797, 0.0002687230983281261, 0.0004030846474921891, 0.1097733856670395, 0.041110671611364266, 0.9455454470613781, 0.00035384336804740555, 0.3853354278036246, 0.014153734721896221, 0.026538252603555416, 0.008138397465090328, 0.19956765957873673, 0.06263027614439078, 0.29758227252786806, 0.005307650520711083, 0.7851445241787044, 0.13604429467649126, 0.013337675948675614, 0.04179138463918359, 0.014226854345253987, 0.008891783965783742, 0.009724905070565807, 0.14498949377934475, 0.007072658233138769, 0.06276984181910657, 0.05658126586511015, 0.5711171523259556, 0.11051028489279326, 0.03624737344483619, 0.1334922758558102, 0.03201997884151274, 0.2806857719724095, 0.2660761835175349, 0.086332827112873, 0.05684870947984886, 0.11070737365416639, 0.004087656873384605, 0.02974905835629907, 0.9926440657791493, 0.002133128244441396, 0.23731051719410529, 0.5839438569158322, 0.002133128244441396, 0.06666025763879363, 0.1077229763442905, 0.9841784684355209, 0.9911506336230883, 0.8033633660144176, 0.11820059499962753, 0.05609519762694187, 0.0002225999905831027, 0.020256599143062343, 0.0017807999246648215, 0.3759604738908107, 0.04679564597226498, 0.27715784864482396, 0.12762448901526813, 0.0415843126708082, 0.015421292422678232, 0.09444212187129841, 0.017761074721291483, 0.003190612225381703, 0.9705642888089396, 0.986785478915534, 0.9905113990787897, 0.9939953958646454, 0.28994946199526583, 0.003168846579183233, 0.06971462474203112, 0.6353537391262382, 0.9829493947664757, 0.9924641904197526, 0.9971023772709976, 0.9886428590101384, 0.9971391434479827, 0.9432819801207092, 0.052243309668223895, 0.991274275582635, 0.0038597471032722776, 0.9938848790926115, 0.00698104659585039, 0.2788928115042231, 0.16038954553966273, 0.016929037994937196, 0.0008726308244812988, 0.000698104659585039, 0.5350972215719324, 0.16486841264841925, 0.11082821072477073, 0.08060233507256052, 0.6100131267991512, 0.033431650342596125, 0.014840443343638526, 0.9646288173365042, 0.3665768791254671, 0.012343478843698009, 0.11176347923328543, 0.09141507104045654, 0.04754072544751015, 0.0966702154986646, 0.11622424138967136, 0.15062710569166135, 0.001527658272734902, 0.0053162507891174595, 0.9613013053065016, 0.9890795479222881, 0.03556665751816809, 0.017783328759084047, 0.12522427334521682, 0.5490602754367199, 0.0007409720316285019, 0.24600271450066263, 0.024452077043740562, 0.9968435587980777, 0.999966149777281, 0.000592707785040404, 0.22565232101895383, 0.000592707785040404, 0.027857265896898988, 0.024555036808816738, 0.5444444368299711, 0.055714531793797976, 0.06756868749460607, 0.04673924247747186, 0.006350440554004329, 0.018378463053946515, 0.37019475580092265, 0.09609310682492035, 0.05723578493943343, 0.45788627951546745, 0.07793197009033652, 0.02997383465012943, 0.8812307387138052, 0.9504951504883737, 0.2816009482974286, 0.27735479989512535, 0.08510365521211989, 0.03541468454686943, 0.14464007642739274, 0.04824347333680682, 0.046255914510196804, 0.07896029156623438, 0.0024392767417486597, 9.034358302772813e-05, 0.40521497340461793, 0.007205705594015173, 0.031789877620655174, 0.13266975593686758, 0.000423865034942069, 0.42301730487218486, 0.1337941519956253, 0.8648836254002922, 0.0414960595717925, 0.957601374733673, 0.9934396942042253, 0.059000042097679284, 0.9383816219345181, 0.9839609301209115, 0.9982064385525843, 0.9963998019866723, 0.9856141470170142, 0.004463551925183993, 0.00021255009167542825, 0.001700400733403426, 0.06142697649419876, 0.024443260542674247, 0.11754020069651182, 0.7617795285647349, 0.028481712284507386, 0.01451551314185039, 0.13225245307019245, 0.16289631414743216, 0.006451339174155729, 0.6822291176669684, 0.2893439732184298, 0.0038323705062043682, 0.10730637417372231, 0.001277456835401456, 0.000638728417700728, 0.09836417632591211, 0.49948562264196933, 0.8667319691495166, 0.021139804125597964, 0.10569902062798983, 0.9623624330451299, 0.00415521144970857, 0.018352183902879515, 0.508205444807412, 0.10134099035678124, 0.10872803293404092, 0.11311408946428884, 0.08714401790361029, 0.0038089438288995223, 0.004963169231596347, 0.0500933824770422, 0.2541233103000327, 0.1000778154060673, 0.010068948047436955, 0.20260229108534358, 0.13357824068539026, 0.0361823413480328, 0.0695886643091554, 0.15630395053077367, 0.009833692251936092, 0.027666081550901542, 0.9693079312206214, 0.03768714224257079, 0.9325854653116153, 0.02877927225796315, 0.993190704244099, 0.9782518473947279, 0.46072034413292934, 0.031021836504950575, 0.011057288259190303, 0.009521553778747206, 0.03286471788148229, 0.30407542712773333, 0.00030714689608861954, 0.14251615978511947, 0.007985819298304109, 0.022965320488061176, 0.0750467168698047, 0.31311345505932514, 0.26165713544644553, 0.02659076574747203, 0.16053221577963722, 0.07945975885798413, 0.05034368296430178, 0.0019377379834782159, 0.008363527167399526, 0.9958153158769749, 0.6218531850791993, 0.3771896368513176, 0.9931834838662025, 0.17705337256240952, 0.5376598743892259, 0.0007799708042396895, 0.017939328497512858, 0.26649002478189393, 0.002950314517130171, 0.9942559922728677, 0.9957544564108827, 0.5436292181650089, 0.2088189486084476, 0.05762936347071124, 0.03966393437255429, 0.0020998553491352275, 0.05436292181650088, 0.07046181282653763, 0.023331726101502526, 0.9868930047926577, 0.9617504535443295, 0.18580427129030697, 0.52427228595072, 0.07551694067062183, 0.13582183573852846, 0.018471769660439872, 0.033140527920200946, 0.0010865746859082279, 0.0005432873429541139, 0.025534505118843354, 0.7772760629230079, 0.01601952360061535, 0.1002866066504276, 0.048497461859397156, 0.0074611479783687935, 0.04893635291694826, 0.0013166731726533165, 0.9783783656637516, 0.9859326621928857, 0.7687964100617933, 0.05414059225787277, 0.11161291327007618, 0.06413577852086466, 0.8914126522647594, 0.1050390704897965, 0.9886797985575244, 0.9941459554281621, 0.9757686949157499, 0.8969804004061166, 0.026165335289877602, 0.041155891966369984, 0.00027255557593622504, 0.03025366892892098, 0.0016353334556173502, 0.0035432224871709255, 0.9929243195265567, 0.9110058030138358, 0.043538692340044184, 0.02314715288964374, 0.015431435259762495, 0.006062349566335266, 0.9941986566531129, 0.9742516648595756, 0.009864060691274783, 0.8079562438944163, 0.18203675639352557, 0.9846897190255554, 0.9974716556644423, 0.9998288070078921, 6.385418361271504e-05, 0.009447869232341597, 0.9888769796517539, 0.8025008253820857, 0.0527756829071391, 0.14125256307498993, 0.0015522259678570323, 0.24984283236869198, 0.45133895281688896, 0.11901323174038773, 0.00023169350760620584, 0.1176230706947505, 0.011816368887916498, 0.010580670180683401, 0.03954235863145913, 0.1172574698091453, 0.484143582270298, 0.06099875003325318, 0.06892470226687335, 0.07999772376972503, 0.05175180576069633, 0.00031082165622039836, 0.00190378264434994, 0.1347411879715427, 0.9906621993088279, 0.9497686751074259, 0.08715548082497183, 0.31477411407252, 0.053688722244962295, 0.07212368977058199, 0.1066679019051894, 0.11152958257837493, 0.15502191508714272, 0.02440038110839329, 0.004612026800778699, 0.07002134137136663, 0.9778171048828889, 0.9905474494924984, 0.191071746796778, 0.00249766989276834, 0.008741844624689188, 0.7980055307394845, 0.002361394538319108, 0.9965084951706636, 0.40854197177670454, 0.007642420637191159, 0.00043670975069663763, 0.010481034016719303, 0.02270890703622516, 0.015066486399033999, 0.515754215572729, 0.017250035152517187, 0.0019651938781348696, 0.00043670975069663763, 0.9893947577394233, 0.9924328735443538, 0.11233712554731325, 0.09011659521927326, 0.0006172369535566662, 0.0285986455147922, 0.018928599909071097, 0.0059666238843811064, 0.36128936348183527, 0.0724224692173155, 0.30450356375462195, 0.00534938693082444, 0.510937264265174, 0.09354796820273277, 0.0037159073764739927, 0.028705384483261594, 0.04236134409180352, 0.01495652719030782, 0.07078803552182956, 0.23465955082433265, 0.0002786930532355495, 0.0018528822671443166, 0.02594035174002043, 0.016675940404298848, 0.047248497812180074, 0.024087469472876114, 0.056512909147901656, 0.6911250856448301, 0.13618684663510727, 0.9228675435661607, 0.07656979619107884, 0.9763529268607478, 0.0073395313924568, 0.5039811556153669, 0.23394756313456053, 0.0146790627849136, 0.016208131825008767, 0.0064220899683997005, 0.2171278036935137, 0.41376550528702816, 0.02041901354724488, 0.04644764620087572, 0.030740712702995044, 0.1566205654502959, 0.002468232406809821, 0.08302236277451217, 0.0029170019353206974, 0.24323308445289507, 0.9112356952952961, 0.08420828323927407, 0.004338002469901998, 0.9861761896399823, 0.11349682797963385, 0.040305410642944184, 0.12091623192883254, 0.1560080073642317, 0.0012031465863565427, 0.03388862884904262, 0.0014036710174159665, 0.5323923644627702, 0.16986641330062638, 0.1271797757613498, 0.1720667554418262, 0.07921231708319365, 0.03256506368975739, 0.023763695124958094, 0.1071566622764314, 0.003080478997679753, 0.2094725718422232, 0.07569176965727394, 0.8521428924723776, 0.0533542061476444, 0.06402504737717328, 0.028963711908721244, 0.9967332720606403, 0.9612284739945687, 0.012623682696283943, 0.07574209617770365, 0.07616288560091311, 0.26299338950591544, 0.5112591491994997, 0.04123736347452754, 0.01935631346763538, 0.051708743946406795, 0.013344191986169495, 0.8023195431684409, 0.12009772787552546, 0.011676167987898308, 0.08379406062533096, 0.10150662628597003, 0.8086467476607142, 0.0006812525254091948, 0.004768767677864364, 0.3239107276445198, 0.6747121572066977, 0.15877668616098606, 0.006372308474688403, 0.01646179689294504, 0.04142000508547462, 0.09080539576430975, 0.42269646215433077, 0.22249977090787007, 0.004248205649792269, 0.03664077372945832, 0.5467930140404738, 0.0012751702752809555, 0.00459061299101144, 0.3272086926370932, 0.007140953541573351, 0.08084579545281258, 0.032134290937080076, 0.995252135575297, 0.07848364873560537, 0.00045366270945436637, 0.10797172485013919, 0.03992231843198424, 0.03493202862798621, 0.37790103697548716, 0.017692845668720286, 0.34206168292859224, 0.12761449552188261, 0.3954153053319753, 0.04565185585537903, 0.046775593845665285, 0.24673072249222544, 0.06208652396331548, 0.0009832707415004713, 0.014889528371292853, 0.013695556756613709, 0.04621372485052216, 0.0009430552968538048, 0.8569678204695789, 0.07378285013003816, 0.038990845785396, 0.0010328700870303577, 6.736109263241463e-05, 0.015313421725102258, 0.00010104163894862194, 0.01278738075138671, 0.9937126440865053, 0.00024189694354588738, 0.0060474235886471845, 0.9927935614068323, 0.014326274202042768, 0.04077478042119865, 0.23913857706486774, 0.1124061514314125, 0.5917853266536128, 0.5765499417457265, 0.11388943199310231, 0.02400250394693339, 0.006857858270552397, 0.015185257599080309, 0.035024061881749745, 0.011021557934816352, 0.14597441175890102, 0.07176258833113758, 0.003153151563548836, 0.19470710904914063, 0.07147143544044028, 0.21178668001836348, 0.0809308901310868, 0.001576575781774418, 0.0052552526059147266, 0.11509003206953251, 0.008933929430055035, 0.3066439895551243, 0.7116293445681859, 0.07757552423068649, 0.005764125639431813, 0.014170142196936542, 0.018733408328153393, 0.01513082980350851, 0.039628363771093716, 0.008406016557504727, 0.10879787144427548, 0.9976445225477167, 0.23473282891359307, 0.7597051101021132, 0.0046812814883052745, 0.000668754498329325, 0.7043833067473027, 0.1581345817488308, 0.011797701938219801, 0.007184497975197955, 0.03546873210913517, 0.024200414232245743, 0.0007562629447576795, 0.058080994157389786, 0.9905541519845555, 0.9442385707227023, 0.010852992799219866, 0.9840046804626011, 0.00025207474799828953, 0.018653531351873427, 0.094023881003362, 0.8873031129539792, 0.898183731002742, 0.099798192333638, 0.9848074920572569, 0.9636456935878234, 0.30450376223966685, 0.6951012880789614, 0.9898647704098101, 0.9847507754857698, 0.9727105311767692, 0.2980012000404636, 0.07103704282045646, 0.262241056035608, 0.09342740325592913, 0.04188124973541651, 0.2129500467316178, 0.004510288433044855, 0.006282187460312476, 0.009664903785096117, 0.00020130501981009452, 0.9388866123942808, 0.003422185336771607, 0.05717062562606685, 0.028484549834919326, 0.9707842524819802, 0.9539461589921233, 0.9800215919583294, 0.0011618879909377192, 0.04792787962618092, 0.12896956699408682, 0.11676974308924078, 0.03108050375758399, 0.09730811924103398, 0.1188030470733818, 0.2114636143506649, 0.1957781264730057, 0.050251655608056355, 0.9988181725658023, 0.006350821919278506, 0.8700626029411553, 0.12066561646629162, 0.07765625891022958, 0.9170834385589016, 0.9739335092172742, 0.02507983285538045, 0.9930068932767915, 0.8539255053081899, 0.14155984312595662, 0.8456541799590641, 0.04779784495420797, 0.016545407868764298, 0.09008055395216118, 0.997141545228998, 0.343086853778664, 0.3809496403487196, 0.06322370964999846, 0.04982885591059201, 0.09376397617584518, 0.05840156230381214, 0.010358686891807658, 0.00017859804985875273, 0.2537688264869957, 0.029935196690154996, 0.42513081890365007, 0.18148212993406465, 0.004422244965591079, 0.0814713591737741, 0.014797512000247072, 0.0007653885517369175, 0.007143626482877897, 0.0009354748965673436, 0.0014425004256762332, 0.9780152886084861, 0.020195005959467265, 0.9898056011447506, 0.9904906074739377, 0.8632887595661605, 0.1334173537511339, 0.0005634118826954828, 0.04535465655698637, 0.0002817059413477414, 0.9535746114621046, 0.9956501238527166, 0.9922855701080535, 0.0027315528780191126, 0.00011381470325079636, 0.16992535195343897, 0.041599274038166066, 0.3774664633312661, 0.0007397955711301764, 0.2648468144646031, 0.00022762940650159272, 0.13976445559197792, 0.0026746455263937144, 0.023806026762211996, 0.0006801721932060571, 0.10202582898090856, 0.008162066318472685, 0.002040516579618171, 0.005441377545648457, 0.16528184294907186, 0.6264385899427786, 0.06529653054778148, 0.004018891591411044, 0.8640616921533746, 0.12860453092515342, 0.9853315750230413, 0.09727375382388495, 0.011053835661805107, 0.8909391543414916, 0.000805599891813975, 0.000805599891813975, 0.7492078993869968, 0.09747758690949099, 0.05316959285972236, 0.08861598809953726, 0.010069998647674688, 0.9744844721174255, 0.9592106607780606, 0.029975333149314394, 0.990636303952769, 0.9987391394277065, 0.05157272845121402, 0.9455000216055903, 0.03983821471384375, 0.9411778226145586, 0.014939330517691406, 0.9925218963382515, 0.13253691620017716, 0.00026004627115796695, 0.00034672836154395594, 0.8666475396791179, 8.668209038598898e-05, 0.009906616986963789, 0.057788599090622096, 0.7578561995027298, 0.009906616986963789, 0.1634591802849025, 0.9880257431678606, 0.9990176630439368, 0.9861356951337343, 0.9825856059935392, 0.9826844096434446, 0.04980852334293566, 0.9463619435157775, 0.028741351490314572, 0.9628352749255381, 0.9946188933096932, 0.03687882231587552, 0.2907364690792652, 0.04092033709021804, 0.07981991679326482, 0.04824558261871386, 0.37838682074781865, 0.0692109405106157, 0.055823422820606095, 0.9966860322047129, 0.8996858107207455, 0.09227546776623032, 0.9701571907570067, 0.4187725755266207, 0.5808780886336997, 0.31314123391159815, 0.016165492508342285, 0.6644799622179083, 0.006127243128161995, 0.015590461930849843, 0.17884907271616424, 0.11148651078853002, 0.5380180164438559, 0.013237184658268735, 0.14296159430930233, 0.9980438376012996, 0.9782921239081689, 0.05886957841967645, 0.10121436289698758, 0.019623192806558817, 0.032016788263332804, 0.7859605118837505, 0.002065599242795665, 0.901958425329279, 0.09051912512265164, 0.3247834899450908, 0.0007314943467231775, 0.6744377876787697, 0.009436753638350346, 0.1802419944924916, 0.8096734621704595, 0.22277917460871924, 0.00848682569937978, 0.7659360193690251, 0.9928624619833737, 0.997769774570933, 0.9927990364834124, 0.9826784460660698, 0.8099840536572525, 0.18975925413848121, 0.012332837673049074, 0.9866270138439258, 0.030935705087902443, 0.009296740389110578, 0.0310959937153009, 0.0016028862739845826, 0.00016028862739845824, 0.8482474161926411, 0.03350032312627777, 0.02484473724676103, 0.01747146038643195, 0.002404329410976874, 0.018924968336851866, 0.8725406454253808, 0.0926327397540644, 0.014940764476462, 0.3017169472912431, 0.012445065230322905, 0.11524332762063243, 0.16735071456060233, 0.08873432688612348, 0.009106145290480174, 0.08974612080728794, 0.15136437060620378, 0.06445127277817635, 0.9934942482301931, 0.9937812389527106, 0.0519208231357181, 0.20026603209491267, 0.01854315111989932, 0.7287458390120434, 0.4172236764270225, 0.010885209483209611, 0.10155260141394379, 0.06095717310597382, 0.07952605987144905, 0.013830619108078096, 0.06710411493178631, 0.24882308265736794, 0.9867611177728907, 0.978689048434685, 0.9710034380858436, 0.14961700054504318, 0.00458791483783778, 0.1870849717207184, 0.45598775804954383, 0.0598977770495488, 0.014018628671170996, 0.12106997488738587, 0.003823262364864817, 0.003823262364864817, 0.0039521430800936695, 0.8457586191400454, 0.14820536550351263, 0.9935988762794968, 0.973687716474099, 0.9515382477457531, 0.040205841454045904, 0.9724348009486858, 0.026642049341059886, 0.9983026570727733, 0.9826626087073359, 0.002535841526461112, 0.18934283397576304, 0.19272395601104453, 0.0008452805088203707, 0.005071683052922224, 0.04818098900276113, 0.5604209773479059, 0.998940782745634, 0.0048968637542747976, 0.1993539007332398, 0.6284738034104786, 0.15206050605379634, 0.014690591262824394, 0.0005154593425552419, 0.9822317773562119, 0.016647996226376475, 0.0027719111146080337, 0.041578666719120506, 0.8731520011015306, 0.08315733343824101, 0.9865237885003635, 0.08265273104152585, 0.8787290352835905, 0.034801149912221406, 0.9996116894783532, 0.9959807305858129, 0.9761765206669868, 0.020037496702302423, 0.009183852655221944, 0.005009374175575606, 0.05092863745168533, 0.16113486931434867, 0.7397175865933312, 0.01419322683079755, 0.9926001399209206, 0.9984168448147511, 0.9991879671036956, 0.5608791691599356, 0.18082725048013462, 0.000968285143133251, 0.07964145302270989, 0.0837566648810262, 0.019365702862665018, 0.026143698864597775, 0.048172185870879236, 0.28765645022172226, 0.049848122437604114, 0.003950862992525115, 0.07548670143165008, 0.09078578791334307, 0.009162639706068884, 0.009498883365007193, 0.4566188888382219, 0.0037827411630559616, 0.013029441783859423, 0.4208194287513153, 0.09322282714515995, 0.10586321048687655, 0.23928947909388515, 0.14079982555634327, 0.36648014693457687, 0.061516310378303976, 0.05824416620924525, 0.4057458769632815, 0.10732632874512608, 0.9976547965227632, 0.02527029891220402, 0.12692581953629747, 0.03618247344247394, 0.02814192378859084, 0.4720951296779933, 0.028716248763868205, 0.28199356286118576, 0.9873260314292499, 0.9855051843416541, 0.11035432786186088, 0.8891267556238528, 0.9821330645011542, 0.09272033630820113, 0.036908095035303366, 0.0207045411173653, 0.8479859883720919, 0.0018003948797708958, 0.004187545700273483, 0.26521122768398725, 0.0055833942670313105, 0.7244454061473126, 0.9928170644969798, 0.7993667120095796, 0.10451308041329686, 0.03167063042827178, 0.04655582672955951, 0.010134601737046969, 0.0076009513027852265, 0.9880850802734765, 0.9996662323518907, 0.09216872657122563, 0.0589325914470441, 0.03108194118094754, 0.054008719576794983, 0.07278098108211974, 0.013540647643185067, 0.11878840886975991, 0.038160006994430645, 0.39175555567669523, 0.12894389460214872, 0.9957504361072133, 0.017218111780394053, 0.1865803351778099, 0.001371354035606606, 0.027350894376820645, 0.03390291921360776, 0.01660862109790223, 0.0097518509198692, 0.7054092786489758, 0.0016760993768525185, 0.00015237267062295624, 0.985134652941523, 0.9905166149711528, 0.9794300831675689, 0.8159336871057989, 0.1817306848553825, 0.9850581540792027, 0.9973830888275297, 0.9884557582993367, 0.17155845391492672, 0.800606118269658, 0.02573376808723901, 0.07451516190255977, 0.06322498585671738, 0.16483657026929888, 0.6954748444238912, 0.9942411517463313, 0.8183918614271385, 0.10150596730879237, 0.06861051494020225, 0.008928765642903033, 0.0025846426861035094, 0.05083183419551285, 0.9473205463709212, 0.9760687828940416, 0.9563032092912727, 0.8313414679057863, 0.1674644683551224, 0.9946450013063048, 0.3329098406260004, 0.2657026897015026, 0.0028654211634475775, 0.01849499114588891, 0.007293799325139288, 0.010419713321627555, 0.021360412309336486, 0.2943569013359784, 0.04636772428124262, 0.8291473976920984, 0.10818255280106759, 0.0325304179751462, 0.012860862920406635, 0.01739999100996192, 0.990429403572596, 0.016177938401029067, 0.0003621926507693075, 0.0003621926507693075, 0.9707970349453338, 0.003621926507693075, 0.008571892734873611, 0.9998450972021994, 0.9861758626106476, 0.6327595977425259, 0.22144850431142707, 0.053453087247585844, 0.021520074086690405, 0.027767837531213424, 0.04234595223510047, 0.0010412939074205033, 0.9690299346823492, 0.004678631770643244, 0.1792654699488569, 0.19797999703142988, 0.009357263541286487, 0.2580634787175852, 0.028564278178664013, 0.023639402630618492, 0.06894825767263726, 0.22925295676151894, 0.5849079406625287, 0.12084649867573884, 0.12792309544503885, 0.09145140440326183, 0.008981834361034644, 0.04899182378746169, 0.003538298384650011, 0.007620950366938485, 0.005443535976384632, 0.992747376414728, 0.030660993121753247, 0.7407050443623547, 0.22753684369301094, 0.9983652541262338, 0.3588894068156542, 0.23399913639481212, 0.10890616903612033, 0.13322980157808817, 0.06564485115790608, 0.06914861251216574, 0.02319432103109077, 0.0018532291460546932, 0.001042441394655765, 0.0040539387569946414, 0.2800779817479615, 0.005334818699961171, 0.02896044437121779, 0.669519746845127, 0.016004456099883515, 0.9964570503690611, 0.49619131938573124, 0.23464303631593783, 0.05106506016548101, 0.06204679353440166, 0.08034968248260274, 0.054908666844603236, 0.015008368937524885, 0.0005490866684460324, 0.0038436066791222266, 0.0012812022263740755, 0.9802372990496001, 0.9569154621056399, 0.9916803479715746, 0.025315288040511096, 0.9113503694583995, 0.06328822010127774, 0.995756857751272, 0.18160327927337583, 0.17616876717541946, 0.000452876008163032, 0.16665837100399578, 0.39807801117530517, 0.07698892138771544, 0.06366889170988393, 0.46360843478070823, 0.06305074713017632, 0.010817530144883193, 0.007417734956491332, 0.23396772341933075, 0.157317795535587, 0.9777393733929792, 0.9974739400616432, 0.9996441874394755, 0.9865064121341087, 0.9956088081137132, 0.014531489118427731, 0.03073968851975097, 0.01732600625658691, 0.016208199401323238, 0.9216317521648972, 0.9959172245347524, 0.9818077150924474, 0.9913524952325156, 0.05777476024139024, 0.9417285919346609, 0.99815525389926, 0.007417140325809441, 0.9917776207082338, 0.9730493178140647, 0.02155488995157738, 0.9962594650095485, 0.8176457232507488, 0.04469693868854235, 0.13768712147734885, 0.9859955332370199, 0.9825582149782606, 0.001016156118416368, 0.12143065615075595, 0.0025403902960409197, 0.04674318144715292, 0.0015242341776245517, 0.8119087386146778, 0.015242341776245517, 0.9774356085652083, 0.019123740167580162, 0.9251683581347958, 0.07154201714926366, 0.0016259549352105375, 0.9856237636312654, 0.5609009378462175, 0.15956763716551547, 0.19853984825997492, 0.0190837375860775, 0.03230439916679383, 0.029545304576035644, 0.00011496227461492469, 0.9919444701157616, 0.9810245361580404, 0.9743920140281846, 0.9963959994730703, 0.8113416236084685, 0.12101366589414446, 0.06692422432024656, 0.5719336126453977, 0.02464314078044336, 0.11381939842478156, 0.14768155590006704, 0.001063732695558706, 0.001063732695558706, 0.013473947477076946, 0.12640690198889293, 0.9737106832759236, 0.9887841872607812, 0.06484476588563717, 0.16764042050896077, 0.028563946606817086, 0.19965968323757025, 0.223386187273878, 0.19649231012592722, 0.0729647587718493, 0.0002879430101493658, 0.026951465749980637, 0.019349770282037382], \"Term\": [\"accelerate\", \"accelerator\", \"access\", \"access\", \"access\", \"access\", \"access\", \"access\", \"access\", \"access\", \"account\", \"account\", \"account\", \"account\", \"account\", \"account\", \"account\", \"account\", \"account\", \"accounting\", \"accounting\", \"accounting\", \"accounting\", \"accounting\", \"accrue\", \"acct\", \"ach\", \"ach\", \"acre\", \"act\", \"act\", \"act\", \"act\", \"act\", \"act\", \"act\", \"action\", \"action\", \"action\", \"action\", \"action\", \"action\", \"action\", \"action\", \"action\", \"action\", \"address\", \"address\", \"address\", \"address\", \"address\", \"address\", \"address\", \"address\", \"adjuster\", \"adjustment\", \"adjustment\", \"adjustment\", \"adjustment\", \"adjustment\", \"adjustment\", \"adjustment\", \"adviser\", \"advisor\", \"advisor\", \"agency\", \"agency\", \"agency\", \"agency\", \"agency\", \"agency\", \"agency\", \"agency\", \"agency\", \"agreement\", \"agreement\", \"agreement\", \"agreement\", \"agreement\", \"agreement\", \"agreement\", \"agreement\", \"agreement\", \"agreement\", \"allocation\", \"allotment\", \"america\", \"america\", \"america\", \"amerisave\", \"amount\", \"amount\", \"amount\", \"amount\", \"amount\", \"amount\", \"amount\", \"amount\", \"amount\", \"amount\", \"analysis\", \"apologize\", \"appeal\", \"appeal\", \"appeal\", \"application\", \"application\", \"application\", \"application\", \"application\", \"appraisal\", \"appraiser\", \"approval\", \"approval\", \"approval\", \"approval\", \"approval\", \"arbitration\", \"arm\", \"arm\", \"arm\", \"arm\", \"article\", \"assess\", \"assessor\", \"assignment\", \"assignment\", \"assistance\", \"assistance\", \"assistance\", \"assistance\", \"assistance\", \"assumption\", \"assumption\", \"attorney\", \"attorney\", \"attorney\", \"attorney\", \"attorney\", \"attorney\", \"attorney\", \"auction\", \"auction\", \"auction\", \"auto\", \"autodraft\", \"autopay\", \"bailout\", \"balance\", \"balance\", \"balance\", \"balance\", \"balance\", \"balance\", \"bank\", \"bank\", \"bank\", \"bank\", \"bank\", \"bank\", \"bank\", \"bank\", \"bank\", \"bank\", \"bankruptcy\", \"bankruptcy\", \"bankruptcy\", \"bankruptcy\", \"bankruptcy\", \"bankruptcy\", \"bathroom\", \"bay\", \"bayview\", \"bayview\", \"bbva\", \"bedroom\", \"bee\", \"bill\", \"bill\", \"bill\", \"bill\", \"bill\", \"bill\", \"bill\", \"bill\", \"billing\", \"billing\", \"billing\", \"billpay\", \"binder\", \"bls\", \"bmo\", \"boa\", \"boa\", \"boat\", \"bofa\", \"bond\", \"borrower\", \"borrower\", \"borrower\", \"borrower\", \"borrower\", \"borrower\", \"borrower\", \"boss\", \"bpo\", \"brick\", \"broker\", \"broker\", \"broker\", \"broker\", \"broker\", \"broker\", \"builder\", \"builder\", \"bureau\", \"bureau\", \"bureau\", \"bureau\", \"bureau\", \"bureau\", \"bureau\", \"bureau\", \"bureau\", \"bureaus\", \"buyer\", \"caliber\", \"caliber\", \"call\", \"call\", \"call\", \"call\", \"call\", \"call\", \"call\", \"callback\", \"caller\", \"cancellation\", \"cancellation\", \"cancellation\", \"cancellation\", \"cancellation\", \"capacity\", \"card\", \"care\", \"care\", \"care\", \"care\", \"care\", \"care\", \"care\", \"carrington\", \"case\", \"case\", \"case\", \"case\", \"case\", \"case\", \"case\", \"case\", \"case\", \"case\", \"cash\", \"cash\", \"cash\", \"cash\", \"cash\", \"cashier\", \"cashier\", \"cashier\", \"cell\", \"cell\", \"cell\", \"cell\", \"certificate\", \"certificate\", \"certificate\", \"cfbp\", \"cfpb\", \"cfpb\", \"cfpb\", \"cfpb\", \"cfpb\", \"cfpb\", \"cfpb\", \"cfr\", \"chaos\", \"chapter\", \"chapter\", \"charge\", \"charge\", \"charge\", \"charge\", \"charge\", \"chase\", \"chat\", \"check\", \"check\", \"check\", \"check\", \"check\", \"checking\", \"checking\", \"citimortgage\", \"city\", \"city\", \"city\", \"city\", \"city\", \"claim\", \"claim\", \"claim\", \"claim\", \"claim\", \"claim\", \"claim\", \"claim\", \"claim\", \"class\", \"class\", \"class\", \"class\", \"class\", \"class\", \"clearpath\", \"clerk\", \"clerk\", \"client\", \"client\", \"client\", \"client\", \"client\", \"close\", \"close\", \"closing\", \"closing\", \"closing\", \"cmc\", \"cmg\", \"cms\", \"colleague\", \"column\", \"commerce\", \"commit\", \"comp\", \"company\", \"company\", \"company\", \"company\", \"company\", \"company\", \"company\", \"company\", \"company\", \"competition\", \"complaint\", \"complaint\", \"complaint\", \"complaint\", \"complaint\", \"complaint\", \"complaint\", \"complaint\", \"complaint\", \"complaint\", \"component\", \"comptroller\", \"concession\", \"connect\", \"consolidate\", \"consolidation\", \"conspiracy\", \"construction\", \"construction\", \"construction\", \"construction\", \"consultant\", \"consultant\", \"consultant\", \"consumer\", \"consumer\", \"consumer\", \"consumer\", \"consumer\", \"consumer\", \"consumer\", \"consumer\", \"consumer\", \"contact\", \"contact\", \"contact\", \"contact\", \"contact\", \"contact\", \"contact\", \"contact\", \"contingency\", \"contract\", \"contract\", \"contract\", \"contract\", \"contract\", \"contract\", \"contract\", \"contract\", \"contract\", \"contract\", \"contractor\", \"cooperate\", \"copy\", \"copy\", \"copy\", \"copy\", \"copy\", \"copy\", \"copy\", \"copy\", \"cornerstone\", \"corona\", \"coronavirus\", \"correction\", \"correction\", \"correction\", \"correction\", \"correction\", \"correction\", \"correction\", \"correction\", \"corruption\", \"cost\", \"cost\", \"cost\", \"cost\", \"cost\", \"cost\", \"cost\", \"cost\", \"cost\", \"countrywide\", \"county\", \"county\", \"county\", \"coupon\", \"coupon\", \"coupon\", \"court\", \"court\", \"coverage\", \"covid\", \"covid\", \"credit\", \"credit\", \"credit\", \"credit\", \"credit\", \"credit\", \"credit\", \"credit\", \"credit\", \"credit\", \"criminal\", \"crisis\", \"crisis\", \"crisis\", \"crisis\", \"crisis\", \"crisis\", \"crosscountry\", \"crosscountry\", \"crosscountry\", \"csr\", \"csr\", \"csr\", \"currency\", \"curtailment\", \"cushion\", \"cushion\", \"customer\", \"customer\", \"customer\", \"customer\", \"customer\", \"customer\", \"customer\", \"customer\", \"date\", \"date\", \"date\", \"date\", \"date\", \"date\", \"date\", \"date\", \"date\", \"day\", \"day\", \"day\", \"day\", \"day\", \"day\", \"day\", \"day\", \"day\", \"day\", \"death\", \"death\", \"debit\", \"debit\", \"debt\", \"debt\", \"debt\", \"debt\", \"debt\", \"debt\", \"debt\", \"debt\", \"debt\", \"debtor\", \"decide\", \"decoration\", \"decree\", \"deduct\", \"deduct\", \"deed\", \"default\", \"default\", \"default\", \"default\", \"default\", \"default\", \"default\", \"default\", \"defend\", \"defendant\", \"defense\", \"defer\", \"deferment\", \"department\", \"department\", \"department\", \"department\", \"department\", \"department\", \"department\", \"department\", \"department\", \"depot\", \"depot\", \"derogatory\", \"derogatory\", \"diem\", \"diem\", \"digit\", \"disaster\", \"disaster\", \"disaster\", \"disbursement\", \"disbursement\", \"disclosure\", \"disclosure\", \"disclosure\", \"disclosure\", \"disclosure\", \"disclosure\", \"display\", \"ditech\", \"ditech\", \"ditech\", \"divorce\", \"divorce\", \"divorce\", \"divorce\", \"dmi\", \"document\", \"document\", \"document\", \"document\", \"document\", \"document\", \"document\", \"document\", \"document\", \"document\", \"dog\", \"draft\", \"draft\", \"draft\", \"draft\", \"duress\", \"economy\", \"eft\", \"email\", \"email\", \"email\", \"email\", \"email\", \"email\", \"email\", \"email\", \"end\", \"end\", \"end\", \"end\", \"end\", \"end\", \"end\", \"equity\", \"equity\", \"equity\", \"equity\", \"equity\", \"equity\", \"equity\", \"equity\", \"equity\", \"equity\", \"error\", \"error\", \"error\", \"error\", \"error\", \"error\", \"error\", \"error\", \"error\", \"escalation\", \"escalation\", \"escalation\", \"escalation\", \"escalation\", \"escalation\", \"escrow\", \"escrow\", \"estate\", \"estate\", \"estate\", \"estate\", \"estate\", \"estate\", \"estimate\", \"estimate\", \"estimate\", \"estimation\", \"evidence\", \"evidence\", \"evidence\", \"evidence\", \"evidence\", \"evidence\", \"evidence\", \"examination\", \"executor\", \"exemption\", \"exemption\", \"exhibit\", \"explanation\", \"explanation\", \"explanation\", \"explanation\", \"explanation\", \"explanation\", \"explanation\", \"explanation\", \"explanation\", \"extension\", \"extension\", \"extension\", \"extension\", \"extension\", \"fact\", \"fact\", \"fact\", \"fact\", \"fact\", \"fact\", \"fact\", \"fact\", \"fact\", \"fact\", \"family\", \"family\", \"family\", \"family\", \"family\", \"family\", \"family\", \"father\", \"father\", \"fay\", \"faye\", \"fee\", \"fee\", \"fee\", \"fee\", \"fee\", \"fee\", \"fee\", \"fee\", \"fee\", \"feed\", \"fico\", \"fill\", \"fill\", \"fill\", \"fill\", \"financial\", \"firm\", \"flagstar\", \"flexibility\", \"flood\", \"floor\", \"floor\", \"floor\", \"footage\", \"forbearance\", \"forebearance\", \"foreberance\", \"foreclosure\", \"foreclosure\", \"foreclosure\", \"foreclosure\", \"foreclosure\", \"foreclosure\", \"forgery\", \"fraud\", \"fraud\", \"fraud\", \"fraud\", \"fraud\", \"fraud\", \"freedom\", \"freedom\", \"freedom\", \"freedom\", \"freeze\", \"frustration\", \"frustration\", \"frustration\", \"fund\", \"fund\", \"fund\", \"fund\", \"fund\", \"fund\", \"fund\", \"fund\", \"fund\", \"gateway\", \"general\", \"generate\", \"gentleman\", \"gentleman\", \"gentleman\", \"get\", \"get\", \"get\", \"get\", \"get\", \"get\", \"get\", \"get\", \"gift\", \"girl\", \"government\", \"government\", \"government\", \"government\", \"government\", \"government\", \"government\", \"governor\", \"grace\", \"grace\", \"grandmother\", \"gregory\", \"guy\", \"guy\", \"guy\", \"habit\", \"hang\", \"hang\", \"hang\", \"hardship\", \"hardship\", \"hardship\", \"hardship\", \"hardship\", \"harp\", \"harris\", \"harris\", \"harvey\", \"hazard\", \"heir\", \"heloc\", \"heloc\", \"heloc\", \"help\", \"help\", \"help\", \"help\", \"help\", \"help\", \"help\", \"help\", \"help\", \"help\", \"hero\", \"hero\", \"history\", \"history\", \"history\", \"history\", \"history\", \"history\", \"history\", \"history\", \"history\", \"hold\", \"hold\", \"hold\", \"hold\", \"hold\", \"hold\", \"holder\", \"holder\", \"holder\", \"holder\", \"holder\", \"holder\", \"holder\", \"holder\", \"home\", \"home\", \"home\", \"home\", \"home\", \"home\", \"home\", \"home\", \"home\", \"homebridge\", \"homeowner\", \"homeowner\", \"homeowner\", \"homeowner\", \"homeowner\", \"homeowner\", \"homeownership\", \"homepoint\", \"hour\", \"hour\", \"hour\", \"hour\", \"hour\", \"hour\", \"house\", \"house\", \"house\", \"house\", \"house\", \"house\", \"house\", \"house\", \"house\", \"hpa\", \"hrs\", \"hsbc\", \"huntington\", \"hurricane\", \"hurricane\", \"hurricane\", \"hurricane\", \"hurt\", \"identification\", \"identity\", \"illinois\", \"impound\", \"improvement\", \"improvement\", \"inaccuracy\", \"inception\", \"inception\", \"income\", \"income\", \"income\", \"income\", \"income\", \"income\", \"income\", \"increase\", \"increase\", \"increase\", \"increase\", \"increase\", \"incur\", \"incur\", \"information\", \"information\", \"information\", \"information\", \"information\", \"information\", \"information\", \"information\", \"information\", \"information\", \"inheritance\", \"input\", \"inquiry\", \"inquiry\", \"inquiry\", \"inquiry\", \"inquiry\", \"inquiry\", \"inquiry\", \"inspector\", \"insurance\", \"interest\", \"interest\", \"interest\", \"interest\", \"interest\", \"interest\", \"interest\", \"interest\", \"interest\", \"interest\", \"investor\", \"investor\", \"investor\", \"investor\", \"investor\", \"irma\", \"irma\", \"irma\", \"irrl\", \"issue\", \"issue\", \"issue\", \"issue\", \"issue\", \"issue\", \"issue\", \"issue\", \"issue\", \"issue\", \"job\", \"job\", \"job\", \"job\", \"job\", \"job\", \"judge\", \"judge\", \"judgment\", \"judgment\", \"jurisdiction\", \"justice\", \"justice\", \"key\", \"lady\", \"lapse\", \"late\", \"law\", \"law\", \"law\", \"law\", \"law\", \"law\", \"law\", \"law\", \"lawsuit\", \"lawsuit\", \"lawsuit\", \"lawsuit\", \"lawsuit\", \"lawyer\", \"lawyer\", \"lawyer\", \"lawyer\", \"lawyer\", \"lawyer\", \"lawyer\", \"ledger\", \"ledger\", \"ledger\", \"legality\", \"lender\", \"lender\", \"lender\", \"lender\", \"lender\", \"lender\", \"lender\", \"lender\", \"lender\", \"lender\", \"letter\", \"letter\", \"letter\", \"letter\", \"letter\", \"letter\", \"letter\", \"letter\", \"letter\", \"letter\", \"libor\", \"lien\", \"lien\", \"lien\", \"lieu\", \"limbo\", \"line\", \"line\", \"line\", \"line\", \"line\", \"line\", \"line\", \"line\", \"line\", \"loan\", \"loan\", \"loan\", \"loan\", \"loan\", \"loan\", \"loan\", \"loan\", \"loan\", \"loan\", \"loandepot\", \"lock\", \"lock\", \"login\", \"loss\", \"loss\", \"loss\", \"loss\", \"loss\", \"lump\", \"lump\", \"machine\", \"mail\", \"mail\", \"mail\", \"mail\", \"mail\", \"mail\", \"mail\", \"mail\", \"mailbox\", \"maine\", \"make\", \"make\", \"make\", \"make\", \"make\", \"make\", \"make\", \"make\", \"make\", \"manager\", \"manager\", \"manager\", \"manager\", \"manager\", \"manager\", \"manager\", \"mandate\", \"margin\", \"market\", \"market\", \"market\", \"market\", \"maturity\", \"maturity\", \"mediator\", \"mer\", \"merit\", \"message\", \"message\", \"message\", \"message\", \"message\", \"message\", \"message\", \"midland\", \"minute\", \"minute\", \"minute\", \"minute\", \"minute\", \"mip\", \"misc\", \"mitigation\", \"mitigation\", \"mitigation\", \"mobile\", \"mod\", \"modification\", \"modification\", \"modify\", \"modify\", \"monday\", \"monday\", \"monday\", \"monday\", \"money\", \"money\", \"money\", \"money\", \"money\", \"money\", \"money\", \"money\", \"month\", \"month\", \"month\", \"month\", \"month\", \"month\", \"month\", \"month\", \"month\", \"moratorium\", \"mortg\", \"mortgage\", \"mortgage\", \"mortgage\", \"mortgage\", \"mortgage\", \"mortgage\", \"mortgage\", \"mortgage\", \"mortgage\", \"mortgage\", \"mortgager\", \"mortgagor\", \"mother\", \"mother\", \"mother\", \"mother\", \"motion\", \"motion\", \"name\", \"name\", \"name\", \"name\", \"name\", \"name\", \"name\", \"name\", \"name\", \"name\", \"negotiator\", \"nfcu\", \"note\", \"note\", \"note\", \"note\", \"note\", \"note\", \"note\", \"note\", \"note\", \"note\", \"number\", \"number\", \"number\", \"number\", \"number\", \"number\", \"number\", \"number\", \"number\", \"obligation\", \"obligation\", \"obligation\", \"obligation\", \"obligation\", \"obligation\", \"obligation\", \"obligation\", \"ocwen\", \"ocwen\", \"off\", \"offer\", \"offer\", \"offer\", \"offer\", \"offer\", \"offer\", \"offer\", \"office\", \"office\", \"office\", \"office\", \"office\", \"office\", \"office\", \"office\", \"office\", \"officer\", \"officer\", \"officer\", \"official\", \"option\", \"option\", \"option\", \"option\", \"option\", \"option\", \"option\", \"option\", \"order\", \"order\", \"order\", \"order\", \"order\", \"order\", \"order\", \"order\", \"order\", \"order\", \"originator\", \"originator\", \"originator\", \"originator\", \"overdraft\", \"overdrawn\", \"owner\", \"owner\", \"owner\", \"owner\", \"owner\", \"owner\", \"owner\", \"ownership\", \"ownership\", \"ownership\", \"ownership\", \"ownership\", \"package\", \"package\", \"package\", \"package\", \"package\", \"packet\", \"packet\", \"page\", \"page\", \"page\", \"page\", \"page\", \"page\", \"page\", \"page\", \"page\", \"paperwork\", \"paperwork\", \"paperwork\", \"paperwork\", \"paperwork\", \"paperwork\", \"paperwork\", \"parcel\", \"party\", \"party\", \"party\", \"party\", \"party\", \"party\", \"party\", \"party\", \"pay\", \"pay\", \"pay\", \"pay\", \"pay\", \"pay\", \"pay\", \"pay\", \"pay\", \"pay\", \"payment\", \"payment\", \"payment\", \"payment\", \"payment\", \"payment\", \"payment\", \"payment\", \"payment\", \"payoff\", \"payoff\", \"payoff\", \"penfe\", \"pennymac\", \"pennymac\", \"pennymac\", \"pennymac\", \"pennymac\", \"people\", \"people\", \"people\", \"people\", \"people\", \"people\", \"people\", \"people\", \"people\", \"period\", \"period\", \"period\", \"period\", \"period\", \"period\", \"period\", \"period\", \"period\", \"period\", \"person\", \"person\", \"person\", \"person\", \"person\", \"person\", \"person\", \"person\", \"person\", \"petition\", \"phh\", \"phh\", \"phh\", \"phh\", \"phone\", \"phone\", \"phone\", \"phone\", \"phone\", \"phone\", \"phone\", \"phone\", \"pick\", \"pile\", \"plaintiff\", \"plaintiff\", \"plan\", \"plan\", \"plan\", \"plan\", \"planet\", \"planet\", \"plaza\", \"pleasure\", \"pmi\", \"pmi\", \"pmt\", \"pmts\", \"poc\", \"point\", \"point\", \"point\", \"point\", \"point\", \"point\", \"point\", \"point\", \"point\", \"policy\", \"policy\", \"policy\", \"policy\", \"portfolio\", \"portfolio\", \"postponement\", \"pph\", \"practice\", \"practice\", \"practice\", \"practice\", \"practice\", \"practice\", \"practice\", \"practice\", \"practice\", \"practice\", \"premium\", \"prepayment\", \"prepayment\", \"prepayment\", \"preservation\", \"preservation\", \"price\", \"price\", \"pricing\", \"principal\", \"principal\", \"principle\", \"principle\", \"principle\", \"principle\", \"probate\", \"problem\", \"problem\", \"problem\", \"problem\", \"problem\", \"problem\", \"problem\", \"problem\", \"process\", \"process\", \"process\", \"process\", \"process\", \"process\", \"process\", \"process\", \"process\", \"process\", \"processor\", \"processor\", \"processor\", \"profession\", \"professional\", \"profile\", \"profile\", \"program\", \"program\", \"program\", \"program\", \"projection\", \"prompt\", \"property\", \"property\", \"property\", \"property\", \"property\", \"property\", \"property\", \"property\", \"property\", \"property\", \"protection\", \"protection\", \"protection\", \"protection\", \"protection\", \"protection\", \"protection\", \"protection\", \"protection\", \"provision\", \"provision\", \"provision\", \"pst\", \"pull\", \"pull\", \"pull\", \"purchase\", \"purchase\", \"purchase\", \"purchase\", \"purchase\", \"purchase\", \"purchase\", \"pymt\", \"qualifie\", \"qualifie\", \"questionnaire\", \"quicken\", \"quit\", \"quit\", \"quote\", \"quote\", \"quote\", \"race\", \"rate\", \"rate\", \"rate\", \"rate\", \"rate\", \"rating\", \"rating\", \"rating\", \"rating\", \"rating\", \"reaffirmation\", \"realtor\", \"rebate\", \"rebuild\", \"recalculate\", \"recast\", \"recast\", \"reconciliation\", \"reconciliation\", \"reconveyance\", \"record\", \"record\", \"record\", \"record\", \"record\", \"record\", \"record\", \"record\", \"recorder\", \"rectify\", \"rectify\", \"redone\", \"refi\", \"refi\", \"refinance\", \"refinance\", \"refinance\", \"refinance\", \"refund\", \"refund\", \"refund\", \"refund\", \"refund\", \"refund\", \"region\", \"registry\", \"regulation\", \"regulation\", \"regulation\", \"regulation\", \"regulation\", \"regulation\", \"reinstatement\", \"reinstatement\", \"release\", \"release\", \"release\", \"relief\", \"relief\", \"relief\", \"removal\", \"removal\", \"removal\", \"renew\", \"renewal\", \"renovation\", \"renter\", \"repair\", \"repair\", \"repayment\", \"repayment\", \"report\", \"report\", \"report\", \"report\", \"report\", \"report\", \"report\", \"report\", \"report\", \"report\", \"reporting\", \"reporting\", \"reporting\", \"reporting\", \"request\", \"request\", \"request\", \"request\", \"request\", \"request\", \"request\", \"request\", \"request\", \"resend\", \"resent\", \"reserve\", \"reserve\", \"reserve\", \"reserve\", \"response\", \"response\", \"response\", \"response\", \"response\", \"response\", \"response\", \"response\", \"restitution\", \"restore\", \"retraction\", \"review\", \"review\", \"review\", \"review\", \"review\", \"review\", \"review\", \"review\", \"review\", \"rez\", \"rez\", \"rez\", \"rico\", \"ring\", \"rma\", \"rma\", \"rocket\", \"rocket\", \"roundpoint\", \"rude\", \"rule\", \"rule\", \"rule\", \"rule\", \"rule\", \"rule\", \"rule\", \"rushmore\", \"sale\", \"sale\", \"sale\", \"sale\", \"sale\", \"sale\", \"santander\", \"santander\", \"satisfaction\", \"satisfaction\", \"satisfaction\", \"satisfaction\", \"scammer\", \"scheme\", \"scheme\", \"scheme\", \"score\", \"sec\", \"second\", \"section\", \"section\", \"section\", \"section\", \"section\", \"section\", \"section\", \"select\", \"selene\", \"seller\", \"send\", \"send\", \"send\", \"send\", \"send\", \"send\", \"send\", \"send\", \"service\", \"service\", \"service\", \"service\", \"service\", \"service\", \"service\", \"service\", \"service\", \"service\", \"servicer\", \"servicer\", \"servicer\", \"servicer\", \"servicer\", \"servicing\", \"servicing\", \"servicing\", \"servicing\", \"servicing\", \"seterus\", \"settlement\", \"settlement\", \"settlement\", \"settlement\", \"settlement\", \"settlement\", \"settlement\", \"shoot\", \"shopping\", \"shortage\", \"shortage\", \"sierra\", \"signature\", \"signature\", \"signature\", \"signature\", \"signature\", \"sls\", \"sls\", \"sls\", \"sls\", \"software\", \"speak\", \"speak\", \"speak\", \"speak\", \"speak\", \"speak\", \"spending\", \"sps\", \"state\", \"state\", \"state\", \"state\", \"state\", \"state\", \"state\", \"state\", \"state\", \"state\", \"statebridge\", \"statement\", \"statement\", \"statement\", \"statement\", \"statement\", \"statement\", \"statement\", \"statement\", \"statement\", \"statement\", \"stearn\", \"stick\", \"stmt\", \"student\", \"student\", \"subservicer\", \"successor\", \"suffer\", \"suit\", \"suit\", \"suit\", \"sum\", \"sum\", \"sum\", \"sum\", \"summit\", \"supervisor\", \"supervisor\", \"supervisor\", \"supervisor\", \"supervisor\", \"surplus\", \"surplus\", \"suspect\", \"suspend\", \"suspense\", \"suspense\", \"suspension\", \"system\", \"system\", \"system\", \"system\", \"system\", \"system\", \"system\", \"system\", \"system\", \"talk\", \"talk\", \"talk\", \"talk\", \"talk\", \"tape\", \"tax\", \"tax\", \"tax\", \"tax\", \"tax\", \"tax\", \"taxis\", \"tcf\", \"tell\", \"tell\", \"tell\", \"tell\", \"tell\", \"tell\", \"tell\", \"tenancy\", \"term\", \"term\", \"term\", \"term\", \"term\", \"term\", \"term\", \"term\", \"term\", \"thing\", \"thing\", \"thing\", \"thing\", \"thing\", \"thing\", \"thing\", \"thing\", \"thing\", \"tiaa\", \"ticket\", \"ticket\", \"ticket\", \"tila\", \"time\", \"time\", \"time\", \"time\", \"time\", \"time\", \"time\", \"time\", \"time\", \"time\", \"title\", \"title\", \"title\", \"title\", \"title\", \"tms\", \"today\", \"today\", \"today\", \"today\", \"today\", \"today\", \"today\", \"today\", \"today\", \"today\", \"tone\", \"townhome\", \"township\", \"trace\", \"trace\", \"trace\", \"tracking\", \"transaction\", \"transaction\", \"transaction\", \"transaction\", \"transaction\", \"transaction\", \"transfer\", \"transfer\", \"transfer\", \"transfer\", \"transfer\", \"transfer\", \"transfer\", \"trap\", \"treasurer\", \"trial\", \"truck\", \"truist\", \"trust\", \"trust\", \"trust\", \"trust\", \"trust\", \"tuesday\", \"uncertainty\", \"underwrite\", \"underwriter\", \"underwriter\", \"unemployment\", \"union\", \"union\", \"validation\", \"validation\", \"validity\", \"value\", \"value\", \"value\", \"variance\", \"violate\", \"violation\", \"violation\", \"violation\", \"violation\", \"violation\", \"violation\", \"violation\", \"voice\", \"voice\", \"voicemail\", \"voicemail\", \"voicemail\", \"warranty\", \"week\", \"week\", \"week\", \"week\", \"week\", \"week\", \"week\", \"wellsfargo\", \"wentworth\", \"west\", \"wfhm\", \"wire\", \"wire\", \"wire\", \"work\", \"work\", \"work\", \"work\", \"work\", \"work\", \"work\", \"work\", \"worthiness\", \"writer\", \"year\", \"year\", \"year\", \"year\", \"year\", \"year\", \"year\", \"year\", \"year\", \"year\"]}, \"R\": 30, \"lambda.step\": 0.01, \"plot.opts\": {\"xlab\": \"PC1\", \"ylab\": \"PC2\"}, \"topic.order\": [1, 4, 6, 2, 8, 7, 10, 5, 3, 9]};\n",
       "\n",
       "function LDAvis_load_lib(url, callback){\n",
       "  var s = document.createElement('script');\n",
       "  s.src = url;\n",
       "  s.async = true;\n",
       "  s.onreadystatechange = s.onload = callback;\n",
       "  s.onerror = function(){console.warn(\"failed to load library \" + url);};\n",
       "  document.getElementsByTagName(\"head\")[0].appendChild(s);\n",
       "}\n",
       "\n",
       "if(typeof(LDAvis) !== \"undefined\"){\n",
       "   // already loaded: just create the visualization\n",
       "   !function(LDAvis){\n",
       "       new LDAvis(\"#\" + \"ldavis_el792825392525450089049519961\", ldavis_el792825392525450089049519961_data);\n",
       "   }(LDAvis);\n",
       "}else if(typeof define === \"function\" && define.amd){\n",
       "   // require.js is available: use it to load d3/LDAvis\n",
       "   require.config({paths: {d3: \"https://d3js.org/d3.v5\"}});\n",
       "   require([\"d3\"], function(d3){\n",
       "      window.d3 = d3;\n",
       "      LDAvis_load_lib(\"https://cdn.jsdelivr.net/gh/bmabey/pyLDAvis@3.3.1/pyLDAvis/js/ldavis.v3.0.0.js\", function(){\n",
       "        new LDAvis(\"#\" + \"ldavis_el792825392525450089049519961\", ldavis_el792825392525450089049519961_data);\n",
       "      });\n",
       "    });\n",
       "}else{\n",
       "    // require.js not available: dynamically load d3 & LDAvis\n",
       "    LDAvis_load_lib(\"https://d3js.org/d3.v5.js\", function(){\n",
       "         LDAvis_load_lib(\"https://cdn.jsdelivr.net/gh/bmabey/pyLDAvis@3.3.1/pyLDAvis/js/ldavis.v3.0.0.js\", function(){\n",
       "                 new LDAvis(\"#\" + \"ldavis_el792825392525450089049519961\", ldavis_el792825392525450089049519961_data);\n",
       "            })\n",
       "         });\n",
       "}\n",
       "</script>"
      ],
      "text/plain": [
       "PreparedData(topic_coordinates=               x          y  topics  cluster       Freq\n",
       "topic                                                  \n",
       "0      32.420952   8.115230       1        1  18.162707\n",
       "3       0.648955  71.707100       2        1  15.664278\n",
       "5      71.019684   9.971006       3        1  12.499697\n",
       "1       3.785981  33.185135       4        1  10.553048\n",
       "7     -42.666500  -9.222070       5        1   9.944140\n",
       "6      -3.621689 -43.526516       6        1   7.602810\n",
       "9      -3.632402  -4.171708       7        1   7.429057\n",
       "4     -36.584400  35.804413       8        1   7.297935\n",
       "2      44.391380  50.615383       9        1   6.208009\n",
       "8      40.235809 -31.591665      10        1   4.638318, topic_info=              Term          Freq         Total Category  logprob  loglift\n",
       "2058       payment  89072.000000  89072.000000  Default  30.0000  30.0000\n",
       "709         credit  19784.000000  19784.000000  Default  29.0000  29.0000\n",
       "1512     insurance  17786.000000  17786.000000  Default  28.0000  28.0000\n",
       "1668          loan  79990.000000  79990.000000  Default  27.0000  27.0000\n",
       "1834  modification  15660.000000  15660.000000  Default  26.0000  26.0000\n",
       "...            ...           ...           ...      ...      ...      ...\n",
       "1347          help    816.602661   7442.605464  Topic10  -4.7250   0.8610\n",
       "2058       payment   1139.031974  89072.189383  Topic10  -4.3922  -1.2885\n",
       "81       agreement    707.402729   4851.066480  Topic10  -4.8686   1.1455\n",
       "3195          work    712.600917   5640.514788  Topic10  -4.8612   1.0020\n",
       "1371          home    786.308393  26421.004342  Topic10  -4.7628  -0.4437\n",
       "\n",
       "[756 rows x 6 columns], token_table=      Topic      Freq         Term\n",
       "term                              \n",
       "6         4  0.991361   accelerate\n",
       "8         2  0.982169  accelerator\n",
       "12        1  0.259511       access\n",
       "12        2  0.000618       access\n",
       "12        3  0.016065       access\n",
       "...     ...       ...          ...\n",
       "3220      6  0.196492         year\n",
       "3220      7  0.072965         year\n",
       "3220      8  0.000288         year\n",
       "3220      9  0.026951         year\n",
       "3220     10  0.019350         year\n",
       "\n",
       "[1929 rows x 3 columns], R=30, lambda_step=0.01, plot_opts={'xlab': 'PC1', 'ylab': 'PC2'}, topic_order=[1, 4, 6, 2, 8, 7, 10, 5, 3, 9])"
      ]
     },
     "execution_count": 112,
     "metadata": {},
     "output_type": "execute_result"
    }
   ],
   "source": [
    "pyLDAvis.enable_notebook()\n",
    "panel = pyLDAvis.sklearn.prepare(best_lda_model, data_vectorized, vectorizer, mds='tsne')\n",
    "panel"
   ]
  },
  {
   "cell_type": "code",
   "execution_count": 24,
   "id": "3fbe37a1",
   "metadata": {
    "collapsed": true
   },
   "outputs": [
    {
     "name": "stderr",
     "output_type": "stream",
     "text": [
      "C:\\Users\\ASUS\\anaconda3\\envs\\marketplace\\lib\\site-packages\\ipykernel\\ipkernel.py:287: DeprecationWarning: `should_run_async` will not call `transform_cell` automatically in the future. Please pass the result to `transformed_cell` argument and any exception that happen during thetransform in `preprocessing_exc_tuple` in IPython 7.17 and above.\n",
      "  and should_run_async(code)\n"
     ]
    },
    {
     "name": "stdout",
     "output_type": "stream",
     "text": [
      "(1, 10)\n"
     ]
    }
   ],
   "source": [
    "def predict_topic(text, nlp=nlp, model=model):\n",
    "    text_1 = [nltk.word_tokenize(txt) for txt in text] \n",
    "    text_2 = lemmatization(text_1, allowed_postags=['NOUN', 'ADJ', 'VERB', 'ADV'])\n",
    "    text_3 = vectorizer.transform(text_2)\n",
    "    topic_probability_scores = model.transform(text_3)\n",
    "    topic_probability_scores = np.round(topic_probability_scores, 1)\n",
    "    topic_probability_scores = topic_probability_scores.tolist()\n",
    "    return topic_probability_scores"
   ]
  },
  {
   "cell_type": "code",
   "execution_count": null,
   "id": "d285d38d",
   "metadata": {},
   "outputs": [],
   "source": [
    "topic_mapping = {\n",
    "        0: 'Customer Support Complaint : time,call,day,company,phone,mortgage',\n",
    "        1: 'Foreclosure Complaint : loan,modification,home,payment,foreclosure,mortgage',\n",
    "        2: 'Legal Complaint : banklaw,court,chase,state,bankruptcy',\n",
    "        3: 'Payment Processing Complaint : payment,mortgage,month,account,bank,amount\t',\n",
    "        4: 'Account Statement Complaint : fee,account,statement,service,customer,charge',\n",
    "        5: 'Mortgage Closing Complaint : loan,home,closing,process,document,application',\n",
    "        6: 'Refinance Complaint : credit,loan,rate,interest,report,refinance', \n",
    "        7: 'Escrow Complaint : insurance,escrow,mortgage,tax,property,company',\n",
    "        8: 'Forbearance Complaint : forbearance,mortgage,plan,month,program,income',\n",
    "        9: 'Fraud/Cheating Complaint : loan,document,property,home,name,fraud',\n",
    "    }"
   ]
  }
 ],
 "metadata": {
  "kernelspec": {
   "display_name": "Python 3",
   "language": "python",
   "name": "python3"
  },
  "language_info": {
   "codemirror_mode": {
    "name": "ipython",
    "version": 3
   },
   "file_extension": ".py",
   "mimetype": "text/x-python",
   "name": "python",
   "nbconvert_exporter": "python",
   "pygments_lexer": "ipython3",
   "version": "3.8.10"
  }
 },
 "nbformat": 4,
 "nbformat_minor": 5
}
