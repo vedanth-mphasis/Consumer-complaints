{
 "cells": [
  {
   "cell_type": "code",
   "execution_count": 1,
   "metadata": {},
   "outputs": [],
   "source": [
    "import numpy as np\n",
    "import pandas as pd\n",
    "import re\n",
    "import matplotlib.pyplot as plt"
   ]
  },
  {
   "cell_type": "code",
   "execution_count": 2,
   "metadata": {},
   "outputs": [
    {
     "data": {
      "text/html": [
       "<div>\n",
       "<style scoped>\n",
       "    .dataframe tbody tr th:only-of-type {\n",
       "        vertical-align: middle;\n",
       "    }\n",
       "\n",
       "    .dataframe tbody tr th {\n",
       "        vertical-align: top;\n",
       "    }\n",
       "\n",
       "    .dataframe thead th {\n",
       "        text-align: right;\n",
       "    }\n",
       "</style>\n",
       "<table border=\"1\" class=\"dataframe\">\n",
       "  <thead>\n",
       "    <tr style=\"text-align: right;\">\n",
       "      <th></th>\n",
       "      <th>Date received</th>\n",
       "      <th>Product</th>\n",
       "      <th>Sub-product</th>\n",
       "      <th>Issue</th>\n",
       "      <th>Sub-issue</th>\n",
       "      <th>Consumer complaint narrative</th>\n",
       "      <th>Company public response</th>\n",
       "      <th>Company</th>\n",
       "      <th>State</th>\n",
       "      <th>ZIP code</th>\n",
       "      <th>Tags</th>\n",
       "      <th>Consumer consent provided?</th>\n",
       "      <th>Submitted via</th>\n",
       "      <th>Date sent to company</th>\n",
       "      <th>Company response to consumer</th>\n",
       "      <th>Timely response?</th>\n",
       "      <th>Consumer disputed?</th>\n",
       "      <th>Complaint ID</th>\n",
       "    </tr>\n",
       "  </thead>\n",
       "  <tbody>\n",
       "    <tr>\n",
       "      <th>0</th>\n",
       "      <td>02/21/19</td>\n",
       "      <td>Mortgage</td>\n",
       "      <td>FHA mortgage</td>\n",
       "      <td>Struggling to pay mortgage</td>\n",
       "      <td>None</td>\n",
       "      <td>My complaint is with Carrington Mortgage Servi...</td>\n",
       "      <td>None</td>\n",
       "      <td>CARRINGTON MORTGAGE SERVICES, LLC</td>\n",
       "      <td>GA</td>\n",
       "      <td>312XX</td>\n",
       "      <td>None</td>\n",
       "      <td>Consent provided</td>\n",
       "      <td>Web</td>\n",
       "      <td>02/21/19</td>\n",
       "      <td>Closed with explanation</td>\n",
       "      <td>Yes</td>\n",
       "      <td>NaN</td>\n",
       "      <td>3158652</td>\n",
       "    </tr>\n",
       "    <tr>\n",
       "      <th>1</th>\n",
       "      <td>03/28/19</td>\n",
       "      <td>Mortgage</td>\n",
       "      <td>Conventional home mortgage</td>\n",
       "      <td>Struggling to pay mortgage</td>\n",
       "      <td>None</td>\n",
       "      <td>In dispute of the loan # XXXX, for XXXX XXXX t...</td>\n",
       "      <td>Company believes it acted appropriately as aut...</td>\n",
       "      <td>SELECT PORTFOLIO SERVICING, INC.</td>\n",
       "      <td>GA</td>\n",
       "      <td>300XX</td>\n",
       "      <td>None</td>\n",
       "      <td>Consent provided</td>\n",
       "      <td>Web</td>\n",
       "      <td>03/28/19</td>\n",
       "      <td>Closed with explanation</td>\n",
       "      <td>Yes</td>\n",
       "      <td>NaN</td>\n",
       "      <td>3193709</td>\n",
       "    </tr>\n",
       "    <tr>\n",
       "      <th>2</th>\n",
       "      <td>07/11/19</td>\n",
       "      <td>Mortgage</td>\n",
       "      <td>FHA mortgage</td>\n",
       "      <td>Struggling to pay mortgage</td>\n",
       "      <td>None</td>\n",
       "      <td>This excerpt is a followup fax/email to Select...</td>\n",
       "      <td>Company believes it acted appropriately as aut...</td>\n",
       "      <td>SELECT PORTFOLIO SERVICING, INC.</td>\n",
       "      <td>TX</td>\n",
       "      <td>760XX</td>\n",
       "      <td>Servicemember</td>\n",
       "      <td>Consent provided</td>\n",
       "      <td>Web</td>\n",
       "      <td>07/16/19</td>\n",
       "      <td>Closed with explanation</td>\n",
       "      <td>Yes</td>\n",
       "      <td>NaN</td>\n",
       "      <td>3302661</td>\n",
       "    </tr>\n",
       "    <tr>\n",
       "      <th>3</th>\n",
       "      <td>08/16/19</td>\n",
       "      <td>Mortgage</td>\n",
       "      <td>Conventional home mortgage</td>\n",
       "      <td>Trouble during payment process</td>\n",
       "      <td>None</td>\n",
       "      <td>Statebridge acquired servicing of our loan 14 ...</td>\n",
       "      <td>Company has responded to the consumer and the ...</td>\n",
       "      <td>Statebridge Company</td>\n",
       "      <td>FL</td>\n",
       "      <td>None</td>\n",
       "      <td>Older American, Servicemember</td>\n",
       "      <td>Consent provided</td>\n",
       "      <td>Web</td>\n",
       "      <td>08/16/19</td>\n",
       "      <td>Closed with explanation</td>\n",
       "      <td>Yes</td>\n",
       "      <td>NaN</td>\n",
       "      <td>3343560</td>\n",
       "    </tr>\n",
       "    <tr>\n",
       "      <th>4</th>\n",
       "      <td>11/20/20</td>\n",
       "      <td>Mortgage</td>\n",
       "      <td>Other type of mortgage</td>\n",
       "      <td>Struggling to pay mortgage</td>\n",
       "      <td>None</td>\n",
       "      <td>We are under the CARES Act forebearance plan w...</td>\n",
       "      <td>Company has responded to the consumer and the ...</td>\n",
       "      <td>FLAGSTAR BANK, FSB</td>\n",
       "      <td>KS</td>\n",
       "      <td>660XX</td>\n",
       "      <td>None</td>\n",
       "      <td>Consent provided</td>\n",
       "      <td>Web</td>\n",
       "      <td>11/20/20</td>\n",
       "      <td>Closed with explanation</td>\n",
       "      <td>Yes</td>\n",
       "      <td>NaN</td>\n",
       "      <td>3966504</td>\n",
       "    </tr>\n",
       "  </tbody>\n",
       "</table>\n",
       "</div>"
      ],
      "text/plain": [
       "  Date received   Product                 Sub-product  \\\n",
       "0      02/21/19  Mortgage                FHA mortgage   \n",
       "1      03/28/19  Mortgage  Conventional home mortgage   \n",
       "2      07/11/19  Mortgage                FHA mortgage   \n",
       "3      08/16/19  Mortgage  Conventional home mortgage   \n",
       "4      11/20/20  Mortgage      Other type of mortgage   \n",
       "\n",
       "                            Issue Sub-issue  \\\n",
       "0      Struggling to pay mortgage      None   \n",
       "1      Struggling to pay mortgage      None   \n",
       "2      Struggling to pay mortgage      None   \n",
       "3  Trouble during payment process      None   \n",
       "4      Struggling to pay mortgage      None   \n",
       "\n",
       "                        Consumer complaint narrative  \\\n",
       "0  My complaint is with Carrington Mortgage Servi...   \n",
       "1  In dispute of the loan # XXXX, for XXXX XXXX t...   \n",
       "2  This excerpt is a followup fax/email to Select...   \n",
       "3  Statebridge acquired servicing of our loan 14 ...   \n",
       "4  We are under the CARES Act forebearance plan w...   \n",
       "\n",
       "                             Company public response  \\\n",
       "0                                               None   \n",
       "1  Company believes it acted appropriately as aut...   \n",
       "2  Company believes it acted appropriately as aut...   \n",
       "3  Company has responded to the consumer and the ...   \n",
       "4  Company has responded to the consumer and the ...   \n",
       "\n",
       "                             Company State ZIP code  \\\n",
       "0  CARRINGTON MORTGAGE SERVICES, LLC    GA    312XX   \n",
       "1   SELECT PORTFOLIO SERVICING, INC.    GA    300XX   \n",
       "2   SELECT PORTFOLIO SERVICING, INC.    TX    760XX   \n",
       "3                Statebridge Company    FL     None   \n",
       "4                 FLAGSTAR BANK, FSB    KS    660XX   \n",
       "\n",
       "                            Tags Consumer consent provided? Submitted via  \\\n",
       "0                           None           Consent provided           Web   \n",
       "1                           None           Consent provided           Web   \n",
       "2                  Servicemember           Consent provided           Web   \n",
       "3  Older American, Servicemember           Consent provided           Web   \n",
       "4                           None           Consent provided           Web   \n",
       "\n",
       "  Date sent to company Company response to consumer Timely response?  \\\n",
       "0             02/21/19      Closed with explanation              Yes   \n",
       "1             03/28/19      Closed with explanation              Yes   \n",
       "2             07/16/19      Closed with explanation              Yes   \n",
       "3             08/16/19      Closed with explanation              Yes   \n",
       "4             11/20/20      Closed with explanation              Yes   \n",
       "\n",
       "   Consumer disputed?  Complaint ID  \n",
       "0                 NaN       3158652  \n",
       "1                 NaN       3193709  \n",
       "2                 NaN       3302661  \n",
       "3                 NaN       3343560  \n",
       "4                 NaN       3966504  "
      ]
     },
     "execution_count": 2,
     "metadata": {},
     "output_type": "execute_result"
    }
   ],
   "source": [
    "dataset = pd.read_csv(\"Data\\complaints.csv\")\n",
    "dataset.head() "
   ]
  },
  {
   "cell_type": "code",
   "execution_count": 3,
   "metadata": {},
   "outputs": [
    {
     "name": "stdout",
     "output_type": "stream",
     "text": [
      "<class 'pandas.core.frame.DataFrame'>\n",
      "RangeIndex: 33059 entries, 0 to 33058\n",
      "Data columns (total 18 columns):\n",
      " #   Column                        Non-Null Count  Dtype  \n",
      "---  ------                        --------------  -----  \n",
      " 0   Date received                 33059 non-null  object \n",
      " 1   Product                       33059 non-null  object \n",
      " 2   Sub-product                   33059 non-null  object \n",
      " 3   Issue                         33059 non-null  object \n",
      " 4   Sub-issue                     33059 non-null  object \n",
      " 5   Consumer complaint narrative  33059 non-null  object \n",
      " 6   Company public response       33059 non-null  object \n",
      " 7   Company                       33059 non-null  object \n",
      " 8   State                         33059 non-null  object \n",
      " 9   ZIP code                      33059 non-null  object \n",
      " 10  Tags                          33059 non-null  object \n",
      " 11  Consumer consent provided?    33059 non-null  object \n",
      " 12  Submitted via                 33059 non-null  object \n",
      " 13  Date sent to company          33059 non-null  object \n",
      " 14  Company response to consumer  33059 non-null  object \n",
      " 15  Timely response?              33059 non-null  object \n",
      " 16  Consumer disputed?            0 non-null      float64\n",
      " 17  Complaint ID                  33059 non-null  int64  \n",
      "dtypes: float64(1), int64(1), object(16)\n",
      "memory usage: 4.5+ MB\n"
     ]
    }
   ],
   "source": [
    "dataset.info()"
   ]
  },
  {
   "cell_type": "code",
   "execution_count": 4,
   "metadata": {},
   "outputs": [
    {
     "data": {
      "text/plain": [
       "WELLS FARGO & COMPANY          2252\n",
       "NATIONSTAR MORTGAGE            1950\n",
       "Shellpoint Partners, LLC       1902\n",
       "Ocwen Financial Corporation    1801\n",
       "LoanCare, LLC                  1463\n",
       "                               ... \n",
       "Nelnet, Inc.                      1\n",
       "Moran Financial Group LLC         1\n",
       "ROSS MORTGAGE CORPORATION         1\n",
       "Mortgage Bank of California       1\n",
       "GreenSky, LLC                     1\n",
       "Name: Company, Length: 881, dtype: int64"
      ]
     },
     "execution_count": 4,
     "metadata": {},
     "output_type": "execute_result"
    }
   ],
   "source": [
    "dataset['Company'].value_counts()"
   ]
  },
  {
   "cell_type": "code",
   "execution_count": 5,
   "metadata": {},
   "outputs": [
    {
     "data": {
      "text/plain": [
       "881"
      ]
     },
     "execution_count": 5,
     "metadata": {},
     "output_type": "execute_result"
    }
   ],
   "source": [
    "len(dataset['Company'].value_counts())"
   ]
  },
  {
   "cell_type": "code",
   "execution_count": 6,
   "metadata": {},
   "outputs": [
    {
     "data": {
      "text/plain": [
       "Trouble during payment process                                                      15978\n",
       "Struggling to pay mortgage                                                           7170\n",
       "Applying for a mortgage or refinancing an existing mortgage                          5113\n",
       "Closing on a mortgage                                                                3666\n",
       "Incorrect information on your report                                                  678\n",
       "Problem with a credit reporting company's investigation into an existing problem      336\n",
       "Improper use of your report                                                            75\n",
       "Unable to get your credit report or credit score                                       20\n",
       "Credit monitoring or identity theft protection services                                16\n",
       "Problem with fraud alerts or security freezes                                           7\n",
       "Name: Issue, dtype: int64"
      ]
     },
     "execution_count": 6,
     "metadata": {},
     "output_type": "execute_result"
    }
   ],
   "source": [
    "dataset['Issue'].value_counts()"
   ]
  },
  {
   "cell_type": "code",
   "execution_count": 7,
   "metadata": {},
   "outputs": [],
   "source": [
    "dataset = dataset.drop(['Date received', 'Product', 'Sub-product', 'Issue', 'Sub-issue', 'Company public response', 'Company', 'State', 'ZIP code', 'Tags', 'Consumer consent provided?', 'Submitted via', 'Date sent to company', 'Company response to consumer', 'Timely response?', 'Consumer disputed?', 'Complaint ID'], axis=1)"
   ]
  },
  {
   "cell_type": "code",
   "execution_count": 8,
   "metadata": {},
   "outputs": [
    {
     "data": {
      "text/html": [
       "<div>\n",
       "<style scoped>\n",
       "    .dataframe tbody tr th:only-of-type {\n",
       "        vertical-align: middle;\n",
       "    }\n",
       "\n",
       "    .dataframe tbody tr th {\n",
       "        vertical-align: top;\n",
       "    }\n",
       "\n",
       "    .dataframe thead th {\n",
       "        text-align: right;\n",
       "    }\n",
       "</style>\n",
       "<table border=\"1\" class=\"dataframe\">\n",
       "  <thead>\n",
       "    <tr style=\"text-align: right;\">\n",
       "      <th></th>\n",
       "      <th>Consumer complaint narrative</th>\n",
       "    </tr>\n",
       "  </thead>\n",
       "  <tbody>\n",
       "    <tr>\n",
       "      <th>0</th>\n",
       "      <td>My complaint is with Carrington Mortgage Servi...</td>\n",
       "    </tr>\n",
       "    <tr>\n",
       "      <th>1</th>\n",
       "      <td>In dispute of the loan # XXXX, for XXXX XXXX t...</td>\n",
       "    </tr>\n",
       "    <tr>\n",
       "      <th>2</th>\n",
       "      <td>This excerpt is a followup fax/email to Select...</td>\n",
       "    </tr>\n",
       "    <tr>\n",
       "      <th>3</th>\n",
       "      <td>Statebridge acquired servicing of our loan 14 ...</td>\n",
       "    </tr>\n",
       "    <tr>\n",
       "      <th>4</th>\n",
       "      <td>We are under the CARES Act forebearance plan w...</td>\n",
       "    </tr>\n",
       "  </tbody>\n",
       "</table>\n",
       "</div>"
      ],
      "text/plain": [
       "                        Consumer complaint narrative\n",
       "0  My complaint is with Carrington Mortgage Servi...\n",
       "1  In dispute of the loan # XXXX, for XXXX XXXX t...\n",
       "2  This excerpt is a followup fax/email to Select...\n",
       "3  Statebridge acquired servicing of our loan 14 ...\n",
       "4  We are under the CARES Act forebearance plan w..."
      ]
     },
     "execution_count": 8,
     "metadata": {},
     "output_type": "execute_result"
    }
   ],
   "source": [
    "dataset.head()"
   ]
  },
  {
   "cell_type": "code",
   "execution_count": 9,
   "metadata": {},
   "outputs": [
    {
     "data": {
      "text/plain": [
       "0    my complaint is with carrington mortgage servi...\n",
       "1    in dispute of the loan # xxxx for xxxx xxxx th...\n",
       "2    this excerpt is a followup fax/email to select...\n",
       "3    statebridge acquired servicing of our loan 14 ...\n",
       "4    we are under the cares act forebearance plan w...\n",
       "Name: complaint_processed, dtype: object"
      ]
     },
     "execution_count": 9,
     "metadata": {},
     "output_type": "execute_result"
    }
   ],
   "source": [
    "dataset['complaint_processed'] = \\\n",
    "dataset['Consumer complaint narrative'].map(lambda x: re.sub('[,\\.!?]', '', x))\n",
    "\n",
    "# Convert the titles to lowercase\n",
    "dataset['complaint_processed'] = \\\n",
    "dataset['complaint_processed'].map(lambda x: x.lower())\n",
    "\n",
    "# Print out the first rows of dataset\n",
    "dataset['complaint_processed'].head()"
   ]
  },
  {
   "cell_type": "code",
   "execution_count": 10,
   "metadata": {},
   "outputs": [
    {
     "data": {
      "image/png": "[encoded data removed]",
      "text/plain": [
       "<PIL.Image.Image image mode=RGB size=400x200 at 0x1CEF9B60CA0>"
      ]
     },
     "execution_count": 10,
     "metadata": {},
     "output_type": "execute_result"
    }
   ],
   "source": [
    "# Import the wordcloud library\n",
    "from wordcloud import WordCloud\n",
    "\n",
    "# Join the different processed titles together.\n",
    "long_string = ','.join(list(dataset['complaint_processed'].values))\n",
    "\n",
    "# Create a WordCloud object\n",
    "wordcloud = WordCloud(background_color=\"white\", max_words=1000, contour_width=3, contour_color='steelblue')\n",
    "\n",
    "# Generate a word cloud\n",
    "wordcloud.generate(long_string)\n",
    "\n",
    "# Visualize the word cloud\n",
    "wordcloud.to_image()"
   ]
  },
  {
   "cell_type": "code",
   "execution_count": 16,
   "metadata": {},
   "outputs": [
    {
     "name": "stderr",
     "output_type": "stream",
     "text": [
      "[nltk_data] Downloading package stopwords to\n",
      "[nltk_data]     C:\\Users\\ASUS\\AppData\\Roaming\\nltk_data...\n",
      "[nltk_data]   Package stopwords is already up-to-date!\n"
     ]
    }
   ],
   "source": [
    "import gensim\n",
    "from gensim.utils import simple_preprocess\n",
    "import nltk\n",
    "nltk.download('stopwords')\n",
    "from nltk.corpus import stopwords\n",
    "\n",
    "stop_words = stopwords.words('english')\n",
    "stop_words.extend(['from', 'subject', 're', 'edu', 'use', 'xxxx', 'xx'])\n",
    "\n",
    "def sent_to_words(sentences):\n",
    "    for sentence in sentences:\n",
    "        # deacc=True removes punctuations\n",
    "        yield(gensim.utils.simple_preprocess(str(sentence), deacc=True))\n",
    "\n",
    "def remove_stopwords(texts):\n",
    "    return [[word for word in simple_preprocess(str(doc)) \n",
    "             if word not in stop_words] for doc in texts]\n",
    "\n",
    "\n",
    "data = dataset['complaint_processed'].values.tolist()\n",
    "data_words = list(sent_to_words(data))\n",
    "\n",
    "# remove stop words\n",
    "data_words = remove_stopwords(data_words)\n"
   ]
  },
  {
   "cell_type": "code",
   "execution_count": 17,
   "metadata": {},
   "outputs": [
    {
     "name": "stdout",
     "output_type": "stream",
     "text": [
      "[(0, 1), (1, 2), (2, 1), (3, 2), (4, 1), (5, 1), (6, 1), (7, 1), (8, 1), (9, 1), (10, 1), (11, 1), (12, 1), (13, 1), (14, 2), (15, 2), (16, 1), (17, 1), (18, 1), (19, 1)]\n"
     ]
    }
   ],
   "source": [
    "import gensim.corpora as corpora\n",
    "\n",
    "# Create Dictionary\n",
    "id2word = corpora.Dictionary(data_words)\n",
    "\n",
    "# Create Corpus\n",
    "texts = data_words\n",
    "\n",
    "# Term Document Frequency\n",
    "corpus = [id2word.doc2bow(text) for text in texts]\n",
    "\n",
    "# View\n",
    "print(corpus[:1][0][:30])"
   ]
  },
  {
   "cell_type": "code",
   "execution_count": 18,
   "metadata": {},
   "outputs": [
    {
     "name": "stdout",
     "output_type": "stream",
     "text": [
      "[(0,\n",
      "  '0.025*\"mortgage\" + 0.017*\"loan\" + 0.009*\"would\" + 0.008*\"home\" + '\n",
      "  '0.007*\"payments\" + 0.007*\"time\" + 0.007*\"payment\" + 0.006*\"bank\" + '\n",
      "  '0.006*\"account\" + 0.005*\"received\"'),\n",
      " (1,\n",
      "  '0.016*\"loan\" + 0.015*\"mortgage\" + 0.012*\"insurance\" + 0.008*\"home\" + '\n",
      "  '0.008*\"received\" + 0.007*\"bank\" + 0.006*\"time\" + 0.006*\"payment\" + '\n",
      "  '0.005*\"would\" + 0.005*\"company\"'),\n",
      " (2,\n",
      "  '0.023*\"loan\" + 0.022*\"payment\" + 0.022*\"mortgage\" + 0.010*\"payments\" + '\n",
      "  '0.010*\"would\" + 0.007*\"bank\" + 0.006*\"received\" + 0.006*\"account\" + '\n",
      "  '0.006*\"amount\" + 0.005*\"home\"'),\n",
      " (3,\n",
      "  '0.019*\"payment\" + 0.015*\"mortgage\" + 0.013*\"loan\" + 0.011*\"told\" + '\n",
      "  '0.010*\"would\" + 0.009*\"account\" + 0.009*\"payments\" + 0.008*\"received\" + '\n",
      "  '0.008*\"called\" + 0.006*\"time\"'),\n",
      " (4,\n",
      "  '0.021*\"loan\" + 0.015*\"mortgage\" + 0.014*\"would\" + 0.009*\"us\" + 0.008*\"home\" '\n",
      "  '+ 0.008*\"company\" + 0.008*\"payment\" + 0.007*\"received\" + 0.006*\"told\" + '\n",
      "  '0.006*\"account\"'),\n",
      " (5,\n",
      "  '0.018*\"payment\" + 0.014*\"mortgage\" + 0.014*\"would\" + 0.010*\"loan\" + '\n",
      "  '0.010*\"account\" + 0.009*\"told\" + 0.008*\"received\" + 0.007*\"sent\" + '\n",
      "  '0.006*\"time\" + 0.006*\"company\"'),\n",
      " (6,\n",
      "  '0.016*\"loan\" + 0.015*\"mortgage\" + 0.013*\"payment\" + 0.009*\"account\" + '\n",
      "  '0.008*\"escrow\" + 0.007*\"sent\" + 0.007*\"back\" + 0.006*\"get\" + 0.006*\"told\" + '\n",
      "  '0.006*\"company\"'),\n",
      " (7,\n",
      "  '0.015*\"loan\" + 0.014*\"mortgage\" + 0.008*\"company\" + 0.008*\"told\" + '\n",
      "  '0.007*\"insurance\" + 0.007*\"paid\" + 0.007*\"escrow\" + 0.007*\"would\" + '\n",
      "  '0.007*\"received\" + 0.006*\"get\"'),\n",
      " (8,\n",
      "  '0.023*\"mortgage\" + 0.020*\"loan\" + 0.008*\"company\" + 0.008*\"payment\" + '\n",
      "  '0.008*\"home\" + 0.006*\"payments\" + 0.006*\"told\" + 0.006*\"time\" + '\n",
      "  '0.006*\"escrow\" + 0.005*\"would\"'),\n",
      " (9,\n",
      "  '0.016*\"payment\" + 0.014*\"loan\" + 0.013*\"mortgage\" + 0.012*\"would\" + '\n",
      "  '0.010*\"payments\" + 0.008*\"bank\" + 0.008*\"account\" + 0.007*\"credit\" + '\n",
      "  '0.007*\"home\" + 0.006*\"received\"')]\n"
     ]
    }
   ],
   "source": [
    "from pprint import pprint\n",
    "\n",
    "# number of topics\n",
    "num_topics = 10\n",
    "\n",
    "# Build LDA model\n",
    "lda_model = gensim.models.LdaMulticore(corpus=corpus,\n",
    "                                       id2word=id2word,\n",
    "                                       num_topics=num_topics)\n",
    "\n",
    "# Print the Keyword in the 10 topics\n",
    "pprint(lda_model.print_topics())\n",
    "doc_lda = lda_model[corpus]"
   ]
  },
  {
   "cell_type": "code",
   "execution_count": null,
   "metadata": {},
   "outputs": [],
   "source": []
  }
 ],
 "metadata": {
  "interpreter": {
   "hash": "fd14c9080f6d37356390cd38ba2fb1615573ea7e14994b81537e5c9d246182f9"
  },
  "kernelspec": {
   "display_name": "Python 3",
   "language": "python",
   "name": "python3"
  }
 },
 "nbformat": 4,
 "nbformat_minor": 2
}
