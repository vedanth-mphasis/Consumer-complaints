{
 "cells": [
  {
   "cell_type": "code",
   "execution_count": 1,
   "id": "72bb4bcf",
   "metadata": {},
   "outputs": [],
   "source": [
    "import numpy as np\n",
    "import pandas as pd\n",
    "import pickle\n",
    "import re, nltk, spacy, gensim\n",
    "import pyLDAvis\n",
    "import pyLDAvis.sklearn\n",
    "import matplotlib.pyplot as plt\n",
    "from sklearn.decomposition import LatentDirichletAllocation\n",
    "from sklearn.feature_extraction.text import CountVectorizer, TfidfVectorizer\n",
    "from sklearn.model_selection import GridSearchCV\n",
    "from gensim.utils import simple_preprocess\n",
    "from pprint import pprint\n",
    "from sklearn.metrics.pairwise import euclidean_distances\n",
    "from nltk.corpus import stopwords"
   ]
  },
  {
   "cell_type": "code",
   "execution_count": 2,
   "id": "6fa21373",
   "metadata": {},
   "outputs": [
    {
     "name": "stderr",
     "output_type": "stream",
     "text": [
      "C:\\Users\\ASUS\\anaconda3\\envs\\marketplace\\lib\\site-packages\\ipykernel\\ipkernel.py:287: DeprecationWarning: `should_run_async` will not call `transform_cell` automatically in the future. Please pass the result to `transformed_cell` argument and any exception that happen during thetransform in `preprocessing_exc_tuple` in IPython 7.17 and above.\n",
      "  and should_run_async(code)\n"
     ]
    },
    {
     "data": {
      "text/html": [
       "<div>\n",
       "<style scoped>\n",
       "    .dataframe tbody tr th:only-of-type {\n",
       "        vertical-align: middle;\n",
       "    }\n",
       "\n",
       "    .dataframe tbody tr th {\n",
       "        vertical-align: top;\n",
       "    }\n",
       "\n",
       "    .dataframe thead th {\n",
       "        text-align: right;\n",
       "    }\n",
       "</style>\n",
       "<table border=\"1\" class=\"dataframe\">\n",
       "  <thead>\n",
       "    <tr style=\"text-align: right;\">\n",
       "      <th></th>\n",
       "      <th>Date received</th>\n",
       "      <th>Product</th>\n",
       "      <th>Sub-product</th>\n",
       "      <th>Issue</th>\n",
       "      <th>Sub-issue</th>\n",
       "      <th>Consumer complaint narrative</th>\n",
       "      <th>Company public response</th>\n",
       "      <th>Company</th>\n",
       "      <th>State</th>\n",
       "      <th>ZIP code</th>\n",
       "      <th>Tags</th>\n",
       "      <th>Consumer consent provided?</th>\n",
       "      <th>Submitted via</th>\n",
       "      <th>Date sent to company</th>\n",
       "      <th>Company response to consumer</th>\n",
       "      <th>Timely response?</th>\n",
       "      <th>Consumer disputed?</th>\n",
       "      <th>Complaint ID</th>\n",
       "    </tr>\n",
       "  </thead>\n",
       "  <tbody>\n",
       "    <tr>\n",
       "      <th>0</th>\n",
       "      <td>03/28/19</td>\n",
       "      <td>Mortgage</td>\n",
       "      <td>Conventional home mortgage</td>\n",
       "      <td>Struggling to pay mortgage</td>\n",
       "      <td>None</td>\n",
       "      <td>In dispute of the loan # XXXX, for XXXX XXXX t...</td>\n",
       "      <td>Company believes it acted appropriately as aut...</td>\n",
       "      <td>SELECT PORTFOLIO SERVICING, INC.</td>\n",
       "      <td>GA</td>\n",
       "      <td>300XX</td>\n",
       "      <td>None</td>\n",
       "      <td>Consent provided</td>\n",
       "      <td>Web</td>\n",
       "      <td>03/28/19</td>\n",
       "      <td>Closed with explanation</td>\n",
       "      <td>Yes</td>\n",
       "      <td>NaN</td>\n",
       "      <td>3193709</td>\n",
       "    </tr>\n",
       "    <tr>\n",
       "      <th>1</th>\n",
       "      <td>02/21/19</td>\n",
       "      <td>Mortgage</td>\n",
       "      <td>FHA mortgage</td>\n",
       "      <td>Struggling to pay mortgage</td>\n",
       "      <td>None</td>\n",
       "      <td>My complaint is with Carrington Mortgage Servi...</td>\n",
       "      <td>None</td>\n",
       "      <td>CARRINGTON MORTGAGE SERVICES, LLC</td>\n",
       "      <td>GA</td>\n",
       "      <td>312XX</td>\n",
       "      <td>None</td>\n",
       "      <td>Consent provided</td>\n",
       "      <td>Web</td>\n",
       "      <td>02/21/19</td>\n",
       "      <td>Closed with explanation</td>\n",
       "      <td>Yes</td>\n",
       "      <td>NaN</td>\n",
       "      <td>3158652</td>\n",
       "    </tr>\n",
       "    <tr>\n",
       "      <th>2</th>\n",
       "      <td>06/11/19</td>\n",
       "      <td>Mortgage</td>\n",
       "      <td>Home equity loan or line of credit (HELOC)</td>\n",
       "      <td>Trouble during payment process</td>\n",
       "      <td>None</td>\n",
       "      <td>As of XX/XX/2019 PHH Mortgage Services purchas...</td>\n",
       "      <td>None</td>\n",
       "      <td>PHH Mortgage Services Corporation</td>\n",
       "      <td>FL</td>\n",
       "      <td>347XX</td>\n",
       "      <td>None</td>\n",
       "      <td>Consent provided</td>\n",
       "      <td>Web</td>\n",
       "      <td>06/11/19</td>\n",
       "      <td>Closed with explanation</td>\n",
       "      <td>Yes</td>\n",
       "      <td>NaN</td>\n",
       "      <td>3270600</td>\n",
       "    </tr>\n",
       "    <tr>\n",
       "      <th>3</th>\n",
       "      <td>11/29/19</td>\n",
       "      <td>Mortgage</td>\n",
       "      <td>Conventional home mortgage</td>\n",
       "      <td>Trouble during payment process</td>\n",
       "      <td>None</td>\n",
       "      <td>We started our mortgage with Loan Depot in XX/...</td>\n",
       "      <td>Company believes complaint is the result of an...</td>\n",
       "      <td>LD Holdings Group, LLC</td>\n",
       "      <td>NJ</td>\n",
       "      <td>None</td>\n",
       "      <td>None</td>\n",
       "      <td>Consent provided</td>\n",
       "      <td>Web</td>\n",
       "      <td>11/29/19</td>\n",
       "      <td>Closed with monetary relief</td>\n",
       "      <td>Yes</td>\n",
       "      <td>NaN</td>\n",
       "      <td>3453669</td>\n",
       "    </tr>\n",
       "    <tr>\n",
       "      <th>4</th>\n",
       "      <td>10/23/19</td>\n",
       "      <td>Mortgage</td>\n",
       "      <td>Conventional home mortgage</td>\n",
       "      <td>Struggling to pay mortgage</td>\n",
       "      <td>None</td>\n",
       "      <td>XXXX XXXX XXXX XXXX XXXX XXXX XXXX XXXX, XXXX ...</td>\n",
       "      <td>None</td>\n",
       "      <td>Community Loan Servicing, LLC (formerly known ...</td>\n",
       "      <td>CA</td>\n",
       "      <td>92021</td>\n",
       "      <td>None</td>\n",
       "      <td>Consent provided</td>\n",
       "      <td>Web</td>\n",
       "      <td>11/05/19</td>\n",
       "      <td>Closed with explanation</td>\n",
       "      <td>Yes</td>\n",
       "      <td>NaN</td>\n",
       "      <td>3415392</td>\n",
       "    </tr>\n",
       "  </tbody>\n",
       "</table>\n",
       "</div>"
      ],
      "text/plain": [
       "  Date received   Product                                 Sub-product  \\\n",
       "0      03/28/19  Mortgage                  Conventional home mortgage   \n",
       "1      02/21/19  Mortgage                                FHA mortgage   \n",
       "2      06/11/19  Mortgage  Home equity loan or line of credit (HELOC)   \n",
       "3      11/29/19  Mortgage                  Conventional home mortgage   \n",
       "4      10/23/19  Mortgage                  Conventional home mortgage   \n",
       "\n",
       "                            Issue Sub-issue  \\\n",
       "0      Struggling to pay mortgage      None   \n",
       "1      Struggling to pay mortgage      None   \n",
       "2  Trouble during payment process      None   \n",
       "3  Trouble during payment process      None   \n",
       "4      Struggling to pay mortgage      None   \n",
       "\n",
       "                        Consumer complaint narrative  \\\n",
       "0  In dispute of the loan # XXXX, for XXXX XXXX t...   \n",
       "1  My complaint is with Carrington Mortgage Servi...   \n",
       "2  As of XX/XX/2019 PHH Mortgage Services purchas...   \n",
       "3  We started our mortgage with Loan Depot in XX/...   \n",
       "4  XXXX XXXX XXXX XXXX XXXX XXXX XXXX XXXX, XXXX ...   \n",
       "\n",
       "                             Company public response  \\\n",
       "0  Company believes it acted appropriately as aut...   \n",
       "1                                               None   \n",
       "2                                               None   \n",
       "3  Company believes complaint is the result of an...   \n",
       "4                                               None   \n",
       "\n",
       "                                             Company State ZIP code  Tags  \\\n",
       "0                   SELECT PORTFOLIO SERVICING, INC.    GA    300XX  None   \n",
       "1                  CARRINGTON MORTGAGE SERVICES, LLC    GA    312XX  None   \n",
       "2                  PHH Mortgage Services Corporation    FL    347XX  None   \n",
       "3                             LD Holdings Group, LLC    NJ     None  None   \n",
       "4  Community Loan Servicing, LLC (formerly known ...    CA    92021  None   \n",
       "\n",
       "  Consumer consent provided? Submitted via Date sent to company  \\\n",
       "0           Consent provided           Web             03/28/19   \n",
       "1           Consent provided           Web             02/21/19   \n",
       "2           Consent provided           Web             06/11/19   \n",
       "3           Consent provided           Web             11/29/19   \n",
       "4           Consent provided           Web             11/05/19   \n",
       "\n",
       "  Company response to consumer Timely response?  Consumer disputed?  \\\n",
       "0      Closed with explanation              Yes                 NaN   \n",
       "1      Closed with explanation              Yes                 NaN   \n",
       "2      Closed with explanation              Yes                 NaN   \n",
       "3  Closed with monetary relief              Yes                 NaN   \n",
       "4      Closed with explanation              Yes                 NaN   \n",
       "\n",
       "   Complaint ID  \n",
       "0       3193709  \n",
       "1       3158652  \n",
       "2       3270600  \n",
       "3       3453669  \n",
       "4       3415392  "
      ]
     },
     "execution_count": 2,
     "metadata": {},
     "output_type": "execute_result"
    }
   ],
   "source": [
    "dataset = pd.read_csv('../data/mortgage.csv')\n",
    "dataset.head()"
   ]
  },
  {
   "cell_type": "code",
   "execution_count": 3,
   "id": "e24a3d27",
   "metadata": {},
   "outputs": [
    {
     "name": "stdout",
     "output_type": "stream",
     "text": [
      "<class 'pandas.core.frame.DataFrame'>\n",
      "RangeIndex: 32805 entries, 0 to 32804\n",
      "Data columns (total 18 columns):\n",
      " #   Column                        Non-Null Count  Dtype  \n",
      "---  ------                        --------------  -----  \n",
      " 0   Date received                 32805 non-null  object \n",
      " 1   Product                       32805 non-null  object \n",
      " 2   Sub-product                   32805 non-null  object \n",
      " 3   Issue                         32805 non-null  object \n",
      " 4   Sub-issue                     32805 non-null  object \n",
      " 5   Consumer complaint narrative  32805 non-null  object \n",
      " 6   Company public response       32805 non-null  object \n",
      " 7   Company                       32805 non-null  object \n",
      " 8   State                         32805 non-null  object \n",
      " 9   ZIP code                      32805 non-null  object \n",
      " 10  Tags                          32805 non-null  object \n",
      " 11  Consumer consent provided?    32805 non-null  object \n",
      " 12  Submitted via                 32805 non-null  object \n",
      " 13  Date sent to company          32805 non-null  object \n",
      " 14  Company response to consumer  32805 non-null  object \n",
      " 15  Timely response?              32805 non-null  object \n",
      " 16  Consumer disputed?            0 non-null      float64\n",
      " 17  Complaint ID                  32805 non-null  int64  \n",
      "dtypes: float64(1), int64(1), object(16)\n",
      "memory usage: 4.5+ MB\n"
     ]
    },
    {
     "name": "stderr",
     "output_type": "stream",
     "text": [
      "C:\\Users\\ASUS\\anaconda3\\envs\\marketplace\\lib\\site-packages\\ipykernel\\ipkernel.py:287: DeprecationWarning: `should_run_async` will not call `transform_cell` automatically in the future. Please pass the result to `transformed_cell` argument and any exception that happen during thetransform in `preprocessing_exc_tuple` in IPython 7.17 and above.\n",
      "  and should_run_async(code)\n"
     ]
    }
   ],
   "source": [
    "dataset.info()"
   ]
  },
  {
   "cell_type": "code",
   "execution_count": 4,
   "id": "a85380b5",
   "metadata": {},
   "outputs": [
    {
     "name": "stderr",
     "output_type": "stream",
     "text": [
      "C:\\Users\\ASUS\\anaconda3\\envs\\marketplace\\lib\\site-packages\\ipykernel\\ipkernel.py:287: DeprecationWarning: `should_run_async` will not call `transform_cell` automatically in the future. Please pass the result to `transformed_cell` argument and any exception that happen during thetransform in `preprocessing_exc_tuple` in IPython 7.17 and above.\n",
      "  and should_run_async(code)\n"
     ]
    },
    {
     "data": {
      "text/plain": [
       "Trouble during payment process                                                      15884\n",
       "Struggling to pay mortgage                                                           7092\n",
       "Applying for a mortgage or refinancing an existing mortgage                          5085\n",
       "Closing on a mortgage                                                                3615\n",
       "Incorrect information on your report                                                  677\n",
       "Problem with a credit reporting company's investigation into an existing problem      335\n",
       "Improper use of your report                                                            75\n",
       "Unable to get your credit report or credit score                                       19\n",
       "Credit monitoring or identity theft protection services                                16\n",
       "Problem with fraud alerts or security freezes                                           7\n",
       "Name: Issue, dtype: int64"
      ]
     },
     "execution_count": 4,
     "metadata": {},
     "output_type": "execute_result"
    }
   ],
   "source": [
    "dataset['Issue'].value_counts()"
   ]
  },
  {
   "cell_type": "code",
   "execution_count": 5,
   "id": "f74cea8d",
   "metadata": {},
   "outputs": [
    {
     "name": "stderr",
     "output_type": "stream",
     "text": [
      "C:\\Users\\ASUS\\anaconda3\\envs\\marketplace\\lib\\site-packages\\ipykernel\\ipkernel.py:287: DeprecationWarning: `should_run_async` will not call `transform_cell` automatically in the future. Please pass the result to `transformed_cell` argument and any exception that happen during thetransform in `preprocessing_exc_tuple` in IPython 7.17 and above.\n",
      "  and should_run_async(code)\n"
     ]
    }
   ],
   "source": [
    "dataset = dataset.drop(['Date received', 'Sub-issue', 'Company public response', 'State', 'ZIP code', 'Tags', 'Consumer consent provided?', 'Submitted via', 'Company response to consumer', 'Timely response?', 'Consumer disputed?', 'Complaint ID'], axis=1)"
   ]
  },
  {
   "cell_type": "markdown",
   "id": "84cb6d62",
   "metadata": {},
   "source": [
    "## Pre-processing"
   ]
  },
  {
   "cell_type": "code",
   "execution_count": 6,
   "id": "5f979327",
   "metadata": {},
   "outputs": [
    {
     "name": "stderr",
     "output_type": "stream",
     "text": [
      "C:\\Users\\ASUS\\anaconda3\\envs\\marketplace\\lib\\site-packages\\ipykernel\\ipkernel.py:287: DeprecationWarning: `should_run_async` will not call `transform_cell` automatically in the future. Please pass the result to `transformed_cell` argument and any exception that happen during thetransform in `preprocessing_exc_tuple` in IPython 7.17 and above.\n",
      "  and should_run_async(code)\n"
     ]
    }
   ],
   "source": [
    "data = dataset['Consumer complaint narrative'].tolist()"
   ]
  },
  {
   "cell_type": "code",
   "execution_count": 7,
   "id": "9d9a51d6",
   "metadata": {},
   "outputs": [
    {
     "name": "stderr",
     "output_type": "stream",
     "text": [
      "C:\\Users\\ASUS\\anaconda3\\envs\\marketplace\\lib\\site-packages\\ipykernel\\ipkernel.py:287: DeprecationWarning: `should_run_async` will not call `transform_cell` automatically in the future. Please pass the result to `transformed_cell` argument and any exception that happen during thetransform in `preprocessing_exc_tuple` in IPython 7.17 and above.\n",
      "  and should_run_async(code)\n"
     ]
    }
   ],
   "source": [
    "# Remove emails\n",
    "data = [re.sub(r'\\S*@\\S*\\s?', '', sent) for sent in data]\n",
    "# lowecase\n",
    "data = [sent.lower() for sent in data] #lowecase\n",
    "# Remove newline \n",
    "data = [re.sub(r'\\s+', ' ', sent) for sent in data]\n",
    "# Remove single quotes\n",
    "data = [re.sub(\"\\'\", \"\", sent) for sent in data]"
   ]
  },
  {
   "cell_type": "markdown",
   "id": "008e4111",
   "metadata": {},
   "source": [
    "#### Tokenization"
   ]
  },
  {
   "cell_type": "code",
   "execution_count": 8,
   "id": "fed0228d",
   "metadata": {},
   "outputs": [
    {
     "name": "stderr",
     "output_type": "stream",
     "text": [
      "C:\\Users\\ASUS\\anaconda3\\envs\\marketplace\\lib\\site-packages\\ipykernel\\ipkernel.py:287: DeprecationWarning: `should_run_async` will not call `transform_cell` automatically in the future. Please pass the result to `transformed_cell` argument and any exception that happen during thetransform in `preprocessing_exc_tuple` in IPython 7.17 and above.\n",
      "  and should_run_async(code)\n",
      "[nltk_data] Downloading package punkt to\n",
      "[nltk_data]     C:\\Users\\ASUS\\AppData\\Roaming\\nltk_data...\n",
      "[nltk_data]   Package punkt is already up-to-date!\n"
     ]
    }
   ],
   "source": [
    "nltk.download(\"punkt\")\n",
    "tokenized_data = []\n",
    "token_data = [nltk.word_tokenize(words) for words in data]\n",
    "for words in token_data:\n",
    "    new_words = [word for word in words if word.isalnum()]\n",
    "    tokenized_data.append(new_words)\n",
    "#def sent_to_words(sentences):\n",
    "#    for sentence in sentences:\n",
    "#        yield(gensim.utils.simple_preprocess(str(sentence), deacc=True))  # deacc=True removes punctuations\n",
    "#tokenized_data = list(sent_to_words(data))"
   ]
  },
  {
   "cell_type": "code",
   "execution_count": 43,
   "id": "fadf12fa",
   "metadata": {},
   "outputs": [
    {
     "name": "stderr",
     "output_type": "stream",
     "text": [
      "C:\\Users\\ASUS\\anaconda3\\envs\\marketplace\\lib\\site-packages\\ipykernel\\ipkernel.py:287: DeprecationWarning: `should_run_async` will not call `transform_cell` automatically in the future. Please pass the result to `transformed_cell` argument and any exception that happen during thetransform in `preprocessing_exc_tuple` in IPython 7.17 and above.\n",
      "  and should_run_async(code)\n"
     ]
    }
   ],
   "source": [
    "def sent_to_words(sentences):\n",
    "    for sentence in sentences:\n",
    "        yield(gensim.utils.simple_preprocess(str(sentence), deacc=True))  # deacc=True removes punctuations\n",
    "#tokenized_data = list(sent_to_words(data))"
   ]
  },
  {
   "cell_type": "markdown",
   "id": "f3ddd931",
   "metadata": {},
   "source": [
    "##### Stop words"
   ]
  },
  {
   "cell_type": "code",
   "execution_count": 9,
   "id": "6c5b94ca",
   "metadata": {},
   "outputs": [
    {
     "name": "stdout",
     "output_type": "stream",
     "text": [
      "193\n"
     ]
    },
    {
     "name": "stderr",
     "output_type": "stream",
     "text": [
      "C:\\Users\\ASUS\\anaconda3\\envs\\marketplace\\lib\\site-packages\\ipykernel\\ipkernel.py:287: DeprecationWarning: `should_run_async` will not call `transform_cell` automatically in the future. Please pass the result to `transformed_cell` argument and any exception that happen during thetransform in `preprocessing_exc_tuple` in IPython 7.17 and above.\n",
      "  and should_run_async(code)\n",
      "[nltk_data] Downloading package stopwords to\n",
      "[nltk_data]     C:\\Users\\ASUS\\AppData\\Roaming\\nltk_data...\n",
      "[nltk_data]   Package stopwords is already up-to-date!\n"
     ]
    }
   ],
   "source": [
    "#STOP WORDS\n",
    "nltk.download('stopwords')\n",
    "stop_words = stopwords.words('english')\n",
    "stop_words.extend(['from', 'subject', 're', 'edu', 'use', 'xxxx', 'xx', 'well', 'fargo', 'citibank', 'xxxxxx', 'xxxxxxxx', 'cooper', 'mortgage'])\n",
    "for key, value in dataset['Company'].value_counts().items():\n",
    "    if value > 1000:\n",
    "        word = key.lower().split(' ')\n",
    "        for x in word:\n",
    "            if len(x) > 1:\n",
    "                stop_words.extend(x)"
   ]
  },
  {
   "cell_type": "code",
   "execution_count": 10,
   "id": "7ec398ef",
   "metadata": {},
   "outputs": [
    {
     "name": "stderr",
     "output_type": "stream",
     "text": [
      "C:\\Users\\ASUS\\anaconda3\\envs\\marketplace\\lib\\site-packages\\ipykernel\\ipkernel.py:287: DeprecationWarning: `should_run_async` will not call `transform_cell` automatically in the future. Please pass the result to `transformed_cell` argument and any exception that happen during thetransform in `preprocessing_exc_tuple` in IPython 7.17 and above.\n",
      "  and should_run_async(code)\n"
     ]
    }
   ],
   "source": [
    "def remove_stopwords(texts):\n",
    "    return [[word for word in simple_preprocess(str(doc)) \n",
    "             if word not in stop_words] for doc in texts]\n",
    "tokenized_data = remove_stopwords(tokenized_data)"
   ]
  },
  {
   "cell_type": "code",
   "execution_count": 11,
   "id": "f81be9aa",
   "metadata": {},
   "outputs": [
    {
     "name": "stderr",
     "output_type": "stream",
     "text": [
      "C:\\Users\\ASUS\\anaconda3\\envs\\marketplace\\lib\\site-packages\\ipykernel\\ipkernel.py:287: DeprecationWarning: `should_run_async` will not call `transform_cell` automatically in the future. Please pass the result to `transformed_cell` argument and any exception that happen during thetransform in `preprocessing_exc_tuple` in IPython 7.17 and above.\n",
      "  and should_run_async(code)\n"
     ]
    }
   ],
   "source": [
    "with open('../run1/tokenized_data', 'wb') as f:\n",
    "    pickle.dump(tokenized_data, f)"
   ]
  },
  {
   "cell_type": "markdown",
   "id": "5b0a34de",
   "metadata": {},
   "source": [
    "##### Pos tags"
   ]
  },
  {
   "cell_type": "code",
   "execution_count": 12,
   "id": "81ea2fae",
   "metadata": {},
   "outputs": [
    {
     "name": "stderr",
     "output_type": "stream",
     "text": [
      "C:\\Users\\ASUS\\anaconda3\\envs\\marketplace\\lib\\site-packages\\ipykernel\\ipkernel.py:287: DeprecationWarning: `should_run_async` will not call `transform_cell` automatically in the future. Please pass the result to `transformed_cell` argument and any exception that happen during thetransform in `preprocessing_exc_tuple` in IPython 7.17 and above.\n",
      "  and should_run_async(code)\n",
      "[nltk_data] Downloading package averaged_perceptron_tagger to\n",
      "[nltk_data]     C:\\Users\\ASUS\\AppData\\Roaming\\nltk_data...\n",
      "[nltk_data]   Package averaged_perceptron_tagger is already up-to-\n",
      "[nltk_data]       date!\n"
     ]
    }
   ],
   "source": [
    "nltk.download('averaged_perceptron_tagger')\n",
    "tagged_data = []\n",
    "for token in tokenized_data:\n",
    "    tagged_data.append(nltk.pos_tag(token))\n",
    "#tagged = nltk.pos_tag(tokenized_data)\n",
    "#singular_token = [word for word, tag in tagged if tag in ('NN', 'NNS', 'NNP', 'NNPS', 'PRP')]"
   ]
  },
  {
   "cell_type": "code",
   "execution_count": 13,
   "id": "6a5fed4d",
   "metadata": {},
   "outputs": [
    {
     "name": "stderr",
     "output_type": "stream",
     "text": [
      "C:\\Users\\ASUS\\anaconda3\\envs\\marketplace\\lib\\site-packages\\ipykernel\\ipkernel.py:287: DeprecationWarning: `should_run_async` will not call `transform_cell` automatically in the future. Please pass the result to `transformed_cell` argument and any exception that happen during thetransform in `preprocessing_exc_tuple` in IPython 7.17 and above.\n",
      "  and should_run_async(code)\n"
     ]
    }
   ],
   "source": [
    "post_tag_words = []\n",
    "for tagged in tagged_data:\n",
    "    data_words = [word for word, tag in tagged if tag in ('NN', 'NNS', 'NNP', 'NNPS', 'PRP')]\n",
    "    post_tag_words.append(data_words)"
   ]
  },
  {
   "cell_type": "code",
   "execution_count": 14,
   "id": "1507d173",
   "metadata": {},
   "outputs": [
    {
     "name": "stderr",
     "output_type": "stream",
     "text": [
      "C:\\Users\\ASUS\\anaconda3\\envs\\marketplace\\lib\\site-packages\\ipykernel\\ipkernel.py:287: DeprecationWarning: `should_run_async` will not call `transform_cell` automatically in the future. Please pass the result to `transformed_cell` argument and any exception that happen during thetransform in `preprocessing_exc_tuple` in IPython 7.17 and above.\n",
      "  and should_run_async(code)\n"
     ]
    }
   ],
   "source": [
    "def remove_values_from_list(the_list, val):\n",
    "    return [value for value in the_list if value != val]\n",
    "post_tag_new = []\n",
    "for word in post_tag_words:\n",
    "    word = remove_values_from_list(word, 'xxxx')\n",
    "    post_tag_new.append(word)"
   ]
  },
  {
   "cell_type": "code",
   "execution_count": 15,
   "id": "fa861abd",
   "metadata": {},
   "outputs": [
    {
     "name": "stderr",
     "output_type": "stream",
     "text": [
      "C:\\Users\\ASUS\\anaconda3\\envs\\marketplace\\lib\\site-packages\\ipykernel\\ipkernel.py:287: DeprecationWarning: `should_run_async` will not call `transform_cell` automatically in the future. Please pass the result to `transformed_cell` argument and any exception that happen during thetransform in `preprocessing_exc_tuple` in IPython 7.17 and above.\n",
      "  and should_run_async(code)\n"
     ]
    }
   ],
   "source": [
    "with open('../run1/pos_tags', 'wb') as f:\n",
    "    pickle.dump(post_tag_new, f)"
   ]
  },
  {
   "cell_type": "markdown",
   "id": "6d0cbf0b",
   "metadata": {},
   "source": [
    "#### Lemmatization"
   ]
  },
  {
   "cell_type": "code",
   "execution_count": 16,
   "id": "b747b38e",
   "metadata": {},
   "outputs": [
    {
     "name": "stderr",
     "output_type": "stream",
     "text": [
      "C:\\Users\\ASUS\\anaconda3\\envs\\marketplace\\lib\\site-packages\\ipykernel\\ipkernel.py:287: DeprecationWarning: `should_run_async` will not call `transform_cell` automatically in the future. Please pass the result to `transformed_cell` argument and any exception that happen during thetransform in `preprocessing_exc_tuple` in IPython 7.17 and above.\n",
      "  and should_run_async(code)\n"
     ]
    }
   ],
   "source": [
    "def lemmatization(texts, allowed_postags=['NOUN', 'ADJ', 'VERB', 'ADV']): #'NOUN', 'ADJ', 'VERB', 'ADV'\n",
    "    texts_out = []\n",
    "    for sent in texts:\n",
    "        doc = nlp(\" \".join(sent)) \n",
    "        texts_out.append(\" \".join([token.lemma_ if token.lemma_ not in ['-PRON-'] else '' for token in doc if token.pos_ in allowed_postags]))\n",
    "    return texts_out\n",
    "nlp = spacy.load('en_core_web_sm', disable=['parser', 'ner'])\n",
    "data_lemmatized = lemmatization(post_tag_new, allowed_postags=['NOUN','VERB']) #select noun and verb"
   ]
  },
  {
   "cell_type": "code",
   "execution_count": 17,
   "id": "41122466",
   "metadata": {},
   "outputs": [
    {
     "name": "stderr",
     "output_type": "stream",
     "text": [
      "C:\\Users\\ASUS\\anaconda3\\envs\\marketplace\\lib\\site-packages\\ipykernel\\ipkernel.py:287: DeprecationWarning: `should_run_async` will not call `transform_cell` automatically in the future. Please pass the result to `transformed_cell` argument and any exception that happen during thetransform in `preprocessing_exc_tuple` in IPython 7.17 and above.\n",
      "  and should_run_async(code)\n"
     ]
    }
   ],
   "source": [
    "with open('../run1/data_lemmatized', 'wb') as f:\n",
    "    pickle.dump(data_lemmatized, f)"
   ]
  },
  {
   "cell_type": "markdown",
   "id": "ba5f932a",
   "metadata": {},
   "source": [
    "#### Vectorization"
   ]
  },
  {
   "cell_type": "code",
   "execution_count": 18,
   "id": "6c47b539",
   "metadata": {},
   "outputs": [
    {
     "name": "stderr",
     "output_type": "stream",
     "text": [
      "C:\\Users\\ASUS\\anaconda3\\envs\\marketplace\\lib\\site-packages\\ipykernel\\ipkernel.py:287: DeprecationWarning: `should_run_async` will not call `transform_cell` automatically in the future. Please pass the result to `transformed_cell` argument and any exception that happen during thetransform in `preprocessing_exc_tuple` in IPython 7.17 and above.\n",
      "  and should_run_async(code)\n"
     ]
    }
   ],
   "source": [
    "vectorizer = CountVectorizer(analyzer='word',       \n",
    "                             min_df=10, \n",
    "                             token_pattern='[a-zA-Z0-9]{3,}',  \n",
    "                             max_features=50000\n",
    "                            )\n",
    "data_vectorized = vectorizer.fit_transform(data_lemmatized)"
   ]
  },
  {
   "cell_type": "code",
   "execution_count": 19,
   "id": "106fb368",
   "metadata": {},
   "outputs": [
    {
     "name": "stderr",
     "output_type": "stream",
     "text": [
      "C:\\Users\\ASUS\\anaconda3\\envs\\marketplace\\lib\\site-packages\\ipykernel\\ipkernel.py:287: DeprecationWarning: `should_run_async` will not call `transform_cell` automatically in the future. Please pass the result to `transformed_cell` argument and any exception that happen during thetransform in `preprocessing_exc_tuple` in IPython 7.17 and above.\n",
      "  and should_run_async(code)\n"
     ]
    }
   ],
   "source": [
    "with open('../run1/data_vectorized', 'wb') as f:\n",
    "    pickle.dump(data_vectorized, f)"
   ]
  },
  {
   "cell_type": "code",
   "execution_count": 20,
   "id": "18ed73a3",
   "metadata": {},
   "outputs": [
    {
     "name": "stderr",
     "output_type": "stream",
     "text": [
      "C:\\Users\\ASUS\\anaconda3\\envs\\marketplace\\lib\\site-packages\\ipykernel\\ipkernel.py:287: DeprecationWarning: `should_run_async` will not call `transform_cell` automatically in the future. Please pass the result to `transformed_cell` argument and any exception that happen during thetransform in `preprocessing_exc_tuple` in IPython 7.17 and above.\n",
      "  and should_run_async(code)\n"
     ]
    }
   ],
   "source": [
    "with open('../run1/vectorizer', 'wb') as f:\n",
    "    pickle.dump(vectorizer, f)"
   ]
  },
  {
   "cell_type": "markdown",
   "id": "e256fe46",
   "metadata": {},
   "source": [
    "## MODEL"
   ]
  },
  {
   "cell_type": "code",
   "execution_count": 21,
   "id": "346f0204",
   "metadata": {},
   "outputs": [
    {
     "name": "stderr",
     "output_type": "stream",
     "text": [
      "C:\\Users\\ASUS\\anaconda3\\envs\\marketplace\\lib\\site-packages\\ipykernel\\ipkernel.py:287: DeprecationWarning: `should_run_async` will not call `transform_cell` automatically in the future. Please pass the result to `transformed_cell` argument and any exception that happen during thetransform in `preprocessing_exc_tuple` in IPython 7.17 and above.\n",
      "  and should_run_async(code)\n"
     ]
    },
    {
     "data": {
      "text/plain": [
       "GridSearchCV(estimator=LatentDirichletAllocation(learning_method='online',\n",
       "                                                 learning_offset=50.0,\n",
       "                                                 max_iter=5, random_state=0),\n",
       "             param_grid={'learning_decay': [0.7], 'n_components': [10]})"
      ]
     },
     "execution_count": 21,
     "metadata": {},
     "output_type": "execute_result"
    }
   ],
   "source": [
    "search_params = {'n_components': [10], 'learning_decay': [0.7]}\n",
    "# Init the Model\n",
    "lda = LatentDirichletAllocation(max_iter=5, learning_method='online', learning_offset=50.,random_state=0)\n",
    "# Init Grid Search ClassA\n",
    "model = GridSearchCV(lda, param_grid=search_params)\n",
    "# Do the Grid Search\n",
    "model.fit(data_vectorized)"
   ]
  },
  {
   "cell_type": "code",
   "execution_count": 22,
   "id": "a706fac8",
   "metadata": {},
   "outputs": [
    {
     "name": "stderr",
     "output_type": "stream",
     "text": [
      "C:\\Users\\ASUS\\anaconda3\\envs\\marketplace\\lib\\site-packages\\ipykernel\\ipkernel.py:287: DeprecationWarning: `should_run_async` will not call `transform_cell` automatically in the future. Please pass the result to `transformed_cell` argument and any exception that happen during thetransform in `preprocessing_exc_tuple` in IPython 7.17 and above.\n",
      "  and should_run_async(code)\n"
     ]
    },
    {
     "name": "stdout",
     "output_type": "stream",
     "text": [
      "Best Model's Params:  {'learning_decay': 0.7, 'n_components': 10}\n",
      "Best Log Likelihood Score:  -2300100.998591577\n",
      "Model Perplexity:  352.2074019052543\n"
     ]
    }
   ],
   "source": [
    "best_lda_model = model.best_estimator_\n",
    "# Model Parameters\n",
    "print(\"Best Model's Params: \", model.best_params_)\n",
    "# Log Likelihood Score\n",
    "print(\"Best Log Likelihood Score: \", model.best_score_)\n",
    "# Perplexity\n",
    "print(\"Model Perplexity: \", best_lda_model.perplexity(data_vectorized)) "
   ]
  },
  {
   "cell_type": "code",
   "execution_count": 25,
   "id": "3589eea2",
   "metadata": {},
   "outputs": [
    {
     "name": "stderr",
     "output_type": "stream",
     "text": [
      "C:\\Users\\ASUS\\anaconda3\\envs\\marketplace\\lib\\site-packages\\ipykernel\\ipkernel.py:287: DeprecationWarning: `should_run_async` will not call `transform_cell` automatically in the future. Please pass the result to `transformed_cell` argument and any exception that happen during thetransform in `preprocessing_exc_tuple` in IPython 7.17 and above.\n",
      "  and should_run_async(code)\n"
     ]
    }
   ],
   "source": [
    "with open('../run1/model', 'wb') as f:\n",
    "    pickle.dump(best_lda_model, f)"
   ]
  },
  {
   "cell_type": "code",
   "execution_count": 26,
   "id": "69a0e4c4",
   "metadata": {},
   "outputs": [
    {
     "name": "stderr",
     "output_type": "stream",
     "text": [
      "C:\\Users\\ASUS\\anaconda3\\envs\\marketplace\\lib\\site-packages\\ipykernel\\ipkernel.py:287: DeprecationWarning: `should_run_async` will not call `transform_cell` automatically in the future. Please pass the result to `transformed_cell` argument and any exception that happen during thetransform in `preprocessing_exc_tuple` in IPython 7.17 and above.\n",
      "  and should_run_async(code)\n"
     ]
    }
   ],
   "source": [
    "with open('../run1/grid-model', 'wb') as f:\n",
    "    pickle.dump(model, f)"
   ]
  },
  {
   "cell_type": "markdown",
   "id": "a31e3bd6",
   "metadata": {},
   "source": [
    "### END OF TRAINING"
   ]
  },
  {
   "cell_type": "code",
   "execution_count": 27,
   "id": "c1d1edff",
   "metadata": {},
   "outputs": [
    {
     "name": "stderr",
     "output_type": "stream",
     "text": [
      "C:\\Users\\ASUS\\anaconda3\\envs\\marketplace\\lib\\site-packages\\ipykernel\\ipkernel.py:287: DeprecationWarning: `should_run_async` will not call `transform_cell` automatically in the future. Please pass the result to `transformed_cell` argument and any exception that happen during thetransform in `preprocessing_exc_tuple` in IPython 7.17 and above.\n",
      "  and should_run_async(code)\n"
     ]
    }
   ],
   "source": [
    "# Load model\n",
    "with open('../run1/model', 'rb') as f:\n",
    "    new_model = pickle.load(f)"
   ]
  },
  {
   "cell_type": "code",
   "execution_count": 28,
   "id": "047e37db",
   "metadata": {},
   "outputs": [
    {
     "name": "stderr",
     "output_type": "stream",
     "text": [
      "C:\\Users\\ASUS\\anaconda3\\envs\\marketplace\\lib\\site-packages\\ipykernel\\ipkernel.py:287: DeprecationWarning: `should_run_async` will not call `transform_cell` automatically in the future. Please pass the result to `transformed_cell` argument and any exception that happen during thetransform in `preprocessing_exc_tuple` in IPython 7.17 and above.\n",
      "  and should_run_async(code)\n"
     ]
    }
   ],
   "source": [
    "# Load vectorizer\n",
    "with open('../run1/vectorizer', 'rb') as f:\n",
    "    new_vec = pickle.load(f)"
   ]
  },
  {
   "cell_type": "code",
   "execution_count": 29,
   "id": "b4c7577b",
   "metadata": {},
   "outputs": [
    {
     "name": "stderr",
     "output_type": "stream",
     "text": [
      "C:\\Users\\ASUS\\anaconda3\\envs\\marketplace\\lib\\site-packages\\ipykernel\\ipkernel.py:287: DeprecationWarning: `should_run_async` will not call `transform_cell` automatically in the future. Please pass the result to `transformed_cell` argument and any exception that happen during thetransform in `preprocessing_exc_tuple` in IPython 7.17 and above.\n",
      "  and should_run_async(code)\n"
     ]
    }
   ],
   "source": [
    "# Load grid model\n",
    "with open('../run1/grid-model', 'rb') as f:\n",
    "    new_grid = pickle.load(f)"
   ]
  },
  {
   "cell_type": "code",
   "execution_count": 30,
   "id": "2ad3d4d8",
   "metadata": {},
   "outputs": [
    {
     "name": "stderr",
     "output_type": "stream",
     "text": [
      "C:\\Users\\ASUS\\anaconda3\\envs\\marketplace\\lib\\site-packages\\ipykernel\\ipkernel.py:287: DeprecationWarning: `should_run_async` will not call `transform_cell` automatically in the future. Please pass the result to `transformed_cell` argument and any exception that happen during thetransform in `preprocessing_exc_tuple` in IPython 7.17 and above.\n",
      "  and should_run_async(code)\n"
     ]
    }
   ],
   "source": [
    "# Load data vectorized\n",
    "with open('../run1/data_vectorized', 'rb') as f:\n",
    "    new_data_vectorized = pickle.load(f)"
   ]
  },
  {
   "cell_type": "code",
   "execution_count": 32,
   "id": "30c26ad6",
   "metadata": {},
   "outputs": [
    {
     "name": "stderr",
     "output_type": "stream",
     "text": [
      "C:\\Users\\ASUS\\anaconda3\\envs\\marketplace\\lib\\site-packages\\ipykernel\\ipkernel.py:287: DeprecationWarning: `should_run_async` will not call `transform_cell` automatically in the future. Please pass the result to `transformed_cell` argument and any exception that happen during thetransform in `preprocessing_exc_tuple` in IPython 7.17 and above.\n",
      "  and should_run_async(code)\n"
     ]
    }
   ],
   "source": [
    "# Load data lemmatized\n",
    "with open('../run1/data_lemmatized', 'rb') as f:\n",
    "    new_data_lemmatized = pickle.load(f)"
   ]
  },
  {
   "cell_type": "code",
   "execution_count": 33,
   "id": "ada46568",
   "metadata": {},
   "outputs": [
    {
     "name": "stderr",
     "output_type": "stream",
     "text": [
      "C:\\Users\\ASUS\\anaconda3\\envs\\marketplace\\lib\\site-packages\\ipykernel\\ipkernel.py:287: DeprecationWarning: `should_run_async` will not call `transform_cell` automatically in the future. Please pass the result to `transformed_cell` argument and any exception that happen during thetransform in `preprocessing_exc_tuple` in IPython 7.17 and above.\n",
      "  and should_run_async(code)\n"
     ]
    }
   ],
   "source": [
    "lda_output = new_model.transform(new_data_vectorized)\n",
    "# column names\n",
    "topicnames = [\"Topic\" + str(i) for i in range(new_model.n_components)]\n",
    "# index names\n",
    "docnames = [\"Doc\" + str(i) for i in range(len(data))]\n",
    "# Make the pandas dataframe\n",
    "df_document_topic = pd.DataFrame(np.round(lda_output, 2), columns=topicnames, index=docnames)\n",
    "# Get dominant topic for each document\n",
    "dominant_topic = np.argmax(df_document_topic.values, axis=1)\n",
    "df_document_topic['dominant_topic'] = dominant_topic\n",
    "def color_green(val):\n",
    "    color = 'green' if val > .1 else 'black'\n",
    "    return \"color: {col}\".format(col=color)\n",
    "def make_bold(val):\n",
    "    weight = 700 if val > .1 else 400\n",
    "    return \"font-weight: {weight}\".format(weight=weight)"
   ]
  },
  {
   "cell_type": "code",
   "execution_count": 34,
   "id": "aed4f762",
   "metadata": {},
   "outputs": [
    {
     "name": "stderr",
     "output_type": "stream",
     "text": [
      "C:\\Users\\ASUS\\anaconda3\\envs\\marketplace\\lib\\site-packages\\ipykernel\\ipkernel.py:287: DeprecationWarning: `should_run_async` will not call `transform_cell` automatically in the future. Please pass the result to `transformed_cell` argument and any exception that happen during thetransform in `preprocessing_exc_tuple` in IPython 7.17 and above.\n",
      "  and should_run_async(code)\n"
     ]
    },
    {
     "data": {
      "text/html": [
       "<style  type=\"text/css\" >\n",
       "#T_219e4_row0_col0,#T_219e4_row0_col2,#T_219e4_row0_col5,#T_219e4_row0_col10,#T_219e4_row1_col0,#T_219e4_row1_col2,#T_219e4_row2_col0,#T_219e4_row2_col5,#T_219e4_row2_col7,#T_219e4_row2_col9,#T_219e4_row3_col0,#T_219e4_row3_col4,#T_219e4_row3_col8,#T_219e4_row4_col2,#T_219e4_row4_col5,#T_219e4_row4_col9,#T_219e4_row4_col10,#T_219e4_row5_col4,#T_219e4_row5_col10,#T_219e4_row6_col2,#T_219e4_row6_col5,#T_219e4_row6_col7,#T_219e4_row6_col10,#T_219e4_row7_col0,#T_219e4_row7_col4,#T_219e4_row7_col8,#T_219e4_row7_col9,#T_219e4_row7_col10,#T_219e4_row8_col0,#T_219e4_row8_col4,#T_219e4_row8_col10,#T_219e4_row9_col2,#T_219e4_row9_col7,#T_219e4_row9_col9,#T_219e4_row9_col10,#T_219e4_row10_col0,#T_219e4_row10_col4,#T_219e4_row10_col6,#T_219e4_row10_col9,#T_219e4_row10_col10,#T_219e4_row11_col2,#T_219e4_row11_col5,#T_219e4_row11_col7,#T_219e4_row11_col10,#T_219e4_row12_col0,#T_219e4_row12_col2,#T_219e4_row12_col7,#T_219e4_row12_col10,#T_219e4_row13_col1,#T_219e4_row13_col8,#T_219e4_row13_col9,#T_219e4_row13_col10,#T_219e4_row14_col0,#T_219e4_row14_col5,#T_219e4_row14_col9,#T_219e4_row14_col10{\n",
       "            color:  green;\n",
       "            font-weight:  700;\n",
       "        }#T_219e4_row0_col1,#T_219e4_row0_col3,#T_219e4_row0_col4,#T_219e4_row0_col6,#T_219e4_row0_col7,#T_219e4_row0_col8,#T_219e4_row0_col9,#T_219e4_row1_col1,#T_219e4_row1_col3,#T_219e4_row1_col4,#T_219e4_row1_col5,#T_219e4_row1_col6,#T_219e4_row1_col7,#T_219e4_row1_col8,#T_219e4_row1_col9,#T_219e4_row1_col10,#T_219e4_row2_col1,#T_219e4_row2_col2,#T_219e4_row2_col3,#T_219e4_row2_col4,#T_219e4_row2_col6,#T_219e4_row2_col8,#T_219e4_row2_col10,#T_219e4_row3_col1,#T_219e4_row3_col2,#T_219e4_row3_col3,#T_219e4_row3_col5,#T_219e4_row3_col6,#T_219e4_row3_col7,#T_219e4_row3_col9,#T_219e4_row3_col10,#T_219e4_row4_col0,#T_219e4_row4_col1,#T_219e4_row4_col3,#T_219e4_row4_col4,#T_219e4_row4_col6,#T_219e4_row4_col7,#T_219e4_row4_col8,#T_219e4_row5_col0,#T_219e4_row5_col1,#T_219e4_row5_col2,#T_219e4_row5_col3,#T_219e4_row5_col5,#T_219e4_row5_col6,#T_219e4_row5_col7,#T_219e4_row5_col8,#T_219e4_row5_col9,#T_219e4_row6_col0,#T_219e4_row6_col1,#T_219e4_row6_col3,#T_219e4_row6_col4,#T_219e4_row6_col6,#T_219e4_row6_col8,#T_219e4_row6_col9,#T_219e4_row7_col1,#T_219e4_row7_col2,#T_219e4_row7_col3,#T_219e4_row7_col5,#T_219e4_row7_col6,#T_219e4_row7_col7,#T_219e4_row8_col1,#T_219e4_row8_col2,#T_219e4_row8_col3,#T_219e4_row8_col5,#T_219e4_row8_col6,#T_219e4_row8_col7,#T_219e4_row8_col8,#T_219e4_row8_col9,#T_219e4_row9_col0,#T_219e4_row9_col1,#T_219e4_row9_col3,#T_219e4_row9_col4,#T_219e4_row9_col5,#T_219e4_row9_col6,#T_219e4_row9_col8,#T_219e4_row10_col1,#T_219e4_row10_col2,#T_219e4_row10_col3,#T_219e4_row10_col5,#T_219e4_row10_col7,#T_219e4_row10_col8,#T_219e4_row11_col0,#T_219e4_row11_col1,#T_219e4_row11_col3,#T_219e4_row11_col4,#T_219e4_row11_col6,#T_219e4_row11_col8,#T_219e4_row11_col9,#T_219e4_row12_col1,#T_219e4_row12_col3,#T_219e4_row12_col4,#T_219e4_row12_col5,#T_219e4_row12_col6,#T_219e4_row12_col8,#T_219e4_row12_col9,#T_219e4_row13_col0,#T_219e4_row13_col2,#T_219e4_row13_col3,#T_219e4_row13_col4,#T_219e4_row13_col5,#T_219e4_row13_col6,#T_219e4_row13_col7,#T_219e4_row14_col1,#T_219e4_row14_col2,#T_219e4_row14_col3,#T_219e4_row14_col4,#T_219e4_row14_col6,#T_219e4_row14_col7,#T_219e4_row14_col8{\n",
       "            color:  black;\n",
       "            font-weight:  400;\n",
       "        }</style><table id=\"T_219e4_\" ><thead>    <tr>        <th class=\"blank level0\" ></th>        <th class=\"col_heading level0 col0\" >Topic0</th>        <th class=\"col_heading level0 col1\" >Topic1</th>        <th class=\"col_heading level0 col2\" >Topic2</th>        <th class=\"col_heading level0 col3\" >Topic3</th>        <th class=\"col_heading level0 col4\" >Topic4</th>        <th class=\"col_heading level0 col5\" >Topic5</th>        <th class=\"col_heading level0 col6\" >Topic6</th>        <th class=\"col_heading level0 col7\" >Topic7</th>        <th class=\"col_heading level0 col8\" >Topic8</th>        <th class=\"col_heading level0 col9\" >Topic9</th>        <th class=\"col_heading level0 col10\" >dominant_topic</th>    </tr></thead><tbody>\n",
       "                <tr>\n",
       "                        <th id=\"T_219e4_level0_row0\" class=\"row_heading level0 row0\" >Doc0</th>\n",
       "                        <td id=\"T_219e4_row0_col0\" class=\"data row0 col0\" >0.340000</td>\n",
       "                        <td id=\"T_219e4_row0_col1\" class=\"data row0 col1\" >0.000000</td>\n",
       "                        <td id=\"T_219e4_row0_col2\" class=\"data row0 col2\" >0.170000</td>\n",
       "                        <td id=\"T_219e4_row0_col3\" class=\"data row0 col3\" >0.020000</td>\n",
       "                        <td id=\"T_219e4_row0_col4\" class=\"data row0 col4\" >0.000000</td>\n",
       "                        <td id=\"T_219e4_row0_col5\" class=\"data row0 col5\" >0.370000</td>\n",
       "                        <td id=\"T_219e4_row0_col6\" class=\"data row0 col6\" >0.010000</td>\n",
       "                        <td id=\"T_219e4_row0_col7\" class=\"data row0 col7\" >0.000000</td>\n",
       "                        <td id=\"T_219e4_row0_col8\" class=\"data row0 col8\" >0.060000</td>\n",
       "                        <td id=\"T_219e4_row0_col9\" class=\"data row0 col9\" >0.030000</td>\n",
       "                        <td id=\"T_219e4_row0_col10\" class=\"data row0 col10\" >5</td>\n",
       "            </tr>\n",
       "            <tr>\n",
       "                        <th id=\"T_219e4_level0_row1\" class=\"row_heading level0 row1\" >Doc1</th>\n",
       "                        <td id=\"T_219e4_row1_col0\" class=\"data row1 col0\" >0.680000</td>\n",
       "                        <td id=\"T_219e4_row1_col1\" class=\"data row1 col1\" >0.010000</td>\n",
       "                        <td id=\"T_219e4_row1_col2\" class=\"data row1 col2\" >0.260000</td>\n",
       "                        <td id=\"T_219e4_row1_col3\" class=\"data row1 col3\" >0.010000</td>\n",
       "                        <td id=\"T_219e4_row1_col4\" class=\"data row1 col4\" >0.010000</td>\n",
       "                        <td id=\"T_219e4_row1_col5\" class=\"data row1 col5\" >0.010000</td>\n",
       "                        <td id=\"T_219e4_row1_col6\" class=\"data row1 col6\" >0.010000</td>\n",
       "                        <td id=\"T_219e4_row1_col7\" class=\"data row1 col7\" >0.010000</td>\n",
       "                        <td id=\"T_219e4_row1_col8\" class=\"data row1 col8\" >0.010000</td>\n",
       "                        <td id=\"T_219e4_row1_col9\" class=\"data row1 col9\" >0.010000</td>\n",
       "                        <td id=\"T_219e4_row1_col10\" class=\"data row1 col10\" >0</td>\n",
       "            </tr>\n",
       "            <tr>\n",
       "                        <th id=\"T_219e4_level0_row2\" class=\"row_heading level0 row2\" >Doc2</th>\n",
       "                        <td id=\"T_219e4_row2_col0\" class=\"data row2 col0\" >0.310000</td>\n",
       "                        <td id=\"T_219e4_row2_col1\" class=\"data row2 col1\" >0.000000</td>\n",
       "                        <td id=\"T_219e4_row2_col2\" class=\"data row2 col2\" >0.000000</td>\n",
       "                        <td id=\"T_219e4_row2_col3\" class=\"data row2 col3\" >0.080000</td>\n",
       "                        <td id=\"T_219e4_row2_col4\" class=\"data row2 col4\" >0.000000</td>\n",
       "                        <td id=\"T_219e4_row2_col5\" class=\"data row2 col5\" >0.140000</td>\n",
       "                        <td id=\"T_219e4_row2_col6\" class=\"data row2 col6\" >0.050000</td>\n",
       "                        <td id=\"T_219e4_row2_col7\" class=\"data row2 col7\" >0.110000</td>\n",
       "                        <td id=\"T_219e4_row2_col8\" class=\"data row2 col8\" >0.000000</td>\n",
       "                        <td id=\"T_219e4_row2_col9\" class=\"data row2 col9\" >0.310000</td>\n",
       "                        <td id=\"T_219e4_row2_col10\" class=\"data row2 col10\" >0</td>\n",
       "            </tr>\n",
       "            <tr>\n",
       "                        <th id=\"T_219e4_level0_row3\" class=\"row_heading level0 row3\" >Doc3</th>\n",
       "                        <td id=\"T_219e4_row3_col0\" class=\"data row3 col0\" >0.350000</td>\n",
       "                        <td id=\"T_219e4_row3_col1\" class=\"data row3 col1\" >0.000000</td>\n",
       "                        <td id=\"T_219e4_row3_col2\" class=\"data row3 col2\" >0.100000</td>\n",
       "                        <td id=\"T_219e4_row3_col3\" class=\"data row3 col3\" >0.000000</td>\n",
       "                        <td id=\"T_219e4_row3_col4\" class=\"data row3 col4\" >0.230000</td>\n",
       "                        <td id=\"T_219e4_row3_col5\" class=\"data row3 col5\" >0.000000</td>\n",
       "                        <td id=\"T_219e4_row3_col6\" class=\"data row3 col6\" >0.000000</td>\n",
       "                        <td id=\"T_219e4_row3_col7\" class=\"data row3 col7\" >0.000000</td>\n",
       "                        <td id=\"T_219e4_row3_col8\" class=\"data row3 col8\" >0.200000</td>\n",
       "                        <td id=\"T_219e4_row3_col9\" class=\"data row3 col9\" >0.100000</td>\n",
       "                        <td id=\"T_219e4_row3_col10\" class=\"data row3 col10\" >0</td>\n",
       "            </tr>\n",
       "            <tr>\n",
       "                        <th id=\"T_219e4_level0_row4\" class=\"row_heading level0 row4\" >Doc4</th>\n",
       "                        <td id=\"T_219e4_row4_col0\" class=\"data row4 col0\" >0.000000</td>\n",
       "                        <td id=\"T_219e4_row4_col1\" class=\"data row4 col1\" >0.000000</td>\n",
       "                        <td id=\"T_219e4_row4_col2\" class=\"data row4 col2\" >0.110000</td>\n",
       "                        <td id=\"T_219e4_row4_col3\" class=\"data row4 col3\" >0.000000</td>\n",
       "                        <td id=\"T_219e4_row4_col4\" class=\"data row4 col4\" >0.000000</td>\n",
       "                        <td id=\"T_219e4_row4_col5\" class=\"data row4 col5\" >0.420000</td>\n",
       "                        <td id=\"T_219e4_row4_col6\" class=\"data row4 col6\" >0.000000</td>\n",
       "                        <td id=\"T_219e4_row4_col7\" class=\"data row4 col7\" >0.000000</td>\n",
       "                        <td id=\"T_219e4_row4_col8\" class=\"data row4 col8\" >0.000000</td>\n",
       "                        <td id=\"T_219e4_row4_col9\" class=\"data row4 col9\" >0.450000</td>\n",
       "                        <td id=\"T_219e4_row4_col10\" class=\"data row4 col10\" >9</td>\n",
       "            </tr>\n",
       "            <tr>\n",
       "                        <th id=\"T_219e4_level0_row5\" class=\"row_heading level0 row5\" >Doc5</th>\n",
       "                        <td id=\"T_219e4_row5_col0\" class=\"data row5 col0\" >0.070000</td>\n",
       "                        <td id=\"T_219e4_row5_col1\" class=\"data row5 col1\" >0.000000</td>\n",
       "                        <td id=\"T_219e4_row5_col2\" class=\"data row5 col2\" >0.000000</td>\n",
       "                        <td id=\"T_219e4_row5_col3\" class=\"data row5 col3\" >0.000000</td>\n",
       "                        <td id=\"T_219e4_row5_col4\" class=\"data row5 col4\" >0.840000</td>\n",
       "                        <td id=\"T_219e4_row5_col5\" class=\"data row5 col5\" >0.000000</td>\n",
       "                        <td id=\"T_219e4_row5_col6\" class=\"data row5 col6\" >0.000000</td>\n",
       "                        <td id=\"T_219e4_row5_col7\" class=\"data row5 col7\" >0.000000</td>\n",
       "                        <td id=\"T_219e4_row5_col8\" class=\"data row5 col8\" >0.000000</td>\n",
       "                        <td id=\"T_219e4_row5_col9\" class=\"data row5 col9\" >0.060000</td>\n",
       "                        <td id=\"T_219e4_row5_col10\" class=\"data row5 col10\" >4</td>\n",
       "            </tr>\n",
       "            <tr>\n",
       "                        <th id=\"T_219e4_level0_row6\" class=\"row_heading level0 row6\" >Doc6</th>\n",
       "                        <td id=\"T_219e4_row6_col0\" class=\"data row6 col0\" >0.000000</td>\n",
       "                        <td id=\"T_219e4_row6_col1\" class=\"data row6 col1\" >0.010000</td>\n",
       "                        <td id=\"T_219e4_row6_col2\" class=\"data row6 col2\" >0.340000</td>\n",
       "                        <td id=\"T_219e4_row6_col3\" class=\"data row6 col3\" >0.000000</td>\n",
       "                        <td id=\"T_219e4_row6_col4\" class=\"data row6 col4\" >0.000000</td>\n",
       "                        <td id=\"T_219e4_row6_col5\" class=\"data row6 col5\" >0.340000</td>\n",
       "                        <td id=\"T_219e4_row6_col6\" class=\"data row6 col6\" >0.000000</td>\n",
       "                        <td id=\"T_219e4_row6_col7\" class=\"data row6 col7\" >0.280000</td>\n",
       "                        <td id=\"T_219e4_row6_col8\" class=\"data row6 col8\" >0.000000</td>\n",
       "                        <td id=\"T_219e4_row6_col9\" class=\"data row6 col9\" >0.020000</td>\n",
       "                        <td id=\"T_219e4_row6_col10\" class=\"data row6 col10\" >2</td>\n",
       "            </tr>\n",
       "            <tr>\n",
       "                        <th id=\"T_219e4_level0_row7\" class=\"row_heading level0 row7\" >Doc7</th>\n",
       "                        <td id=\"T_219e4_row7_col0\" class=\"data row7 col0\" >0.230000</td>\n",
       "                        <td id=\"T_219e4_row7_col1\" class=\"data row7 col1\" >0.000000</td>\n",
       "                        <td id=\"T_219e4_row7_col2\" class=\"data row7 col2\" >0.000000</td>\n",
       "                        <td id=\"T_219e4_row7_col3\" class=\"data row7 col3\" >0.000000</td>\n",
       "                        <td id=\"T_219e4_row7_col4\" class=\"data row7 col4\" >0.110000</td>\n",
       "                        <td id=\"T_219e4_row7_col5\" class=\"data row7 col5\" >0.000000</td>\n",
       "                        <td id=\"T_219e4_row7_col6\" class=\"data row7 col6\" >0.100000</td>\n",
       "                        <td id=\"T_219e4_row7_col7\" class=\"data row7 col7\" >0.000000</td>\n",
       "                        <td id=\"T_219e4_row7_col8\" class=\"data row7 col8\" >0.270000</td>\n",
       "                        <td id=\"T_219e4_row7_col9\" class=\"data row7 col9\" >0.270000</td>\n",
       "                        <td id=\"T_219e4_row7_col10\" class=\"data row7 col10\" >8</td>\n",
       "            </tr>\n",
       "            <tr>\n",
       "                        <th id=\"T_219e4_level0_row8\" class=\"row_heading level0 row8\" >Doc8</th>\n",
       "                        <td id=\"T_219e4_row8_col0\" class=\"data row8 col0\" >0.380000</td>\n",
       "                        <td id=\"T_219e4_row8_col1\" class=\"data row8 col1\" >0.010000</td>\n",
       "                        <td id=\"T_219e4_row8_col2\" class=\"data row8 col2\" >0.010000</td>\n",
       "                        <td id=\"T_219e4_row8_col3\" class=\"data row8 col3\" >0.010000</td>\n",
       "                        <td id=\"T_219e4_row8_col4\" class=\"data row8 col4\" >0.530000</td>\n",
       "                        <td id=\"T_219e4_row8_col5\" class=\"data row8 col5\" >0.010000</td>\n",
       "                        <td id=\"T_219e4_row8_col6\" class=\"data row8 col6\" >0.010000</td>\n",
       "                        <td id=\"T_219e4_row8_col7\" class=\"data row8 col7\" >0.010000</td>\n",
       "                        <td id=\"T_219e4_row8_col8\" class=\"data row8 col8\" >0.010000</td>\n",
       "                        <td id=\"T_219e4_row8_col9\" class=\"data row8 col9\" >0.010000</td>\n",
       "                        <td id=\"T_219e4_row8_col10\" class=\"data row8 col10\" >4</td>\n",
       "            </tr>\n",
       "            <tr>\n",
       "                        <th id=\"T_219e4_level0_row9\" class=\"row_heading level0 row9\" >Doc9</th>\n",
       "                        <td id=\"T_219e4_row9_col0\" class=\"data row9 col0\" >0.030000</td>\n",
       "                        <td id=\"T_219e4_row9_col1\" class=\"data row9 col1\" >0.040000</td>\n",
       "                        <td id=\"T_219e4_row9_col2\" class=\"data row9 col2\" >0.260000</td>\n",
       "                        <td id=\"T_219e4_row9_col3\" class=\"data row9 col3\" >0.000000</td>\n",
       "                        <td id=\"T_219e4_row9_col4\" class=\"data row9 col4\" >0.000000</td>\n",
       "                        <td id=\"T_219e4_row9_col5\" class=\"data row9 col5\" >0.000000</td>\n",
       "                        <td id=\"T_219e4_row9_col6\" class=\"data row9 col6\" >0.030000</td>\n",
       "                        <td id=\"T_219e4_row9_col7\" class=\"data row9 col7\" >0.410000</td>\n",
       "                        <td id=\"T_219e4_row9_col8\" class=\"data row9 col8\" >0.010000</td>\n",
       "                        <td id=\"T_219e4_row9_col9\" class=\"data row9 col9\" >0.210000</td>\n",
       "                        <td id=\"T_219e4_row9_col10\" class=\"data row9 col10\" >7</td>\n",
       "            </tr>\n",
       "            <tr>\n",
       "                        <th id=\"T_219e4_level0_row10\" class=\"row_heading level0 row10\" >Doc10</th>\n",
       "                        <td id=\"T_219e4_row10_col0\" class=\"data row10 col0\" >0.180000</td>\n",
       "                        <td id=\"T_219e4_row10_col1\" class=\"data row10 col1\" >0.000000</td>\n",
       "                        <td id=\"T_219e4_row10_col2\" class=\"data row10 col2\" >0.000000</td>\n",
       "                        <td id=\"T_219e4_row10_col3\" class=\"data row10 col3\" >0.000000</td>\n",
       "                        <td id=\"T_219e4_row10_col4\" class=\"data row10 col4\" >0.440000</td>\n",
       "                        <td id=\"T_219e4_row10_col5\" class=\"data row10 col5\" >0.000000</td>\n",
       "                        <td id=\"T_219e4_row10_col6\" class=\"data row10 col6\" >0.110000</td>\n",
       "                        <td id=\"T_219e4_row10_col7\" class=\"data row10 col7\" >0.000000</td>\n",
       "                        <td id=\"T_219e4_row10_col8\" class=\"data row10 col8\" >0.000000</td>\n",
       "                        <td id=\"T_219e4_row10_col9\" class=\"data row10 col9\" >0.260000</td>\n",
       "                        <td id=\"T_219e4_row10_col10\" class=\"data row10 col10\" >4</td>\n",
       "            </tr>\n",
       "            <tr>\n",
       "                        <th id=\"T_219e4_level0_row11\" class=\"row_heading level0 row11\" >Doc11</th>\n",
       "                        <td id=\"T_219e4_row11_col0\" class=\"data row11 col0\" >0.010000</td>\n",
       "                        <td id=\"T_219e4_row11_col1\" class=\"data row11 col1\" >0.010000</td>\n",
       "                        <td id=\"T_219e4_row11_col2\" class=\"data row11 col2\" >0.470000</td>\n",
       "                        <td id=\"T_219e4_row11_col3\" class=\"data row11 col3\" >0.010000</td>\n",
       "                        <td id=\"T_219e4_row11_col4\" class=\"data row11 col4\" >0.010000</td>\n",
       "                        <td id=\"T_219e4_row11_col5\" class=\"data row11 col5\" >0.280000</td>\n",
       "                        <td id=\"T_219e4_row11_col6\" class=\"data row11 col6\" >0.010000</td>\n",
       "                        <td id=\"T_219e4_row11_col7\" class=\"data row11 col7\" >0.210000</td>\n",
       "                        <td id=\"T_219e4_row11_col8\" class=\"data row11 col8\" >0.010000</td>\n",
       "                        <td id=\"T_219e4_row11_col9\" class=\"data row11 col9\" >0.010000</td>\n",
       "                        <td id=\"T_219e4_row11_col10\" class=\"data row11 col10\" >2</td>\n",
       "            </tr>\n",
       "            <tr>\n",
       "                        <th id=\"T_219e4_level0_row12\" class=\"row_heading level0 row12\" >Doc12</th>\n",
       "                        <td id=\"T_219e4_row12_col0\" class=\"data row12 col0\" >0.210000</td>\n",
       "                        <td id=\"T_219e4_row12_col1\" class=\"data row12 col1\" >0.000000</td>\n",
       "                        <td id=\"T_219e4_row12_col2\" class=\"data row12 col2\" >0.360000</td>\n",
       "                        <td id=\"T_219e4_row12_col3\" class=\"data row12 col3\" >0.000000</td>\n",
       "                        <td id=\"T_219e4_row12_col4\" class=\"data row12 col4\" >0.000000</td>\n",
       "                        <td id=\"T_219e4_row12_col5\" class=\"data row12 col5\" >0.000000</td>\n",
       "                        <td id=\"T_219e4_row12_col6\" class=\"data row12 col6\" >0.000000</td>\n",
       "                        <td id=\"T_219e4_row12_col7\" class=\"data row12 col7\" >0.340000</td>\n",
       "                        <td id=\"T_219e4_row12_col8\" class=\"data row12 col8\" >0.000000</td>\n",
       "                        <td id=\"T_219e4_row12_col9\" class=\"data row12 col9\" >0.080000</td>\n",
       "                        <td id=\"T_219e4_row12_col10\" class=\"data row12 col10\" >2</td>\n",
       "            </tr>\n",
       "            <tr>\n",
       "                        <th id=\"T_219e4_level0_row13\" class=\"row_heading level0 row13\" >Doc13</th>\n",
       "                        <td id=\"T_219e4_row13_col0\" class=\"data row13 col0\" >0.000000</td>\n",
       "                        <td id=\"T_219e4_row13_col1\" class=\"data row13 col1\" >0.130000</td>\n",
       "                        <td id=\"T_219e4_row13_col2\" class=\"data row13 col2\" >0.000000</td>\n",
       "                        <td id=\"T_219e4_row13_col3\" class=\"data row13 col3\" >0.020000</td>\n",
       "                        <td id=\"T_219e4_row13_col4\" class=\"data row13 col4\" >0.000000</td>\n",
       "                        <td id=\"T_219e4_row13_col5\" class=\"data row13 col5\" >0.000000</td>\n",
       "                        <td id=\"T_219e4_row13_col6\" class=\"data row13 col6\" >0.000000</td>\n",
       "                        <td id=\"T_219e4_row13_col7\" class=\"data row13 col7\" >0.000000</td>\n",
       "                        <td id=\"T_219e4_row13_col8\" class=\"data row13 col8\" >0.470000</td>\n",
       "                        <td id=\"T_219e4_row13_col9\" class=\"data row13 col9\" >0.370000</td>\n",
       "                        <td id=\"T_219e4_row13_col10\" class=\"data row13 col10\" >8</td>\n",
       "            </tr>\n",
       "            <tr>\n",
       "                        <th id=\"T_219e4_level0_row14\" class=\"row_heading level0 row14\" >Doc14</th>\n",
       "                        <td id=\"T_219e4_row14_col0\" class=\"data row14 col0\" >0.390000</td>\n",
       "                        <td id=\"T_219e4_row14_col1\" class=\"data row14 col1\" >0.010000</td>\n",
       "                        <td id=\"T_219e4_row14_col2\" class=\"data row14 col2\" >0.010000</td>\n",
       "                        <td id=\"T_219e4_row14_col3\" class=\"data row14 col3\" >0.010000</td>\n",
       "                        <td id=\"T_219e4_row14_col4\" class=\"data row14 col4\" >0.010000</td>\n",
       "                        <td id=\"T_219e4_row14_col5\" class=\"data row14 col5\" >0.430000</td>\n",
       "                        <td id=\"T_219e4_row14_col6\" class=\"data row14 col6\" >0.010000</td>\n",
       "                        <td id=\"T_219e4_row14_col7\" class=\"data row14 col7\" >0.010000</td>\n",
       "                        <td id=\"T_219e4_row14_col8\" class=\"data row14 col8\" >0.010000</td>\n",
       "                        <td id=\"T_219e4_row14_col9\" class=\"data row14 col9\" >0.110000</td>\n",
       "                        <td id=\"T_219e4_row14_col10\" class=\"data row14 col10\" >5</td>\n",
       "            </tr>\n",
       "    </tbody></table>"
      ],
      "text/plain": [
       "<pandas.io.formats.style.Styler at 0x2740ddb75b0>"
      ]
     },
     "execution_count": 34,
     "metadata": {},
     "output_type": "execute_result"
    }
   ],
   "source": [
    "df_document_topics = df_document_topic.head(15).style.applymap(color_green).applymap(make_bold)\n",
    "df_document_topics"
   ]
  },
  {
   "cell_type": "code",
   "execution_count": 35,
   "id": "8dc95f06",
   "metadata": {},
   "outputs": [
    {
     "name": "stderr",
     "output_type": "stream",
     "text": [
      "C:\\Users\\ASUS\\anaconda3\\envs\\marketplace\\lib\\site-packages\\ipykernel\\ipkernel.py:287: DeprecationWarning: `should_run_async` will not call `transform_cell` automatically in the future. Please pass the result to `transformed_cell` argument and any exception that happen during thetransform in `preprocessing_exc_tuple` in IPython 7.17 and above.\n",
      "  and should_run_async(code)\n"
     ]
    },
    {
     "data": {
      "text/html": [
       "<div>\n",
       "<style scoped>\n",
       "    .dataframe tbody tr th:only-of-type {\n",
       "        vertical-align: middle;\n",
       "    }\n",
       "\n",
       "    .dataframe tbody tr th {\n",
       "        vertical-align: top;\n",
       "    }\n",
       "\n",
       "    .dataframe thead th {\n",
       "        text-align: right;\n",
       "    }\n",
       "</style>\n",
       "<table border=\"1\" class=\"dataframe\">\n",
       "  <thead>\n",
       "    <tr style=\"text-align: right;\">\n",
       "      <th></th>\n",
       "      <th>Topic Num</th>\n",
       "      <th>Num Documents</th>\n",
       "    </tr>\n",
       "  </thead>\n",
       "  <tbody>\n",
       "    <tr>\n",
       "      <th>0</th>\n",
       "      <td>9</td>\n",
       "      <td>6396</td>\n",
       "    </tr>\n",
       "    <tr>\n",
       "      <th>1</th>\n",
       "      <td>0</td>\n",
       "      <td>6359</td>\n",
       "    </tr>\n",
       "    <tr>\n",
       "      <th>2</th>\n",
       "      <td>8</td>\n",
       "      <td>5006</td>\n",
       "    </tr>\n",
       "    <tr>\n",
       "      <th>3</th>\n",
       "      <td>7</td>\n",
       "      <td>4917</td>\n",
       "    </tr>\n",
       "    <tr>\n",
       "      <th>4</th>\n",
       "      <td>4</td>\n",
       "      <td>2326</td>\n",
       "    </tr>\n",
       "    <tr>\n",
       "      <th>5</th>\n",
       "      <td>5</td>\n",
       "      <td>2009</td>\n",
       "    </tr>\n",
       "    <tr>\n",
       "      <th>6</th>\n",
       "      <td>3</td>\n",
       "      <td>1781</td>\n",
       "    </tr>\n",
       "    <tr>\n",
       "      <th>7</th>\n",
       "      <td>2</td>\n",
       "      <td>1671</td>\n",
       "    </tr>\n",
       "    <tr>\n",
       "      <th>8</th>\n",
       "      <td>6</td>\n",
       "      <td>1372</td>\n",
       "    </tr>\n",
       "    <tr>\n",
       "      <th>9</th>\n",
       "      <td>1</td>\n",
       "      <td>968</td>\n",
       "    </tr>\n",
       "  </tbody>\n",
       "</table>\n",
       "</div>"
      ],
      "text/plain": [
       "   Topic Num  Num Documents\n",
       "0          9           6396\n",
       "1          0           6359\n",
       "2          8           5006\n",
       "3          7           4917\n",
       "4          4           2326\n",
       "5          5           2009\n",
       "6          3           1781\n",
       "7          2           1671\n",
       "8          6           1372\n",
       "9          1            968"
      ]
     },
     "execution_count": 35,
     "metadata": {},
     "output_type": "execute_result"
    }
   ],
   "source": [
    "df_topic_distribution = df_document_topic['dominant_topic'].value_counts().reset_index(name=\"Num Documents\")\n",
    "df_topic_distribution.columns = ['Topic Num', 'Num Documents']\n",
    "df_topic_distribution"
   ]
  },
  {
   "cell_type": "code",
   "execution_count": 36,
   "id": "3b68e30e",
   "metadata": {},
   "outputs": [
    {
     "name": "stderr",
     "output_type": "stream",
     "text": [
      "C:\\Users\\ASUS\\anaconda3\\envs\\marketplace\\lib\\site-packages\\ipykernel\\ipkernel.py:287: DeprecationWarning: `should_run_async` will not call `transform_cell` automatically in the future. Please pass the result to `transformed_cell` argument and any exception that happen during thetransform in `preprocessing_exc_tuple` in IPython 7.17 and above.\n",
      "  and should_run_async(code)\n"
     ]
    }
   ],
   "source": [
    "def show_topics(vectorizer, lda_model, n_words=20):\n",
    "    keywords = np.array(vectorizer.get_feature_names())\n",
    "    topic_keywords = []\n",
    "    for topic_weights in lda_model.components_:\n",
    "        top_keyword_locs = (-topic_weights).argsort()[:n_words]\n",
    "        topic_keywords.append(keywords.take(top_keyword_locs))\n",
    "    return topic_keywords\n",
    "topic_keywords = show_topics(vectorizer=new_vec, lda_model=new_model, n_words=15)"
   ]
  },
  {
   "cell_type": "code",
   "execution_count": 37,
   "id": "bcb875e1",
   "metadata": {},
   "outputs": [
    {
     "name": "stderr",
     "output_type": "stream",
     "text": [
      "C:\\Users\\ASUS\\anaconda3\\envs\\marketplace\\lib\\site-packages\\ipykernel\\ipkernel.py:287: DeprecationWarning: `should_run_async` will not call `transform_cell` automatically in the future. Please pass the result to `transformed_cell` argument and any exception that happen during thetransform in `preprocessing_exc_tuple` in IPython 7.17 and above.\n",
      "  and should_run_async(code)\n"
     ]
    },
    {
     "data": {
      "text/html": [
       "<div>\n",
       "<style scoped>\n",
       "    .dataframe tbody tr th:only-of-type {\n",
       "        vertical-align: middle;\n",
       "    }\n",
       "\n",
       "    .dataframe tbody tr th {\n",
       "        vertical-align: top;\n",
       "    }\n",
       "\n",
       "    .dataframe thead th {\n",
       "        text-align: right;\n",
       "    }\n",
       "</style>\n",
       "<table border=\"1\" class=\"dataframe\">\n",
       "  <thead>\n",
       "    <tr style=\"text-align: right;\">\n",
       "      <th></th>\n",
       "      <th>Word 0</th>\n",
       "      <th>Word 1</th>\n",
       "      <th>Word 2</th>\n",
       "      <th>Word 3</th>\n",
       "      <th>Word 4</th>\n",
       "      <th>Word 5</th>\n",
       "      <th>Word 6</th>\n",
       "      <th>Word 7</th>\n",
       "      <th>Word 8</th>\n",
       "      <th>Word 9</th>\n",
       "      <th>Word 10</th>\n",
       "      <th>Word 11</th>\n",
       "      <th>Word 12</th>\n",
       "      <th>Word 13</th>\n",
       "      <th>Word 14</th>\n",
       "    </tr>\n",
       "  </thead>\n",
       "  <tbody>\n",
       "    <tr>\n",
       "      <th>Topic 0</th>\n",
       "      <td>payment</td>\n",
       "      <td>account</td>\n",
       "      <td>amount</td>\n",
       "      <td>loan</td>\n",
       "      <td>fee</td>\n",
       "      <td>month</td>\n",
       "      <td>statement</td>\n",
       "      <td>balance</td>\n",
       "      <td>interest</td>\n",
       "      <td>time</td>\n",
       "      <td>pay</td>\n",
       "      <td>bank</td>\n",
       "      <td>company</td>\n",
       "      <td>charge</td>\n",
       "      <td>money</td>\n",
       "    </tr>\n",
       "    <tr>\n",
       "      <th>Topic 1</th>\n",
       "      <td>bank</td>\n",
       "      <td>house</td>\n",
       "      <td>home</td>\n",
       "      <td>buyer</td>\n",
       "      <td>year</td>\n",
       "      <td>property</td>\n",
       "      <td>time</td>\n",
       "      <td>america</td>\n",
       "      <td>name</td>\n",
       "      <td>money</td>\n",
       "      <td>equity</td>\n",
       "      <td>branch</td>\n",
       "      <td>loan</td>\n",
       "      <td>boa</td>\n",
       "      <td>line</td>\n",
       "    </tr>\n",
       "    <tr>\n",
       "      <th>Topic 2</th>\n",
       "      <td>property</td>\n",
       "      <td>attorney</td>\n",
       "      <td>sale</td>\n",
       "      <td>foreclosure</td>\n",
       "      <td>court</td>\n",
       "      <td>bankruptcy</td>\n",
       "      <td>law</td>\n",
       "      <td>loan</td>\n",
       "      <td>debt</td>\n",
       "      <td>note</td>\n",
       "      <td>state</td>\n",
       "      <td>mitigation</td>\n",
       "      <td>loss</td>\n",
       "      <td>case</td>\n",
       "      <td>trust</td>\n",
       "    </tr>\n",
       "    <tr>\n",
       "      <th>Topic 3</th>\n",
       "      <td>credit</td>\n",
       "      <td>forbearance</td>\n",
       "      <td>payment</td>\n",
       "      <td>report</td>\n",
       "      <td>month</td>\n",
       "      <td>score</td>\n",
       "      <td>loan</td>\n",
       "      <td>time</td>\n",
       "      <td>day</td>\n",
       "      <td>plan</td>\n",
       "      <td>care</td>\n",
       "      <td>company</td>\n",
       "      <td>letter</td>\n",
       "      <td>option</td>\n",
       "      <td>program</td>\n",
       "    </tr>\n",
       "    <tr>\n",
       "      <th>Topic 4</th>\n",
       "      <td>escrow</td>\n",
       "      <td>taxis</td>\n",
       "      <td>tax</td>\n",
       "      <td>property</td>\n",
       "      <td>account</td>\n",
       "      <td>amount</td>\n",
       "      <td>year</td>\n",
       "      <td>pmi</td>\n",
       "      <td>pay</td>\n",
       "      <td>bill</td>\n",
       "      <td>value</td>\n",
       "      <td>analysis</td>\n",
       "      <td>shortage</td>\n",
       "      <td>county</td>\n",
       "      <td>month</td>\n",
       "    </tr>\n",
       "    <tr>\n",
       "      <th>Topic 5</th>\n",
       "      <td>loan</td>\n",
       "      <td>document</td>\n",
       "      <td>complaint</td>\n",
       "      <td>letter</td>\n",
       "      <td>information</td>\n",
       "      <td>request</td>\n",
       "      <td>statement</td>\n",
       "      <td>response</td>\n",
       "      <td>consumer</td>\n",
       "      <td>copy</td>\n",
       "      <td>date</td>\n",
       "      <td>servicer</td>\n",
       "      <td>borrower</td>\n",
       "      <td>cfpb</td>\n",
       "      <td>number</td>\n",
       "    </tr>\n",
       "    <tr>\n",
       "      <th>Topic 6</th>\n",
       "      <td>insurance</td>\n",
       "      <td>policy</td>\n",
       "      <td>company</td>\n",
       "      <td>payoff</td>\n",
       "      <td>chase</td>\n",
       "      <td>homeowner</td>\n",
       "      <td>fund</td>\n",
       "      <td>home</td>\n",
       "      <td>escrow</td>\n",
       "      <td>letter</td>\n",
       "      <td>flood</td>\n",
       "      <td>sls</td>\n",
       "      <td>coverage</td>\n",
       "      <td>amount</td>\n",
       "      <td>pay</td>\n",
       "    </tr>\n",
       "    <tr>\n",
       "      <th>Topic 7</th>\n",
       "      <td>loan</td>\n",
       "      <td>modification</td>\n",
       "      <td>home</td>\n",
       "      <td>well</td>\n",
       "      <td>year</td>\n",
       "      <td>time</td>\n",
       "      <td>income</td>\n",
       "      <td>month</td>\n",
       "      <td>payment</td>\n",
       "      <td>help</td>\n",
       "      <td>house</td>\n",
       "      <td>foreclosure</td>\n",
       "      <td>work</td>\n",
       "      <td>letter</td>\n",
       "      <td>assistance</td>\n",
       "    </tr>\n",
       "    <tr>\n",
       "      <th>Topic 8</th>\n",
       "      <td>loan</td>\n",
       "      <td>rate</td>\n",
       "      <td>closing</td>\n",
       "      <td>refinance</td>\n",
       "      <td>process</td>\n",
       "      <td>document</td>\n",
       "      <td>lender</td>\n",
       "      <td>application</td>\n",
       "      <td>day</td>\n",
       "      <td>time</td>\n",
       "      <td>interest</td>\n",
       "      <td>appraisal</td>\n",
       "      <td>officer</td>\n",
       "      <td>fee</td>\n",
       "      <td>home</td>\n",
       "    </tr>\n",
       "    <tr>\n",
       "      <th>Topic 9</th>\n",
       "      <td>call</td>\n",
       "      <td>time</td>\n",
       "      <td>day</td>\n",
       "      <td>phone</td>\n",
       "      <td>company</td>\n",
       "      <td>check</td>\n",
       "      <td>customer</td>\n",
       "      <td>number</td>\n",
       "      <td>service</td>\n",
       "      <td>information</td>\n",
       "      <td>letter</td>\n",
       "      <td>email</td>\n",
       "      <td>account</td>\n",
       "      <td>week</td>\n",
       "      <td>loan</td>\n",
       "    </tr>\n",
       "  </tbody>\n",
       "</table>\n",
       "</div>"
      ],
      "text/plain": [
       "            Word 0        Word 1     Word 2       Word 3       Word 4  \\\n",
       "Topic 0    payment       account     amount         loan          fee   \n",
       "Topic 1       bank         house       home        buyer         year   \n",
       "Topic 2   property      attorney       sale  foreclosure        court   \n",
       "Topic 3     credit   forbearance    payment       report        month   \n",
       "Topic 4     escrow         taxis        tax     property      account   \n",
       "Topic 5       loan      document  complaint       letter  information   \n",
       "Topic 6  insurance        policy    company       payoff        chase   \n",
       "Topic 7       loan  modification       home         well         year   \n",
       "Topic 8       loan          rate    closing    refinance      process   \n",
       "Topic 9       call          time        day        phone      company   \n",
       "\n",
       "             Word 5     Word 6       Word 7    Word 8       Word 9   Word 10  \\\n",
       "Topic 0       month  statement      balance  interest         time       pay   \n",
       "Topic 1    property       time      america      name        money    equity   \n",
       "Topic 2  bankruptcy        law         loan      debt         note     state   \n",
       "Topic 3       score       loan         time       day         plan      care   \n",
       "Topic 4      amount       year          pmi       pay         bill     value   \n",
       "Topic 5     request  statement     response  consumer         copy      date   \n",
       "Topic 6   homeowner       fund         home    escrow       letter     flood   \n",
       "Topic 7        time     income        month   payment         help     house   \n",
       "Topic 8    document     lender  application       day         time  interest   \n",
       "Topic 9       check   customer       number   service  information    letter   \n",
       "\n",
       "             Word 11   Word 12 Word 13     Word 14  \n",
       "Topic 0         bank   company  charge       money  \n",
       "Topic 1       branch      loan     boa        line  \n",
       "Topic 2   mitigation      loss    case       trust  \n",
       "Topic 3      company    letter  option     program  \n",
       "Topic 4     analysis  shortage  county       month  \n",
       "Topic 5     servicer  borrower    cfpb      number  \n",
       "Topic 6          sls  coverage  amount         pay  \n",
       "Topic 7  foreclosure      work  letter  assistance  \n",
       "Topic 8    appraisal   officer     fee        home  \n",
       "Topic 9        email   account    week        loan  "
      ]
     },
     "execution_count": 37,
     "metadata": {},
     "output_type": "execute_result"
    }
   ],
   "source": [
    "# Topic - Keywords Dataframe\n",
    "df_topic_keywords = pd.DataFrame(topic_keywords)\n",
    "df_topic_keywords.columns = ['Word '+str(i) for i in range(df_topic_keywords.shape[1])]\n",
    "df_topic_keywords.index = ['Topic '+str(i) for i in range(df_topic_keywords.shape[0])]\n",
    "df_topic_keywords"
   ]
  },
  {
   "cell_type": "code",
   "execution_count": 40,
   "id": "295d91d4",
   "metadata": {},
   "outputs": [
    {
     "name": "stderr",
     "output_type": "stream",
     "text": [
      "C:\\Users\\ASUS\\anaconda3\\envs\\marketplace\\lib\\site-packages\\ipykernel\\ipkernel.py:287: DeprecationWarning: `should_run_async` will not call `transform_cell` automatically in the future. Please pass the result to `transformed_cell` argument and any exception that happen during thetransform in `preprocessing_exc_tuple` in IPython 7.17 and above.\n",
      "  and should_run_async(code)\n"
     ]
    },
    {
     "data": {
      "text/html": [
       "<div>\n",
       "<style scoped>\n",
       "    .dataframe tbody tr th:only-of-type {\n",
       "        vertical-align: middle;\n",
       "    }\n",
       "\n",
       "    .dataframe tbody tr th {\n",
       "        vertical-align: top;\n",
       "    }\n",
       "\n",
       "    .dataframe thead th {\n",
       "        text-align: right;\n",
       "    }\n",
       "</style>\n",
       "<table border=\"1\" class=\"dataframe\">\n",
       "  <thead>\n",
       "    <tr style=\"text-align: right;\">\n",
       "      <th></th>\n",
       "      <th>abatement</th>\n",
       "      <th>abide</th>\n",
       "      <th>ability</th>\n",
       "      <th>absence</th>\n",
       "      <th>abundance</th>\n",
       "      <th>abuse</th>\n",
       "      <th>academy</th>\n",
       "      <th>accelerate</th>\n",
       "      <th>acceleration</th>\n",
       "      <th>accelerator</th>\n",
       "      <th>...</th>\n",
       "      <th>xxxxt</th>\n",
       "      <th>xxxxx</th>\n",
       "      <th>yard</th>\n",
       "      <th>year</th>\n",
       "      <th>yesterday</th>\n",
       "      <th>yield</th>\n",
       "      <th>york</th>\n",
       "      <th>yrs</th>\n",
       "      <th>zip</th>\n",
       "      <th>zone</th>\n",
       "    </tr>\n",
       "  </thead>\n",
       "  <tbody>\n",
       "    <tr>\n",
       "      <th>Topic0</th>\n",
       "      <td>0.100017</td>\n",
       "      <td>0.251627</td>\n",
       "      <td>117.456609</td>\n",
       "      <td>0.100021</td>\n",
       "      <td>0.100133</td>\n",
       "      <td>0.100024</td>\n",
       "      <td>0.100013</td>\n",
       "      <td>52.344655</td>\n",
       "      <td>11.659143</td>\n",
       "      <td>25.191526</td>\n",
       "      <td>...</td>\n",
       "      <td>0.100053</td>\n",
       "      <td>0.100250</td>\n",
       "      <td>0.100011</td>\n",
       "      <td>2928.607259</td>\n",
       "      <td>21.384319</td>\n",
       "      <td>0.100022</td>\n",
       "      <td>0.100020</td>\n",
       "      <td>0.100050</td>\n",
       "      <td>0.100035</td>\n",
       "      <td>0.100013</td>\n",
       "    </tr>\n",
       "    <tr>\n",
       "      <th>Topic1</th>\n",
       "      <td>0.176631</td>\n",
       "      <td>0.101433</td>\n",
       "      <td>53.457297</td>\n",
       "      <td>0.100021</td>\n",
       "      <td>0.100092</td>\n",
       "      <td>26.862555</td>\n",
       "      <td>0.100073</td>\n",
       "      <td>0.100024</td>\n",
       "      <td>0.100012</td>\n",
       "      <td>0.100042</td>\n",
       "      <td>...</td>\n",
       "      <td>0.100039</td>\n",
       "      <td>0.100067</td>\n",
       "      <td>0.100067</td>\n",
       "      <td>1591.714310</td>\n",
       "      <td>0.100043</td>\n",
       "      <td>0.100091</td>\n",
       "      <td>0.100038</td>\n",
       "      <td>9.446351</td>\n",
       "      <td>0.100058</td>\n",
       "      <td>0.100053</td>\n",
       "    </tr>\n",
       "    <tr>\n",
       "      <th>Topic2</th>\n",
       "      <td>0.100003</td>\n",
       "      <td>0.198894</td>\n",
       "      <td>50.248891</td>\n",
       "      <td>28.071598</td>\n",
       "      <td>15.663374</td>\n",
       "      <td>153.183882</td>\n",
       "      <td>0.100038</td>\n",
       "      <td>12.808329</td>\n",
       "      <td>42.178780</td>\n",
       "      <td>0.100010</td>\n",
       "      <td>...</td>\n",
       "      <td>0.100017</td>\n",
       "      <td>0.100237</td>\n",
       "      <td>0.100015</td>\n",
       "      <td>378.584428</td>\n",
       "      <td>0.100090</td>\n",
       "      <td>0.100095</td>\n",
       "      <td>276.444420</td>\n",
       "      <td>0.100017</td>\n",
       "      <td>0.100058</td>\n",
       "      <td>0.100029</td>\n",
       "    </tr>\n",
       "    <tr>\n",
       "      <th>Topic3</th>\n",
       "      <td>0.100002</td>\n",
       "      <td>0.100016</td>\n",
       "      <td>284.524328</td>\n",
       "      <td>0.100023</td>\n",
       "      <td>0.100071</td>\n",
       "      <td>0.100014</td>\n",
       "      <td>0.100045</td>\n",
       "      <td>0.100025</td>\n",
       "      <td>0.100024</td>\n",
       "      <td>0.100066</td>\n",
       "      <td>...</td>\n",
       "      <td>0.100007</td>\n",
       "      <td>0.100151</td>\n",
       "      <td>0.100023</td>\n",
       "      <td>376.161661</td>\n",
       "      <td>40.264001</td>\n",
       "      <td>0.100037</td>\n",
       "      <td>0.100018</td>\n",
       "      <td>0.100021</td>\n",
       "      <td>18.635756</td>\n",
       "      <td>0.100020</td>\n",
       "    </tr>\n",
       "    <tr>\n",
       "      <th>Topic4</th>\n",
       "      <td>27.192540</td>\n",
       "      <td>0.100011</td>\n",
       "      <td>0.100027</td>\n",
       "      <td>0.100011</td>\n",
       "      <td>0.100015</td>\n",
       "      <td>0.100027</td>\n",
       "      <td>0.100048</td>\n",
       "      <td>0.100010</td>\n",
       "      <td>0.100067</td>\n",
       "      <td>0.100000</td>\n",
       "      <td>...</td>\n",
       "      <td>2.985261</td>\n",
       "      <td>8.064018</td>\n",
       "      <td>0.100044</td>\n",
       "      <td>3178.574745</td>\n",
       "      <td>0.397680</td>\n",
       "      <td>6.039315</td>\n",
       "      <td>0.100035</td>\n",
       "      <td>0.100030</td>\n",
       "      <td>0.100016</td>\n",
       "      <td>177.305037</td>\n",
       "    </tr>\n",
       "  </tbody>\n",
       "</table>\n",
       "<p>5 rows × 3242 columns</p>\n",
       "</div>"
      ],
      "text/plain": [
       "        abatement     abide     ability    absence  abundance       abuse  \\\n",
       "Topic0   0.100017  0.251627  117.456609   0.100021   0.100133    0.100024   \n",
       "Topic1   0.176631  0.101433   53.457297   0.100021   0.100092   26.862555   \n",
       "Topic2   0.100003  0.198894   50.248891  28.071598  15.663374  153.183882   \n",
       "Topic3   0.100002  0.100016  284.524328   0.100023   0.100071    0.100014   \n",
       "Topic4  27.192540  0.100011    0.100027   0.100011   0.100015    0.100027   \n",
       "\n",
       "         academy  accelerate  acceleration  accelerator  ...     xxxxt  \\\n",
       "Topic0  0.100013   52.344655     11.659143    25.191526  ...  0.100053   \n",
       "Topic1  0.100073    0.100024      0.100012     0.100042  ...  0.100039   \n",
       "Topic2  0.100038   12.808329     42.178780     0.100010  ...  0.100017   \n",
       "Topic3  0.100045    0.100025      0.100024     0.100066  ...  0.100007   \n",
       "Topic4  0.100048    0.100010      0.100067     0.100000  ...  2.985261   \n",
       "\n",
       "           xxxxx      yard         year  yesterday     yield        york  \\\n",
       "Topic0  0.100250  0.100011  2928.607259  21.384319  0.100022    0.100020   \n",
       "Topic1  0.100067  0.100067  1591.714310   0.100043  0.100091    0.100038   \n",
       "Topic2  0.100237  0.100015   378.584428   0.100090  0.100095  276.444420   \n",
       "Topic3  0.100151  0.100023   376.161661  40.264001  0.100037    0.100018   \n",
       "Topic4  8.064018  0.100044  3178.574745   0.397680  6.039315    0.100035   \n",
       "\n",
       "             yrs        zip        zone  \n",
       "Topic0  0.100050   0.100035    0.100013  \n",
       "Topic1  9.446351   0.100058    0.100053  \n",
       "Topic2  0.100017   0.100058    0.100029  \n",
       "Topic3  0.100021  18.635756    0.100020  \n",
       "Topic4  0.100030   0.100016  177.305037  \n",
       "\n",
       "[5 rows x 3242 columns]"
      ]
     },
     "execution_count": 40,
     "metadata": {},
     "output_type": "execute_result"
    }
   ],
   "source": [
    "df_topic_keywords = pd.DataFrame(new_model.components_)\n",
    "# Assign Column and Index\n",
    "df_topic_keywords.columns = vectorizer.get_feature_names()\n",
    "df_topic_keywords.index = topicnames\n",
    "# View\n",
    "df_topic_keywords.head()"
   ]
  },
  {
   "cell_type": "code",
   "execution_count": null,
   "id": "0dd5e123",
   "metadata": {},
   "outputs": [],
   "source": [
    "pyLDAvis.enable_notebook()\n",
    "panel = pyLDAvis.sklearn.prepare(best_lda_model, data_vectorized, vectorizer, mds='tsne')\n",
    "panel"
   ]
  },
  {
   "cell_type": "code",
   "execution_count": 44,
   "id": "0471e140",
   "metadata": {},
   "outputs": [
    {
     "name": "stderr",
     "output_type": "stream",
     "text": [
      "C:\\Users\\ASUS\\anaconda3\\envs\\marketplace\\lib\\site-packages\\ipykernel\\ipkernel.py:287: DeprecationWarning: `should_run_async` will not call `transform_cell` automatically in the future. Please pass the result to `transformed_cell` argument and any exception that happen during thetransform in `preprocessing_exc_tuple` in IPython 7.17 and above.\n",
      "  and should_run_async(code)\n"
     ]
    }
   ],
   "source": [
    "nlp = spacy.load('en_core_web_sm', disable=['parser', 'ner'])\n",
    "def predict_topic(text, nlp=nlp, model=new_model):\n",
    "    global sent_to_words\n",
    "    global lemmatization\n",
    "# Step 1: Clean with simple_preprocess\n",
    "    mytext_2 = list(sent_to_words(text))\n",
    "# Step 2: Lemmatize\n",
    "    mytext_3 = lemmatization(mytext_2, allowed_postags=['NOUN', 'ADJ', 'VERB', 'ADV'])\n",
    "# Step 3: Vectorize transform\n",
    "    mytext_4 = new_vec.transform(mytext_3)\n",
    "# Step 4: LDA Transform\n",
    "    topic_probability_scores = model.transform(mytext_4)\n",
    "    #topic = df_topic_keywords.iloc[np.argmax(topic_probability_scores), 1:14].values.tolist()\n",
    "    #topic_guess = df_topic_keywords.iloc[np.argmax(topic_probability_scores), Topics]\n",
    "    return topic_probability_scores\n",
    "# Predict the topic\n",
    "mytext = 'My complaint is with Carrington Mortgage Services. The company is charging property inspection payments of XXXX along with mortgage of XXXX the dates are from XX/XX/XXXX until present, also attorney fees. This makes my payments double. Carrington is also Charges a fee of XXXX unknown.'\n",
    "prob_scores = predict_topic(text = mytext)"
   ]
  },
  {
   "cell_type": "code",
   "execution_count": 45,
   "id": "b025f63c",
   "metadata": {},
   "outputs": [
    {
     "name": "stderr",
     "output_type": "stream",
     "text": [
      "C:\\Users\\ASUS\\anaconda3\\envs\\marketplace\\lib\\site-packages\\ipykernel\\ipkernel.py:287: DeprecationWarning: `should_run_async` will not call `transform_cell` automatically in the future. Please pass the result to `transformed_cell` argument and any exception that happen during thetransform in `preprocessing_exc_tuple` in IPython 7.17 and above.\n",
      "  and should_run_async(code)\n"
     ]
    }
   ],
   "source": [
    "def similar_documents(text, doc_topic_probs, documents = data, nlp=nlp, top_n=5, verbose=False):\n",
    "    x  = predict_topic(text)\n",
    "    dists = euclidean_distances(x.reshape(1, -1), doc_topic_probs)[0]\n",
    "    doc_ids = np.argsort(dists)[:top_n]\n",
    "    if verbose:        \n",
    "        # print(\"Topic KeyWords: \", topic)\n",
    "        print(\"Topic Prob Scores of text: \", np.round(x, 1))\n",
    "        print(\"Most Similar Doc's Probs:  \", np.round(doc_topic_probs[doc_ids], 1))\n",
    "    return doc_ids, np.take(documents, doc_ids)"
   ]
  },
  {
   "cell_type": "code",
   "execution_count": 46,
   "id": "0ae71a35",
   "metadata": {},
   "outputs": [
    {
     "name": "stderr",
     "output_type": "stream",
     "text": [
      "C:\\Users\\ASUS\\anaconda3\\envs\\marketplace\\lib\\site-packages\\ipykernel\\ipkernel.py:287: DeprecationWarning: `should_run_async` will not call `transform_cell` automatically in the future. Please pass the result to `transformed_cell` argument and any exception that happen during thetransform in `preprocessing_exc_tuple` in IPython 7.17 and above.\n",
      "  and should_run_async(code)\n"
     ]
    },
    {
     "name": "stdout",
     "output_type": "stream",
     "text": [
      "[array([0.11153304, 0.0016398 , 0.00163972, 0.00163963, 0.15408753,\n",
      "       0.00163973, 0.05836742, 0.00163987, 0.42236204, 0.24545122])]\n",
      "Topic Prob Scores of text:  [[0.1 0.  0.  0.  0.2 0.  0.1 0.  0.4 0.2]]\n",
      "Most Similar Doc's Probs:   [[0.2 0.  0.  0.  0.2 0.  0.  0.  0.4 0.3]\n",
      " [0.1 0.  0.  0.  0.1 0.  0.1 0.  0.4 0.3]\n",
      " [0.2 0.  0.  0.  0.1 0.  0.1 0.  0.3 0.3]\n",
      " [0.1 0.  0.  0.  0.2 0.  0.  0.  0.5 0.2]\n",
      " [0.1 0.  0.  0.  0.2 0.1 0.1 0.  0.3 0.2]]\n",
      "\n",
      " please investigate freedom mortgage. i have a mortgage that originated at xxxx and this company refuses to remove the mip as i am now elligable at over 20 % equity and i meet all other requirements. the original loan number is xxxx xxxx / file number xxxx xxxx / mortgage ins case number xxxx xxxx xxxx. freedom mortgage is the refinance company and they have refused any assistance to make sure this mip is removed in a timely manner. freedom mortgage refinanced the amount of xxxx and they refuse t\n"
     ]
    }
   ],
   "source": [
    "mytext = ['I did not feel that the savings was enough to justify the fees. The several person worked numbers and got to a number that seemed reasonable. I explained that I may not be staying in the home for more than 8 months. After the refi was done I received a check that I did not ask for. I called and they stated this was mine to keep. After I started paying my mortgage I am now told that my payment is increasing over {$100.00} due to an escrow shortage. I feel that I was intentionally mislead about the payment to book the loan and that the insurance was left out to increase the loan after the loan closed. The escrow should have increased {$19.00} per month not over {$100.00} due to a change in insurance premium from {$820.00} to {$1000.00}. I was not willing to close on the loan and pay the fees unless I had substantial savings and I feel that they were deceptive just to get the extra fees. I would have never refinanced the loan for such a small savings monthly. ']\n",
    "doc_ids, docs = similar_documents(text=mytext, doc_topic_probs=lda_output, documents = data, top_n=5, verbose=True)\n",
    "print('\\n', docs[0][:500])"
   ]
  }
 ],
 "metadata": {
  "kernelspec": {
   "display_name": "Python 3",
   "language": "python",
   "name": "python3"
  },
  "language_info": {
   "codemirror_mode": {
    "name": "ipython",
    "version": 3
   },
   "file_extension": ".py",
   "mimetype": "text/x-python",
   "name": "python",
   "nbconvert_exporter": "python",
   "pygments_lexer": "ipython3",
   "version": "3.8.10"
  }
 },
 "nbformat": 4,
 "nbformat_minor": 5
}
